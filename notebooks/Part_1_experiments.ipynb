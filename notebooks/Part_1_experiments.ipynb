{
 "cells": [
  {
   "cell_type": "code",
   "execution_count": 1,
   "id": "fa1a9d25",
   "metadata": {},
   "outputs": [],
   "source": [
    "import numpy as np\n",
    "from typing import List\n",
    "import plotly.graph_objects as go\n",
    "from plotly.subplots import make_subplots\n",
    "from tqdm.auto import tqdm\n",
    "\n",
    "import sys\n",
    "sys.path.append(\"..\")\n",
    "from src.data import Generator\n",
    "from src.graph.knn import GraphKnn\n",
    "from src.graph.dist import GraphDist"
   ]
  },
  {
   "cell_type": "code",
   "execution_count": 2,
   "id": "e3dca97c",
   "metadata": {},
   "outputs": [
    {
     "data": {
      "application/vnd.jupyter.widget-view+json": {
       "model_id": "bad749c3d9f24edfb3bb3c66702557e3",
       "version_major": 2,
       "version_minor": 0
      },
      "text/plain": [
       "  0%|          | 0/50 [00:00<?, ?it/s]"
      ]
     },
     "metadata": {},
     "output_type": "display_data"
    },
    {
     "name": "stderr",
     "output_type": "stream",
     "text": [
      "/Users/ilakulesov/Documents/python_projects/RandomGraphProject/venv/lib/python3.13/site-packages/numpy/_core/_methods.py:135: RuntimeWarning: invalid value encountered in reduce\n",
      "  ret = umr_sum(arr, axis, dtype, out, keepdims, where=where)\n"
     ]
    }
   ],
   "source": [
    "n: int = 100\n",
    "cnt: int = 50\n",
    "v: np.ndarray = np.linspace(0.01, 2, cnt)\n",
    "alpha: np.ndarray = np.linspace(0.01, 2, cnt)\n",
    "mc_iter: int = 20\n",
    "\n",
    "knn_f: List[float] = []\n",
    "knn_h: List[float] = []\n",
    "dist_f: List[float] = []\n",
    "dist_h: List[float] = []\n",
    "for i in tqdm(range(cnt)):\n",
    "    gen: Generator = Generator(v[i], alpha[i], size=n)\n",
    "    knn_f.append(np.mean([GraphKnn(gen.get_f()).calc_metric() for _ in range(mc_iter)]))\n",
    "    knn_h.append(np.mean([GraphKnn(gen.get_h()).calc_metric() for _ in range(mc_iter)]))\n",
    "\n",
    "    dist_f.append(\n",
    "        np.mean([GraphDist(gen.get_f()).calc_metric() for _ in range(mc_iter)])\n",
    "    )\n",
    "    dist_h.append(\n",
    "        np.mean([GraphDist(gen.get_h()).calc_metric() for _ in range(mc_iter)])\n",
    "    )\n"
   ]
  },
  {
   "cell_type": "code",
   "execution_count": 3,
   "id": "23fb600d",
   "metadata": {},
   "outputs": [
    {
     "data": {
      "application/vnd.plotly.v1+json": {
       "config": {
        "plotlyServerURL": "https://plot.ly"
       },
       "data": [
        {
         "line": {
          "color": "blue",
          "width": 2
         },
         "marker": {
          "size": 4
         },
         "mode": "lines+markers",
         "name": "KNN Stable(α)",
         "type": "scatter",
         "x": {
          "bdata": "exSuR+F6hD8pTjoh2empP5mLRPh8Wrc/D/j1rwbgwD9SqsnjzhLGP5RcnReXRcs/a4e4pS880D+NYKK/k9XSP645jNn3btU/zxJ281sI2D/w618NwKHaPxLFSSckO90/M54zQYjU3z+qu44t9jbhPzuogzqog+I/y5R4R1rQ4z9cgW1UDB3lP+1tYmG+aeY/fVpXbnC25z8OR0x7IgPpP54zQYjUT+o/LyA2lYac6z/ADCuiOOnsP1D5H6/qNe4/4eUUvJyC7z856YRkp2fwP4Ff/2oADvE/ydV5cVm08T8STPR3slryP1rCbn4LAfM/ojjphGSn8z/rrmOLvU30PzMl3pEW9PQ/e5tYmG+a9T/EEdOeyED2PwyITaUh5/Y/VP7Hq3qN9z+ddEKy0zP4P+XqvLgs2vg/LWE3v4WA+T9117HF3ib6P75NLMw3zfo/BsSm0pBz+z9OOiHZ6Rn8P5ewm99CwPw/3yYW5ptm/T8nnZDs9Az+P3ATC/NNs/4/uImF+aZZ/z8AAAAAAAAAQA==",
          "dtype": "f8"
         },
         "xaxis": "x",
         "y": [
          960,
          960,
          960,
          960,
          960,
          960,
          960,
          960,
          960,
          960,
          960,
          960,
          960,
          960,
          960,
          960,
          960,
          960,
          960,
          960,
          960,
          960,
          960,
          960,
          960,
          960,
          960,
          960,
          960,
          960,
          960,
          960,
          960,
          960,
          960,
          960,
          960,
          960,
          960,
          960,
          960,
          960,
          960,
          960,
          960,
          960,
          960,
          960,
          960,
          960
         ],
         "yaxis": "y"
        },
        {
         "line": {
          "color": "red",
          "width": 2
         },
         "marker": {
          "size": 4
         },
         "mode": "lines+markers",
         "name": "KNN Student-t(ν)",
         "type": "scatter",
         "x": {
          "bdata": "exSuR+F6hD8pTjoh2empP5mLRPh8Wrc/D/j1rwbgwD9SqsnjzhLGP5RcnReXRcs/a4e4pS880D+NYKK/k9XSP645jNn3btU/zxJ281sI2D/w618NwKHaPxLFSSckO90/M54zQYjU3z+qu44t9jbhPzuogzqog+I/y5R4R1rQ4z9cgW1UDB3lP+1tYmG+aeY/fVpXbnC25z8OR0x7IgPpP54zQYjUT+o/LyA2lYac6z/ADCuiOOnsP1D5H6/qNe4/4eUUvJyC7z856YRkp2fwP4Ff/2oADvE/ydV5cVm08T8STPR3slryP1rCbn4LAfM/ojjphGSn8z/rrmOLvU30PzMl3pEW9PQ/e5tYmG+a9T/EEdOeyED2PwyITaUh5/Y/VP7Hq3qN9z+ddEKy0zP4P+XqvLgs2vg/LWE3v4WA+T9117HF3ib6P75NLMw3zfo/BsSm0pBz+z9OOiHZ6Rn8P5ewm99CwPw/3yYW5ptm/T8nnZDs9Az+P3ATC/NNs/4/uImF+aZZ/z8AAAAAAAAAQA==",
          "dtype": "f8"
         },
         "xaxis": "x",
         "y": [
          960,
          960,
          960,
          960,
          960,
          960,
          960,
          960,
          960,
          960,
          960,
          960,
          960,
          960,
          960,
          960,
          960,
          960,
          960,
          960,
          960,
          960,
          960,
          960,
          960,
          960,
          960,
          960,
          960,
          960,
          960,
          960,
          960,
          960,
          960,
          960,
          960,
          960,
          960,
          960,
          960,
          960,
          960,
          960,
          960,
          960,
          960,
          960,
          960,
          960
         ],
         "yaxis": "y"
        },
        {
         "line": {
          "color": "green",
          "width": 2
         },
         "marker": {
          "size": 4
         },
         "mode": "lines+markers",
         "name": "Distance Stable(α)",
         "showlegend": true,
         "type": "scatter",
         "x": {
          "bdata": "exSuR+F6hD8pTjoh2empP5mLRPh8Wrc/D/j1rwbgwD9SqsnjzhLGP5RcnReXRcs/a4e4pS880D+NYKK/k9XSP645jNn3btU/zxJ281sI2D/w618NwKHaPxLFSSckO90/M54zQYjU3z+qu44t9jbhPzuogzqog+I/y5R4R1rQ4z9cgW1UDB3lP+1tYmG+aeY/fVpXbnC25z8OR0x7IgPpP54zQYjUT+o/LyA2lYac6z/ADCuiOOnsP1D5H6/qNe4/4eUUvJyC7z856YRkp2fwP4Ff/2oADvE/ydV5cVm08T8STPR3slryP1rCbn4LAfM/ojjphGSn8z/rrmOLvU30PzMl3pEW9PQ/e5tYmG+a9T/EEdOeyED2PwyITaUh5/Y/VP7Hq3qN9z+ddEKy0zP4P+XqvLgs2vg/LWE3v4WA+T9117HF3ib6P75NLMw3zfo/BsSm0pBz+z9OOiHZ6Rn8P5ewm99CwPw/3yYW5ptm/T8nnZDs9Az+P3ATC/NNs/4/uImF+aZZ/z8AAAAAAAAAQA==",
          "dtype": "f8"
         },
         "xaxis": "x2",
         "y": [
          1,
          1,
          1.3,
          2,
          2.1,
          2.65,
          3.1,
          3.6,
          3.9,
          4.2,
          4.5,
          5.05,
          5.4,
          5.7,
          6.05,
          6.5,
          6.75,
          7.15,
          7.6,
          7.95,
          8.3,
          8.7,
          8.95,
          9.5,
          9.75,
          9.85,
          10.35,
          10.45,
          10.8,
          11.25,
          11.45,
          12.05,
          12.1,
          12.2,
          12.75,
          13.15,
          13.15,
          13.55,
          13.9,
          14.3,
          14.6,
          14.65,
          15,
          15.2,
          15.75,
          15.65,
          16.3,
          16.5,
          16.9,
          16.65
         ],
         "yaxis": "y2"
        },
        {
         "line": {
          "color": "orange",
          "width": 2
         },
         "marker": {
          "size": 4
         },
         "mode": "lines+markers",
         "name": "Distance Student-t(ν)",
         "showlegend": true,
         "type": "scatter",
         "x": {
          "bdata": "exSuR+F6hD8pTjoh2empP5mLRPh8Wrc/D/j1rwbgwD9SqsnjzhLGP5RcnReXRcs/a4e4pS880D+NYKK/k9XSP645jNn3btU/zxJ281sI2D/w618NwKHaPxLFSSckO90/M54zQYjU3z+qu44t9jbhPzuogzqog+I/y5R4R1rQ4z9cgW1UDB3lP+1tYmG+aeY/fVpXbnC25z8OR0x7IgPpP54zQYjUT+o/LyA2lYac6z/ADCuiOOnsP1D5H6/qNe4/4eUUvJyC7z856YRkp2fwP4Ff/2oADvE/ydV5cVm08T8STPR3slryP1rCbn4LAfM/ojjphGSn8z/rrmOLvU30PzMl3pEW9PQ/e5tYmG+a9T/EEdOeyED2PwyITaUh5/Y/VP7Hq3qN9z+ddEKy0zP4P+XqvLgs2vg/LWE3v4WA+T9117HF3ib6P75NLMw3zfo/BsSm0pBz+z9OOiHZ6Rn8P5ewm99CwPw/3yYW5ptm/T8nnZDs9Az+P3ATC/NNs/4/uImF+aZZ/z8AAAAAAAAAQA==",
          "dtype": "f8"
         },
         "xaxis": "x2",
         "y": [
          97.7,
          89.2,
          80.45,
          72.85,
          66.4,
          61.2,
          56.15,
          52.2,
          49.2,
          45.95,
          43.75,
          41.3,
          38.15,
          36.3,
          34.25,
          32.25,
          31.25,
          29.75,
          28.35,
          27.45,
          26.7,
          25.2,
          25.05,
          24.6,
          23.55,
          23.5,
          22.9,
          22.65,
          22.3,
          21.45,
          20.95,
          20.15,
          19.9,
          19.85,
          19.45,
          19.15,
          18.7,
          18.3,
          18.05,
          18.25,
          17.95,
          17.4,
          17.65,
          17.8,
          17.65,
          17.35,
          16.95,
          16.65,
          16.3,
          16.45
         ],
         "yaxis": "y2"
        }
       ],
       "layout": {
        "annotations": [
         {
          "font": {
           "size": 16
          },
          "showarrow": false,
          "text": "Количество треугольников",
          "x": 0.225,
          "xanchor": "center",
          "xref": "paper",
          "y": 1,
          "yanchor": "bottom",
          "yref": "paper"
         },
         {
          "font": {
           "size": 16
          },
          "showarrow": false,
          "text": "Минимальное кликовое покрытие",
          "x": 0.775,
          "xanchor": "center",
          "xref": "paper",
          "y": 1,
          "yanchor": "bottom",
          "yref": "paper"
         }
        ],
        "height": 600,
        "legend": {
         "x": 0.01,
         "xanchor": "left",
         "y": 0.99,
         "yanchor": "top"
        },
        "template": {
         "data": {
          "bar": [
           {
            "error_x": {
             "color": "#2a3f5f"
            },
            "error_y": {
             "color": "#2a3f5f"
            },
            "marker": {
             "line": {
              "color": "#E5ECF6",
              "width": 0.5
             },
             "pattern": {
              "fillmode": "overlay",
              "size": 10,
              "solidity": 0.2
             }
            },
            "type": "bar"
           }
          ],
          "barpolar": [
           {
            "marker": {
             "line": {
              "color": "#E5ECF6",
              "width": 0.5
             },
             "pattern": {
              "fillmode": "overlay",
              "size": 10,
              "solidity": 0.2
             }
            },
            "type": "barpolar"
           }
          ],
          "carpet": [
           {
            "aaxis": {
             "endlinecolor": "#2a3f5f",
             "gridcolor": "white",
             "linecolor": "white",
             "minorgridcolor": "white",
             "startlinecolor": "#2a3f5f"
            },
            "baxis": {
             "endlinecolor": "#2a3f5f",
             "gridcolor": "white",
             "linecolor": "white",
             "minorgridcolor": "white",
             "startlinecolor": "#2a3f5f"
            },
            "type": "carpet"
           }
          ],
          "choropleth": [
           {
            "colorbar": {
             "outlinewidth": 0,
             "ticks": ""
            },
            "type": "choropleth"
           }
          ],
          "contour": [
           {
            "colorbar": {
             "outlinewidth": 0,
             "ticks": ""
            },
            "colorscale": [
             [
              0,
              "#0d0887"
             ],
             [
              0.1111111111111111,
              "#46039f"
             ],
             [
              0.2222222222222222,
              "#7201a8"
             ],
             [
              0.3333333333333333,
              "#9c179e"
             ],
             [
              0.4444444444444444,
              "#bd3786"
             ],
             [
              0.5555555555555556,
              "#d8576b"
             ],
             [
              0.6666666666666666,
              "#ed7953"
             ],
             [
              0.7777777777777778,
              "#fb9f3a"
             ],
             [
              0.8888888888888888,
              "#fdca26"
             ],
             [
              1,
              "#f0f921"
             ]
            ],
            "type": "contour"
           }
          ],
          "contourcarpet": [
           {
            "colorbar": {
             "outlinewidth": 0,
             "ticks": ""
            },
            "type": "contourcarpet"
           }
          ],
          "heatmap": [
           {
            "colorbar": {
             "outlinewidth": 0,
             "ticks": ""
            },
            "colorscale": [
             [
              0,
              "#0d0887"
             ],
             [
              0.1111111111111111,
              "#46039f"
             ],
             [
              0.2222222222222222,
              "#7201a8"
             ],
             [
              0.3333333333333333,
              "#9c179e"
             ],
             [
              0.4444444444444444,
              "#bd3786"
             ],
             [
              0.5555555555555556,
              "#d8576b"
             ],
             [
              0.6666666666666666,
              "#ed7953"
             ],
             [
              0.7777777777777778,
              "#fb9f3a"
             ],
             [
              0.8888888888888888,
              "#fdca26"
             ],
             [
              1,
              "#f0f921"
             ]
            ],
            "type": "heatmap"
           }
          ],
          "histogram": [
           {
            "marker": {
             "pattern": {
              "fillmode": "overlay",
              "size": 10,
              "solidity": 0.2
             }
            },
            "type": "histogram"
           }
          ],
          "histogram2d": [
           {
            "colorbar": {
             "outlinewidth": 0,
             "ticks": ""
            },
            "colorscale": [
             [
              0,
              "#0d0887"
             ],
             [
              0.1111111111111111,
              "#46039f"
             ],
             [
              0.2222222222222222,
              "#7201a8"
             ],
             [
              0.3333333333333333,
              "#9c179e"
             ],
             [
              0.4444444444444444,
              "#bd3786"
             ],
             [
              0.5555555555555556,
              "#d8576b"
             ],
             [
              0.6666666666666666,
              "#ed7953"
             ],
             [
              0.7777777777777778,
              "#fb9f3a"
             ],
             [
              0.8888888888888888,
              "#fdca26"
             ],
             [
              1,
              "#f0f921"
             ]
            ],
            "type": "histogram2d"
           }
          ],
          "histogram2dcontour": [
           {
            "colorbar": {
             "outlinewidth": 0,
             "ticks": ""
            },
            "colorscale": [
             [
              0,
              "#0d0887"
             ],
             [
              0.1111111111111111,
              "#46039f"
             ],
             [
              0.2222222222222222,
              "#7201a8"
             ],
             [
              0.3333333333333333,
              "#9c179e"
             ],
             [
              0.4444444444444444,
              "#bd3786"
             ],
             [
              0.5555555555555556,
              "#d8576b"
             ],
             [
              0.6666666666666666,
              "#ed7953"
             ],
             [
              0.7777777777777778,
              "#fb9f3a"
             ],
             [
              0.8888888888888888,
              "#fdca26"
             ],
             [
              1,
              "#f0f921"
             ]
            ],
            "type": "histogram2dcontour"
           }
          ],
          "mesh3d": [
           {
            "colorbar": {
             "outlinewidth": 0,
             "ticks": ""
            },
            "type": "mesh3d"
           }
          ],
          "parcoords": [
           {
            "line": {
             "colorbar": {
              "outlinewidth": 0,
              "ticks": ""
             }
            },
            "type": "parcoords"
           }
          ],
          "pie": [
           {
            "automargin": true,
            "type": "pie"
           }
          ],
          "scatter": [
           {
            "fillpattern": {
             "fillmode": "overlay",
             "size": 10,
             "solidity": 0.2
            },
            "type": "scatter"
           }
          ],
          "scatter3d": [
           {
            "line": {
             "colorbar": {
              "outlinewidth": 0,
              "ticks": ""
             }
            },
            "marker": {
             "colorbar": {
              "outlinewidth": 0,
              "ticks": ""
             }
            },
            "type": "scatter3d"
           }
          ],
          "scattercarpet": [
           {
            "marker": {
             "colorbar": {
              "outlinewidth": 0,
              "ticks": ""
             }
            },
            "type": "scattercarpet"
           }
          ],
          "scattergeo": [
           {
            "marker": {
             "colorbar": {
              "outlinewidth": 0,
              "ticks": ""
             }
            },
            "type": "scattergeo"
           }
          ],
          "scattergl": [
           {
            "marker": {
             "colorbar": {
              "outlinewidth": 0,
              "ticks": ""
             }
            },
            "type": "scattergl"
           }
          ],
          "scattermap": [
           {
            "marker": {
             "colorbar": {
              "outlinewidth": 0,
              "ticks": ""
             }
            },
            "type": "scattermap"
           }
          ],
          "scattermapbox": [
           {
            "marker": {
             "colorbar": {
              "outlinewidth": 0,
              "ticks": ""
             }
            },
            "type": "scattermapbox"
           }
          ],
          "scatterpolar": [
           {
            "marker": {
             "colorbar": {
              "outlinewidth": 0,
              "ticks": ""
             }
            },
            "type": "scatterpolar"
           }
          ],
          "scatterpolargl": [
           {
            "marker": {
             "colorbar": {
              "outlinewidth": 0,
              "ticks": ""
             }
            },
            "type": "scatterpolargl"
           }
          ],
          "scatterternary": [
           {
            "marker": {
             "colorbar": {
              "outlinewidth": 0,
              "ticks": ""
             }
            },
            "type": "scatterternary"
           }
          ],
          "surface": [
           {
            "colorbar": {
             "outlinewidth": 0,
             "ticks": ""
            },
            "colorscale": [
             [
              0,
              "#0d0887"
             ],
             [
              0.1111111111111111,
              "#46039f"
             ],
             [
              0.2222222222222222,
              "#7201a8"
             ],
             [
              0.3333333333333333,
              "#9c179e"
             ],
             [
              0.4444444444444444,
              "#bd3786"
             ],
             [
              0.5555555555555556,
              "#d8576b"
             ],
             [
              0.6666666666666666,
              "#ed7953"
             ],
             [
              0.7777777777777778,
              "#fb9f3a"
             ],
             [
              0.8888888888888888,
              "#fdca26"
             ],
             [
              1,
              "#f0f921"
             ]
            ],
            "type": "surface"
           }
          ],
          "table": [
           {
            "cells": {
             "fill": {
              "color": "#EBF0F8"
             },
             "line": {
              "color": "white"
             }
            },
            "header": {
             "fill": {
              "color": "#C8D4E3"
             },
             "line": {
              "color": "white"
             }
            },
            "type": "table"
           }
          ]
         },
         "layout": {
          "annotationdefaults": {
           "arrowcolor": "#2a3f5f",
           "arrowhead": 0,
           "arrowwidth": 1
          },
          "autotypenumbers": "strict",
          "coloraxis": {
           "colorbar": {
            "outlinewidth": 0,
            "ticks": ""
           }
          },
          "colorscale": {
           "diverging": [
            [
             0,
             "#8e0152"
            ],
            [
             0.1,
             "#c51b7d"
            ],
            [
             0.2,
             "#de77ae"
            ],
            [
             0.3,
             "#f1b6da"
            ],
            [
             0.4,
             "#fde0ef"
            ],
            [
             0.5,
             "#f7f7f7"
            ],
            [
             0.6,
             "#e6f5d0"
            ],
            [
             0.7,
             "#b8e186"
            ],
            [
             0.8,
             "#7fbc41"
            ],
            [
             0.9,
             "#4d9221"
            ],
            [
             1,
             "#276419"
            ]
           ],
           "sequential": [
            [
             0,
             "#0d0887"
            ],
            [
             0.1111111111111111,
             "#46039f"
            ],
            [
             0.2222222222222222,
             "#7201a8"
            ],
            [
             0.3333333333333333,
             "#9c179e"
            ],
            [
             0.4444444444444444,
             "#bd3786"
            ],
            [
             0.5555555555555556,
             "#d8576b"
            ],
            [
             0.6666666666666666,
             "#ed7953"
            ],
            [
             0.7777777777777778,
             "#fb9f3a"
            ],
            [
             0.8888888888888888,
             "#fdca26"
            ],
            [
             1,
             "#f0f921"
            ]
           ],
           "sequentialminus": [
            [
             0,
             "#0d0887"
            ],
            [
             0.1111111111111111,
             "#46039f"
            ],
            [
             0.2222222222222222,
             "#7201a8"
            ],
            [
             0.3333333333333333,
             "#9c179e"
            ],
            [
             0.4444444444444444,
             "#bd3786"
            ],
            [
             0.5555555555555556,
             "#d8576b"
            ],
            [
             0.6666666666666666,
             "#ed7953"
            ],
            [
             0.7777777777777778,
             "#fb9f3a"
            ],
            [
             0.8888888888888888,
             "#fdca26"
            ],
            [
             1,
             "#f0f921"
            ]
           ]
          },
          "colorway": [
           "#636efa",
           "#EF553B",
           "#00cc96",
           "#ab63fa",
           "#FFA15A",
           "#19d3f3",
           "#FF6692",
           "#B6E880",
           "#FF97FF",
           "#FECB52"
          ],
          "font": {
           "color": "#2a3f5f"
          },
          "geo": {
           "bgcolor": "white",
           "lakecolor": "white",
           "landcolor": "#E5ECF6",
           "showlakes": true,
           "showland": true,
           "subunitcolor": "white"
          },
          "hoverlabel": {
           "align": "left"
          },
          "hovermode": "closest",
          "mapbox": {
           "style": "light"
          },
          "paper_bgcolor": "white",
          "plot_bgcolor": "#E5ECF6",
          "polar": {
           "angularaxis": {
            "gridcolor": "white",
            "linecolor": "white",
            "ticks": ""
           },
           "bgcolor": "#E5ECF6",
           "radialaxis": {
            "gridcolor": "white",
            "linecolor": "white",
            "ticks": ""
           }
          },
          "scene": {
           "xaxis": {
            "backgroundcolor": "#E5ECF6",
            "gridcolor": "white",
            "gridwidth": 2,
            "linecolor": "white",
            "showbackground": true,
            "ticks": "",
            "zerolinecolor": "white"
           },
           "yaxis": {
            "backgroundcolor": "#E5ECF6",
            "gridcolor": "white",
            "gridwidth": 2,
            "linecolor": "white",
            "showbackground": true,
            "ticks": "",
            "zerolinecolor": "white"
           },
           "zaxis": {
            "backgroundcolor": "#E5ECF6",
            "gridcolor": "white",
            "gridwidth": 2,
            "linecolor": "white",
            "showbackground": true,
            "ticks": "",
            "zerolinecolor": "white"
           }
          },
          "shapedefaults": {
           "line": {
            "color": "#2a3f5f"
           }
          },
          "ternary": {
           "aaxis": {
            "gridcolor": "white",
            "linecolor": "white",
            "ticks": ""
           },
           "baxis": {
            "gridcolor": "white",
            "linecolor": "white",
            "ticks": ""
           },
           "bgcolor": "#E5ECF6",
           "caxis": {
            "gridcolor": "white",
            "linecolor": "white",
            "ticks": ""
           }
          },
          "title": {
           "x": 0.05
          },
          "xaxis": {
           "automargin": true,
           "gridcolor": "white",
           "linecolor": "white",
           "ticks": "",
           "title": {
            "standoff": 15
           },
           "zerolinecolor": "white",
           "zerolinewidth": 2
          },
          "yaxis": {
           "automargin": true,
           "gridcolor": "white",
           "linecolor": "white",
           "ticks": "",
           "title": {
            "standoff": 15
           },
           "zerolinecolor": "white",
           "zerolinewidth": 2
          }
         }
        },
        "title": {
         "text": "Сравнение метрик для графов: зависимость от v и α",
         "x": 0.5
        },
        "width": 1400,
        "xaxis": {
         "anchor": "y",
         "domain": [
          0,
          0.45
         ],
         "title": {
          "text": "v / α"
         }
        },
        "xaxis2": {
         "anchor": "y2",
         "domain": [
          0.55,
          1
         ],
         "title": {
          "text": "v / α"
         }
        },
        "yaxis": {
         "anchor": "x",
         "domain": [
          0,
          1
         ],
         "title": {
          "text": "Количество треугольников"
         }
        },
        "yaxis2": {
         "anchor": "x2",
         "domain": [
          0,
          1
         ],
         "title": {
          "text": "Минимальное кликовое покрытие"
         }
        }
       }
      }
     },
     "metadata": {},
     "output_type": "display_data"
    }
   ],
   "source": [
    "fig = make_subplots(\n",
    "    rows=1,\n",
    "    cols=2,\n",
    "    subplot_titles=(\"Количество треугольников\", \"Минимальное кликовое покрытие\"),\n",
    "    horizontal_spacing=0.1,\n",
    ")\n",
    "\n",
    "fig.add_trace(\n",
    "    go.Scatter(\n",
    "        x=v,\n",
    "        y=knn_f,\n",
    "        mode=\"lines+markers\",\n",
    "        name=\"KNN Stable(α)\",\n",
    "        line=dict(color=\"blue\", width=2),\n",
    "        marker=dict(size=4),\n",
    "    ),\n",
    "    row=1,\n",
    "    col=1,\n",
    ")\n",
    "\n",
    "fig.add_trace(\n",
    "    go.Scatter(\n",
    "        x=v,\n",
    "        y=knn_h,\n",
    "        mode=\"lines+markers\",\n",
    "        name=\"KNN Student-t(ν)\",\n",
    "        line=dict(color=\"red\", width=2),\n",
    "        marker=dict(size=4),\n",
    "    ),\n",
    "    row=1,\n",
    "    col=1,\n",
    ")\n",
    "\n",
    "fig.add_trace(\n",
    "    go.Scatter(\n",
    "        x=v,\n",
    "        y=dist_f,\n",
    "        mode=\"lines+markers\",\n",
    "        name=\"Distance Stable(α)\",\n",
    "        line=dict(color=\"green\", width=2),\n",
    "        marker=dict(size=4),\n",
    "        showlegend=True,\n",
    "    ),\n",
    "    row=1,\n",
    "    col=2,\n",
    ")\n",
    "\n",
    "fig.add_trace(\n",
    "    go.Scatter(\n",
    "        x=v,\n",
    "        y=dist_h,\n",
    "        mode=\"lines+markers\",\n",
    "        name=\"Distance Student-t(ν)\",\n",
    "        line=dict(color=\"orange\", width=2),\n",
    "        marker=dict(size=4),\n",
    "        showlegend=True,\n",
    "    ),\n",
    "    row=1,\n",
    "    col=2,\n",
    ")\n",
    "\n",
    "fig.update_xaxes(title_text=\"v / α\", row=1, col=1)\n",
    "fig.update_xaxes(title_text=\"v / α\", row=1, col=2)\n",
    "fig.update_yaxes(title_text=\"Количество треугольников\", row=1, col=1)\n",
    "fig.update_yaxes(title_text=\"Минимальное кликовое покрытие\", row=1, col=2)\n",
    "\n",
    "fig.update_layout(\n",
    "    title_text=\"Сравнение метрик для графов: зависимость от v и α\",\n",
    "    title_x=0.5,\n",
    "    width=1400,\n",
    "    height=600,\n",
    "    legend=dict(yanchor=\"top\", y=0.99, xanchor=\"left\", x=0.01),\n",
    ")\n",
    "\n",
    "fig.show()"
   ]
  },
  {
   "cell_type": "code",
   "execution_count": 4,
   "id": "22bce636",
   "metadata": {},
   "outputs": [
    {
     "data": {
      "application/vnd.jupyter.widget-view+json": {
       "model_id": "039bbf02e9d840b9ad1d6ecd1b49c362",
       "version_major": 2,
       "version_minor": 0
      },
      "text/plain": [
       "  0%|          | 0/27 [00:00<?, ?it/s]"
      ]
     },
     "metadata": {},
     "output_type": "display_data"
    }
   ],
   "source": [
    "n: np.ndarray = np.linspace(25, 150, 27)\n",
    "k: np.ndarray = np.linspace(2, 11, 10)\n",
    "d: np.ndarray = np.linspace(0.1, 10, 10)\n",
    "mc_iter: int = 20\n",
    "\n",
    "knn_f: List[List[float]] = [[] for _ in range(len(n))]\n",
    "knn_h: List[List[float]] = [[] for _ in range(len(n))]\n",
    "dist_f: List[List[float]] = [[] for _ in range(len(n))]\n",
    "dist_h: List[List[float]] = [[] for _ in range(len(n))]\n",
    "for i in tqdm(range(len(n))):\n",
    "    gen: Generator = Generator(v=3, alpha=1, size=int(n[i]))\n",
    "    for j in range(len(k)):\n",
    "        knn_f[i].append(\n",
    "            np.mean(\n",
    "                [GraphKnn(gen.get_f(), int(k[j])).calc_metric() for _ in range(mc_iter)]\n",
    "            )\n",
    "        )\n",
    "        knn_h[i].append(\n",
    "            np.mean(\n",
    "                [GraphKnn(gen.get_h(), int(k[j])).calc_metric() for _ in range(mc_iter)]\n",
    "            )\n",
    "        )\n",
    "\n",
    "        dist_f[i].append(\n",
    "            np.mean(\n",
    "                [GraphDist(gen.get_f(), d[j]).calc_metric() for _ in range(mc_iter)]\n",
    "            )\n",
    "        )\n",
    "        dist_h[i].append(\n",
    "            np.mean(\n",
    "                [GraphDist(gen.get_h(), d[j]).calc_metric() for _ in range(mc_iter)]\n",
    "            )\n",
    "        )\n"
   ]
  },
  {
   "cell_type": "code",
   "execution_count": 5,
   "id": "a0187847",
   "metadata": {},
   "outputs": [
    {
     "data": {
      "application/vnd.plotly.v1+json": {
       "config": {
        "plotlyServerURL": "https://plot.ly"
       },
       "data": [
        {
         "colorscale": [
          [
           0,
           "rgb(247,251,255)"
          ],
          [
           0.125,
           "rgb(222,235,247)"
          ],
          [
           0.25,
           "rgb(198,219,239)"
          ],
          [
           0.375,
           "rgb(158,202,225)"
          ],
          [
           0.5,
           "rgb(107,174,214)"
          ],
          [
           0.625,
           "rgb(66,146,198)"
          ],
          [
           0.75,
           "rgb(33,113,181)"
          ],
          [
           0.875,
           "rgb(8,81,156)"
          ],
          [
           1,
           "rgb(8,48,107)"
          ]
         ],
         "name": "KNN f",
         "opacity": 0.7,
         "scene": "scene",
         "showscale": false,
         "type": "surface",
         "x": {
          "bdata": "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",
          "dtype": "f8",
          "shape": "27, 10"
         },
         "y": {
          "bdata": "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",
          "dtype": "f8",
          "shape": "27, 10"
         },
         "z": {
          "bdata": "AAAAAAAAN0AAAAAAAMBQQAAAAAAAQGBAAAAAAABAakAAAAAAABBzQAAAAAAA0HlAAAAAAACggEAAAAAAAKCEQAAAAAAA2IhAAAAAAAA4jUAAAAAAAAA7QAAAAAAAwFNAAAAAAABAY0AAAAAAAEBvQAAAAAAA0HZAAAAAAAAQf0AAAAAAACCEQAAAAAAAIIlAAAAAAAB4jkAAAAAAAAySQAAAAAAAAEBAAAAAAACAV0AAAAAAAABnQAAAAAAAwHJAAAAAAACAe0AAAAAAANCCQAAAAAAAgIhAAAAAAADAjkAAAAAAAMCSQAAAAAAAWJZAAAAAAACAQkAAAAAAAEBbQAAAAAAAwGpAAAAAAADgdUAAAAAAABiAQAAAAAAAGIZAAAAAAADgjEAAAAAAADCSQAAAAAAARJZAAAAAAACkmkAAAAAAAABFQAAAAAAAAF9AAAAAAACAbkAAAAAAAAB5QAAAAAAAcIJAAAAAAABgiUAAAAAAAKCQQAAAAAAAAJVAAAAAAADImUAAAAAAAPCeQAAAAAAAgEdAAAAAAABgYUAAAAAAACBxQAAAAAAAIHxAAAAAAADIhEAAAAAAAKiMQAAAAAAA0JJAAAAAAADQl0AAAAAAAEydQAAAAAAAnqFAAAAAAACASUAAAAAAAOBiQAAAAAAAoHJAAAAAAACgfkAAAAAAAKiGQAAAAAAASI9AAAAAAACQlEAAAAAAABCaQAAAAAAADqBAAAAAAABWo0AAAAAAAABMQAAAAAAAwGRAAAAAAACAdEAAAAAAAOCAQAAAAAAAAIlAAAAAAABIkUAAAAAAAMCWQAAAAAAA4JxAAAAAAADQoUAAAAAAAHylQAAAAAAAgE5AAAAAAACgZkAAAAAAAGB2QAAAAAAAcIJAAAAAAABYi0AAAAAAAOySQAAAAAAA8JhAAAAAAACwn0AAAAAAAJKjQAAAAAAAoqdAAAAAAACAUEAAAAAAAIBoQAAAAAAAQHhAAAAAAAAAhEAAAAAAALCNQAAAAAAAkJRAAAAAAAAgm0AAAAAAAEChQAAAAAAAVKVAAAAAAADIqUAAAAAAAMBRQAAAAAAAYGpAAAAAAAAgekAAAAAAAJCFQAAAAAAABJBAAAAAAAA0lkAAAAAAAFCdQAAAAAAAqKJAAAAAAAAWp0AAAAAAAO6rQAAAAAAAwFJAAAAAAADga0AAAAAAAKB7QAAAAAAA0IZAAAAAAAD0kEAAAAAAAISXQAAAAAAAEJ9AAAAAAADIo0AAAAAAAH6oQAAAAAAApq1AAAAAAAAAVEAAAAAAAMBtQAAAAAAAgH1AAAAAAABgiEAAAAAAACCSQAAAAAAAKJlAAAAAAACgoEAAAAAAADClQAAAAAAAQKpAAAAAAADMr0AAAAAAAEBVQAAAAAAAoG9AAAAAAABgf0AAAAAAAPCJQAAAAAAATJNAAAAAAADMmkAAAAAAALihQAAAAAAAmKZAAAAAAAACrEAAAAAAAPmwQAAAAAAAgFZAAAAAAADAcEAAAAAAAKCAQAAAAAAAgItAAAAAAAB4lEAAAAAAAHCcQAAAAAAA0KJAAAAAAAAAqEAAAAAAAMStQAAAAAAADLJAAAAAAADAV0AAAAAAALBxQAAAAAAAkIFAAAAAAAAQjUAAAAAAAKSVQAAAAAAAFJ5AAAAAAADoo0AAAAAAAGipQAAAAAAAhq9AAAAAAAAfs0AAAAAAAMBYQAAAAAAAcHJAAAAAAABQgkAAAAAAAFCOQAAAAAAAlJZAAAAAAABkn0AAAAAAAMikQAAAAAAAiKpAAAAAAAB3sEAAAAAAAPuzQAAAAAAAAFpAAAAAAABgc0AAAAAAAECDQAAAAAAA4I9AAAAAAADAl0AAAAAAAISgQAAAAAAA4KVAAAAAAADwq0AAAAAAAFixQAAAAAAADrVAAAAAAABAW0AAAAAAAFB0QAAAAAAAMIRAAAAAAAC4kEAAAAAAAOyYQAAAAAAAVqFAAAAAAAD4pkAAAAAAAFitQAAAAAAAObJAAAAAAAAhtkAAAAAAAIBcQAAAAAAAQHVAAAAAAAAghUAAAAAAAICRQAAAAAAAGJpAAAAAAAAookAAAAAAABCoQAAAAAAAwK5AAAAAAAAas0AAAAAAADS3QAAAAAAAwF1AAAAAAAAwdkAAAAAAABCGQAAAAAAASJJAAAAAAABEm0AAAAAAAPqiQAAAAAAAKKlAAAAAAAAUsEAAAAAAAPuzQAAAAAAAR7hAAAAAAADAXkAAAAAAAPB2QAAAAAAA0IZAAAAAAADokkAAAAAAADScQAAAAAAAoqNAAAAAAAAIqkAAAAAAAKSwQAAAAAAAr7RAAAAAAAAjuUAAAAAAAABgQAAAAAAA4HdAAAAAAADAh0AAAAAAALCTQAAAAAAAYJ1AAAAAAAB0pEAAAAAAACCrQAAAAAAAWLFAAAAAAACQtUAAAAAAADa6QAAAAAAAoGBAAAAAAADQeEAAAAAAALCIQAAAAAAAeJRAAAAAAACMnkAAAAAAAEalQAAAAAAAOKxAAAAAAAAMskAAAAAAAHG2QAAAAAAASbtAAAAAAABAYUAAAAAAAMB5QAAAAAAAoIlAAAAAAABAlUAAAAAAALifQAAAAAAAGKZAAAAAAABQrUAAAAAAAMCyQAAAAAAAUrdAAAAAAABcvEAAAAAAAOBhQAAAAAAAsHpAAAAAAACQikAAAAAAAAiWQAAAAAAAcqBAAAAAAADqpkAAAAAAAGiuQAAAAAAAdLNAAAAAAAAzuEAAAAAAAG+9QAAAAAAAgGJAAAAAAACge0AAAAAAAICLQAAAAAAA0JZAAAAAAAAIoUAAAAAAALynQAAAAAAAgK9AAAAAAAAotEAAAAAAABS5QAAAAAAAgr5A",
          "dtype": "f8",
          "shape": "27, 10"
         }
        },
        {
         "colorscale": [
          [
           0,
           "rgb(255,245,240)"
          ],
          [
           0.125,
           "rgb(254,224,210)"
          ],
          [
           0.25,
           "rgb(252,187,161)"
          ],
          [
           0.375,
           "rgb(252,146,114)"
          ],
          [
           0.5,
           "rgb(251,106,74)"
          ],
          [
           0.625,
           "rgb(239,59,44)"
          ],
          [
           0.75,
           "rgb(203,24,29)"
          ],
          [
           0.875,
           "rgb(165,15,21)"
          ],
          [
           1,
           "rgb(103,0,13)"
          ]
         ],
         "name": "KNN h",
         "opacity": 0.7,
         "scene": "scene",
         "showscale": false,
         "type": "surface",
         "x": {
          "bdata": "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",
          "dtype": "f8",
          "shape": "27, 10"
         },
         "y": {
          "bdata": "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",
          "dtype": "f8",
          "shape": "27, 10"
         },
         "z": {
          "bdata": "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",
          "dtype": "f8",
          "shape": "27, 10"
         }
        },
        {
         "colorscale": [
          [
           0,
           "rgb(247,252,245)"
          ],
          [
           0.125,
           "rgb(229,245,224)"
          ],
          [
           0.25,
           "rgb(199,233,192)"
          ],
          [
           0.375,
           "rgb(161,217,155)"
          ],
          [
           0.5,
           "rgb(116,196,118)"
          ],
          [
           0.625,
           "rgb(65,171,93)"
          ],
          [
           0.75,
           "rgb(35,139,69)"
          ],
          [
           0.875,
           "rgb(0,109,44)"
          ],
          [
           1,
           "rgb(0,68,27)"
          ]
         ],
         "name": "Distance f",
         "opacity": 0.7,
         "scene": "scene2",
         "showscale": false,
         "type": "surface",
         "x": {
          "bdata": "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",
          "dtype": "f8",
          "shape": "27, 10"
         },
         "y": {
          "bdata": "mpmZmZmZuT80MzMzMzPzP2dmZmZmZgJANDMzMzMzC0AAAAAAAAASQGZmZmZmZhZAzczMzMzMGkA0MzMzMzMfQM3MzMzMzCFAAAAAAAAAJECamZmZmZm5PzQzMzMzM/M/Z2ZmZmZmAkA0MzMzMzMLQAAAAAAAABJAZmZmZmZmFkDNzMzMzMwaQDQzMzMzMx9AzczMzMzMIUAAAAAAAAAkQJqZmZmZmbk/NDMzMzMz8z9nZmZmZmYCQDQzMzMzMwtAAAAAAAAAEkBmZmZmZmYWQM3MzMzMzBpANDMzMzMzH0DNzMzMzMwhQAAAAAAAACRAmpmZmZmZuT80MzMzMzPzP2dmZmZmZgJANDMzMzMzC0AAAAAAAAASQGZmZmZmZhZAzczMzMzMGkA0MzMzMzMfQM3MzMzMzCFAAAAAAAAAJECamZmZmZm5PzQzMzMzM/M/Z2ZmZmZmAkA0MzMzMzMLQAAAAAAAABJAZmZmZmZmFkDNzMzMzMwaQDQzMzMzMx9AzczMzMzMIUAAAAAAAAAkQJqZmZmZmbk/NDMzMzMz8z9nZmZmZmYCQDQzMzMzMwtAAAAAAAAAEkBmZmZmZmYWQM3MzMzMzBpANDMzMzMzH0DNzMzMzMwhQAAAAAAAACRAmpmZmZmZuT80MzMzMzPzP2dmZmZmZgJANDMzMzMzC0AAAAAAAAASQGZmZmZmZhZAzczMzMzMGkA0MzMzMzMfQM3MzMzMzCFAAAAAAAAAJECamZmZmZm5PzQzMzMzM/M/Z2ZmZmZmAkA0MzMzMzMLQAAAAAAAABJAZmZmZmZmFkDNzMzMzMwaQDQzMzMzMx9AzczMzMzMIUAAAAAAAAAkQJqZmZmZmbk/NDMzMzMz8z9nZmZmZmYCQDQzMzMzMwtAAAAAAAAAEkBmZmZmZmYWQM3MzMzMzBpANDMzMzMzH0DNzMzMzMwhQAAAAAAAACRAmpmZmZmZuT80MzMzMzPzP2dmZmZmZgJANDMzMzMzC0AAAAAAAAASQGZmZmZmZhZAzczMzMzMGkA0MzMzMzMfQM3MzMzMzCFAAAAAAAAAJECamZmZmZm5PzQzMzMzM/M/Z2ZmZmZmAkA0MzMzMzMLQAAAAAAAABJAZmZmZmZmFkDNzMzMzMwaQDQzMzMzMx9AzczMzMzMIUAAAAAAAAAkQJqZmZmZmbk/NDMzMzMz8z9nZmZmZmYCQDQzMzMzMwtAAAAAAAAAEkBmZmZmZmYWQM3MzMzMzBpANDMzMzMzH0DNzMzMzMwhQAAAAAAAACRAmpmZmZmZuT80MzMzMzPzP2dmZmZmZgJANDMzMzMzC0AAAAAAAAASQGZmZmZmZhZAzczMzMzMGkA0MzMzMzMfQM3MzMzMzCFAAAAAAAAAJECamZmZmZm5PzQzMzMzM/M/Z2ZmZmZmAkA0MzMzMzMLQAAAAAAAABJAZmZmZmZmFkDNzMzMzMwaQDQzMzMzMx9AzczMzMzMIUAAAAAAAAAkQJqZmZmZmbk/NDMzMzMz8z9nZmZmZmYCQDQzMzMzMwtAAAAAAAAAEkBmZmZmZmYWQM3MzMzMzBpANDMzMzMzH0DNzMzMzMwhQAAAAAAAACRAmpmZmZmZuT80MzMzMzPzP2dmZmZmZgJANDMzMzMzC0AAAAAAAAASQGZmZmZmZhZAzczMzMzMGkA0MzMzMzMfQM3MzMzMzCFAAAAAAAAAJECamZmZmZm5PzQzMzMzM/M/Z2ZmZmZmAkA0MzMzMzMLQAAAAAAAABJAZmZmZmZmFkDNzMzMzMwaQDQzMzMzMx9AzczMzMzMIUAAAAAAAAAkQJqZmZmZmbk/NDMzMzMz8z9nZmZmZmYCQDQzMzMzMwtAAAAAAAAAEkBmZmZmZmYWQM3MzMzMzBpANDMzMzMzH0DNzMzMzMwhQAAAAAAAACRAmpmZmZmZuT80MzMzMzPzP2dmZmZmZgJANDMzMzMzC0AAAAAAAAASQGZmZmZmZhZAzczMzMzMGkA0MzMzMzMfQM3MzMzMzCFAAAAAAAAAJECamZmZmZm5PzQzMzMzM/M/Z2ZmZmZmAkA0MzMzMzMLQAAAAAAAABJAZmZmZmZmFkDNzMzMzMwaQDQzMzMzMx9AzczMzMzMIUAAAAAAAAAkQJqZmZmZmbk/NDMzMzMz8z9nZmZmZmYCQDQzMzMzMwtAAAAAAAAAEkBmZmZmZmYWQM3MzMzMzBpANDMzMzMzH0DNzMzMzMwhQAAAAAAAACRAmpmZmZmZuT80MzMzMzPzP2dmZmZmZgJANDMzMzMzC0AAAAAAAAASQGZmZmZmZhZAzczMzMzMGkA0MzMzMzMfQM3MzMzMzCFAAAAAAAAAJECamZmZmZm5PzQzMzMzM/M/Z2ZmZmZmAkA0MzMzMzMLQAAAAAAAABJAZmZmZmZmFkDNzMzMzMwaQDQzMzMzMx9AzczMzMzMIUAAAAAAAAAkQJqZmZmZmbk/NDMzMzMz8z9nZmZmZmYCQDQzMzMzMwtAAAAAAAAAEkBmZmZmZmYWQM3MzMzMzBpANDMzMzMzH0DNzMzMzMwhQAAAAAAAACRAmpmZmZmZuT80MzMzMzPzP2dmZmZmZgJANDMzMzMzC0AAAAAAAAASQGZmZmZmZhZAzczMzMzMGkA0MzMzMzMfQM3MzMzMzCFAAAAAAAAAJECamZmZmZm5PzQzMzMzM/M/Z2ZmZmZmAkA0MzMzMzMLQAAAAAAAABJAZmZmZmZmFkDNzMzMzMwaQDQzMzMzMx9AzczMzMzMIUAAAAAAAAAkQJqZmZmZmbk/NDMzMzMz8z9nZmZmZmYCQDQzMzMzMwtAAAAAAAAAEkBmZmZmZmYWQM3MzMzMzBpANDMzMzMzH0DNzMzMzMwhQAAAAAAAACRA",
          "dtype": "f8",
          "shape": "27, 10"
         },
         "z": {
          "bdata": "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",
          "dtype": "f8",
          "shape": "27, 10"
         }
        },
        {
         "colorscale": [
          [
           0,
           "rgb(255,245,235)"
          ],
          [
           0.125,
           "rgb(254,230,206)"
          ],
          [
           0.25,
           "rgb(253,208,162)"
          ],
          [
           0.375,
           "rgb(253,174,107)"
          ],
          [
           0.5,
           "rgb(253,141,60)"
          ],
          [
           0.625,
           "rgb(241,105,19)"
          ],
          [
           0.75,
           "rgb(217,72,1)"
          ],
          [
           0.875,
           "rgb(166,54,3)"
          ],
          [
           1,
           "rgb(127,39,4)"
          ]
         ],
         "name": "Distance h",
         "opacity": 0.7,
         "scene": "scene2",
         "showscale": false,
         "type": "surface",
         "x": {
          "bdata": "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",
          "dtype": "f8",
          "shape": "27, 10"
         },
         "y": {
          "bdata": "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",
          "dtype": "f8",
          "shape": "27, 10"
         },
         "z": {
          "bdata": "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",
          "dtype": "f8",
          "shape": "27, 10"
         }
        }
       ],
       "layout": {
        "annotations": [
         {
          "font": {
           "size": 16
          },
          "showarrow": false,
          "text": "3D KNN Metric (n, k, metric)",
          "x": 0.2375,
          "xanchor": "center",
          "xref": "paper",
          "y": 1,
          "yanchor": "bottom",
          "yref": "paper"
         },
         {
          "font": {
           "size": 16
          },
          "showarrow": false,
          "text": "3D Distance Metric (n, d, metric)",
          "x": 0.7625,
          "xanchor": "center",
          "xref": "paper",
          "y": 1,
          "yanchor": "bottom",
          "yref": "paper"
         }
        ],
        "height": 700,
        "legend": {
         "x": 0.01,
         "xanchor": "left",
         "y": 0.99,
         "yanchor": "top"
        },
        "scene": {
         "camera": {
          "eye": {
           "x": 1.2,
           "y": 1.2,
           "z": 1.2
          }
         },
         "domain": {
          "x": [
           0,
           0.475
          ],
          "y": [
           0,
           1
          ]
         },
         "xaxis": {
          "title": {
           "text": "n (размер графа)"
          }
         },
         "yaxis": {
          "title": {
           "text": "k (количество соседей)"
          }
         },
         "zaxis": {
          "title": {
           "text": "Количество треугольников"
          }
         }
        },
        "scene2": {
         "camera": {
          "eye": {
           "x": 1.2,
           "y": 1.2,
           "z": 1.2
          }
         },
         "domain": {
          "x": [
           0.525,
           1
          ],
          "y": [
           0,
           1
          ]
         },
         "xaxis": {
          "title": {
           "text": "n (размер графа)"
          }
         },
         "yaxis": {
          "title": {
           "text": "d (пороговое расстояние)"
          }
         },
         "zaxis": {
          "title": {
           "text": "Минимальное кликовое покрытие"
          }
         }
        },
        "showlegend": true,
        "template": {
         "data": {
          "bar": [
           {
            "error_x": {
             "color": "#2a3f5f"
            },
            "error_y": {
             "color": "#2a3f5f"
            },
            "marker": {
             "line": {
              "color": "#E5ECF6",
              "width": 0.5
             },
             "pattern": {
              "fillmode": "overlay",
              "size": 10,
              "solidity": 0.2
             }
            },
            "type": "bar"
           }
          ],
          "barpolar": [
           {
            "marker": {
             "line": {
              "color": "#E5ECF6",
              "width": 0.5
             },
             "pattern": {
              "fillmode": "overlay",
              "size": 10,
              "solidity": 0.2
             }
            },
            "type": "barpolar"
           }
          ],
          "carpet": [
           {
            "aaxis": {
             "endlinecolor": "#2a3f5f",
             "gridcolor": "white",
             "linecolor": "white",
             "minorgridcolor": "white",
             "startlinecolor": "#2a3f5f"
            },
            "baxis": {
             "endlinecolor": "#2a3f5f",
             "gridcolor": "white",
             "linecolor": "white",
             "minorgridcolor": "white",
             "startlinecolor": "#2a3f5f"
            },
            "type": "carpet"
           }
          ],
          "choropleth": [
           {
            "colorbar": {
             "outlinewidth": 0,
             "ticks": ""
            },
            "type": "choropleth"
           }
          ],
          "contour": [
           {
            "colorbar": {
             "outlinewidth": 0,
             "ticks": ""
            },
            "colorscale": [
             [
              0,
              "#0d0887"
             ],
             [
              0.1111111111111111,
              "#46039f"
             ],
             [
              0.2222222222222222,
              "#7201a8"
             ],
             [
              0.3333333333333333,
              "#9c179e"
             ],
             [
              0.4444444444444444,
              "#bd3786"
             ],
             [
              0.5555555555555556,
              "#d8576b"
             ],
             [
              0.6666666666666666,
              "#ed7953"
             ],
             [
              0.7777777777777778,
              "#fb9f3a"
             ],
             [
              0.8888888888888888,
              "#fdca26"
             ],
             [
              1,
              "#f0f921"
             ]
            ],
            "type": "contour"
           }
          ],
          "contourcarpet": [
           {
            "colorbar": {
             "outlinewidth": 0,
             "ticks": ""
            },
            "type": "contourcarpet"
           }
          ],
          "heatmap": [
           {
            "colorbar": {
             "outlinewidth": 0,
             "ticks": ""
            },
            "colorscale": [
             [
              0,
              "#0d0887"
             ],
             [
              0.1111111111111111,
              "#46039f"
             ],
             [
              0.2222222222222222,
              "#7201a8"
             ],
             [
              0.3333333333333333,
              "#9c179e"
             ],
             [
              0.4444444444444444,
              "#bd3786"
             ],
             [
              0.5555555555555556,
              "#d8576b"
             ],
             [
              0.6666666666666666,
              "#ed7953"
             ],
             [
              0.7777777777777778,
              "#fb9f3a"
             ],
             [
              0.8888888888888888,
              "#fdca26"
             ],
             [
              1,
              "#f0f921"
             ]
            ],
            "type": "heatmap"
           }
          ],
          "histogram": [
           {
            "marker": {
             "pattern": {
              "fillmode": "overlay",
              "size": 10,
              "solidity": 0.2
             }
            },
            "type": "histogram"
           }
          ],
          "histogram2d": [
           {
            "colorbar": {
             "outlinewidth": 0,
             "ticks": ""
            },
            "colorscale": [
             [
              0,
              "#0d0887"
             ],
             [
              0.1111111111111111,
              "#46039f"
             ],
             [
              0.2222222222222222,
              "#7201a8"
             ],
             [
              0.3333333333333333,
              "#9c179e"
             ],
             [
              0.4444444444444444,
              "#bd3786"
             ],
             [
              0.5555555555555556,
              "#d8576b"
             ],
             [
              0.6666666666666666,
              "#ed7953"
             ],
             [
              0.7777777777777778,
              "#fb9f3a"
             ],
             [
              0.8888888888888888,
              "#fdca26"
             ],
             [
              1,
              "#f0f921"
             ]
            ],
            "type": "histogram2d"
           }
          ],
          "histogram2dcontour": [
           {
            "colorbar": {
             "outlinewidth": 0,
             "ticks": ""
            },
            "colorscale": [
             [
              0,
              "#0d0887"
             ],
             [
              0.1111111111111111,
              "#46039f"
             ],
             [
              0.2222222222222222,
              "#7201a8"
             ],
             [
              0.3333333333333333,
              "#9c179e"
             ],
             [
              0.4444444444444444,
              "#bd3786"
             ],
             [
              0.5555555555555556,
              "#d8576b"
             ],
             [
              0.6666666666666666,
              "#ed7953"
             ],
             [
              0.7777777777777778,
              "#fb9f3a"
             ],
             [
              0.8888888888888888,
              "#fdca26"
             ],
             [
              1,
              "#f0f921"
             ]
            ],
            "type": "histogram2dcontour"
           }
          ],
          "mesh3d": [
           {
            "colorbar": {
             "outlinewidth": 0,
             "ticks": ""
            },
            "type": "mesh3d"
           }
          ],
          "parcoords": [
           {
            "line": {
             "colorbar": {
              "outlinewidth": 0,
              "ticks": ""
             }
            },
            "type": "parcoords"
           }
          ],
          "pie": [
           {
            "automargin": true,
            "type": "pie"
           }
          ],
          "scatter": [
           {
            "fillpattern": {
             "fillmode": "overlay",
             "size": 10,
             "solidity": 0.2
            },
            "type": "scatter"
           }
          ],
          "scatter3d": [
           {
            "line": {
             "colorbar": {
              "outlinewidth": 0,
              "ticks": ""
             }
            },
            "marker": {
             "colorbar": {
              "outlinewidth": 0,
              "ticks": ""
             }
            },
            "type": "scatter3d"
           }
          ],
          "scattercarpet": [
           {
            "marker": {
             "colorbar": {
              "outlinewidth": 0,
              "ticks": ""
             }
            },
            "type": "scattercarpet"
           }
          ],
          "scattergeo": [
           {
            "marker": {
             "colorbar": {
              "outlinewidth": 0,
              "ticks": ""
             }
            },
            "type": "scattergeo"
           }
          ],
          "scattergl": [
           {
            "marker": {
             "colorbar": {
              "outlinewidth": 0,
              "ticks": ""
             }
            },
            "type": "scattergl"
           }
          ],
          "scattermap": [
           {
            "marker": {
             "colorbar": {
              "outlinewidth": 0,
              "ticks": ""
             }
            },
            "type": "scattermap"
           }
          ],
          "scattermapbox": [
           {
            "marker": {
             "colorbar": {
              "outlinewidth": 0,
              "ticks": ""
             }
            },
            "type": "scattermapbox"
           }
          ],
          "scatterpolar": [
           {
            "marker": {
             "colorbar": {
              "outlinewidth": 0,
              "ticks": ""
             }
            },
            "type": "scatterpolar"
           }
          ],
          "scatterpolargl": [
           {
            "marker": {
             "colorbar": {
              "outlinewidth": 0,
              "ticks": ""
             }
            },
            "type": "scatterpolargl"
           }
          ],
          "scatterternary": [
           {
            "marker": {
             "colorbar": {
              "outlinewidth": 0,
              "ticks": ""
             }
            },
            "type": "scatterternary"
           }
          ],
          "surface": [
           {
            "colorbar": {
             "outlinewidth": 0,
             "ticks": ""
            },
            "colorscale": [
             [
              0,
              "#0d0887"
             ],
             [
              0.1111111111111111,
              "#46039f"
             ],
             [
              0.2222222222222222,
              "#7201a8"
             ],
             [
              0.3333333333333333,
              "#9c179e"
             ],
             [
              0.4444444444444444,
              "#bd3786"
             ],
             [
              0.5555555555555556,
              "#d8576b"
             ],
             [
              0.6666666666666666,
              "#ed7953"
             ],
             [
              0.7777777777777778,
              "#fb9f3a"
             ],
             [
              0.8888888888888888,
              "#fdca26"
             ],
             [
              1,
              "#f0f921"
             ]
            ],
            "type": "surface"
           }
          ],
          "table": [
           {
            "cells": {
             "fill": {
              "color": "#EBF0F8"
             },
             "line": {
              "color": "white"
             }
            },
            "header": {
             "fill": {
              "color": "#C8D4E3"
             },
             "line": {
              "color": "white"
             }
            },
            "type": "table"
           }
          ]
         },
         "layout": {
          "annotationdefaults": {
           "arrowcolor": "#2a3f5f",
           "arrowhead": 0,
           "arrowwidth": 1
          },
          "autotypenumbers": "strict",
          "coloraxis": {
           "colorbar": {
            "outlinewidth": 0,
            "ticks": ""
           }
          },
          "colorscale": {
           "diverging": [
            [
             0,
             "#8e0152"
            ],
            [
             0.1,
             "#c51b7d"
            ],
            [
             0.2,
             "#de77ae"
            ],
            [
             0.3,
             "#f1b6da"
            ],
            [
             0.4,
             "#fde0ef"
            ],
            [
             0.5,
             "#f7f7f7"
            ],
            [
             0.6,
             "#e6f5d0"
            ],
            [
             0.7,
             "#b8e186"
            ],
            [
             0.8,
             "#7fbc41"
            ],
            [
             0.9,
             "#4d9221"
            ],
            [
             1,
             "#276419"
            ]
           ],
           "sequential": [
            [
             0,
             "#0d0887"
            ],
            [
             0.1111111111111111,
             "#46039f"
            ],
            [
             0.2222222222222222,
             "#7201a8"
            ],
            [
             0.3333333333333333,
             "#9c179e"
            ],
            [
             0.4444444444444444,
             "#bd3786"
            ],
            [
             0.5555555555555556,
             "#d8576b"
            ],
            [
             0.6666666666666666,
             "#ed7953"
            ],
            [
             0.7777777777777778,
             "#fb9f3a"
            ],
            [
             0.8888888888888888,
             "#fdca26"
            ],
            [
             1,
             "#f0f921"
            ]
           ],
           "sequentialminus": [
            [
             0,
             "#0d0887"
            ],
            [
             0.1111111111111111,
             "#46039f"
            ],
            [
             0.2222222222222222,
             "#7201a8"
            ],
            [
             0.3333333333333333,
             "#9c179e"
            ],
            [
             0.4444444444444444,
             "#bd3786"
            ],
            [
             0.5555555555555556,
             "#d8576b"
            ],
            [
             0.6666666666666666,
             "#ed7953"
            ],
            [
             0.7777777777777778,
             "#fb9f3a"
            ],
            [
             0.8888888888888888,
             "#fdca26"
            ],
            [
             1,
             "#f0f921"
            ]
           ]
          },
          "colorway": [
           "#636efa",
           "#EF553B",
           "#00cc96",
           "#ab63fa",
           "#FFA15A",
           "#19d3f3",
           "#FF6692",
           "#B6E880",
           "#FF97FF",
           "#FECB52"
          ],
          "font": {
           "color": "#2a3f5f"
          },
          "geo": {
           "bgcolor": "white",
           "lakecolor": "white",
           "landcolor": "#E5ECF6",
           "showlakes": true,
           "showland": true,
           "subunitcolor": "white"
          },
          "hoverlabel": {
           "align": "left"
          },
          "hovermode": "closest",
          "mapbox": {
           "style": "light"
          },
          "paper_bgcolor": "white",
          "plot_bgcolor": "#E5ECF6",
          "polar": {
           "angularaxis": {
            "gridcolor": "white",
            "linecolor": "white",
            "ticks": ""
           },
           "bgcolor": "#E5ECF6",
           "radialaxis": {
            "gridcolor": "white",
            "linecolor": "white",
            "ticks": ""
           }
          },
          "scene": {
           "xaxis": {
            "backgroundcolor": "#E5ECF6",
            "gridcolor": "white",
            "gridwidth": 2,
            "linecolor": "white",
            "showbackground": true,
            "ticks": "",
            "zerolinecolor": "white"
           },
           "yaxis": {
            "backgroundcolor": "#E5ECF6",
            "gridcolor": "white",
            "gridwidth": 2,
            "linecolor": "white",
            "showbackground": true,
            "ticks": "",
            "zerolinecolor": "white"
           },
           "zaxis": {
            "backgroundcolor": "#E5ECF6",
            "gridcolor": "white",
            "gridwidth": 2,
            "linecolor": "white",
            "showbackground": true,
            "ticks": "",
            "zerolinecolor": "white"
           }
          },
          "shapedefaults": {
           "line": {
            "color": "#2a3f5f"
           }
          },
          "ternary": {
           "aaxis": {
            "gridcolor": "white",
            "linecolor": "white",
            "ticks": ""
           },
           "baxis": {
            "gridcolor": "white",
            "linecolor": "white",
            "ticks": ""
           },
           "bgcolor": "#E5ECF6",
           "caxis": {
            "gridcolor": "white",
            "linecolor": "white",
            "ticks": ""
           }
          },
          "title": {
           "x": 0.05
          },
          "xaxis": {
           "automargin": true,
           "gridcolor": "white",
           "linecolor": "white",
           "ticks": "",
           "title": {
            "standoff": 15
           },
           "zerolinecolor": "white",
           "zerolinewidth": 2
          },
          "yaxis": {
           "automargin": true,
           "gridcolor": "white",
           "linecolor": "white",
           "ticks": "",
           "title": {
            "standoff": 15
           },
           "zerolinecolor": "white",
           "zerolinewidth": 2
          }
         }
        },
        "title": {
         "text": "3D Визуализация метрик: влияние параметров графа",
         "x": 0.5
        },
        "width": 1400
       }
      }
     },
     "metadata": {},
     "output_type": "display_data"
    }
   ],
   "source": [
    "N_knn: np.ndarray\n",
    "K_knn: np.ndarray\n",
    "N_knn, K_knn = np.meshgrid(n, k, indexing=\"ij\")\n",
    "knn_f_array: np.ndarray = np.array(knn_f)\n",
    "knn_h_array: np.ndarray = np.array(knn_h)\n",
    "\n",
    "N_dist: np.ndarray\n",
    "D_dist: np.ndarray\n",
    "N_dist, D_dist = np.meshgrid(n, d, indexing=\"ij\")\n",
    "dist_f_array: np.ndarray = np.array(dist_f)\n",
    "dist_h_array: np.ndarray = np.array(dist_h)\n",
    "\n",
    "fig = make_subplots(\n",
    "    rows=1,\n",
    "    cols=2,\n",
    "    specs=[[{\"type\": \"surface\"}, {\"type\": \"surface\"}]],\n",
    "    subplot_titles=(\n",
    "        \"3D KNN Metric (n, k, metric)\",\n",
    "        \"3D Distance Metric (n, d, metric)\",\n",
    "    ),\n",
    "    horizontal_spacing=0.05,\n",
    ")\n",
    "\n",
    "fig.add_trace(\n",
    "    go.Surface(\n",
    "        x=N_knn,\n",
    "        y=K_knn,\n",
    "        z=knn_f_array,\n",
    "        name=\"KNN f\",\n",
    "        colorscale=\"Blues\",\n",
    "        opacity=0.7,\n",
    "        showscale=False,\n",
    "    ),\n",
    "    row=1,\n",
    "    col=1,\n",
    ")\n",
    "\n",
    "fig.add_trace(\n",
    "    go.Surface(\n",
    "        x=N_knn,\n",
    "        y=K_knn,\n",
    "        z=knn_h_array,\n",
    "        name=\"KNN h\",\n",
    "        colorscale=\"Reds\",\n",
    "        opacity=0.7,\n",
    "        showscale=False,\n",
    "    ),\n",
    "    row=1,\n",
    "    col=1,\n",
    ")\n",
    "\n",
    "fig.add_trace(\n",
    "    go.Surface(\n",
    "        x=N_dist,\n",
    "        y=D_dist,\n",
    "        z=dist_f_array,\n",
    "        name=\"Distance f\",\n",
    "        colorscale=\"Greens\",\n",
    "        opacity=0.7,\n",
    "        showscale=False,\n",
    "    ),\n",
    "    row=1,\n",
    "    col=2,\n",
    ")\n",
    "\n",
    "fig.add_trace(\n",
    "    go.Surface(\n",
    "        x=N_dist,\n",
    "        y=D_dist,\n",
    "        z=dist_h_array,\n",
    "        name=\"Distance h\",\n",
    "        colorscale=\"Oranges\",\n",
    "        opacity=0.7,\n",
    "        showscale=False,\n",
    "    ),\n",
    "    row=1,\n",
    "    col=2,\n",
    ")\n",
    "\n",
    "fig.update_layout(\n",
    "    scene=dict(\n",
    "        xaxis_title=\"n (размер графа)\",\n",
    "        yaxis_title=\"k (количество соседей)\",\n",
    "        zaxis_title=\"Количество треугольников\",\n",
    "        camera=dict(eye=dict(x=1.2, y=1.2, z=1.2)),\n",
    "    ),\n",
    "    scene2=dict(\n",
    "        xaxis_title=\"n (размер графа)\",\n",
    "        yaxis_title=\"d (пороговое расстояние)\",\n",
    "        zaxis_title=\"Минимальное кликовое покрытие\",\n",
    "        camera=dict(eye=dict(x=1.2, y=1.2, z=1.2)),\n",
    "    ),\n",
    "    title_text=\"3D Визуализация метрик: влияние параметров графа\",\n",
    "    title_x=0.5,\n",
    "    width=1400,\n",
    "    height=700,\n",
    "    showlegend=True,\n",
    "    legend=dict(yanchor=\"top\", y=0.99, xanchor=\"left\", x=0.01),\n",
    ")\n",
    "\n",
    "fig.show()"
   ]
  },
  {
   "cell_type": "markdown",
   "id": "3319d155",
   "metadata": {},
   "source": [
    "### Distance\n",
    "Видно, что при росте n и фиксированных остальных параметрах, размер минимального кликового покрытия растет"
   ]
  },
  {
   "cell_type": "code",
   "execution_count": 6,
   "id": "e308a1a3",
   "metadata": {},
   "outputs": [
    {
     "data": {
      "application/vnd.jupyter.widget-view+json": {
       "model_id": "f1455ef916a245ad8e2004da68cd3142",
       "version_major": 2,
       "version_minor": 0
      },
      "text/plain": [
       "  0%|          | 0/500 [00:00<?, ?it/s]"
      ]
     },
     "metadata": {},
     "output_type": "display_data"
    },
    {
     "data": {
      "application/vnd.jupyter.widget-view+json": {
       "model_id": "22d386a2856a473db3bcd3444cbf6ab2",
       "version_major": 2,
       "version_minor": 0
      },
      "text/plain": [
       "  0%|          | 0/500 [00:00<?, ?it/s]"
      ]
     },
     "metadata": {},
     "output_type": "display_data"
    },
    {
     "data": {
      "application/vnd.jupyter.widget-view+json": {
       "model_id": "b2fc323cd766408b8022d3aa736cb74c",
       "version_major": 2,
       "version_minor": 0
      },
      "text/plain": [
       "  0%|          | 0/500 [00:00<?, ?it/s]"
      ]
     },
     "metadata": {},
     "output_type": "display_data"
    },
    {
     "data": {
      "application/vnd.jupyter.widget-view+json": {
       "model_id": "d8b345fa46cc4033baf878aa3aa6c944",
       "version_major": 2,
       "version_minor": 0
      },
      "text/plain": [
       "  0%|          | 0/500 [00:00<?, ?it/s]"
      ]
     },
     "metadata": {},
     "output_type": "display_data"
    }
   ],
   "source": [
    "n: int = 100\n",
    "cnt: int = 50\n",
    "v: float = 3\n",
    "alpha: float = 1\n",
    "mc_iter: int = 500\n",
    "\n",
    "gen: Generator = Generator(v, alpha, size=n)\n",
    "knn_f: List[float] = [GraphKnn(gen.get_f()).calc_metric() for _ in tqdm(range(mc_iter))]\n",
    "knn_h: List[float] = [GraphKnn(gen.get_h()).calc_metric() for _ in tqdm(range(mc_iter))]\n",
    "    \n",
    "dist_f: List[float] = [GraphDist(gen.get_f()).calc_metric() for _ in tqdm(range(mc_iter))]\n",
    "dist_h: List[float] = [GraphDist(gen.get_h()).calc_metric() for _ in tqdm(range(mc_iter))]\n",
    "\n",
    "a: float = 0.05\n",
    "knn_thr: float = sorted(knn_f)[int((1-a)*len(knn_f))]\n",
    "dist_thr: float = sorted(dist_f)[int((1-a)*len(dist_f))]\n",
    "\n",
    "knn_pow: int = sum(np.array(knn_h) > knn_thr)\n",
    "dist_pow: int = sum(np.array(dist_h) > dist_thr)\n"
   ]
  },
  {
   "cell_type": "code",
   "execution_count": 7,
   "id": "ecb37f7a",
   "metadata": {},
   "outputs": [
    {
     "data": {
      "text/plain": [
       "np.int64(459)"
      ]
     },
     "execution_count": 7,
     "metadata": {},
     "output_type": "execute_result"
    }
   ],
   "source": [
    "dist_pow"
   ]
  },
  {
   "cell_type": "code",
   "execution_count": 8,
   "id": "85df7cd2",
   "metadata": {},
   "outputs": [
    {
     "data": {
      "application/vnd.plotly.v1+json": {
       "config": {
        "plotlyServerURL": "https://plot.ly"
       },
       "data": [
        {
         "histnorm": "probability density",
         "marker": {
          "color": "blue"
         },
         "name": "KNN f (H0)",
         "nbinsx": 30,
         "opacity": 0.7,
         "type": "histogram",
         "x": [
          960,
          960,
          960,
          960,
          960,
          960,
          960,
          960,
          960,
          960,
          960,
          960,
          960,
          960,
          960,
          960,
          960,
          960,
          960,
          960,
          960,
          960,
          960,
          960,
          960,
          960,
          960,
          960,
          960,
          960,
          960,
          960,
          960,
          960,
          960,
          960,
          960,
          960,
          960,
          960,
          960,
          960,
          960,
          960,
          960,
          960,
          960,
          960,
          960,
          960,
          960,
          960,
          960,
          960,
          960,
          960,
          960,
          960,
          960,
          960,
          960,
          960,
          960,
          960,
          960,
          960,
          960,
          960,
          960,
          960,
          960,
          960,
          960,
          960,
          960,
          960,
          960,
          960,
          960,
          960,
          960,
          960,
          960,
          960,
          960,
          960,
          960,
          960,
          960,
          960,
          960,
          960,
          960,
          960,
          960,
          960,
          960,
          960,
          960,
          960,
          960,
          960,
          960,
          960,
          960,
          960,
          960,
          960,
          960,
          960,
          960,
          960,
          960,
          960,
          960,
          960,
          960,
          960,
          960,
          960,
          960,
          960,
          960,
          960,
          960,
          960,
          960,
          960,
          960,
          960,
          960,
          960,
          960,
          960,
          960,
          960,
          960,
          960,
          960,
          960,
          960,
          960,
          960,
          960,
          960,
          960,
          960,
          960,
          960,
          960,
          960,
          960,
          960,
          960,
          960,
          960,
          960,
          960,
          960,
          960,
          960,
          960,
          960,
          960,
          960,
          960,
          960,
          960,
          960,
          960,
          960,
          960,
          960,
          960,
          960,
          960,
          960,
          960,
          960,
          960,
          960,
          960,
          960,
          960,
          960,
          960,
          960,
          960,
          960,
          960,
          960,
          960,
          960,
          960,
          960,
          960,
          960,
          960,
          960,
          960,
          960,
          960,
          960,
          960,
          960,
          960,
          960,
          960,
          960,
          960,
          960,
          960,
          960,
          960,
          960,
          960,
          960,
          960,
          960,
          960,
          960,
          960,
          960,
          960,
          960,
          960,
          960,
          960,
          960,
          960,
          960,
          960,
          960,
          960,
          960,
          960,
          960,
          960,
          960,
          960,
          960,
          960,
          960,
          960,
          960,
          960,
          960,
          960,
          960,
          960,
          960,
          960,
          960,
          960,
          960,
          960,
          960,
          960,
          960,
          960,
          960,
          960,
          960,
          960,
          960,
          960,
          960,
          960,
          960,
          960,
          960,
          960,
          960,
          960,
          960,
          960,
          960,
          960,
          960,
          960,
          960,
          960,
          960,
          960,
          960,
          960,
          960,
          960,
          960,
          960,
          960,
          960,
          960,
          960,
          960,
          960,
          960,
          960,
          960,
          960,
          960,
          960,
          960,
          960,
          960,
          960,
          960,
          960,
          960,
          960,
          960,
          960,
          960,
          960,
          960,
          960,
          960,
          960,
          960,
          960,
          960,
          960,
          960,
          960,
          960,
          960,
          960,
          960,
          960,
          960,
          960,
          960,
          960,
          960,
          960,
          960,
          960,
          960,
          960,
          960,
          960,
          960,
          960,
          960,
          960,
          960,
          960,
          960,
          960,
          960,
          960,
          960,
          960,
          960,
          960,
          960,
          960,
          960,
          960,
          960,
          960,
          960,
          960,
          960,
          960,
          960,
          960,
          960,
          960,
          960,
          960,
          960,
          960,
          960,
          960,
          960,
          960,
          960,
          960,
          960,
          960,
          960,
          960,
          960,
          960,
          960,
          960,
          960,
          960,
          960,
          960,
          960,
          960,
          960,
          960,
          960,
          960,
          960,
          960,
          960,
          960,
          960,
          960,
          960,
          960,
          960,
          960,
          960,
          960,
          960,
          960,
          960,
          960,
          960,
          960,
          960,
          960,
          960,
          960,
          960,
          960,
          960,
          960,
          960,
          960,
          960,
          960,
          960,
          960,
          960,
          960,
          960,
          960,
          960,
          960,
          960,
          960,
          960,
          960,
          960,
          960,
          960,
          960,
          960,
          960,
          960,
          960,
          960,
          960,
          960,
          960,
          960,
          960,
          960,
          960,
          960,
          960,
          960,
          960,
          960,
          960,
          960,
          960,
          960,
          960,
          960,
          960,
          960,
          960,
          960,
          960,
          960,
          960,
          960,
          960,
          960,
          960,
          960,
          960,
          960,
          960,
          960,
          960,
          960,
          960,
          960,
          960,
          960,
          960,
          960,
          960,
          960,
          960,
          960,
          960,
          960,
          960,
          960,
          960,
          960
         ],
         "xaxis": "x",
         "yaxis": "y"
        },
        {
         "histnorm": "probability density",
         "marker": {
          "color": "red"
         },
         "name": "KNN h (H1)",
         "nbinsx": 30,
         "opacity": 0.7,
         "type": "histogram",
         "x": [
          960,
          960,
          960,
          960,
          960,
          960,
          960,
          960,
          960,
          960,
          960,
          960,
          960,
          960,
          960,
          960,
          960,
          960,
          960,
          960,
          960,
          960,
          960,
          960,
          960,
          960,
          960,
          960,
          960,
          960,
          960,
          960,
          960,
          960,
          960,
          960,
          960,
          960,
          960,
          960,
          960,
          960,
          960,
          960,
          960,
          960,
          960,
          960,
          960,
          960,
          960,
          960,
          960,
          960,
          960,
          960,
          960,
          960,
          960,
          960,
          960,
          960,
          960,
          960,
          960,
          960,
          960,
          960,
          960,
          960,
          960,
          960,
          960,
          960,
          960,
          960,
          960,
          960,
          960,
          960,
          960,
          960,
          960,
          960,
          960,
          960,
          960,
          960,
          960,
          960,
          960,
          960,
          960,
          960,
          960,
          960,
          960,
          960,
          960,
          960,
          960,
          960,
          960,
          960,
          960,
          960,
          960,
          960,
          960,
          960,
          960,
          960,
          960,
          960,
          960,
          960,
          960,
          960,
          960,
          960,
          960,
          960,
          960,
          960,
          960,
          960,
          960,
          960,
          960,
          960,
          960,
          960,
          960,
          960,
          960,
          960,
          960,
          960,
          960,
          960,
          960,
          960,
          960,
          960,
          960,
          960,
          960,
          960,
          960,
          960,
          960,
          960,
          960,
          960,
          960,
          960,
          960,
          960,
          960,
          960,
          960,
          960,
          960,
          960,
          960,
          960,
          960,
          960,
          960,
          960,
          960,
          960,
          960,
          960,
          960,
          960,
          960,
          960,
          960,
          960,
          960,
          960,
          960,
          960,
          960,
          960,
          960,
          960,
          960,
          960,
          960,
          960,
          960,
          960,
          960,
          960,
          960,
          960,
          960,
          960,
          960,
          960,
          960,
          960,
          960,
          960,
          960,
          960,
          960,
          960,
          960,
          960,
          960,
          960,
          960,
          960,
          960,
          960,
          960,
          960,
          960,
          960,
          960,
          960,
          960,
          960,
          960,
          960,
          960,
          960,
          960,
          960,
          960,
          960,
          960,
          960,
          960,
          960,
          960,
          960,
          960,
          960,
          960,
          960,
          960,
          960,
          960,
          960,
          960,
          960,
          960,
          960,
          960,
          960,
          960,
          960,
          960,
          960,
          960,
          960,
          960,
          960,
          960,
          960,
          960,
          960,
          960,
          960,
          960,
          960,
          960,
          960,
          960,
          960,
          960,
          960,
          960,
          960,
          960,
          960,
          960,
          960,
          960,
          960,
          960,
          960,
          960,
          960,
          960,
          960,
          960,
          960,
          960,
          960,
          960,
          960,
          960,
          960,
          960,
          960,
          960,
          960,
          960,
          960,
          960,
          960,
          960,
          960,
          960,
          960,
          960,
          960,
          960,
          960,
          960,
          960,
          960,
          960,
          960,
          960,
          960,
          960,
          960,
          960,
          960,
          960,
          960,
          960,
          960,
          960,
          960,
          960,
          960,
          960,
          960,
          960,
          960,
          960,
          960,
          960,
          960,
          960,
          960,
          960,
          960,
          960,
          960,
          960,
          960,
          960,
          960,
          960,
          960,
          960,
          960,
          960,
          960,
          960,
          960,
          960,
          960,
          960,
          960,
          960,
          960,
          960,
          960,
          960,
          960,
          960,
          960,
          960,
          960,
          960,
          960,
          960,
          960,
          960,
          960,
          960,
          960,
          960,
          960,
          960,
          960,
          960,
          960,
          960,
          960,
          960,
          960,
          960,
          960,
          960,
          960,
          960,
          960,
          960,
          960,
          960,
          960,
          960,
          960,
          960,
          960,
          960,
          960,
          960,
          960,
          960,
          960,
          960,
          960,
          960,
          960,
          960,
          960,
          960,
          960,
          960,
          960,
          960,
          960,
          960,
          960,
          960,
          960,
          960,
          960,
          960,
          960,
          960,
          960,
          960,
          960,
          960,
          960,
          960,
          960,
          960,
          960,
          960,
          960,
          960,
          960,
          960,
          960,
          960,
          960,
          960,
          960,
          960,
          960,
          960,
          960,
          960,
          960,
          960,
          960,
          960,
          960,
          960,
          960,
          960,
          960,
          960,
          960,
          960,
          960,
          960,
          960,
          960,
          960,
          960,
          960,
          960,
          960,
          960,
          960,
          960,
          960,
          960,
          960,
          960,
          960,
          960,
          960,
          960,
          960,
          960,
          960,
          960,
          960,
          960,
          960,
          960,
          960,
          960,
          960,
          960
         ],
         "xaxis": "x",
         "yaxis": "y"
        },
        {
         "histnorm": "probability density",
         "marker": {
          "color": "lightblue"
         },
         "name": "Distance f (H0)",
         "nbinsx": 30,
         "opacity": 0.7,
         "showlegend": false,
         "type": "histogram",
         "x": [
          12,
          10,
          10,
          9,
          9,
          9,
          10,
          9,
          9,
          10,
          11,
          10,
          9,
          10,
          8,
          8,
          10,
          9,
          9,
          10,
          9,
          10,
          9,
          9,
          10,
          9,
          10,
          9,
          8,
          10,
          10,
          9,
          10,
          9,
          8,
          9,
          10,
          9,
          10,
          9,
          11,
          10,
          9,
          10,
          10,
          9,
          10,
          9,
          11,
          9,
          9,
          8,
          10,
          11,
          9,
          10,
          9,
          9,
          11,
          9,
          9,
          11,
          9,
          9,
          9,
          10,
          8,
          10,
          11,
          11,
          9,
          10,
          10,
          9,
          9,
          10,
          9,
          11,
          10,
          9,
          9,
          9,
          8,
          9,
          10,
          8,
          8,
          9,
          9,
          9,
          11,
          9,
          9,
          10,
          10,
          10,
          10,
          9,
          9,
          9,
          10,
          10,
          9,
          9,
          10,
          10,
          8,
          9,
          9,
          8,
          9,
          9,
          10,
          8,
          10,
          9,
          8,
          9,
          10,
          10,
          8,
          9,
          10,
          9,
          9,
          8,
          10,
          11,
          11,
          8,
          10,
          10,
          9,
          9,
          10,
          9,
          10,
          11,
          10,
          9,
          11,
          9,
          9,
          9,
          9,
          10,
          11,
          10,
          10,
          10,
          9,
          11,
          8,
          9,
          8,
          10,
          9,
          10,
          9,
          9,
          10,
          10,
          10,
          10,
          10,
          9,
          9,
          9,
          7,
          9,
          9,
          10,
          10,
          9,
          10,
          9,
          8,
          11,
          8,
          11,
          8,
          10,
          10,
          10,
          9,
          8,
          9,
          8,
          10,
          9,
          9,
          9,
          9,
          8,
          9,
          9,
          9,
          9,
          10,
          9,
          9,
          8,
          8,
          9,
          9,
          9,
          9,
          9,
          9,
          8,
          9,
          10,
          9,
          10,
          9,
          9,
          9,
          9,
          10,
          10,
          9,
          9,
          9,
          10,
          8,
          11,
          10,
          11,
          11,
          9,
          10,
          10,
          8,
          10,
          9,
          11,
          10,
          10,
          9,
          10,
          9,
          8,
          10,
          10,
          10,
          9,
          10,
          8,
          9,
          10,
          9,
          11,
          8,
          10,
          9,
          9,
          9,
          8,
          12,
          10,
          8,
          9,
          8,
          8,
          8,
          9,
          8,
          9,
          10,
          9,
          9,
          10,
          9,
          9,
          11,
          10,
          9,
          9,
          10,
          9,
          10,
          10,
          12,
          10,
          10,
          10,
          9,
          11,
          9,
          8,
          9,
          10,
          10,
          9,
          10,
          9,
          8,
          10,
          9,
          9,
          9,
          9,
          9,
          9,
          11,
          9,
          9,
          10,
          9,
          8,
          9,
          8,
          10,
          9,
          9,
          10,
          10,
          8,
          10,
          9,
          9,
          9,
          10,
          10,
          10,
          8,
          9,
          8,
          10,
          9,
          9,
          9,
          9,
          11,
          8,
          9,
          9,
          8,
          11,
          9,
          9,
          8,
          11,
          9,
          9,
          10,
          8,
          10,
          9,
          9,
          10,
          9,
          9,
          9,
          8,
          9,
          9,
          8,
          10,
          10,
          9,
          8,
          9,
          10,
          9,
          10,
          10,
          10,
          9,
          10,
          11,
          9,
          9,
          8,
          9,
          9,
          10,
          9,
          9,
          9,
          8,
          10,
          9,
          9,
          9,
          9,
          10,
          11,
          9,
          9,
          10,
          9,
          9,
          9,
          9,
          9,
          10,
          9,
          9,
          9,
          10,
          9,
          9,
          10,
          11,
          8,
          8,
          9,
          8,
          10,
          10,
          9,
          10,
          10,
          9,
          10,
          8,
          9,
          8,
          10,
          9,
          8,
          10,
          10,
          10,
          8,
          9,
          9,
          8,
          10,
          9,
          9,
          11,
          10,
          9,
          10,
          10,
          10,
          11,
          9,
          9,
          9,
          9,
          10,
          11,
          11,
          9,
          10,
          8,
          10,
          8,
          9,
          9,
          9,
          9,
          8,
          10,
          9,
          8,
          9,
          11,
          10,
          8,
          10,
          9,
          10,
          10,
          9,
          9,
          8,
          9,
          9,
          10,
          10,
          9,
          9,
          11,
          11,
          9,
          8,
          10,
          9,
          10,
          8,
          10,
          9,
          9,
          9,
          7,
          10,
          10,
          8,
          9,
          9,
          11,
          10,
          9,
          8,
          9,
          9
         ],
         "xaxis": "x2",
         "yaxis": "y2"
        },
        {
         "histnorm": "probability density",
         "marker": {
          "color": "orange"
         },
         "name": "Distance h (H1)",
         "nbinsx": 30,
         "opacity": 0.7,
         "showlegend": false,
         "type": "histogram",
         "x": [
          12,
          14,
          13,
          13,
          14,
          12,
          15,
          16,
          13,
          13,
          16,
          16,
          16,
          15,
          14,
          14,
          16,
          15,
          14,
          13,
          13,
          15,
          14,
          11,
          13,
          14,
          12,
          14,
          13,
          16,
          15,
          15,
          15,
          11,
          14,
          12,
          15,
          13,
          15,
          16,
          13,
          15,
          13,
          11,
          13,
          14,
          14,
          14,
          14,
          14,
          17,
          13,
          12,
          23,
          13,
          12,
          12,
          16,
          16,
          14,
          14,
          16,
          12,
          13,
          14,
          12,
          16,
          12,
          16,
          15,
          12,
          13,
          14,
          12,
          11,
          15,
          15,
          15,
          13,
          13,
          17,
          12,
          12,
          14,
          14,
          12,
          14,
          12,
          13,
          15,
          11,
          10,
          14,
          16,
          15,
          12,
          13,
          14,
          15,
          13,
          15,
          13,
          13,
          13,
          14,
          10,
          15,
          12,
          12,
          15,
          13,
          16,
          14,
          15,
          15,
          13,
          14,
          15,
          15,
          10,
          16,
          13,
          14,
          15,
          15,
          14,
          14,
          15,
          11,
          16,
          13,
          16,
          14,
          15,
          13,
          13,
          15,
          12,
          12,
          16,
          13,
          18,
          17,
          13,
          15,
          14,
          13,
          14,
          15,
          14,
          12,
          15,
          13,
          13,
          12,
          16,
          16,
          15,
          18,
          14,
          16,
          13,
          18,
          14,
          16,
          14,
          15,
          14,
          13,
          15,
          15,
          12,
          14,
          14,
          16,
          16,
          14,
          14,
          14,
          8,
          16,
          16,
          17,
          15,
          13,
          13,
          14,
          13,
          15,
          12,
          13,
          15,
          14,
          12,
          16,
          15,
          11,
          15,
          16,
          11,
          14,
          17,
          13,
          11,
          16,
          14,
          13,
          14,
          12,
          13,
          15,
          13,
          13,
          14,
          13,
          13,
          11,
          13,
          15,
          13,
          17,
          14,
          15,
          14,
          17,
          13,
          12,
          14,
          12,
          15,
          13,
          13,
          15,
          15,
          13,
          15,
          13,
          15,
          13,
          12,
          12,
          14,
          15,
          14,
          15,
          14,
          13,
          12,
          16,
          16,
          13,
          11,
          12,
          17,
          11,
          15,
          15,
          14,
          13,
          14,
          13,
          14,
          13,
          16,
          14,
          12,
          13,
          14,
          13,
          14,
          11,
          15,
          15,
          14,
          16,
          13,
          17,
          15,
          13,
          12,
          13,
          14,
          13,
          12,
          18,
          13,
          15,
          13,
          14,
          13,
          15,
          15,
          11,
          15,
          11,
          14,
          15,
          14,
          15,
          12,
          12,
          12,
          14,
          16,
          14,
          16,
          14,
          14,
          15,
          12,
          13,
          18,
          17,
          15,
          15,
          14,
          12,
          16,
          16,
          11,
          14,
          13,
          12,
          13,
          13,
          13,
          13,
          14,
          15,
          13,
          16,
          11,
          14,
          12,
          14,
          16,
          14,
          12,
          15,
          15,
          12,
          16,
          14,
          16,
          12,
          15,
          11,
          13,
          12,
          14,
          17,
          16,
          15,
          14,
          14,
          15,
          14,
          14,
          13,
          11,
          15,
          11,
          17,
          14,
          12,
          18,
          17,
          12,
          14,
          16,
          12,
          11,
          14,
          14,
          14,
          17,
          12,
          11,
          12,
          16,
          15,
          16,
          17,
          14,
          12,
          14,
          12,
          15,
          15,
          15,
          11,
          14,
          15,
          15,
          14,
          13,
          13,
          11,
          14,
          13,
          15,
          12,
          13,
          16,
          16,
          16,
          14,
          10,
          12,
          14,
          16,
          12,
          16,
          15,
          11,
          12,
          16,
          14,
          13,
          14,
          11,
          16,
          11,
          14,
          14,
          11,
          15,
          11,
          15,
          13,
          14,
          15,
          15,
          15,
          14,
          15,
          14,
          14,
          14,
          14,
          14,
          12,
          11,
          13,
          16,
          15,
          14,
          11,
          14,
          16,
          12,
          15,
          16,
          11,
          14,
          16,
          14,
          15,
          13,
          15,
          14,
          14,
          14,
          11,
          14,
          13,
          13,
          11,
          16,
          14,
          11,
          14,
          15,
          13,
          14,
          11,
          15,
          14,
          18,
          18,
          17,
          14,
          13,
          14,
          17,
          15,
          16,
          16,
          12,
          15,
          15,
          14,
          13,
          14,
          13,
          16,
          12,
          15,
          15,
          17
         ],
         "xaxis": "x2",
         "yaxis": "y2"
        },
        {
         "line": {
          "color": "purple",
          "width": 2
         },
         "marker": {
          "size": 4
         },
         "mode": "lines+markers",
         "name": "KNN ROC",
         "showlegend": false,
         "type": "scatter",
         "x": [
          0,
          0,
          0,
          0,
          0,
          0,
          0,
          0,
          0,
          0,
          0,
          0,
          0,
          0,
          0,
          0,
          0,
          0,
          0,
          0,
          0,
          0,
          0,
          0,
          0,
          0,
          0,
          0,
          0,
          0,
          0,
          0,
          0,
          0,
          0,
          0,
          0,
          0,
          0,
          0,
          0,
          0,
          0,
          0,
          0,
          0,
          0,
          0,
          0,
          0
         ],
         "xaxis": "x3",
         "y": [
          0,
          0,
          0,
          0,
          0,
          0,
          0,
          0,
          0,
          0,
          0,
          0,
          0,
          0,
          0,
          0,
          0,
          0,
          0,
          0,
          0,
          0,
          0,
          0,
          0,
          0,
          0,
          0,
          0,
          0,
          0,
          0,
          0,
          0,
          0,
          0,
          0,
          0,
          0,
          0,
          0,
          0,
          0,
          0,
          0,
          0,
          0,
          0,
          0,
          0
         ],
         "yaxis": "y3"
        },
        {
         "marker": {
          "color": "red",
          "size": 12,
          "symbol": "star"
         },
         "mode": "markers",
         "name": "α=0.05",
         "showlegend": false,
         "type": "scatter",
         "x": [
          0
         ],
         "xaxis": "x3",
         "y": [
          0
         ],
         "yaxis": "y3"
        },
        {
         "line": {
          "color": "darkgreen",
          "width": 2
         },
         "marker": {
          "size": 4
         },
         "mode": "lines+markers",
         "name": "Distance ROC",
         "showlegend": false,
         "type": "scatter",
         "x": [
          0.996,
          0.996,
          0.996,
          0.996,
          0.996,
          0.996,
          0.996,
          0.996,
          0.996,
          0.996,
          0.852,
          0.852,
          0.852,
          0.852,
          0.852,
          0.852,
          0.852,
          0.852,
          0.852,
          0.852,
          0.396,
          0.396,
          0.396,
          0.396,
          0.396,
          0.396,
          0.396,
          0.396,
          0.396,
          0.396,
          0.086,
          0.086,
          0.086,
          0.086,
          0.086,
          0.086,
          0.086,
          0.086,
          0.086,
          0.086,
          0.006,
          0.006,
          0.006,
          0.006,
          0.006,
          0.006,
          0.006,
          0.006,
          0.006,
          0
         ],
         "xaxis": "x4",
         "y": [
          1,
          1,
          1,
          1,
          1,
          1,
          1,
          1,
          1,
          1,
          0.998,
          0.998,
          0.998,
          0.998,
          0.998,
          0.998,
          0.998,
          0.998,
          0.998,
          0.998,
          0.998,
          0.998,
          0.998,
          0.998,
          0.998,
          0.998,
          0.998,
          0.998,
          0.998,
          0.998,
          0.99,
          0.99,
          0.99,
          0.99,
          0.99,
          0.99,
          0.99,
          0.99,
          0.99,
          0.99,
          0.918,
          0.918,
          0.918,
          0.918,
          0.918,
          0.918,
          0.918,
          0.918,
          0.918,
          0.794
         ],
         "yaxis": "y4"
        },
        {
         "marker": {
          "color": "red",
          "size": 12,
          "symbol": "star"
         },
         "mode": "markers",
         "name": "α=0.05",
         "showlegend": false,
         "type": "scatter",
         "x": [
          0.006
         ],
         "xaxis": "x4",
         "y": [
          0.918
         ],
         "yaxis": "y4"
        }
       ],
       "layout": {
        "annotations": [
         {
          "font": {
           "size": 16
          },
          "showarrow": false,
          "text": "Количество треугольников: Распределения и трешолд",
          "x": 0.225,
          "xanchor": "center",
          "xref": "paper",
          "y": 1,
          "yanchor": "bottom",
          "yref": "paper"
         },
         {
          "font": {
           "size": 16
          },
          "showarrow": false,
          "text": "Минимальное кликовое покрытие: Распределения и трешолд",
          "x": 0.775,
          "xanchor": "center",
          "xref": "paper",
          "y": 1,
          "yanchor": "bottom",
          "yref": "paper"
         },
         {
          "font": {
           "size": 16
          },
          "showarrow": false,
          "text": "KNN: ROC-подобная кривая",
          "x": 0.225,
          "xanchor": "center",
          "xref": "paper",
          "y": 0.44,
          "yanchor": "bottom",
          "yref": "paper"
         },
         {
          "font": {
           "size": 16
          },
          "showarrow": false,
          "text": "Distance: ROC-подобная кривая",
          "x": 0.775,
          "xanchor": "center",
          "xref": "paper",
          "y": 0.44,
          "yanchor": "bottom",
          "yref": "paper"
         },
         {
          "showarrow": false,
          "text": "Трешолд: 960.000",
          "x": 960,
          "xanchor": "left",
          "xref": "x",
          "y": 1,
          "yanchor": "top",
          "yref": "y domain"
         },
         {
          "showarrow": false,
          "text": "Трешолд: 11.000",
          "x": 11,
          "xanchor": "left",
          "xref": "x2",
          "y": 1,
          "yanchor": "top",
          "yref": "y2 domain"
         }
        ],
        "height": 800,
        "legend": {
         "x": 0.01,
         "xanchor": "left",
         "y": 0.98,
         "yanchor": "top"
        },
        "shapes": [
         {
          "line": {
           "color": "green",
           "dash": "dash",
           "width": 3
          },
          "type": "line",
          "x0": 960,
          "x1": 960,
          "xref": "x",
          "y0": 0,
          "y1": 1,
          "yref": "y domain"
         },
         {
          "line": {
           "color": "green",
           "dash": "dash",
           "width": 3
          },
          "type": "line",
          "x0": 11,
          "x1": 11,
          "xref": "x2",
          "y0": 0,
          "y1": 1,
          "yref": "y2 domain"
         }
        ],
        "showlegend": true,
        "template": {
         "data": {
          "bar": [
           {
            "error_x": {
             "color": "#2a3f5f"
            },
            "error_y": {
             "color": "#2a3f5f"
            },
            "marker": {
             "line": {
              "color": "#E5ECF6",
              "width": 0.5
             },
             "pattern": {
              "fillmode": "overlay",
              "size": 10,
              "solidity": 0.2
             }
            },
            "type": "bar"
           }
          ],
          "barpolar": [
           {
            "marker": {
             "line": {
              "color": "#E5ECF6",
              "width": 0.5
             },
             "pattern": {
              "fillmode": "overlay",
              "size": 10,
              "solidity": 0.2
             }
            },
            "type": "barpolar"
           }
          ],
          "carpet": [
           {
            "aaxis": {
             "endlinecolor": "#2a3f5f",
             "gridcolor": "white",
             "linecolor": "white",
             "minorgridcolor": "white",
             "startlinecolor": "#2a3f5f"
            },
            "baxis": {
             "endlinecolor": "#2a3f5f",
             "gridcolor": "white",
             "linecolor": "white",
             "minorgridcolor": "white",
             "startlinecolor": "#2a3f5f"
            },
            "type": "carpet"
           }
          ],
          "choropleth": [
           {
            "colorbar": {
             "outlinewidth": 0,
             "ticks": ""
            },
            "type": "choropleth"
           }
          ],
          "contour": [
           {
            "colorbar": {
             "outlinewidth": 0,
             "ticks": ""
            },
            "colorscale": [
             [
              0,
              "#0d0887"
             ],
             [
              0.1111111111111111,
              "#46039f"
             ],
             [
              0.2222222222222222,
              "#7201a8"
             ],
             [
              0.3333333333333333,
              "#9c179e"
             ],
             [
              0.4444444444444444,
              "#bd3786"
             ],
             [
              0.5555555555555556,
              "#d8576b"
             ],
             [
              0.6666666666666666,
              "#ed7953"
             ],
             [
              0.7777777777777778,
              "#fb9f3a"
             ],
             [
              0.8888888888888888,
              "#fdca26"
             ],
             [
              1,
              "#f0f921"
             ]
            ],
            "type": "contour"
           }
          ],
          "contourcarpet": [
           {
            "colorbar": {
             "outlinewidth": 0,
             "ticks": ""
            },
            "type": "contourcarpet"
           }
          ],
          "heatmap": [
           {
            "colorbar": {
             "outlinewidth": 0,
             "ticks": ""
            },
            "colorscale": [
             [
              0,
              "#0d0887"
             ],
             [
              0.1111111111111111,
              "#46039f"
             ],
             [
              0.2222222222222222,
              "#7201a8"
             ],
             [
              0.3333333333333333,
              "#9c179e"
             ],
             [
              0.4444444444444444,
              "#bd3786"
             ],
             [
              0.5555555555555556,
              "#d8576b"
             ],
             [
              0.6666666666666666,
              "#ed7953"
             ],
             [
              0.7777777777777778,
              "#fb9f3a"
             ],
             [
              0.8888888888888888,
              "#fdca26"
             ],
             [
              1,
              "#f0f921"
             ]
            ],
            "type": "heatmap"
           }
          ],
          "histogram": [
           {
            "marker": {
             "pattern": {
              "fillmode": "overlay",
              "size": 10,
              "solidity": 0.2
             }
            },
            "type": "histogram"
           }
          ],
          "histogram2d": [
           {
            "colorbar": {
             "outlinewidth": 0,
             "ticks": ""
            },
            "colorscale": [
             [
              0,
              "#0d0887"
             ],
             [
              0.1111111111111111,
              "#46039f"
             ],
             [
              0.2222222222222222,
              "#7201a8"
             ],
             [
              0.3333333333333333,
              "#9c179e"
             ],
             [
              0.4444444444444444,
              "#bd3786"
             ],
             [
              0.5555555555555556,
              "#d8576b"
             ],
             [
              0.6666666666666666,
              "#ed7953"
             ],
             [
              0.7777777777777778,
              "#fb9f3a"
             ],
             [
              0.8888888888888888,
              "#fdca26"
             ],
             [
              1,
              "#f0f921"
             ]
            ],
            "type": "histogram2d"
           }
          ],
          "histogram2dcontour": [
           {
            "colorbar": {
             "outlinewidth": 0,
             "ticks": ""
            },
            "colorscale": [
             [
              0,
              "#0d0887"
             ],
             [
              0.1111111111111111,
              "#46039f"
             ],
             [
              0.2222222222222222,
              "#7201a8"
             ],
             [
              0.3333333333333333,
              "#9c179e"
             ],
             [
              0.4444444444444444,
              "#bd3786"
             ],
             [
              0.5555555555555556,
              "#d8576b"
             ],
             [
              0.6666666666666666,
              "#ed7953"
             ],
             [
              0.7777777777777778,
              "#fb9f3a"
             ],
             [
              0.8888888888888888,
              "#fdca26"
             ],
             [
              1,
              "#f0f921"
             ]
            ],
            "type": "histogram2dcontour"
           }
          ],
          "mesh3d": [
           {
            "colorbar": {
             "outlinewidth": 0,
             "ticks": ""
            },
            "type": "mesh3d"
           }
          ],
          "parcoords": [
           {
            "line": {
             "colorbar": {
              "outlinewidth": 0,
              "ticks": ""
             }
            },
            "type": "parcoords"
           }
          ],
          "pie": [
           {
            "automargin": true,
            "type": "pie"
           }
          ],
          "scatter": [
           {
            "fillpattern": {
             "fillmode": "overlay",
             "size": 10,
             "solidity": 0.2
            },
            "type": "scatter"
           }
          ],
          "scatter3d": [
           {
            "line": {
             "colorbar": {
              "outlinewidth": 0,
              "ticks": ""
             }
            },
            "marker": {
             "colorbar": {
              "outlinewidth": 0,
              "ticks": ""
             }
            },
            "type": "scatter3d"
           }
          ],
          "scattercarpet": [
           {
            "marker": {
             "colorbar": {
              "outlinewidth": 0,
              "ticks": ""
             }
            },
            "type": "scattercarpet"
           }
          ],
          "scattergeo": [
           {
            "marker": {
             "colorbar": {
              "outlinewidth": 0,
              "ticks": ""
             }
            },
            "type": "scattergeo"
           }
          ],
          "scattergl": [
           {
            "marker": {
             "colorbar": {
              "outlinewidth": 0,
              "ticks": ""
             }
            },
            "type": "scattergl"
           }
          ],
          "scattermap": [
           {
            "marker": {
             "colorbar": {
              "outlinewidth": 0,
              "ticks": ""
             }
            },
            "type": "scattermap"
           }
          ],
          "scattermapbox": [
           {
            "marker": {
             "colorbar": {
              "outlinewidth": 0,
              "ticks": ""
             }
            },
            "type": "scattermapbox"
           }
          ],
          "scatterpolar": [
           {
            "marker": {
             "colorbar": {
              "outlinewidth": 0,
              "ticks": ""
             }
            },
            "type": "scatterpolar"
           }
          ],
          "scatterpolargl": [
           {
            "marker": {
             "colorbar": {
              "outlinewidth": 0,
              "ticks": ""
             }
            },
            "type": "scatterpolargl"
           }
          ],
          "scatterternary": [
           {
            "marker": {
             "colorbar": {
              "outlinewidth": 0,
              "ticks": ""
             }
            },
            "type": "scatterternary"
           }
          ],
          "surface": [
           {
            "colorbar": {
             "outlinewidth": 0,
             "ticks": ""
            },
            "colorscale": [
             [
              0,
              "#0d0887"
             ],
             [
              0.1111111111111111,
              "#46039f"
             ],
             [
              0.2222222222222222,
              "#7201a8"
             ],
             [
              0.3333333333333333,
              "#9c179e"
             ],
             [
              0.4444444444444444,
              "#bd3786"
             ],
             [
              0.5555555555555556,
              "#d8576b"
             ],
             [
              0.6666666666666666,
              "#ed7953"
             ],
             [
              0.7777777777777778,
              "#fb9f3a"
             ],
             [
              0.8888888888888888,
              "#fdca26"
             ],
             [
              1,
              "#f0f921"
             ]
            ],
            "type": "surface"
           }
          ],
          "table": [
           {
            "cells": {
             "fill": {
              "color": "#EBF0F8"
             },
             "line": {
              "color": "white"
             }
            },
            "header": {
             "fill": {
              "color": "#C8D4E3"
             },
             "line": {
              "color": "white"
             }
            },
            "type": "table"
           }
          ]
         },
         "layout": {
          "annotationdefaults": {
           "arrowcolor": "#2a3f5f",
           "arrowhead": 0,
           "arrowwidth": 1
          },
          "autotypenumbers": "strict",
          "coloraxis": {
           "colorbar": {
            "outlinewidth": 0,
            "ticks": ""
           }
          },
          "colorscale": {
           "diverging": [
            [
             0,
             "#8e0152"
            ],
            [
             0.1,
             "#c51b7d"
            ],
            [
             0.2,
             "#de77ae"
            ],
            [
             0.3,
             "#f1b6da"
            ],
            [
             0.4,
             "#fde0ef"
            ],
            [
             0.5,
             "#f7f7f7"
            ],
            [
             0.6,
             "#e6f5d0"
            ],
            [
             0.7,
             "#b8e186"
            ],
            [
             0.8,
             "#7fbc41"
            ],
            [
             0.9,
             "#4d9221"
            ],
            [
             1,
             "#276419"
            ]
           ],
           "sequential": [
            [
             0,
             "#0d0887"
            ],
            [
             0.1111111111111111,
             "#46039f"
            ],
            [
             0.2222222222222222,
             "#7201a8"
            ],
            [
             0.3333333333333333,
             "#9c179e"
            ],
            [
             0.4444444444444444,
             "#bd3786"
            ],
            [
             0.5555555555555556,
             "#d8576b"
            ],
            [
             0.6666666666666666,
             "#ed7953"
            ],
            [
             0.7777777777777778,
             "#fb9f3a"
            ],
            [
             0.8888888888888888,
             "#fdca26"
            ],
            [
             1,
             "#f0f921"
            ]
           ],
           "sequentialminus": [
            [
             0,
             "#0d0887"
            ],
            [
             0.1111111111111111,
             "#46039f"
            ],
            [
             0.2222222222222222,
             "#7201a8"
            ],
            [
             0.3333333333333333,
             "#9c179e"
            ],
            [
             0.4444444444444444,
             "#bd3786"
            ],
            [
             0.5555555555555556,
             "#d8576b"
            ],
            [
             0.6666666666666666,
             "#ed7953"
            ],
            [
             0.7777777777777778,
             "#fb9f3a"
            ],
            [
             0.8888888888888888,
             "#fdca26"
            ],
            [
             1,
             "#f0f921"
            ]
           ]
          },
          "colorway": [
           "#636efa",
           "#EF553B",
           "#00cc96",
           "#ab63fa",
           "#FFA15A",
           "#19d3f3",
           "#FF6692",
           "#B6E880",
           "#FF97FF",
           "#FECB52"
          ],
          "font": {
           "color": "#2a3f5f"
          },
          "geo": {
           "bgcolor": "white",
           "lakecolor": "white",
           "landcolor": "#E5ECF6",
           "showlakes": true,
           "showland": true,
           "subunitcolor": "white"
          },
          "hoverlabel": {
           "align": "left"
          },
          "hovermode": "closest",
          "mapbox": {
           "style": "light"
          },
          "paper_bgcolor": "white",
          "plot_bgcolor": "#E5ECF6",
          "polar": {
           "angularaxis": {
            "gridcolor": "white",
            "linecolor": "white",
            "ticks": ""
           },
           "bgcolor": "#E5ECF6",
           "radialaxis": {
            "gridcolor": "white",
            "linecolor": "white",
            "ticks": ""
           }
          },
          "scene": {
           "xaxis": {
            "backgroundcolor": "#E5ECF6",
            "gridcolor": "white",
            "gridwidth": 2,
            "linecolor": "white",
            "showbackground": true,
            "ticks": "",
            "zerolinecolor": "white"
           },
           "yaxis": {
            "backgroundcolor": "#E5ECF6",
            "gridcolor": "white",
            "gridwidth": 2,
            "linecolor": "white",
            "showbackground": true,
            "ticks": "",
            "zerolinecolor": "white"
           },
           "zaxis": {
            "backgroundcolor": "#E5ECF6",
            "gridcolor": "white",
            "gridwidth": 2,
            "linecolor": "white",
            "showbackground": true,
            "ticks": "",
            "zerolinecolor": "white"
           }
          },
          "shapedefaults": {
           "line": {
            "color": "#2a3f5f"
           }
          },
          "ternary": {
           "aaxis": {
            "gridcolor": "white",
            "linecolor": "white",
            "ticks": ""
           },
           "baxis": {
            "gridcolor": "white",
            "linecolor": "white",
            "ticks": ""
           },
           "bgcolor": "#E5ECF6",
           "caxis": {
            "gridcolor": "white",
            "linecolor": "white",
            "ticks": ""
           }
          },
          "title": {
           "x": 0.05
          },
          "xaxis": {
           "automargin": true,
           "gridcolor": "white",
           "linecolor": "white",
           "ticks": "",
           "title": {
            "standoff": 15
           },
           "zerolinecolor": "white",
           "zerolinewidth": 2
          },
          "yaxis": {
           "automargin": true,
           "gridcolor": "white",
           "linecolor": "white",
           "ticks": "",
           "title": {
            "standoff": 15
           },
           "zerolinecolor": "white",
           "zerolinewidth": 2
          }
         }
        },
        "title": {
         "text": "Анализ статистических тестов с трешолдом (α=0.05, n=100, iter=500)",
         "x": 0.5
        },
        "width": 1300,
        "xaxis": {
         "anchor": "y",
         "domain": [
          0,
          0.45
         ],
         "title": {
          "text": "Значение метрики"
         }
        },
        "xaxis2": {
         "anchor": "y2",
         "domain": [
          0.55,
          1
         ],
         "title": {
          "text": "Значение метрики"
         }
        },
        "xaxis3": {
         "anchor": "y3",
         "domain": [
          0,
          0.45
         ],
         "title": {
          "text": "Ложноположительная частота (FPR)"
         }
        },
        "xaxis4": {
         "anchor": "y4",
         "domain": [
          0.55,
          1
         ],
         "title": {
          "text": "Ложноположительная частота (FPR)"
         }
        },
        "yaxis": {
         "anchor": "x",
         "domain": [
          0.56,
          1
         ],
         "title": {
          "text": "Плотность вероятности"
         }
        },
        "yaxis2": {
         "anchor": "x2",
         "domain": [
          0.56,
          1
         ],
         "title": {
          "text": "Плотность вероятности"
         }
        },
        "yaxis3": {
         "anchor": "x3",
         "domain": [
          0,
          0.44
         ],
         "title": {
          "text": "Мощность (TPR)"
         }
        },
        "yaxis4": {
         "anchor": "x4",
         "domain": [
          0,
          0.44
         ],
         "title": {
          "text": "Мощность (TPR)"
         }
        }
       }
      }
     },
     "metadata": {},
     "output_type": "display_data"
    }
   ],
   "source": [
    "fig = make_subplots(\n",
    "    rows=2,\n",
    "    cols=2,\n",
    "    subplot_titles=(\n",
    "        \"Количество треугольников: Распределения и трешолд\",\n",
    "        \"Минимальное кликовое покрытие: Распределения и трешолд\",\n",
    "        \"KNN: ROC-подобная кривая\",\n",
    "        \"Distance: ROC-подобная кривая\",\n",
    "    ),\n",
    "    specs=[\n",
    "        [{\"secondary_y\": False}, {\"secondary_y\": False}],\n",
    "        [{\"secondary_y\": False}, {\"secondary_y\": False}],\n",
    "    ],\n",
    "    vertical_spacing=0.12,\n",
    "    horizontal_spacing=0.1,\n",
    ")\n",
    "\n",
    "fig.add_trace(\n",
    "    go.Histogram(\n",
    "        x=knn_f,\n",
    "        name=\"KNN f (H0)\",\n",
    "        opacity=0.7,\n",
    "        nbinsx=30,\n",
    "        marker_color=\"blue\",\n",
    "        histnorm=\"probability density\",\n",
    "    ),\n",
    "    row=1,\n",
    "    col=1,\n",
    ")\n",
    "\n",
    "fig.add_trace(\n",
    "    go.Histogram(\n",
    "        x=knn_h,\n",
    "        name=\"KNN h (H1)\",\n",
    "        opacity=0.7,\n",
    "        nbinsx=30,\n",
    "        marker_color=\"red\",\n",
    "        histnorm=\"probability density\",\n",
    "    ),\n",
    "    row=1,\n",
    "    col=1,\n",
    ")\n",
    "\n",
    "fig.add_vline(\n",
    "    x=knn_thr,\n",
    "    line=dict(color=\"green\", width=3, dash=\"dash\"),\n",
    "    annotation_text=f\"Трешолд: {knn_thr:.3f}\",\n",
    "    row=1,\n",
    "    col=1,\n",
    ")\n",
    "\n",
    "fig.add_trace(\n",
    "    go.Histogram(\n",
    "        x=dist_f,\n",
    "        name=\"Distance f (H0)\",\n",
    "        opacity=0.7,\n",
    "        nbinsx=30,\n",
    "        marker_color=\"lightblue\",\n",
    "        histnorm=\"probability density\",\n",
    "        showlegend=False,\n",
    "    ),\n",
    "    row=1,\n",
    "    col=2,\n",
    ")\n",
    "\n",
    "fig.add_trace(\n",
    "    go.Histogram(\n",
    "        x=dist_h,\n",
    "        name=\"Distance h (H1)\",\n",
    "        opacity=0.7,\n",
    "        nbinsx=30,\n",
    "        marker_color=\"orange\",\n",
    "        histnorm=\"probability density\",\n",
    "        showlegend=False,\n",
    "    ),\n",
    "    row=1,\n",
    "    col=2,\n",
    ")\n",
    "\n",
    "fig.add_vline(\n",
    "    x=dist_thr,\n",
    "    line=dict(color=\"green\", width=3, dash=\"dash\"),\n",
    "    annotation_text=f\"Трешолд: {dist_thr:.3f}\",\n",
    "    row=1,\n",
    "    col=2,\n",
    ")\n",
    "\n",
    "thresholds_knn: np.ndarray = np.linspace(min(knn_f), max(knn_f), 50)\n",
    "power_knn: List[float] = [\n",
    "    sum(np.array(knn_h) > thr) / len(knn_h) for thr in thresholds_knn\n",
    "]\n",
    "fpr_knn: List[float] = [\n",
    "    sum(np.array(knn_f) > thr) / len(knn_f) for thr in thresholds_knn\n",
    "]\n",
    "\n",
    "fig.add_trace(\n",
    "    go.Scatter(\n",
    "        x=fpr_knn,\n",
    "        y=power_knn,\n",
    "        mode=\"lines+markers\",\n",
    "        name=\"KNN ROC\",\n",
    "        line=dict(color=\"purple\", width=2),\n",
    "        marker=dict(size=4),\n",
    "        showlegend=False,\n",
    "    ),\n",
    "    row=2,\n",
    "    col=1,\n",
    ")\n",
    "\n",
    "current_fpr_knn: float = sum(np.array(knn_f) > knn_thr) / len(knn_f)\n",
    "current_power_knn: float = sum(np.array(knn_h) > knn_thr) / len(knn_h)\n",
    "fig.add_trace(\n",
    "    go.Scatter(\n",
    "        x=[current_fpr_knn],\n",
    "        y=[current_power_knn],\n",
    "        mode=\"markers\",\n",
    "        marker=dict(size=12, color=\"red\", symbol=\"star\"),\n",
    "        name=f\"α={a}\",\n",
    "        showlegend=False,\n",
    "    ),\n",
    "    row=2,\n",
    "    col=1,\n",
    ")\n",
    "\n",
    "thresholds_dist: np.ndarray = np.linspace(min(dist_f), max(dist_f), 50)\n",
    "power_dist: List[float] = [\n",
    "    sum(np.array(dist_h) > thr) / len(dist_h) for thr in thresholds_dist\n",
    "]\n",
    "fpr_dist: List[float] = [\n",
    "    sum(np.array(dist_f) > thr) / len(dist_f) for thr in thresholds_dist\n",
    "]\n",
    "\n",
    "fig.add_trace(\n",
    "    go.Scatter(\n",
    "        x=fpr_dist,\n",
    "        y=power_dist,\n",
    "        mode=\"lines+markers\",\n",
    "        name=\"Distance ROC\",\n",
    "        line=dict(color=\"darkgreen\", width=2),\n",
    "        marker=dict(size=4),\n",
    "        showlegend=False,\n",
    "    ),\n",
    "    row=2,\n",
    "    col=2,\n",
    ")\n",
    "\n",
    "current_fpr_dist: float = sum(np.array(dist_f) > dist_thr) / len(dist_f)\n",
    "current_power_dist: float = sum(np.array(dist_h) > dist_thr) / len(dist_h)\n",
    "fig.add_trace(\n",
    "    go.Scatter(\n",
    "        x=[current_fpr_dist],\n",
    "        y=[current_power_dist],\n",
    "        mode=\"markers\",\n",
    "        marker=dict(size=12, color=\"red\", symbol=\"star\"),\n",
    "        name=f\"α={a}\",\n",
    "        showlegend=False,\n",
    "    ),\n",
    "    row=2,\n",
    "    col=2,\n",
    ")\n",
    "\n",
    "fig.update_xaxes(title_text=\"Значение метрики\", row=1, col=1)\n",
    "fig.update_xaxes(title_text=\"Значение метрики\", row=1, col=2)\n",
    "fig.update_xaxes(title_text=\"Ложноположительная частота (FPR)\", row=2, col=1)\n",
    "fig.update_xaxes(title_text=\"Ложноположительная частота (FPR)\", row=2, col=2)\n",
    "\n",
    "fig.update_yaxes(title_text=\"Плотность вероятности\", row=1, col=1)\n",
    "fig.update_yaxes(title_text=\"Плотность вероятности\", row=1, col=2)\n",
    "fig.update_yaxes(title_text=\"Мощность (TPR)\", row=2, col=1)\n",
    "fig.update_yaxes(title_text=\"Мощность (TPR)\", row=2, col=2)\n",
    "\n",
    "fig.update_layout(\n",
    "    title_text=f\"Анализ статистических тестов с трешолдом (α={a}, n={n}, iter={mc_iter})\",\n",
    "    title_x=0.5,\n",
    "    width=1300,\n",
    "    height=800,\n",
    "    showlegend=True,\n",
    "    legend=dict(yanchor=\"top\", y=0.98, xanchor=\"left\", x=0.01),\n",
    ")\n",
    "\n",
    "fig.show()\n"
   ]
  },
  {
   "cell_type": "code",
   "execution_count": null,
   "id": "b69368b7",
   "metadata": {},
   "outputs": [],
   "source": []
  },
  {
   "cell_type": "code",
   "execution_count": null,
   "id": "9ff67744",
   "metadata": {},
   "outputs": [],
   "source": []
  }
 ],
 "metadata": {
  "kernelspec": {
   "display_name": "venv",
   "language": "python",
   "name": "python3"
  },
  "language_info": {
   "codemirror_mode": {
    "name": "ipython",
    "version": 3
   },
   "file_extension": ".py",
   "mimetype": "text/x-python",
   "name": "python",
   "nbconvert_exporter": "python",
   "pygments_lexer": "ipython3",
   "version": "3.13.3"
  }
 },
 "nbformat": 4,
 "nbformat_minor": 5
}
