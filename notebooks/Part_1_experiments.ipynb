{
 "cells": [
  {
   "cell_type": "code",
   "execution_count": 1,
   "id": "fa1a9d25",
   "metadata": {},
   "outputs": [],
   "source": [
    "import numpy as np\n",
    "from typing import List\n",
    "import plotly.graph_objects as go\n",
    "from plotly.subplots import make_subplots\n",
    "from tqdm.auto import tqdm\n",
    "\n",
    "import sys\n",
    "sys.path.append(\"..\")\n",
    "from src.data import Generator\n",
    "from src.graph.knn import GraphKnn\n",
    "from src.graph.dist import GraphDist"
   ]
  },
  {
   "cell_type": "code",
   "execution_count": 2,
   "id": "e3dca97c",
   "metadata": {},
   "outputs": [
    {
     "data": {
      "application/vnd.jupyter.widget-view+json": {
       "model_id": "8477a2ef71b245518136458bf0f5e0cd",
       "version_major": 2,
       "version_minor": 0
      },
      "text/plain": [
       "  0%|          | 0/50 [00:00<?, ?it/s]"
      ]
     },
     "metadata": {},
     "output_type": "display_data"
    },
    {
     "name": "stderr",
     "output_type": "stream",
     "text": [
      "C:\\Users\\gilin\\AppData\\Local\\Packages\\PythonSoftwareFoundation.Python.3.11_qbz5n2kfra8p0\\LocalCache\\local-packages\\Python311\\site-packages\\numpy\\core\\_methods.py:118: RuntimeWarning: invalid value encountered in reduce\n",
      "  ret = umr_sum(arr, axis, dtype, out, keepdims, where=where)\n",
      "c:\\study\\projects\\RandomGraphProject\\notebooks\\..\\src\\graph\\dist.py:53: RuntimeWarning: overflow encountered in scalar subtract\n",
      "  if abs(tmp[i][0] - tmp[j][0]) <= self.d:\n"
     ]
    }
   ],
   "source": [
    "n: int = 100\n",
    "cnt: int = 50\n",
    "v: np.ndarray = np.linspace(0.01, 2, cnt)\n",
    "alpha: np.ndarray = np.linspace(0.01, 2, cnt)\n",
    "mc_iter: int = 20\n",
    "\n",
    "knn_f: List[float] = []\n",
    "knn_h: List[float] = []\n",
    "dist_f: List[float] = []\n",
    "dist_h: List[float] = []\n",
    "for i in tqdm(range(cnt)):\n",
    "    gen: Generator = Generator(v[i], alpha[i], size=n)\n",
    "    knn_f.append(np.mean([GraphKnn(gen.get_f()).calc_metric() for _ in range(mc_iter)]))\n",
    "    knn_h.append(np.mean([GraphKnn(gen.get_h()).calc_metric() for _ in range(mc_iter)]))\n",
    "\n",
    "    dist_f.append(\n",
    "        np.mean([GraphDist(gen.get_f()).calc_metric() for _ in range(mc_iter)])\n",
    "    )\n",
    "    dist_h.append(\n",
    "        np.mean([GraphDist(gen.get_h()).calc_metric() for _ in range(mc_iter)])\n",
    "    )\n"
   ]
  },
  {
   "cell_type": "code",
   "execution_count": 3,
   "id": "23fb600d",
   "metadata": {},
   "outputs": [
    {
     "data": {
      "application/vnd.plotly.v1+json": {
       "config": {
        "plotlyServerURL": "https://plot.ly"
       },
       "data": [
        {
         "line": {
          "color": "blue",
          "width": 2
         },
         "marker": {
          "size": 4
         },
         "mode": "lines+markers",
         "name": "KNN Stable(α)",
         "type": "scatter",
         "x": {
          "bdata": "exSuR+F6hD8pTjoh2empP5mLRPh8Wrc/D/j1rwbgwD9SqsnjzhLGP5RcnReXRcs/a4e4pS880D+NYKK/k9XSP645jNn3btU/zxJ281sI2D/w618NwKHaPxLFSSckO90/M54zQYjU3z+qu44t9jbhPzuogzqog+I/y5R4R1rQ4z9cgW1UDB3lP+1tYmG+aeY/fVpXbnC25z8OR0x7IgPpP54zQYjUT+o/LyA2lYac6z/ADCuiOOnsP1D5H6/qNe4/4eUUvJyC7z856YRkp2fwP4Ff/2oADvE/ydV5cVm08T8STPR3slryP1rCbn4LAfM/ojjphGSn8z/rrmOLvU30PzMl3pEW9PQ/e5tYmG+a9T/EEdOeyED2PwyITaUh5/Y/VP7Hq3qN9z+ddEKy0zP4P+XqvLgs2vg/LWE3v4WA+T9117HF3ib6P75NLMw3zfo/BsSm0pBz+z9OOiHZ6Rn8P5ewm99CwPw/3yYW5ptm/T8nnZDs9Az+P3ATC/NNs/4/uImF+aZZ/z8AAAAAAAAAQA==",
          "dtype": "f8"
         },
         "xaxis": "x",
         "y": [
          7.65,
          7.1,
          5.9,
          9.05,
          7.15,
          6.15,
          9.3,
          6.45,
          9.9,
          8.6,
          9.2,
          7.6,
          7,
          8.1,
          7.3,
          6.75,
          8.05,
          8.75,
          5.65,
          11.1,
          8.05,
          9.05,
          8.7,
          6.55,
          7.25,
          7.2,
          8.05,
          10.7,
          8.9,
          7.05,
          8.25,
          7.6,
          5.85,
          8.75,
          6.95,
          9.5,
          6.9,
          9.45,
          7.85,
          6.3,
          9.05,
          6.15,
          6.95,
          5.55,
          5.95,
          8.2,
          8.3,
          7.85,
          8.35,
          6.8
         ],
         "yaxis": "y"
        },
        {
         "line": {
          "color": "red",
          "width": 2
         },
         "marker": {
          "size": 4
         },
         "mode": "lines+markers",
         "name": "KNN Student-t(ν)",
         "type": "scatter",
         "x": {
          "bdata": "exSuR+F6hD8pTjoh2empP5mLRPh8Wrc/D/j1rwbgwD9SqsnjzhLGP5RcnReXRcs/a4e4pS880D+NYKK/k9XSP645jNn3btU/zxJ281sI2D/w618NwKHaPxLFSSckO90/M54zQYjU3z+qu44t9jbhPzuogzqog+I/y5R4R1rQ4z9cgW1UDB3lP+1tYmG+aeY/fVpXbnC25z8OR0x7IgPpP54zQYjUT+o/LyA2lYac6z/ADCuiOOnsP1D5H6/qNe4/4eUUvJyC7z856YRkp2fwP4Ff/2oADvE/ydV5cVm08T8STPR3slryP1rCbn4LAfM/ojjphGSn8z/rrmOLvU30PzMl3pEW9PQ/e5tYmG+a9T/EEdOeyED2PwyITaUh5/Y/VP7Hq3qN9z+ddEKy0zP4P+XqvLgs2vg/LWE3v4WA+T9117HF3ib6P75NLMw3zfo/BsSm0pBz+z9OOiHZ6Rn8P5ewm99CwPw/3yYW5ptm/T8nnZDs9Az+P3ATC/NNs/4/uImF+aZZ/z8AAAAAAAAAQA==",
          "dtype": "f8"
         },
         "xaxis": "x",
         "y": [
          7,
          9.45,
          7.1,
          7.7,
          8.1,
          6.8,
          7.55,
          9.85,
          8.65,
          9.2,
          8.9,
          7.65,
          7.6,
          5.55,
          7.05,
          7.8,
          10.65,
          6.15,
          8.1,
          7,
          6.3,
          6.1,
          7.35,
          7.65,
          10.4,
          8,
          9.25,
          7.5,
          10.35,
          9.15,
          8.3,
          10.45,
          7.15,
          10.15,
          8,
          6.2,
          8,
          7.6,
          8.2,
          8.5,
          8.3,
          7.95,
          7.6,
          8.9,
          6.2,
          7.4,
          5.55,
          9.5,
          6.05,
          8.3
         ],
         "yaxis": "y"
        },
        {
         "line": {
          "color": "green",
          "width": 2
         },
         "marker": {
          "size": 4
         },
         "mode": "lines+markers",
         "name": "Distance Stable(α)",
         "showlegend": true,
         "type": "scatter",
         "x": {
          "bdata": "exSuR+F6hD8pTjoh2empP5mLRPh8Wrc/D/j1rwbgwD9SqsnjzhLGP5RcnReXRcs/a4e4pS880D+NYKK/k9XSP645jNn3btU/zxJ281sI2D/w618NwKHaPxLFSSckO90/M54zQYjU3z+qu44t9jbhPzuogzqog+I/y5R4R1rQ4z9cgW1UDB3lP+1tYmG+aeY/fVpXbnC25z8OR0x7IgPpP54zQYjUT+o/LyA2lYac6z/ADCuiOOnsP1D5H6/qNe4/4eUUvJyC7z856YRkp2fwP4Ff/2oADvE/ydV5cVm08T8STPR3slryP1rCbn4LAfM/ojjphGSn8z/rrmOLvU30PzMl3pEW9PQ/e5tYmG+a9T/EEdOeyED2PwyITaUh5/Y/VP7Hq3qN9z+ddEKy0zP4P+XqvLgs2vg/LWE3v4WA+T9117HF3ib6P75NLMw3zfo/BsSm0pBz+z9OOiHZ6Rn8P5ewm99CwPw/3yYW5ptm/T8nnZDs9Az+P3ATC/NNs/4/uImF+aZZ/z8AAAAAAAAAQA==",
          "dtype": "f8"
         },
         "xaxis": "x2",
         "y": [
          1,
          1,
          1.3,
          2,
          2.1,
          2.7,
          3.15,
          3.35,
          3.8,
          4.2,
          4.55,
          4.95,
          5.45,
          5.35,
          5.95,
          6.2,
          6.95,
          6.8,
          7.3,
          7.95,
          7.8,
          8.15,
          8.45,
          8.75,
          9.45,
          9.5,
          9.85,
          10.25,
          10.75,
          10.4,
          11.1,
          11.5,
          11.85,
          12.25,
          12.4,
          12.9,
          13,
          13.05,
          13.3,
          14,
          14.1,
          14.2,
          14.6,
          15.7,
          14.95,
          15.3,
          15.85,
          15.65,
          16.45,
          16.9
         ],
         "yaxis": "y2"
        },
        {
         "line": {
          "color": "orange",
          "width": 2
         },
         "marker": {
          "size": 4
         },
         "mode": "lines+markers",
         "name": "Distance Student-t(ν)",
         "showlegend": true,
         "type": "scatter",
         "x": {
          "bdata": "exSuR+F6hD8pTjoh2empP5mLRPh8Wrc/D/j1rwbgwD9SqsnjzhLGP5RcnReXRcs/a4e4pS880D+NYKK/k9XSP645jNn3btU/zxJ281sI2D/w618NwKHaPxLFSSckO90/M54zQYjU3z+qu44t9jbhPzuogzqog+I/y5R4R1rQ4z9cgW1UDB3lP+1tYmG+aeY/fVpXbnC25z8OR0x7IgPpP54zQYjUT+o/LyA2lYac6z/ADCuiOOnsP1D5H6/qNe4/4eUUvJyC7z856YRkp2fwP4Ff/2oADvE/ydV5cVm08T8STPR3slryP1rCbn4LAfM/ojjphGSn8z/rrmOLvU30PzMl3pEW9PQ/e5tYmG+a9T/EEdOeyED2PwyITaUh5/Y/VP7Hq3qN9z+ddEKy0zP4P+XqvLgs2vg/LWE3v4WA+T9117HF3ib6P75NLMw3zfo/BsSm0pBz+z9OOiHZ6Rn8P5ewm99CwPw/3yYW5ptm/T8nnZDs9Az+P3ATC/NNs/4/uImF+aZZ/z8AAAAAAAAAQA==",
          "dtype": "f8"
         },
         "xaxis": "x2",
         "y": [
          97.5,
          90.15,
          80.75,
          72.45,
          64.9,
          61,
          57.1,
          52.55,
          48.35,
          44.3,
          42.75,
          41.1,
          39.25,
          38.25,
          35.6,
          33.85,
          31.25,
          30.1,
          29.45,
          29.65,
          27.9,
          28,
          26.3,
          25.75,
          24.55,
          24.65,
          23.15,
          23.4,
          21.75,
          22,
          21.65,
          20.7,
          19.75,
          20.05,
          19.6,
          19.45,
          19.25,
          19.3,
          19.55,
          19.1,
          18.55,
          18.3,
          18.15,
          17.75,
          18.7,
          16.7,
          17.6,
          16.75,
          17.05,
          16.95
         ],
         "yaxis": "y2"
        }
       ],
       "layout": {
        "annotations": [
         {
          "font": {
           "size": 16
          },
          "showarrow": false,
          "text": "Количество треугольников",
          "x": 0.225,
          "xanchor": "center",
          "xref": "paper",
          "y": 1,
          "yanchor": "bottom",
          "yref": "paper"
         },
         {
          "font": {
           "size": 16
          },
          "showarrow": false,
          "text": "Минимальное кликовое покрытие",
          "x": 0.775,
          "xanchor": "center",
          "xref": "paper",
          "y": 1,
          "yanchor": "bottom",
          "yref": "paper"
         }
        ],
        "height": 600,
        "legend": {
         "x": 0.01,
         "xanchor": "left",
         "y": 0.99,
         "yanchor": "top"
        },
        "template": {
         "data": {
          "bar": [
           {
            "error_x": {
             "color": "#2a3f5f"
            },
            "error_y": {
             "color": "#2a3f5f"
            },
            "marker": {
             "line": {
              "color": "#E5ECF6",
              "width": 0.5
             },
             "pattern": {
              "fillmode": "overlay",
              "size": 10,
              "solidity": 0.2
             }
            },
            "type": "bar"
           }
          ],
          "barpolar": [
           {
            "marker": {
             "line": {
              "color": "#E5ECF6",
              "width": 0.5
             },
             "pattern": {
              "fillmode": "overlay",
              "size": 10,
              "solidity": 0.2
             }
            },
            "type": "barpolar"
           }
          ],
          "carpet": [
           {
            "aaxis": {
             "endlinecolor": "#2a3f5f",
             "gridcolor": "white",
             "linecolor": "white",
             "minorgridcolor": "white",
             "startlinecolor": "#2a3f5f"
            },
            "baxis": {
             "endlinecolor": "#2a3f5f",
             "gridcolor": "white",
             "linecolor": "white",
             "minorgridcolor": "white",
             "startlinecolor": "#2a3f5f"
            },
            "type": "carpet"
           }
          ],
          "choropleth": [
           {
            "colorbar": {
             "outlinewidth": 0,
             "ticks": ""
            },
            "type": "choropleth"
           }
          ],
          "contour": [
           {
            "colorbar": {
             "outlinewidth": 0,
             "ticks": ""
            },
            "colorscale": [
             [
              0,
              "#0d0887"
             ],
             [
              0.1111111111111111,
              "#46039f"
             ],
             [
              0.2222222222222222,
              "#7201a8"
             ],
             [
              0.3333333333333333,
              "#9c179e"
             ],
             [
              0.4444444444444444,
              "#bd3786"
             ],
             [
              0.5555555555555556,
              "#d8576b"
             ],
             [
              0.6666666666666666,
              "#ed7953"
             ],
             [
              0.7777777777777778,
              "#fb9f3a"
             ],
             [
              0.8888888888888888,
              "#fdca26"
             ],
             [
              1,
              "#f0f921"
             ]
            ],
            "type": "contour"
           }
          ],
          "contourcarpet": [
           {
            "colorbar": {
             "outlinewidth": 0,
             "ticks": ""
            },
            "type": "contourcarpet"
           }
          ],
          "heatmap": [
           {
            "colorbar": {
             "outlinewidth": 0,
             "ticks": ""
            },
            "colorscale": [
             [
              0,
              "#0d0887"
             ],
             [
              0.1111111111111111,
              "#46039f"
             ],
             [
              0.2222222222222222,
              "#7201a8"
             ],
             [
              0.3333333333333333,
              "#9c179e"
             ],
             [
              0.4444444444444444,
              "#bd3786"
             ],
             [
              0.5555555555555556,
              "#d8576b"
             ],
             [
              0.6666666666666666,
              "#ed7953"
             ],
             [
              0.7777777777777778,
              "#fb9f3a"
             ],
             [
              0.8888888888888888,
              "#fdca26"
             ],
             [
              1,
              "#f0f921"
             ]
            ],
            "type": "heatmap"
           }
          ],
          "histogram": [
           {
            "marker": {
             "pattern": {
              "fillmode": "overlay",
              "size": 10,
              "solidity": 0.2
             }
            },
            "type": "histogram"
           }
          ],
          "histogram2d": [
           {
            "colorbar": {
             "outlinewidth": 0,
             "ticks": ""
            },
            "colorscale": [
             [
              0,
              "#0d0887"
             ],
             [
              0.1111111111111111,
              "#46039f"
             ],
             [
              0.2222222222222222,
              "#7201a8"
             ],
             [
              0.3333333333333333,
              "#9c179e"
             ],
             [
              0.4444444444444444,
              "#bd3786"
             ],
             [
              0.5555555555555556,
              "#d8576b"
             ],
             [
              0.6666666666666666,
              "#ed7953"
             ],
             [
              0.7777777777777778,
              "#fb9f3a"
             ],
             [
              0.8888888888888888,
              "#fdca26"
             ],
             [
              1,
              "#f0f921"
             ]
            ],
            "type": "histogram2d"
           }
          ],
          "histogram2dcontour": [
           {
            "colorbar": {
             "outlinewidth": 0,
             "ticks": ""
            },
            "colorscale": [
             [
              0,
              "#0d0887"
             ],
             [
              0.1111111111111111,
              "#46039f"
             ],
             [
              0.2222222222222222,
              "#7201a8"
             ],
             [
              0.3333333333333333,
              "#9c179e"
             ],
             [
              0.4444444444444444,
              "#bd3786"
             ],
             [
              0.5555555555555556,
              "#d8576b"
             ],
             [
              0.6666666666666666,
              "#ed7953"
             ],
             [
              0.7777777777777778,
              "#fb9f3a"
             ],
             [
              0.8888888888888888,
              "#fdca26"
             ],
             [
              1,
              "#f0f921"
             ]
            ],
            "type": "histogram2dcontour"
           }
          ],
          "mesh3d": [
           {
            "colorbar": {
             "outlinewidth": 0,
             "ticks": ""
            },
            "type": "mesh3d"
           }
          ],
          "parcoords": [
           {
            "line": {
             "colorbar": {
              "outlinewidth": 0,
              "ticks": ""
             }
            },
            "type": "parcoords"
           }
          ],
          "pie": [
           {
            "automargin": true,
            "type": "pie"
           }
          ],
          "scatter": [
           {
            "fillpattern": {
             "fillmode": "overlay",
             "size": 10,
             "solidity": 0.2
            },
            "type": "scatter"
           }
          ],
          "scatter3d": [
           {
            "line": {
             "colorbar": {
              "outlinewidth": 0,
              "ticks": ""
             }
            },
            "marker": {
             "colorbar": {
              "outlinewidth": 0,
              "ticks": ""
             }
            },
            "type": "scatter3d"
           }
          ],
          "scattercarpet": [
           {
            "marker": {
             "colorbar": {
              "outlinewidth": 0,
              "ticks": ""
             }
            },
            "type": "scattercarpet"
           }
          ],
          "scattergeo": [
           {
            "marker": {
             "colorbar": {
              "outlinewidth": 0,
              "ticks": ""
             }
            },
            "type": "scattergeo"
           }
          ],
          "scattergl": [
           {
            "marker": {
             "colorbar": {
              "outlinewidth": 0,
              "ticks": ""
             }
            },
            "type": "scattergl"
           }
          ],
          "scattermap": [
           {
            "marker": {
             "colorbar": {
              "outlinewidth": 0,
              "ticks": ""
             }
            },
            "type": "scattermap"
           }
          ],
          "scattermapbox": [
           {
            "marker": {
             "colorbar": {
              "outlinewidth": 0,
              "ticks": ""
             }
            },
            "type": "scattermapbox"
           }
          ],
          "scatterpolar": [
           {
            "marker": {
             "colorbar": {
              "outlinewidth": 0,
              "ticks": ""
             }
            },
            "type": "scatterpolar"
           }
          ],
          "scatterpolargl": [
           {
            "marker": {
             "colorbar": {
              "outlinewidth": 0,
              "ticks": ""
             }
            },
            "type": "scatterpolargl"
           }
          ],
          "scatterternary": [
           {
            "marker": {
             "colorbar": {
              "outlinewidth": 0,
              "ticks": ""
             }
            },
            "type": "scatterternary"
           }
          ],
          "surface": [
           {
            "colorbar": {
             "outlinewidth": 0,
             "ticks": ""
            },
            "colorscale": [
             [
              0,
              "#0d0887"
             ],
             [
              0.1111111111111111,
              "#46039f"
             ],
             [
              0.2222222222222222,
              "#7201a8"
             ],
             [
              0.3333333333333333,
              "#9c179e"
             ],
             [
              0.4444444444444444,
              "#bd3786"
             ],
             [
              0.5555555555555556,
              "#d8576b"
             ],
             [
              0.6666666666666666,
              "#ed7953"
             ],
             [
              0.7777777777777778,
              "#fb9f3a"
             ],
             [
              0.8888888888888888,
              "#fdca26"
             ],
             [
              1,
              "#f0f921"
             ]
            ],
            "type": "surface"
           }
          ],
          "table": [
           {
            "cells": {
             "fill": {
              "color": "#EBF0F8"
             },
             "line": {
              "color": "white"
             }
            },
            "header": {
             "fill": {
              "color": "#C8D4E3"
             },
             "line": {
              "color": "white"
             }
            },
            "type": "table"
           }
          ]
         },
         "layout": {
          "annotationdefaults": {
           "arrowcolor": "#2a3f5f",
           "arrowhead": 0,
           "arrowwidth": 1
          },
          "autotypenumbers": "strict",
          "coloraxis": {
           "colorbar": {
            "outlinewidth": 0,
            "ticks": ""
           }
          },
          "colorscale": {
           "diverging": [
            [
             0,
             "#8e0152"
            ],
            [
             0.1,
             "#c51b7d"
            ],
            [
             0.2,
             "#de77ae"
            ],
            [
             0.3,
             "#f1b6da"
            ],
            [
             0.4,
             "#fde0ef"
            ],
            [
             0.5,
             "#f7f7f7"
            ],
            [
             0.6,
             "#e6f5d0"
            ],
            [
             0.7,
             "#b8e186"
            ],
            [
             0.8,
             "#7fbc41"
            ],
            [
             0.9,
             "#4d9221"
            ],
            [
             1,
             "#276419"
            ]
           ],
           "sequential": [
            [
             0,
             "#0d0887"
            ],
            [
             0.1111111111111111,
             "#46039f"
            ],
            [
             0.2222222222222222,
             "#7201a8"
            ],
            [
             0.3333333333333333,
             "#9c179e"
            ],
            [
             0.4444444444444444,
             "#bd3786"
            ],
            [
             0.5555555555555556,
             "#d8576b"
            ],
            [
             0.6666666666666666,
             "#ed7953"
            ],
            [
             0.7777777777777778,
             "#fb9f3a"
            ],
            [
             0.8888888888888888,
             "#fdca26"
            ],
            [
             1,
             "#f0f921"
            ]
           ],
           "sequentialminus": [
            [
             0,
             "#0d0887"
            ],
            [
             0.1111111111111111,
             "#46039f"
            ],
            [
             0.2222222222222222,
             "#7201a8"
            ],
            [
             0.3333333333333333,
             "#9c179e"
            ],
            [
             0.4444444444444444,
             "#bd3786"
            ],
            [
             0.5555555555555556,
             "#d8576b"
            ],
            [
             0.6666666666666666,
             "#ed7953"
            ],
            [
             0.7777777777777778,
             "#fb9f3a"
            ],
            [
             0.8888888888888888,
             "#fdca26"
            ],
            [
             1,
             "#f0f921"
            ]
           ]
          },
          "colorway": [
           "#636efa",
           "#EF553B",
           "#00cc96",
           "#ab63fa",
           "#FFA15A",
           "#19d3f3",
           "#FF6692",
           "#B6E880",
           "#FF97FF",
           "#FECB52"
          ],
          "font": {
           "color": "#2a3f5f"
          },
          "geo": {
           "bgcolor": "white",
           "lakecolor": "white",
           "landcolor": "#E5ECF6",
           "showlakes": true,
           "showland": true,
           "subunitcolor": "white"
          },
          "hoverlabel": {
           "align": "left"
          },
          "hovermode": "closest",
          "mapbox": {
           "style": "light"
          },
          "paper_bgcolor": "white",
          "plot_bgcolor": "#E5ECF6",
          "polar": {
           "angularaxis": {
            "gridcolor": "white",
            "linecolor": "white",
            "ticks": ""
           },
           "bgcolor": "#E5ECF6",
           "radialaxis": {
            "gridcolor": "white",
            "linecolor": "white",
            "ticks": ""
           }
          },
          "scene": {
           "xaxis": {
            "backgroundcolor": "#E5ECF6",
            "gridcolor": "white",
            "gridwidth": 2,
            "linecolor": "white",
            "showbackground": true,
            "ticks": "",
            "zerolinecolor": "white"
           },
           "yaxis": {
            "backgroundcolor": "#E5ECF6",
            "gridcolor": "white",
            "gridwidth": 2,
            "linecolor": "white",
            "showbackground": true,
            "ticks": "",
            "zerolinecolor": "white"
           },
           "zaxis": {
            "backgroundcolor": "#E5ECF6",
            "gridcolor": "white",
            "gridwidth": 2,
            "linecolor": "white",
            "showbackground": true,
            "ticks": "",
            "zerolinecolor": "white"
           }
          },
          "shapedefaults": {
           "line": {
            "color": "#2a3f5f"
           }
          },
          "ternary": {
           "aaxis": {
            "gridcolor": "white",
            "linecolor": "white",
            "ticks": ""
           },
           "baxis": {
            "gridcolor": "white",
            "linecolor": "white",
            "ticks": ""
           },
           "bgcolor": "#E5ECF6",
           "caxis": {
            "gridcolor": "white",
            "linecolor": "white",
            "ticks": ""
           }
          },
          "title": {
           "x": 0.05
          },
          "xaxis": {
           "automargin": true,
           "gridcolor": "white",
           "linecolor": "white",
           "ticks": "",
           "title": {
            "standoff": 15
           },
           "zerolinecolor": "white",
           "zerolinewidth": 2
          },
          "yaxis": {
           "automargin": true,
           "gridcolor": "white",
           "linecolor": "white",
           "ticks": "",
           "title": {
            "standoff": 15
           },
           "zerolinecolor": "white",
           "zerolinewidth": 2
          }
         }
        },
        "title": {
         "text": "Сравнение метрик для графов: зависимость от v и α",
         "x": 0.5
        },
        "width": 1400,
        "xaxis": {
         "anchor": "y",
         "domain": [
          0,
          0.45
         ],
         "title": {
          "text": "v / α"
         }
        },
        "xaxis2": {
         "anchor": "y2",
         "domain": [
          0.55,
          1
         ],
         "title": {
          "text": "v / α"
         }
        },
        "yaxis": {
         "anchor": "x",
         "domain": [
          0,
          1
         ],
         "title": {
          "text": "Количество треугольников"
         }
        },
        "yaxis2": {
         "anchor": "x2",
         "domain": [
          0,
          1
         ],
         "title": {
          "text": "Минимальное кликовое покрытие"
         }
        }
       }
      }
     },
     "metadata": {},
     "output_type": "display_data"
    }
   ],
   "source": [
    "fig = make_subplots(\n",
    "    rows=1,\n",
    "    cols=2,\n",
    "    subplot_titles=(\"Количество треугольников\", \"Минимальное кликовое покрытие\"),\n",
    "    horizontal_spacing=0.1,\n",
    ")\n",
    "\n",
    "fig.add_trace(\n",
    "    go.Scatter(\n",
    "        x=v,\n",
    "        y=knn_f,\n",
    "        mode=\"lines+markers\",\n",
    "        name=\"KNN Stable(α)\",\n",
    "        line=dict(color=\"blue\", width=2),\n",
    "        marker=dict(size=4),\n",
    "    ),\n",
    "    row=1,\n",
    "    col=1,\n",
    ")\n",
    "\n",
    "fig.add_trace(\n",
    "    go.Scatter(\n",
    "        x=v,\n",
    "        y=knn_h,\n",
    "        mode=\"lines+markers\",\n",
    "        name=\"KNN Student-t(ν)\",\n",
    "        line=dict(color=\"red\", width=2),\n",
    "        marker=dict(size=4),\n",
    "    ),\n",
    "    row=1,\n",
    "    col=1,\n",
    ")\n",
    "\n",
    "fig.add_trace(\n",
    "    go.Scatter(\n",
    "        x=v,\n",
    "        y=dist_f,\n",
    "        mode=\"lines+markers\",\n",
    "        name=\"Distance Stable(α)\",\n",
    "        line=dict(color=\"green\", width=2),\n",
    "        marker=dict(size=4),\n",
    "        showlegend=True,\n",
    "    ),\n",
    "    row=1,\n",
    "    col=2,\n",
    ")\n",
    "\n",
    "fig.add_trace(\n",
    "    go.Scatter(\n",
    "        x=v,\n",
    "        y=dist_h,\n",
    "        mode=\"lines+markers\",\n",
    "        name=\"Distance Student-t(ν)\",\n",
    "        line=dict(color=\"orange\", width=2),\n",
    "        marker=dict(size=4),\n",
    "        showlegend=True,\n",
    "    ),\n",
    "    row=1,\n",
    "    col=2,\n",
    ")\n",
    "\n",
    "fig.update_xaxes(title_text=\"v / α\", row=1, col=1)\n",
    "fig.update_xaxes(title_text=\"v / α\", row=1, col=2)\n",
    "fig.update_yaxes(title_text=\"Количество треугольников\", row=1, col=1)\n",
    "fig.update_yaxes(title_text=\"Минимальное кликовое покрытие\", row=1, col=2)\n",
    "\n",
    "fig.update_layout(\n",
    "    title_text=\"Сравнение метрик для графов: зависимость от v и α\",\n",
    "    title_x=0.5,\n",
    "    width=1400,\n",
    "    height=600,\n",
    "    legend=dict(yanchor=\"top\", y=0.99, xanchor=\"left\", x=0.01),\n",
    ")\n",
    "\n",
    "fig.show()"
   ]
  },
  {
   "cell_type": "code",
   "execution_count": 4,
   "id": "22bce636",
   "metadata": {},
   "outputs": [
    {
     "data": {
      "application/vnd.jupyter.widget-view+json": {
       "model_id": "1bc687a8da274d9abf6fd7e1a5a2ee6e",
       "version_major": 2,
       "version_minor": 0
      },
      "text/plain": [
       "  0%|          | 0/27 [00:00<?, ?it/s]"
      ]
     },
     "metadata": {},
     "output_type": "display_data"
    }
   ],
   "source": [
    "n: np.ndarray = np.linspace(25, 150, 27)\n",
    "k: np.ndarray = np.linspace(2, 11, 10)\n",
    "d: np.ndarray = np.linspace(0.1, 10, 10)\n",
    "mc_iter: int = 20\n",
    "\n",
    "knn_f: List[List[float]] = [[] for _ in range(len(n))]\n",
    "knn_h: List[List[float]] = [[] for _ in range(len(n))]\n",
    "dist_f: List[List[float]] = [[] for _ in range(len(n))]\n",
    "dist_h: List[List[float]] = [[] for _ in range(len(n))]\n",
    "for i in tqdm(range(len(n))):\n",
    "    gen: Generator = Generator(v=3, alpha=1, size=int(n[i]))\n",
    "    for j in range(len(k)):\n",
    "        knn_f[i].append(\n",
    "            np.mean(\n",
    "                [GraphKnn(gen.get_f(), int(k[j])).calc_metric() for _ in range(mc_iter)]\n",
    "            )\n",
    "        )\n",
    "        knn_h[i].append(\n",
    "            np.mean(\n",
    "                [GraphKnn(gen.get_h(), int(k[j])).calc_metric() for _ in range(mc_iter)]\n",
    "            )\n",
    "        )\n",
    "\n",
    "        dist_f[i].append(\n",
    "            np.mean(\n",
    "                [GraphDist(gen.get_f(), d[j]).calc_metric() for _ in range(mc_iter)]\n",
    "            )\n",
    "        )\n",
    "        dist_h[i].append(\n",
    "            np.mean(\n",
    "                [GraphDist(gen.get_h(), d[j]).calc_metric() for _ in range(mc_iter)]\n",
    "            )\n",
    "        )\n"
   ]
  },
  {
   "cell_type": "code",
   "execution_count": 5,
   "id": "a0187847",
   "metadata": {},
   "outputs": [
    {
     "data": {
      "application/vnd.plotly.v1+json": {
       "config": {
        "plotlyServerURL": "https://plot.ly"
       },
       "data": [
        {
         "colorscale": [
          [
           0,
           "rgb(247,251,255)"
          ],
          [
           0.125,
           "rgb(222,235,247)"
          ],
          [
           0.25,
           "rgb(198,219,239)"
          ],
          [
           0.375,
           "rgb(158,202,225)"
          ],
          [
           0.5,
           "rgb(107,174,214)"
          ],
          [
           0.625,
           "rgb(66,146,198)"
          ],
          [
           0.75,
           "rgb(33,113,181)"
          ],
          [
           0.875,
           "rgb(8,81,156)"
          ],
          [
           1,
           "rgb(8,48,107)"
          ]
         ],
         "name": "KNN f",
         "opacity": 0.7,
         "scene": "scene",
         "showscale": false,
         "type": "surface",
         "x": {
          "bdata": "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",
          "dtype": "f8",
          "shape": "27, 10"
         },
         "y": {
          "bdata": "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",
          "dtype": "f8",
          "shape": "27, 10"
         },
         "z": {
          "bdata": "mpmZmZmZ2T8AAAAAAAAMQDMzMzMzsyRAAAAAAADAO0AzMzMzM7NLQJqZmZmZ+VpAAAAAAACQZ0AzMzMzM79xQAAAAAAAVHhAZmZmZmbagECamZmZmZnZP83MzMzMzABAZmZmZmZmI0CamZmZmRk4QAAAAAAAgExAzczMzMxMXkCamZmZmVFjQDMzMzMzy29AzczMzMxoeEBmZmZmZvqAQJqZmZmZmbk/AAAAAAAABkCamZmZmRkhQAAAAAAAwDdAmpmZmZn5REDNzMzMzKxWQGZmZmZm1mFAMzMzMzMjbEBmZmZmZqZ2QJqZmZmZFX1AmpmZmZmZ2T8zMzMzMzP/P5qZmZmZmR9AAAAAAADAMkCamZmZmflBQGZmZmZmxlFAzczMzMx8YEAzMzMzM2trQJqZmZmZqXJAZmZmZmZme0AAAAAAAADQPwAAAAAAAABAAAAAAAAAGUBmZmZmZmYwQGZmZmZmZkBAAAAAAAAQUkDNzMzMzERgQDMzMzMz42hAAAAAAADQc0AAAAAAANB7QM3MzMzMzNw/ZmZmZmZmAEDNzMzMzMwSQAAAAAAAQDNAzczMzMzMQUAzMzMzM3NPQAAAAAAA0FtAzczMzMykZEAzMzMzM/NwQGZmZmZmHnZAmpmZmZmZyT8AAAAAAAD4P5qZmZmZmRZAZmZmZmZmKkAzMzMzM3M+QGZmZmZmxk5AmpmZmZlpXkCamZmZmRljQDMzMzMzB3JAzczMzMzMeEDNzMzMzMzcP83MzMzMzPw/MzMzMzMzD0AAAAAAAIApQM3MzMzMDDxAzczMzMxMRUBmZmZmZqZaQJqZmZmZKWRAAAAAAAC4bkDNzMzMzNh1QAAAAAAAANA/MzMzMzMz6z+amZmZmZkQQM3MzMzMzCdAzczMzMyMN0DNzMzMzOxNQM3MzMzMvFZAzczMzMxsZEAAAAAAALBoQM3MzMzMdHJAAAAAAAAAAACamZmZmZn5P83MzMzMzA5AMzMzMzOzJkBmZmZmZiY5QDMzMzMz80dAZmZmZmbmV0BmZmZmZpZbQGZmZmZmlmhAMzMzMzMzdECamZmZmZnJP5qZmZmZmfE/zczMzMzMCkCamZmZmRkpQAAAAAAAwDdAAAAAAABgRkAzMzMzM1NVQM3MzMzMrF9AAAAAAABIaEAAAAAAADByQDMzMzMzM8M/ZmZmZmZm+j9mZmZmZmYOQJqZmZmZmSJAMzMzMzOzMkAAAAAAAKBFQAAAAAAAIFVAmpmZmZlpX0CamZmZmVFnQAAAAAAAvHBAmpmZmZmZqT9mZmZmZmbuPwAAAAAAAAxAAAAAAAAAHkAAAAAAAAA3QDMzMzMzcz9AMzMzMzMTVECamZmZmYlZQM3MzMzMzGNAMzMzMzNfcECamZmZmZm5P5qZmZmZmfU/ZmZmZmZmDEBmZmZmZmYoQGZmZmZm5jVAmpmZmZnZQEAAAAAAAABPQM3MzMzMXFxAmpmZmZlJZEDNzMzMzKxwQAAAAAAAAAAAAAAAAAAA4D9mZmZmZmYIQJqZmZmZGSBAmpmZmZmZM0CamZmZmVlBQGZmZmZmJk5AMzMzMzMzWkBmZmZmZu5jQDMzMzMz22xAAAAAAAAAAACamZmZmZn1P2ZmZmZmZgBAZmZmZmZmHEAzMzMzM3MzQM3MzMzMLEJAmpmZmZl5TUCamZmZmVlaQM3MzMzMPGNAAAAAAACAbECamZmZmZmpP83MzMzMzPA/ZmZmZmZmAkDNzMzMzMwbQAAAAAAAADBAzczMzMysQEAzMzMzM5NKQAAAAAAAYFxAmpmZmZmRYEBmZmZmZiZrQJqZmZmZmak/zczMzMzM5D8zMzMzMzMHQAAAAAAAABdAzczMzMzMKEAAAAAAAIA8QJqZmZmZeUtAMzMzMzMDVUAzMzMzMzNiQJqZmZmZcWlAmpmZmZmZuT9mZmZmZmbmP83MzMzMzABAAAAAAAAAGEAzMzMzMzMwQJqZmZmZ2TpAZmZmZmYmRkCamZmZmQlXQM3MzMzMzF1AzczMzMykaECamZmZmZm5PzMzMzMzM9M/zczMzMzMAkBmZmZmZmYfQAAAAAAAgC9AMzMzMzNzOUCamZmZmVlGQDMzMzMzg1NAZmZmZmZWXUDNzMzMzKxmQDMzMzMzM8M/MzMzMzMz4z8AAAAAAAD4P83MzMzMzBhAMzMzMzMzJ0DNzMzMzEw1QJqZmZmZuUhAZmZmZmbmUkBmZmZmZqZdQJqZmZmZkWdAmpmZmZmZqT9mZmZmZmbmPwAAAAAAAPg/MzMzMzMzG0CamZmZmZkvQDMzMzMzczNAmpmZmZnZSEAAAAAAABBTQAAAAAAAMFxAZmZmZmaOY0CamZmZmZmpP2ZmZmZmZtY/mpmZmZmZB0DNzMzMzMwWQJqZmZmZGSpAmpmZmZkZPEBmZmZmZoZEQGZmZmZmtlJAAAAAAABQWkAzMzMzM9NhQDMzMzMzM8M/MzMzMzMz4z+amZmZmZn9PzMzMzMzMxxAzczMzMxMJEDNzMzMzIw0QGZmZmZm5kNAzczMzMzMUECamZmZmUlbQM3MzMzMzGZAmpmZmZmZqT/NzMzMzMzkPzMzMzMzMwNAMzMzMzMzEEAzMzMzMzMnQM3MzMzMzDhAMzMzMzOTRUAzMzMzM/NRQGZmZmZm1ldAmpmZmZnhYkCamZmZmZmpP83MzMzMzNw/zczMzMzM/D8zMzMzMzMNQGZmZmZm5itAzczMzMxMNUCamZmZmVlDQM3MzMzMvFFAAAAAAADgWkBmZmZmZhZkQJqZmZmZmbk/mpmZmZmZ4T8AAAAAAAAAQJqZmZmZmQ9AzczMzMzMJECamZmZmRk3QGZmZmZmhkdAZmZmZmbGUkDNzMzMzNxWQAAAAAAAQF9A",
          "dtype": "f8",
          "shape": "27, 10"
         }
        },
        {
         "colorscale": [
          [
           0,
           "rgb(255,245,240)"
          ],
          [
           0.125,
           "rgb(254,224,210)"
          ],
          [
           0.25,
           "rgb(252,187,161)"
          ],
          [
           0.375,
           "rgb(252,146,114)"
          ],
          [
           0.5,
           "rgb(251,106,74)"
          ],
          [
           0.625,
           "rgb(239,59,44)"
          ],
          [
           0.75,
           "rgb(203,24,29)"
          ],
          [
           0.875,
           "rgb(165,15,21)"
          ],
          [
           1,
           "rgb(103,0,13)"
          ]
         ],
         "name": "KNN h",
         "opacity": 0.7,
         "scene": "scene",
         "showscale": false,
         "type": "surface",
         "x": {
          "bdata": "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",
          "dtype": "f8",
          "shape": "27, 10"
         },
         "y": {
          "bdata": "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",
          "dtype": "f8",
          "shape": "27, 10"
         },
         "z": {
          "bdata": "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",
          "dtype": "f8",
          "shape": "27, 10"
         }
        },
        {
         "colorscale": [
          [
           0,
           "rgb(247,252,245)"
          ],
          [
           0.125,
           "rgb(229,245,224)"
          ],
          [
           0.25,
           "rgb(199,233,192)"
          ],
          [
           0.375,
           "rgb(161,217,155)"
          ],
          [
           0.5,
           "rgb(116,196,118)"
          ],
          [
           0.625,
           "rgb(65,171,93)"
          ],
          [
           0.75,
           "rgb(35,139,69)"
          ],
          [
           0.875,
           "rgb(0,109,44)"
          ],
          [
           1,
           "rgb(0,68,27)"
          ]
         ],
         "name": "Distance f",
         "opacity": 0.7,
         "scene": "scene2",
         "showscale": false,
         "type": "surface",
         "x": {
          "bdata": "AAAAAAAAOUAAAAAAAAA5QAAAAAAAADlAAAAAAAAAOUAAAAAAAAA5QAAAAAAAADlAAAAAAAAAOUAAAAAAAAA5QAAAAAAAADlAAAAAAAAAOUDsxE7sxM49QOzETuzEzj1A7MRO7MTOPUDsxE7sxM49QOzETuzEzj1A7MRO7MTOPUDsxE7sxM49QOzETuzEzj1A7MRO7MTOPUDsxE7sxM49QOzETuzETkFA7MRO7MROQUDsxE7sxE5BQOzETuzETkFA7MRO7MROQUDsxE7sxE5BQOzETuzETkFA7MRO7MROQUDsxE7sxE5BQOzETuzETkFAYid2Yie2Q0BiJ3ZiJ7ZDQGIndmIntkNAYid2Yie2Q0BiJ3ZiJ7ZDQGIndmIntkNAYid2Yie2Q0BiJ3ZiJ7ZDQGIndmIntkNAYid2Yie2Q0DYiZ3YiR1GQNiJndiJHUZA2Imd2IkdRkDYiZ3YiR1GQNiJndiJHUZA2Imd2IkdRkDYiZ3YiR1GQNiJndiJHUZA2Imd2IkdRkDYiZ3YiR1GQE7sxE7shEhATuzETuyESEBO7MRO7IRIQE7sxE7shEhATuzETuyESEBO7MRO7IRIQE7sxE7shEhATuzETuyESEBO7MRO7IRIQE7sxE7shEhAxU7sxE7sSkDFTuzETuxKQMVO7MRO7EpAxU7sxE7sSkDFTuzETuxKQMVO7MRO7EpAxU7sxE7sSkDFTuzETuxKQMVO7MRO7EpAxU7sxE7sSkA7sRM7sVNNQDuxEzuxU01AO7ETO7FTTUA7sRM7sVNNQDuxEzuxU01AO7ETO7FTTUA7sRM7sVNNQDuxEzuxU01AO7ETO7FTTUA7sRM7sVNNQLETO7ETu09AsRM7sRO7T0CxEzuxE7tPQLETO7ETu09AsRM7sRO7T0CxEzuxE7tPQLETO7ETu09AsRM7sRO7T0CxEzuxE7tPQLETO7ETu09AFDuxEzsRUUAUO7ETOxFRQBQ7sRM7EVFAFDuxEzsRUUAUO7ETOxFRQBQ7sRM7EVFAFDuxEzsRUUAUO7ETOxFRQBQ7sRM7EVFAFDuxEzsRUUBO7MRO7ERSQE7sxE7sRFJATuzETuxEUkBO7MRO7ERSQE7sxE7sRFJATuzETuxEUkBO7MRO7ERSQE7sxE7sRFJATuzETuxEUkBO7MRO7ERSQIqd2ImdeFNAip3YiZ14U0CKndiJnXhTQIqd2ImdeFNAip3YiZ14U0CKndiJnXhTQIqd2ImdeFNAip3YiZ14U0CKndiJnXhTQIqd2ImdeFNAxU7sxE6sVEDFTuzETqxUQMVO7MROrFRAxU7sxE6sVEDFTuzETqxUQMVO7MROrFRAxU7sxE6sVEDFTuzETqxUQMVO7MROrFRAxU7sxE6sVEAAAAAAAOBVQAAAAAAA4FVAAAAAAADgVUAAAAAAAOBVQAAAAAAA4FVAAAAAAADgVUAAAAAAAOBVQAAAAAAA4FVAAAAAAADgVUAAAAAAAOBVQDuxEzuxE1dAO7ETO7ETV0A7sRM7sRNXQDuxEzuxE1dAO7ETO7ETV0A7sRM7sRNXQDuxEzuxE1dAO7ETO7ETV0A7sRM7sRNXQDuxEzuxE1dAdmIndmJHWEB2Yid2YkdYQHZiJ3ZiR1hAdmIndmJHWEB2Yid2YkdYQHZiJ3ZiR1hAdmIndmJHWEB2Yid2YkdYQHZiJ3ZiR1hAdmIndmJHWECxEzuxE3tZQLETO7ETe1lAsRM7sRN7WUCxEzuxE3tZQLETO7ETe1lAsRM7sRN7WUCxEzuxE3tZQLETO7ETe1lAsRM7sRN7WUCxEzuxE3tZQOzETuzErlpA7MRO7MSuWkDsxE7sxK5aQOzETuzErlpA7MRO7MSuWkDsxE7sxK5aQOzETuzErlpA7MRO7MSuWkDsxE7sxK5aQOzETuzErlpAJ3ZiJ3biW0AndmInduJbQCd2Yid24ltAJ3ZiJ3biW0AndmInduJbQCd2Yid24ltAJ3ZiJ3biW0AndmInduJbQCd2Yid24ltAJ3ZiJ3biW0BiJ3ZiJxZdQGIndmInFl1AYid2YicWXUBiJ3ZiJxZdQGIndmInFl1AYid2YicWXUBiJ3ZiJxZdQGIndmInFl1AYid2YicWXUBiJ3ZiJxZdQJ3YiZ3YSV5AndiJndhJXkCd2Imd2EleQJ3YiZ3YSV5AndiJndhJXkCd2Imd2EleQJ3YiZ3YSV5AndiJndhJXkCd2Imd2EleQJ3YiZ3YSV5A2Imd2Il9X0DYiZ3YiX1fQNiJndiJfV9A2Imd2Il9X0DYiZ3YiX1fQNiJndiJfV9A2Imd2Il9X0DYiZ3YiX1fQNiJndiJfV9A2Imd2Il9X0CKndiJnVhgQIqd2ImdWGBAip3YiZ1YYECKndiJnVhgQIqd2ImdWGBAip3YiZ1YYECKndiJnVhgQIqd2ImdWGBAip3YiZ1YYECKndiJnVhgQCd2Yid28mBAJ3ZiJ3byYEAndmIndvJgQCd2Yid28mBAJ3ZiJ3byYEAndmIndvJgQCd2Yid28mBAJ3ZiJ3byYEAndmIndvJgQCd2Yid28mBAxU7sxE6MYUDFTuzEToxhQMVO7MROjGFAxU7sxE6MYUDFTuzEToxhQMVO7MROjGFAxU7sxE6MYUDFTuzEToxhQMVO7MROjGFAxU7sxE6MYUBiJ3ZiJyZiQGIndmInJmJAYid2YicmYkBiJ3ZiJyZiQGIndmInJmJAYid2YicmYkBiJ3ZiJyZiQGIndmInJmJAYid2YicmYkBiJ3ZiJyZiQAAAAAAAwGJAAAAAAADAYkAAAAAAAMBiQAAAAAAAwGJAAAAAAADAYkAAAAAAAMBiQAAAAAAAwGJAAAAAAADAYkAAAAAAAMBiQAAAAAAAwGJA",
          "dtype": "f8",
          "shape": "27, 10"
         },
         "y": {
          "bdata": "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",
          "dtype": "f8",
          "shape": "27, 10"
         },
         "z": {
          "bdata": "ZmZmZmbmL0AAAAAAAAAMQAAAAAAAAABAzczMzMzM/D8AAAAAAAD0PwAAAAAAAPA/AAAAAAAA8D8AAAAAAADwPwAAAAAAAPA/AAAAAAAA8D8AAAAAAIAwQGZmZmZmZg5AzczMzMzMAECamZmZmZn9P83MzMzMzPQ/zczMzMzM8D8AAAAAAADwPwAAAAAAAPA/AAAAAAAA8D8AAAAAAADwPwAAAAAAwDJAzczMzMzMDEBmZmZmZmYCQAAAAAAAAABAmpmZmZmZ9T8AAAAAAADwPwAAAAAAAPA/AAAAAAAA8D8AAAAAAADwPwAAAAAAAPA/zczMzMwMNEAzMzMzMzMPQAAAAAAAAAJAzczMzMzM/D9mZmZmZmb2P5qZmZmZmfE/AAAAAAAA8D8AAAAAAADwPwAAAAAAAPA/AAAAAAAA8D+amZmZmdk0QGZmZmZmZhBAMzMzMzMzA0AAAAAAAAAAQM3MzMzMzPQ/zczMzMzM8D8AAAAAAADwPwAAAAAAAPA/AAAAAAAA8D8AAAAAAADwPzMzMzMzMzZAmpmZmZmZD0AAAAAAAAACQAAAAAAAAABAMzMzMzMz9z/NzMzMzMzwPwAAAAAAAPA/AAAAAAAA8D8AAAAAAADwPwAAAAAAAPA/AAAAAADANkCamZmZmZkPQDMzMzMzMwNAAAAAAAAAAEBmZmZmZmb2PwAAAAAAAPA/AAAAAAAA8D8AAAAAAADwPwAAAAAAAPA/AAAAAAAA8D8AAAAAAEA4QDMzMzMzMxBAMzMzMzMzA0AAAAAAAAAAQM3MzMzMzPg/AAAAAAAA8D8AAAAAAADwPwAAAAAAAPA/AAAAAAAA8D8AAAAAAADwPzMzMzMz8zlAAAAAAAAAEUAzMzMzMzMFQAAAAAAAAABAMzMzMzMz+z+amZmZmZnxPwAAAAAAAPA/AAAAAAAA8D8AAAAAAADwPwAAAAAAAPA/MzMzMzNzOkBmZmZmZmYQQM3MzMzMzARAAAAAAAAAAEAzMzMzMzP7P5qZmZmZmfE/AAAAAAAA8D8AAAAAAADwPwAAAAAAAPA/AAAAAAAA8D8zMzMzMzM7QAAAAAAAABFAAAAAAAAABEAAAAAAAAAAQM3MzMzMzPg/zczMzMzM8D8AAAAAAADwPwAAAAAAAPA/AAAAAAAA8D8AAAAAAADwPzMzMzMzMztAMzMzMzMzEUCamZmZmZkFQAAAAAAAAABAMzMzMzMz+z9mZmZmZmbyPwAAAAAAAPA/AAAAAAAA8D8AAAAAAADwPwAAAAAAAPA/ZmZmZmbmPEDNzMzMzMwRQM3MzMzMzAJAAAAAAAAAAEAzMzMzMzP3P83MzMzMzPA/AAAAAAAA8D8AAAAAAADwPwAAAAAAAPA/AAAAAAAA8D8zMzMzMzM9QAAAAAAAABFAmpmZmZmZBUAAAAAAAAAAQM3MzMzMzPw/MzMzMzMz8z8AAAAAAADwPwAAAAAAAPA/AAAAAAAA8D8AAAAAAADwP2ZmZmZmpjxAZmZmZmZmEUAAAAAAAAAGQAAAAAAAAABAZmZmZmZm/j8zMzMzMzPzPwAAAAAAAPA/AAAAAAAA8D8AAAAAAADwPwAAAAAAAPA/AAAAAABAPkBmZmZmZmYSQM3MzMzMzARAAAAAAAAAAEAAAAAAAAD8P83MzMzMzPA/AAAAAAAA8D8AAAAAAADwPwAAAAAAAPA/AAAAAAAA8D8zMzMzM7M/QGZmZmZmZhNAZmZmZmZmBkAAAAAAAAAAQAAAAAAAAPw/ZmZmZmZm9j/NzMzMzMzwPwAAAAAAAPA/AAAAAAAA8D8AAAAAAADwPzMzMzMzMz5AMzMzMzMzEkAAAAAAAAAGQAAAAAAAAABAMzMzMzMz+z+amZmZmZnxPwAAAAAAAPA/AAAAAAAA8D8AAAAAAADwPwAAAAAAAPA/zczMzMwMQEBmZmZmZmYSQM3MzMzMzAZAZmZmZmZmAEAAAAAAAAAAQGZmZmZmZvI/zczMzMzM8D8AAAAAAADwPwAAAAAAAPA/AAAAAAAA8D/NzMzMzCxAQM3MzMzMzBJAAAAAAAAABkAAAAAAAAAAQDMzMzMzM/s/mpmZmZmZ8T8AAAAAAADwPwAAAAAAAPA/AAAAAAAA8D8AAAAAAADwP2ZmZmZmxkBAzczMzMzMEkCamZmZmZkFQAAAAAAAAABAZmZmZmZm/j+amZmZmZnxPwAAAAAAAPA/AAAAAAAA8D8AAAAAAADwPwAAAAAAAPA/MzMzMzNTQEAzMzMzMzMTQM3MzMzMzAZAAAAAAAAAAEAAAAAAAAAAQGZmZmZmZvI/zczMzMzM8D8AAAAAAADwPwAAAAAAAPA/AAAAAAAA8D9mZmZmZkZBQM3MzMzMzBJAmpmZmZmZB0AAAAAAAAAAQDMzMzMzM/8/MzMzMzMz8z8AAAAAAADwPwAAAAAAAPA/AAAAAAAA8D8AAAAAAADwP83MzMzMLEFAAAAAAAAAE0CamZmZmZkHQAAAAAAAAABAmpmZmZmZ/T8AAAAAAAD0P83MzMzMzPA/AAAAAAAA8D8AAAAAAADwPwAAAAAAAPA/mpmZmZm5QUAzMzMzMzMTQJqZmZmZmQdAAAAAAAAAAEAAAAAAAAAAQM3MzMzMzPQ/AAAAAAAA8D8AAAAAAADwPwAAAAAAAPA/AAAAAAAA8D8zMzMzM7NBQM3MzMzMzBJAzczMzMzMBkBmZmZmZmYAQJqZmZmZmf0/mpmZmZmZ9T8AAAAAAADwPwAAAAAAAPA/AAAAAAAA8D8AAAAAAADwPwAAAAAA4EFAzczMzMzMEkCamZmZmZkHQGZmZmZmZgBAZmZmZmZm/j/NzMzMzMz0PwAAAAAAAPA/AAAAAAAA8D8AAAAAAADwPwAAAAAAAPA/",
          "dtype": "f8",
          "shape": "27, 10"
         }
        },
        {
         "colorscale": [
          [
           0,
           "rgb(255,245,235)"
          ],
          [
           0.125,
           "rgb(254,230,206)"
          ],
          [
           0.25,
           "rgb(253,208,162)"
          ],
          [
           0.375,
           "rgb(253,174,107)"
          ],
          [
           0.5,
           "rgb(253,141,60)"
          ],
          [
           0.625,
           "rgb(241,105,19)"
          ],
          [
           0.75,
           "rgb(217,72,1)"
          ],
          [
           0.875,
           "rgb(166,54,3)"
          ],
          [
           1,
           "rgb(127,39,4)"
          ]
         ],
         "name": "Distance h",
         "opacity": 0.7,
         "scene": "scene2",
         "showscale": false,
         "type": "surface",
         "x": {
          "bdata": "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",
          "dtype": "f8",
          "shape": "27, 10"
         },
         "y": {
          "bdata": "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",
          "dtype": "f8",
          "shape": "27, 10"
         },
         "z": {
          "bdata": "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",
          "dtype": "f8",
          "shape": "27, 10"
         }
        }
       ],
       "layout": {
        "annotations": [
         {
          "font": {
           "size": 16
          },
          "showarrow": false,
          "text": "3D KNN Metric (n, k, metric)",
          "x": 0.2375,
          "xanchor": "center",
          "xref": "paper",
          "y": 1,
          "yanchor": "bottom",
          "yref": "paper"
         },
         {
          "font": {
           "size": 16
          },
          "showarrow": false,
          "text": "3D Distance Metric (n, d, metric)",
          "x": 0.7625,
          "xanchor": "center",
          "xref": "paper",
          "y": 1,
          "yanchor": "bottom",
          "yref": "paper"
         }
        ],
        "height": 700,
        "legend": {
         "x": 0.01,
         "xanchor": "left",
         "y": 0.99,
         "yanchor": "top"
        },
        "scene": {
         "camera": {
          "eye": {
           "x": 1.2,
           "y": 1.2,
           "z": 1.2
          }
         },
         "domain": {
          "x": [
           0,
           0.475
          ],
          "y": [
           0,
           1
          ]
         },
         "xaxis": {
          "title": {
           "text": "n (размер графа)"
          }
         },
         "yaxis": {
          "title": {
           "text": "k (количество соседей)"
          }
         },
         "zaxis": {
          "title": {
           "text": "Количество треугольников"
          }
         }
        },
        "scene2": {
         "camera": {
          "eye": {
           "x": 1.2,
           "y": 1.2,
           "z": 1.2
          }
         },
         "domain": {
          "x": [
           0.525,
           1
          ],
          "y": [
           0,
           1
          ]
         },
         "xaxis": {
          "title": {
           "text": "n (размер графа)"
          }
         },
         "yaxis": {
          "title": {
           "text": "d (пороговое расстояние)"
          }
         },
         "zaxis": {
          "title": {
           "text": "Минимальное кликовое покрытие"
          }
         }
        },
        "showlegend": true,
        "template": {
         "data": {
          "bar": [
           {
            "error_x": {
             "color": "#2a3f5f"
            },
            "error_y": {
             "color": "#2a3f5f"
            },
            "marker": {
             "line": {
              "color": "#E5ECF6",
              "width": 0.5
             },
             "pattern": {
              "fillmode": "overlay",
              "size": 10,
              "solidity": 0.2
             }
            },
            "type": "bar"
           }
          ],
          "barpolar": [
           {
            "marker": {
             "line": {
              "color": "#E5ECF6",
              "width": 0.5
             },
             "pattern": {
              "fillmode": "overlay",
              "size": 10,
              "solidity": 0.2
             }
            },
            "type": "barpolar"
           }
          ],
          "carpet": [
           {
            "aaxis": {
             "endlinecolor": "#2a3f5f",
             "gridcolor": "white",
             "linecolor": "white",
             "minorgridcolor": "white",
             "startlinecolor": "#2a3f5f"
            },
            "baxis": {
             "endlinecolor": "#2a3f5f",
             "gridcolor": "white",
             "linecolor": "white",
             "minorgridcolor": "white",
             "startlinecolor": "#2a3f5f"
            },
            "type": "carpet"
           }
          ],
          "choropleth": [
           {
            "colorbar": {
             "outlinewidth": 0,
             "ticks": ""
            },
            "type": "choropleth"
           }
          ],
          "contour": [
           {
            "colorbar": {
             "outlinewidth": 0,
             "ticks": ""
            },
            "colorscale": [
             [
              0,
              "#0d0887"
             ],
             [
              0.1111111111111111,
              "#46039f"
             ],
             [
              0.2222222222222222,
              "#7201a8"
             ],
             [
              0.3333333333333333,
              "#9c179e"
             ],
             [
              0.4444444444444444,
              "#bd3786"
             ],
             [
              0.5555555555555556,
              "#d8576b"
             ],
             [
              0.6666666666666666,
              "#ed7953"
             ],
             [
              0.7777777777777778,
              "#fb9f3a"
             ],
             [
              0.8888888888888888,
              "#fdca26"
             ],
             [
              1,
              "#f0f921"
             ]
            ],
            "type": "contour"
           }
          ],
          "contourcarpet": [
           {
            "colorbar": {
             "outlinewidth": 0,
             "ticks": ""
            },
            "type": "contourcarpet"
           }
          ],
          "heatmap": [
           {
            "colorbar": {
             "outlinewidth": 0,
             "ticks": ""
            },
            "colorscale": [
             [
              0,
              "#0d0887"
             ],
             [
              0.1111111111111111,
              "#46039f"
             ],
             [
              0.2222222222222222,
              "#7201a8"
             ],
             [
              0.3333333333333333,
              "#9c179e"
             ],
             [
              0.4444444444444444,
              "#bd3786"
             ],
             [
              0.5555555555555556,
              "#d8576b"
             ],
             [
              0.6666666666666666,
              "#ed7953"
             ],
             [
              0.7777777777777778,
              "#fb9f3a"
             ],
             [
              0.8888888888888888,
              "#fdca26"
             ],
             [
              1,
              "#f0f921"
             ]
            ],
            "type": "heatmap"
           }
          ],
          "histogram": [
           {
            "marker": {
             "pattern": {
              "fillmode": "overlay",
              "size": 10,
              "solidity": 0.2
             }
            },
            "type": "histogram"
           }
          ],
          "histogram2d": [
           {
            "colorbar": {
             "outlinewidth": 0,
             "ticks": ""
            },
            "colorscale": [
             [
              0,
              "#0d0887"
             ],
             [
              0.1111111111111111,
              "#46039f"
             ],
             [
              0.2222222222222222,
              "#7201a8"
             ],
             [
              0.3333333333333333,
              "#9c179e"
             ],
             [
              0.4444444444444444,
              "#bd3786"
             ],
             [
              0.5555555555555556,
              "#d8576b"
             ],
             [
              0.6666666666666666,
              "#ed7953"
             ],
             [
              0.7777777777777778,
              "#fb9f3a"
             ],
             [
              0.8888888888888888,
              "#fdca26"
             ],
             [
              1,
              "#f0f921"
             ]
            ],
            "type": "histogram2d"
           }
          ],
          "histogram2dcontour": [
           {
            "colorbar": {
             "outlinewidth": 0,
             "ticks": ""
            },
            "colorscale": [
             [
              0,
              "#0d0887"
             ],
             [
              0.1111111111111111,
              "#46039f"
             ],
             [
              0.2222222222222222,
              "#7201a8"
             ],
             [
              0.3333333333333333,
              "#9c179e"
             ],
             [
              0.4444444444444444,
              "#bd3786"
             ],
             [
              0.5555555555555556,
              "#d8576b"
             ],
             [
              0.6666666666666666,
              "#ed7953"
             ],
             [
              0.7777777777777778,
              "#fb9f3a"
             ],
             [
              0.8888888888888888,
              "#fdca26"
             ],
             [
              1,
              "#f0f921"
             ]
            ],
            "type": "histogram2dcontour"
           }
          ],
          "mesh3d": [
           {
            "colorbar": {
             "outlinewidth": 0,
             "ticks": ""
            },
            "type": "mesh3d"
           }
          ],
          "parcoords": [
           {
            "line": {
             "colorbar": {
              "outlinewidth": 0,
              "ticks": ""
             }
            },
            "type": "parcoords"
           }
          ],
          "pie": [
           {
            "automargin": true,
            "type": "pie"
           }
          ],
          "scatter": [
           {
            "fillpattern": {
             "fillmode": "overlay",
             "size": 10,
             "solidity": 0.2
            },
            "type": "scatter"
           }
          ],
          "scatter3d": [
           {
            "line": {
             "colorbar": {
              "outlinewidth": 0,
              "ticks": ""
             }
            },
            "marker": {
             "colorbar": {
              "outlinewidth": 0,
              "ticks": ""
             }
            },
            "type": "scatter3d"
           }
          ],
          "scattercarpet": [
           {
            "marker": {
             "colorbar": {
              "outlinewidth": 0,
              "ticks": ""
             }
            },
            "type": "scattercarpet"
           }
          ],
          "scattergeo": [
           {
            "marker": {
             "colorbar": {
              "outlinewidth": 0,
              "ticks": ""
             }
            },
            "type": "scattergeo"
           }
          ],
          "scattergl": [
           {
            "marker": {
             "colorbar": {
              "outlinewidth": 0,
              "ticks": ""
             }
            },
            "type": "scattergl"
           }
          ],
          "scattermap": [
           {
            "marker": {
             "colorbar": {
              "outlinewidth": 0,
              "ticks": ""
             }
            },
            "type": "scattermap"
           }
          ],
          "scattermapbox": [
           {
            "marker": {
             "colorbar": {
              "outlinewidth": 0,
              "ticks": ""
             }
            },
            "type": "scattermapbox"
           }
          ],
          "scatterpolar": [
           {
            "marker": {
             "colorbar": {
              "outlinewidth": 0,
              "ticks": ""
             }
            },
            "type": "scatterpolar"
           }
          ],
          "scatterpolargl": [
           {
            "marker": {
             "colorbar": {
              "outlinewidth": 0,
              "ticks": ""
             }
            },
            "type": "scatterpolargl"
           }
          ],
          "scatterternary": [
           {
            "marker": {
             "colorbar": {
              "outlinewidth": 0,
              "ticks": ""
             }
            },
            "type": "scatterternary"
           }
          ],
          "surface": [
           {
            "colorbar": {
             "outlinewidth": 0,
             "ticks": ""
            },
            "colorscale": [
             [
              0,
              "#0d0887"
             ],
             [
              0.1111111111111111,
              "#46039f"
             ],
             [
              0.2222222222222222,
              "#7201a8"
             ],
             [
              0.3333333333333333,
              "#9c179e"
             ],
             [
              0.4444444444444444,
              "#bd3786"
             ],
             [
              0.5555555555555556,
              "#d8576b"
             ],
             [
              0.6666666666666666,
              "#ed7953"
             ],
             [
              0.7777777777777778,
              "#fb9f3a"
             ],
             [
              0.8888888888888888,
              "#fdca26"
             ],
             [
              1,
              "#f0f921"
             ]
            ],
            "type": "surface"
           }
          ],
          "table": [
           {
            "cells": {
             "fill": {
              "color": "#EBF0F8"
             },
             "line": {
              "color": "white"
             }
            },
            "header": {
             "fill": {
              "color": "#C8D4E3"
             },
             "line": {
              "color": "white"
             }
            },
            "type": "table"
           }
          ]
         },
         "layout": {
          "annotationdefaults": {
           "arrowcolor": "#2a3f5f",
           "arrowhead": 0,
           "arrowwidth": 1
          },
          "autotypenumbers": "strict",
          "coloraxis": {
           "colorbar": {
            "outlinewidth": 0,
            "ticks": ""
           }
          },
          "colorscale": {
           "diverging": [
            [
             0,
             "#8e0152"
            ],
            [
             0.1,
             "#c51b7d"
            ],
            [
             0.2,
             "#de77ae"
            ],
            [
             0.3,
             "#f1b6da"
            ],
            [
             0.4,
             "#fde0ef"
            ],
            [
             0.5,
             "#f7f7f7"
            ],
            [
             0.6,
             "#e6f5d0"
            ],
            [
             0.7,
             "#b8e186"
            ],
            [
             0.8,
             "#7fbc41"
            ],
            [
             0.9,
             "#4d9221"
            ],
            [
             1,
             "#276419"
            ]
           ],
           "sequential": [
            [
             0,
             "#0d0887"
            ],
            [
             0.1111111111111111,
             "#46039f"
            ],
            [
             0.2222222222222222,
             "#7201a8"
            ],
            [
             0.3333333333333333,
             "#9c179e"
            ],
            [
             0.4444444444444444,
             "#bd3786"
            ],
            [
             0.5555555555555556,
             "#d8576b"
            ],
            [
             0.6666666666666666,
             "#ed7953"
            ],
            [
             0.7777777777777778,
             "#fb9f3a"
            ],
            [
             0.8888888888888888,
             "#fdca26"
            ],
            [
             1,
             "#f0f921"
            ]
           ],
           "sequentialminus": [
            [
             0,
             "#0d0887"
            ],
            [
             0.1111111111111111,
             "#46039f"
            ],
            [
             0.2222222222222222,
             "#7201a8"
            ],
            [
             0.3333333333333333,
             "#9c179e"
            ],
            [
             0.4444444444444444,
             "#bd3786"
            ],
            [
             0.5555555555555556,
             "#d8576b"
            ],
            [
             0.6666666666666666,
             "#ed7953"
            ],
            [
             0.7777777777777778,
             "#fb9f3a"
            ],
            [
             0.8888888888888888,
             "#fdca26"
            ],
            [
             1,
             "#f0f921"
            ]
           ]
          },
          "colorway": [
           "#636efa",
           "#EF553B",
           "#00cc96",
           "#ab63fa",
           "#FFA15A",
           "#19d3f3",
           "#FF6692",
           "#B6E880",
           "#FF97FF",
           "#FECB52"
          ],
          "font": {
           "color": "#2a3f5f"
          },
          "geo": {
           "bgcolor": "white",
           "lakecolor": "white",
           "landcolor": "#E5ECF6",
           "showlakes": true,
           "showland": true,
           "subunitcolor": "white"
          },
          "hoverlabel": {
           "align": "left"
          },
          "hovermode": "closest",
          "mapbox": {
           "style": "light"
          },
          "paper_bgcolor": "white",
          "plot_bgcolor": "#E5ECF6",
          "polar": {
           "angularaxis": {
            "gridcolor": "white",
            "linecolor": "white",
            "ticks": ""
           },
           "bgcolor": "#E5ECF6",
           "radialaxis": {
            "gridcolor": "white",
            "linecolor": "white",
            "ticks": ""
           }
          },
          "scene": {
           "xaxis": {
            "backgroundcolor": "#E5ECF6",
            "gridcolor": "white",
            "gridwidth": 2,
            "linecolor": "white",
            "showbackground": true,
            "ticks": "",
            "zerolinecolor": "white"
           },
           "yaxis": {
            "backgroundcolor": "#E5ECF6",
            "gridcolor": "white",
            "gridwidth": 2,
            "linecolor": "white",
            "showbackground": true,
            "ticks": "",
            "zerolinecolor": "white"
           },
           "zaxis": {
            "backgroundcolor": "#E5ECF6",
            "gridcolor": "white",
            "gridwidth": 2,
            "linecolor": "white",
            "showbackground": true,
            "ticks": "",
            "zerolinecolor": "white"
           }
          },
          "shapedefaults": {
           "line": {
            "color": "#2a3f5f"
           }
          },
          "ternary": {
           "aaxis": {
            "gridcolor": "white",
            "linecolor": "white",
            "ticks": ""
           },
           "baxis": {
            "gridcolor": "white",
            "linecolor": "white",
            "ticks": ""
           },
           "bgcolor": "#E5ECF6",
           "caxis": {
            "gridcolor": "white",
            "linecolor": "white",
            "ticks": ""
           }
          },
          "title": {
           "x": 0.05
          },
          "xaxis": {
           "automargin": true,
           "gridcolor": "white",
           "linecolor": "white",
           "ticks": "",
           "title": {
            "standoff": 15
           },
           "zerolinecolor": "white",
           "zerolinewidth": 2
          },
          "yaxis": {
           "automargin": true,
           "gridcolor": "white",
           "linecolor": "white",
           "ticks": "",
           "title": {
            "standoff": 15
           },
           "zerolinecolor": "white",
           "zerolinewidth": 2
          }
         }
        },
        "title": {
         "text": "3D Визуализация метрик: влияние параметров графа",
         "x": 0.5
        },
        "width": 1400
       }
      }
     },
     "metadata": {},
     "output_type": "display_data"
    }
   ],
   "source": [
    "N_knn: np.ndarray\n",
    "K_knn: np.ndarray\n",
    "N_knn, K_knn = np.meshgrid(n, k, indexing=\"ij\")\n",
    "knn_f_array: np.ndarray = np.array(knn_f)\n",
    "knn_h_array: np.ndarray = np.array(knn_h)\n",
    "\n",
    "N_dist: np.ndarray\n",
    "D_dist: np.ndarray\n",
    "N_dist, D_dist = np.meshgrid(n, d, indexing=\"ij\")\n",
    "dist_f_array: np.ndarray = np.array(dist_f)\n",
    "dist_h_array: np.ndarray = np.array(dist_h)\n",
    "\n",
    "fig = make_subplots(\n",
    "    rows=1,\n",
    "    cols=2,\n",
    "    specs=[[{\"type\": \"surface\"}, {\"type\": \"surface\"}]],\n",
    "    subplot_titles=(\n",
    "        \"3D KNN Metric (n, k, metric)\",\n",
    "        \"3D Distance Metric (n, d, metric)\",\n",
    "    ),\n",
    "    horizontal_spacing=0.05,\n",
    ")\n",
    "\n",
    "fig.add_trace(\n",
    "    go.Surface(\n",
    "        x=N_knn,\n",
    "        y=K_knn,\n",
    "        z=knn_f_array,\n",
    "        name=\"KNN f\",\n",
    "        colorscale=\"Blues\",\n",
    "        opacity=0.7,\n",
    "        showscale=False,\n",
    "    ),\n",
    "    row=1,\n",
    "    col=1,\n",
    ")\n",
    "\n",
    "fig.add_trace(\n",
    "    go.Surface(\n",
    "        x=N_knn,\n",
    "        y=K_knn,\n",
    "        z=knn_h_array,\n",
    "        name=\"KNN h\",\n",
    "        colorscale=\"Reds\",\n",
    "        opacity=0.7,\n",
    "        showscale=False,\n",
    "    ),\n",
    "    row=1,\n",
    "    col=1,\n",
    ")\n",
    "\n",
    "fig.add_trace(\n",
    "    go.Surface(\n",
    "        x=N_dist,\n",
    "        y=D_dist,\n",
    "        z=dist_f_array,\n",
    "        name=\"Distance f\",\n",
    "        colorscale=\"Greens\",\n",
    "        opacity=0.7,\n",
    "        showscale=False,\n",
    "    ),\n",
    "    row=1,\n",
    "    col=2,\n",
    ")\n",
    "\n",
    "fig.add_trace(\n",
    "    go.Surface(\n",
    "        x=N_dist,\n",
    "        y=D_dist,\n",
    "        z=dist_h_array,\n",
    "        name=\"Distance h\",\n",
    "        colorscale=\"Oranges\",\n",
    "        opacity=0.7,\n",
    "        showscale=False,\n",
    "    ),\n",
    "    row=1,\n",
    "    col=2,\n",
    ")\n",
    "\n",
    "fig.update_layout(\n",
    "    scene=dict(\n",
    "        xaxis_title=\"n (размер графа)\",\n",
    "        yaxis_title=\"k (количество соседей)\",\n",
    "        zaxis_title=\"Количество треугольников\",\n",
    "        camera=dict(eye=dict(x=1.2, y=1.2, z=1.2)),\n",
    "    ),\n",
    "    scene2=dict(\n",
    "        xaxis_title=\"n (размер графа)\",\n",
    "        yaxis_title=\"d (пороговое расстояние)\",\n",
    "        zaxis_title=\"Минимальное кликовое покрытие\",\n",
    "        camera=dict(eye=dict(x=1.2, y=1.2, z=1.2)),\n",
    "    ),\n",
    "    title_text=\"3D Визуализация метрик: влияние параметров графа\",\n",
    "    title_x=0.5,\n",
    "    width=1400,\n",
    "    height=700,\n",
    "    showlegend=True,\n",
    "    legend=dict(yanchor=\"top\", y=0.99, xanchor=\"left\", x=0.01),\n",
    ")\n",
    "\n",
    "fig.show()"
   ]
  },
  {
   "cell_type": "markdown",
   "id": "3319d155",
   "metadata": {},
   "source": [
    "### Distance\n",
    "Видно, что при росте n и фиксированных остальных параметрах, размер минимального кликового покрытия растет"
   ]
  },
  {
   "cell_type": "code",
   "execution_count": 6,
   "id": "e308a1a3",
   "metadata": {},
   "outputs": [
    {
     "data": {
      "application/vnd.jupyter.widget-view+json": {
       "model_id": "dc2391fb8f354cce958dd3c14b5b1ab6",
       "version_major": 2,
       "version_minor": 0
      },
      "text/plain": [
       "  0%|          | 0/500 [00:00<?, ?it/s]"
      ]
     },
     "metadata": {},
     "output_type": "display_data"
    },
    {
     "data": {
      "application/vnd.jupyter.widget-view+json": {
       "model_id": "a522e264f0dc47fab4c3fe1859a1074c",
       "version_major": 2,
       "version_minor": 0
      },
      "text/plain": [
       "  0%|          | 0/500 [00:00<?, ?it/s]"
      ]
     },
     "metadata": {},
     "output_type": "display_data"
    },
    {
     "data": {
      "application/vnd.jupyter.widget-view+json": {
       "model_id": "22f6abc83e894770a6156d98c9cedcdf",
       "version_major": 2,
       "version_minor": 0
      },
      "text/plain": [
       "  0%|          | 0/500 [00:00<?, ?it/s]"
      ]
     },
     "metadata": {},
     "output_type": "display_data"
    },
    {
     "data": {
      "application/vnd.jupyter.widget-view+json": {
       "model_id": "7a138e508968465891861f88c5ae5e48",
       "version_major": 2,
       "version_minor": 0
      },
      "text/plain": [
       "  0%|          | 0/500 [00:00<?, ?it/s]"
      ]
     },
     "metadata": {},
     "output_type": "display_data"
    }
   ],
   "source": [
    "n: int = 100\n",
    "cnt: int = 50\n",
    "v: float = 3\n",
    "alpha: float = 1\n",
    "mc_iter: int = 500\n",
    "\n",
    "gen: Generator = Generator(v, alpha, size=n)\n",
    "knn_f: List[float] = [GraphKnn(gen.get_f()).calc_metric() for _ in tqdm(range(mc_iter))]\n",
    "knn_h: List[float] = [GraphKnn(gen.get_h()).calc_metric() for _ in tqdm(range(mc_iter))]\n",
    "    \n",
    "dist_f: List[float] = [GraphDist(gen.get_f()).calc_metric() for _ in tqdm(range(mc_iter))]\n",
    "dist_h: List[float] = [GraphDist(gen.get_h()).calc_metric() for _ in tqdm(range(mc_iter))]\n",
    "\n",
    "a: float = 0.05\n",
    "\n",
    "knn_f_mean = np.mean(knn_f)\n",
    "knn_h_mean = np.mean(knn_h)\n",
    "dist_f_mean = np.mean(dist_f)\n",
    "dist_h_mean = np.mean(dist_h)\n",
    "\n",
    "if knn_h_mean > knn_f_mean:\n",
    "    knn_thr: float = sorted(knn_f)[int((1-a)*len(knn_f))]\n",
    "else:\n",
    "    knn_thr: float = sorted(knn_f)[int(a*len(knn_f))]\n",
    "\n",
    "if dist_h_mean > dist_f_mean:\n",
    "    dist_thr: float = sorted(dist_f)[int((1-a)*len(dist_f))]\n",
    "else:\n",
    "    dist_thr: float = sorted(dist_f)[int(a*len(dist_f))]\n",
    "\n",
    "if knn_h_mean > knn_f_mean:\n",
    "    knn_pow: int = sum(np.array(knn_h) > knn_thr)\n",
    "else:\n",
    "    knn_pow: int = sum(np.array(knn_h) < knn_thr)\n",
    "\n",
    "if dist_h_mean > dist_f_mean:\n",
    "    dist_pow: int = sum(np.array(dist_h) > dist_thr)\n",
    "else:\n",
    "    dist_pow: int = sum(np.array(dist_h) < dist_thr)\n"
   ]
  },
  {
   "cell_type": "code",
   "execution_count": 7,
   "id": "85df7cd2",
   "metadata": {},
   "outputs": [
    {
     "data": {
      "application/vnd.plotly.v1+json": {
       "config": {
        "plotlyServerURL": "https://plot.ly"
       },
       "data": [
        {
         "histnorm": "probability density",
         "marker": {
          "color": "blue"
         },
         "name": "KNN f (H0)",
         "nbinsx": 30,
         "opacity": 0.7,
         "type": "histogram",
         "x": [
          14,
          5,
          10,
          7,
          26,
          10,
          8,
          18,
          1,
          3,
          0,
          4,
          11,
          7,
          5,
          24,
          8,
          3,
          6,
          10,
          3,
          6,
          8,
          5,
          3,
          2,
          16,
          10,
          10,
          14,
          10,
          1,
          6,
          18,
          14,
          14,
          6,
          1,
          20,
          24,
          2,
          11,
          3,
          12,
          6,
          2,
          5,
          12,
          12,
          21,
          6,
          13,
          3,
          12,
          6,
          6,
          4,
          14,
          2,
          4,
          3,
          3,
          9,
          4,
          22,
          3,
          20,
          13,
          8,
          12,
          4,
          4,
          4,
          6,
          3,
          4,
          3,
          12,
          12,
          6,
          5,
          6,
          0,
          5,
          8,
          3,
          7,
          4,
          5,
          6,
          17,
          14,
          7,
          6,
          14,
          10,
          11,
          2,
          7,
          8,
          0,
          2,
          7,
          10,
          2,
          20,
          8,
          14,
          7,
          1,
          9,
          4,
          9,
          7,
          1,
          19,
          8,
          5,
          7,
          7,
          3,
          6,
          6,
          6,
          9,
          4,
          6,
          4,
          9,
          2,
          8,
          3,
          3,
          9,
          2,
          9,
          14,
          8,
          1,
          15,
          8,
          6,
          11,
          0,
          4,
          10,
          12,
          30,
          0,
          4,
          6,
          7,
          0,
          6,
          12,
          2,
          4,
          3,
          8,
          9,
          7,
          3,
          3,
          6,
          7,
          1,
          3,
          12,
          20,
          0,
          7,
          2,
          2,
          14,
          15,
          8,
          3,
          11,
          18,
          9,
          17,
          10,
          6,
          15,
          5,
          5,
          4,
          4,
          15,
          4,
          15,
          8,
          2,
          27,
          1,
          6,
          5,
          4,
          1,
          8,
          0,
          7,
          6,
          7,
          12,
          8,
          7,
          13,
          31,
          9,
          5,
          0,
          16,
          2,
          4,
          8,
          18,
          4,
          2,
          19,
          5,
          4,
          1,
          3,
          0,
          21,
          1,
          1,
          17,
          15,
          5,
          0,
          4,
          18,
          4,
          8,
          10,
          6,
          3,
          11,
          0,
          14,
          5,
          10,
          24,
          14,
          13,
          3,
          3,
          5,
          23,
          9,
          1,
          4,
          12,
          4,
          12,
          11,
          3,
          7,
          9,
          4,
          8,
          7,
          5,
          10,
          8,
          28,
          0,
          10,
          33,
          10,
          5,
          4,
          21,
          7,
          18,
          6,
          6,
          1,
          15,
          11,
          2,
          13,
          6,
          9,
          0,
          15,
          5,
          14,
          2,
          0,
          0,
          7,
          7,
          5,
          4,
          8,
          3,
          28,
          1,
          8,
          3,
          6,
          8,
          2,
          26,
          11,
          7,
          14,
          9,
          9,
          14,
          12,
          16,
          2,
          19,
          2,
          7,
          0,
          9,
          18,
          4,
          12,
          9,
          7,
          12,
          7,
          15,
          11,
          6,
          6,
          10,
          9,
          3,
          7,
          9,
          5,
          3,
          3,
          6,
          9,
          10,
          10,
          4,
          4,
          3,
          3,
          7,
          25,
          10,
          6,
          4,
          7,
          8,
          7,
          18,
          0,
          14,
          7,
          4,
          1,
          5,
          15,
          5,
          4,
          7,
          8,
          18,
          0,
          12,
          5,
          13,
          7,
          2,
          9,
          2,
          7,
          4,
          6,
          3,
          2,
          1,
          2,
          5,
          7,
          7,
          2,
          0,
          3,
          7,
          5,
          2,
          11,
          13,
          14,
          3,
          1,
          3,
          6,
          9,
          2,
          2,
          9,
          8,
          8,
          10,
          7,
          9,
          8,
          3,
          3,
          8,
          19,
          14,
          0,
          4,
          30,
          10,
          10,
          3,
          5,
          7,
          11,
          10,
          1,
          0,
          16,
          9,
          5,
          2,
          10,
          4,
          9,
          5,
          14,
          5,
          6,
          0,
          9,
          13,
          13,
          7,
          15,
          5,
          9,
          5,
          19,
          10,
          2,
          31,
          10,
          3,
          4,
          12,
          4,
          22,
          18,
          13,
          7,
          6,
          5,
          5,
          14,
          29,
          13,
          21,
          3,
          3,
          5,
          11,
          4,
          7,
          12,
          5,
          1,
          0,
          2,
          1,
          14,
          1,
          6,
          6,
          6,
          5,
          3,
          0,
          5,
          12,
          6,
          1,
          2,
          6,
          5,
          11,
          10,
          8,
          10,
          15,
          20
         ],
         "xaxis": "x",
         "yaxis": "y"
        },
        {
         "histnorm": "probability density",
         "marker": {
          "color": "red"
         },
         "name": "KNN h (H1)",
         "nbinsx": 30,
         "opacity": 0.7,
         "type": "histogram",
         "x": [
          5,
          11,
          16,
          2,
          11,
          5,
          2,
          0,
          0,
          4,
          11,
          1,
          10,
          4,
          7,
          4,
          12,
          0,
          0,
          4,
          0,
          9,
          12,
          6,
          5,
          3,
          1,
          1,
          6,
          2,
          16,
          9,
          4,
          16,
          0,
          8,
          2,
          18,
          5,
          2,
          4,
          16,
          1,
          11,
          8,
          0,
          3,
          8,
          17,
          5,
          4,
          8,
          14,
          17,
          7,
          9,
          26,
          18,
          0,
          23,
          5,
          12,
          0,
          0,
          4,
          7,
          20,
          9,
          2,
          19,
          16,
          21,
          17,
          16,
          12,
          1,
          6,
          3,
          4,
          14,
          3,
          18,
          11,
          12,
          7,
          9,
          7,
          4,
          3,
          16,
          6,
          10,
          13,
          15,
          4,
          16,
          5,
          14,
          4,
          24,
          8,
          0,
          6,
          5,
          8,
          3,
          12,
          6,
          5,
          3,
          3,
          9,
          7,
          2,
          10,
          17,
          14,
          3,
          12,
          2,
          25,
          0,
          0,
          4,
          9,
          23,
          7,
          14,
          5,
          23,
          21,
          4,
          14,
          10,
          15,
          4,
          11,
          14,
          22,
          6,
          15,
          26,
          6,
          4,
          17,
          3,
          0,
          10,
          9,
          10,
          0,
          2,
          7,
          24,
          3,
          0,
          7,
          4,
          10,
          8,
          8,
          8,
          6,
          1,
          6,
          5,
          8,
          6,
          7,
          15,
          9,
          38,
          0,
          7,
          5,
          3,
          11,
          3,
          2,
          5,
          5,
          1,
          5,
          1,
          15,
          8,
          4,
          10,
          9,
          5,
          3,
          7,
          2,
          2,
          9,
          9,
          7,
          0,
          7,
          0,
          6,
          4,
          9,
          11,
          23,
          2,
          3,
          5,
          12,
          12,
          5,
          8,
          11,
          18,
          8,
          0,
          8,
          1,
          2,
          0,
          5,
          2,
          11,
          8,
          6,
          11,
          5,
          0,
          10,
          11,
          5,
          2,
          3,
          2,
          8,
          7,
          14,
          8,
          5,
          4,
          2,
          1,
          0,
          12,
          6,
          0,
          3,
          4,
          8,
          11,
          10,
          3,
          7,
          4,
          7,
          27,
          4,
          4,
          0,
          6,
          4,
          2,
          6,
          3,
          4,
          4,
          13,
          16,
          0,
          5,
          2,
          2,
          12,
          12,
          14,
          1,
          5,
          5,
          11,
          10,
          2,
          10,
          7,
          8,
          17,
          3,
          5,
          0,
          3,
          10,
          12,
          1,
          23,
          7,
          6,
          4,
          10,
          1,
          4,
          5,
          18,
          10,
          6,
          28,
          0,
          3,
          4,
          0,
          1,
          5,
          4,
          13,
          12,
          1,
          1,
          7,
          12,
          16,
          7,
          22,
          7,
          3,
          5,
          9,
          12,
          15,
          4,
          3,
          9,
          4,
          0,
          9,
          5,
          2,
          3,
          4,
          6,
          3,
          11,
          4,
          7,
          2,
          6,
          11,
          8,
          17,
          1,
          13,
          6,
          4,
          1,
          5,
          12,
          4,
          11,
          11,
          28,
          7,
          5,
          23,
          9,
          11,
          21,
          7,
          0,
          8,
          11,
          16,
          17,
          6,
          5,
          11,
          0,
          17,
          13,
          9,
          5,
          4,
          4,
          5,
          11,
          6,
          5,
          4,
          10,
          13,
          5,
          10,
          9,
          21,
          1,
          4,
          5,
          1,
          4,
          15,
          9,
          15,
          10,
          0,
          1,
          14,
          6,
          18,
          10,
          2,
          9,
          7,
          3,
          0,
          14,
          9,
          7,
          11,
          9,
          8,
          15,
          15,
          11,
          13,
          3,
          0,
          7,
          6,
          3,
          5,
          17,
          4,
          4,
          8,
          21,
          9,
          7,
          3,
          5,
          3,
          5,
          14,
          5,
          4,
          6,
          9,
          0,
          4,
          2,
          7,
          7,
          16,
          1,
          7,
          4,
          2,
          9,
          0,
          4,
          7,
          6,
          0,
          4,
          14,
          0,
          15,
          6,
          7,
          13,
          3,
          6,
          3,
          6,
          7,
          5,
          1,
          10,
          14,
          9,
          2,
          4,
          8,
          5,
          1,
          15,
          6,
          8,
          4,
          2,
          4,
          6,
          5,
          10,
          1,
          9,
          0,
          6,
          0,
          3,
          2,
          5,
          6,
          19,
          4
         ],
         "xaxis": "x",
         "yaxis": "y"
        },
        {
         "histnorm": "probability density",
         "marker": {
          "color": "lightblue"
         },
         "name": "Distance f (H0)",
         "nbinsx": 30,
         "opacity": 0.7,
         "showlegend": false,
         "type": "histogram",
         "x": [
          9,
          11,
          9,
          10,
          10,
          10,
          9,
          9,
          9,
          10,
          9,
          9,
          9,
          9,
          10,
          10,
          10,
          9,
          8,
          9,
          9,
          10,
          9,
          9,
          7,
          11,
          9,
          8,
          9,
          8,
          9,
          8,
          9,
          9,
          9,
          10,
          10,
          9,
          10,
          10,
          10,
          9,
          10,
          11,
          8,
          10,
          8,
          9,
          9,
          9,
          9,
          8,
          9,
          9,
          8,
          12,
          9,
          9,
          8,
          9,
          9,
          10,
          9,
          9,
          11,
          8,
          9,
          12,
          10,
          9,
          8,
          11,
          10,
          9,
          9,
          9,
          8,
          9,
          9,
          11,
          10,
          9,
          9,
          10,
          8,
          9,
          10,
          10,
          9,
          9,
          9,
          9,
          9,
          8,
          9,
          10,
          10,
          10,
          8,
          9,
          10,
          8,
          9,
          8,
          9,
          11,
          8,
          8,
          10,
          10,
          9,
          10,
          8,
          10,
          9,
          10,
          10,
          10,
          10,
          9,
          10,
          10,
          9,
          9,
          10,
          9,
          10,
          9,
          8,
          11,
          9,
          9,
          9,
          10,
          8,
          11,
          10,
          10,
          11,
          10,
          9,
          10,
          10,
          9,
          9,
          8,
          10,
          10,
          9,
          8,
          9,
          9,
          9,
          9,
          9,
          10,
          9,
          9,
          8,
          10,
          9,
          9,
          10,
          9,
          10,
          8,
          9,
          10,
          11,
          10,
          8,
          11,
          10,
          10,
          9,
          11,
          8,
          10,
          10,
          8,
          9,
          10,
          8,
          10,
          10,
          8,
          10,
          9,
          9,
          9,
          9,
          10,
          10,
          9,
          8,
          9,
          9,
          9,
          10,
          9,
          9,
          11,
          9,
          9,
          9,
          12,
          8,
          9,
          8,
          11,
          8,
          10,
          8,
          10,
          9,
          10,
          8,
          9,
          10,
          9,
          10,
          10,
          8,
          9,
          9,
          10,
          9,
          9,
          10,
          9,
          9,
          9,
          10,
          11,
          10,
          9,
          9,
          11,
          9,
          8,
          9,
          9,
          8,
          9,
          9,
          9,
          11,
          9,
          10,
          9,
          11,
          8,
          9,
          9,
          10,
          11,
          8,
          9,
          10,
          8,
          9,
          9,
          11,
          9,
          8,
          9,
          10,
          11,
          10,
          9,
          9,
          9,
          9,
          10,
          9,
          10,
          9,
          9,
          10,
          10,
          9,
          10,
          9,
          9,
          11,
          11,
          9,
          11,
          10,
          8,
          9,
          9,
          8,
          10,
          10,
          9,
          9,
          9,
          9,
          10,
          8,
          8,
          11,
          8,
          9,
          8,
          9,
          10,
          11,
          10,
          10,
          9,
          10,
          11,
          9,
          10,
          9,
          12,
          8,
          10,
          9,
          9,
          9,
          9,
          10,
          10,
          10,
          10,
          8,
          10,
          10,
          9,
          8,
          9,
          9,
          8,
          11,
          9,
          9,
          8,
          10,
          9,
          9,
          8,
          9,
          9,
          10,
          10,
          9,
          10,
          11,
          9,
          9,
          9,
          10,
          11,
          9,
          9,
          11,
          10,
          8,
          9,
          11,
          8,
          9,
          9,
          9,
          9,
          8,
          8,
          10,
          9,
          7,
          10,
          10,
          9,
          10,
          9,
          10,
          9,
          11,
          10,
          9,
          10,
          9,
          9,
          9,
          9,
          9,
          9,
          11,
          9,
          10,
          9,
          10,
          10,
          10,
          10,
          10,
          10,
          10,
          10,
          10,
          10,
          10,
          9,
          10,
          10,
          8,
          8,
          10,
          10,
          9,
          9,
          8,
          10,
          9,
          10,
          10,
          11,
          10,
          11,
          10,
          10,
          10,
          9,
          10,
          8,
          10,
          10,
          8,
          10,
          9,
          8,
          9,
          9,
          9,
          9,
          9,
          9,
          8,
          9,
          9,
          11,
          8,
          9,
          10,
          9,
          9,
          11,
          9,
          9,
          10,
          9,
          8,
          10,
          8,
          11,
          9,
          9,
          9,
          9,
          10,
          9,
          8,
          9,
          10,
          8,
          9,
          10,
          9,
          9,
          8,
          12,
          9,
          8,
          9,
          9,
          9,
          9,
          8,
          10,
          8,
          9,
          11,
          9,
          8,
          9,
          10,
          10,
          8,
          11,
          8,
          9,
          8,
          10,
          9,
          10,
          8,
          9
         ],
         "xaxis": "x2",
         "yaxis": "y2"
        },
        {
         "histnorm": "probability density",
         "marker": {
          "color": "orange"
         },
         "name": "Distance h (H1)",
         "nbinsx": 30,
         "opacity": 0.7,
         "showlegend": false,
         "type": "histogram",
         "x": [
          14,
          14,
          12,
          11,
          14,
          14,
          12,
          15,
          11,
          14,
          16,
          12,
          12,
          10,
          15,
          14,
          12,
          16,
          17,
          14,
          17,
          14,
          15,
          13,
          12,
          14,
          15,
          13,
          12,
          13,
          13,
          17,
          11,
          12,
          16,
          14,
          13,
          14,
          14,
          11,
          13,
          17,
          15,
          13,
          14,
          16,
          11,
          16,
          12,
          15,
          15,
          13,
          17,
          13,
          17,
          13,
          14,
          16,
          14,
          14,
          14,
          13,
          14,
          14,
          14,
          11,
          15,
          14,
          16,
          16,
          14,
          16,
          16,
          14,
          14,
          13,
          13,
          13,
          16,
          14,
          12,
          13,
          12,
          13,
          12,
          13,
          17,
          16,
          13,
          16,
          15,
          12,
          14,
          15,
          13,
          15,
          16,
          16,
          13,
          14,
          18,
          12,
          13,
          12,
          13,
          14,
          17,
          13,
          13,
          12,
          13,
          16,
          12,
          14,
          14,
          16,
          14,
          16,
          14,
          15,
          13,
          13,
          13,
          16,
          12,
          15,
          16,
          16,
          16,
          18,
          14,
          14,
          13,
          14,
          12,
          14,
          13,
          13,
          16,
          13,
          16,
          14,
          13,
          11,
          15,
          13,
          13,
          14,
          14,
          19,
          15,
          15,
          15,
          17,
          16,
          15,
          15,
          13,
          14,
          14,
          13,
          18,
          13,
          14,
          15,
          13,
          12,
          13,
          12,
          13,
          14,
          13,
          13,
          13,
          10,
          17,
          15,
          12,
          14,
          13,
          16,
          16,
          15,
          15,
          16,
          14,
          15,
          13,
          15,
          13,
          11,
          15,
          15,
          14,
          12,
          17,
          14,
          12,
          15,
          14,
          16,
          15,
          13,
          13,
          13,
          14,
          13,
          13,
          14,
          15,
          17,
          15,
          13,
          13,
          13,
          13,
          12,
          15,
          13,
          13,
          16,
          14,
          15,
          16,
          13,
          16,
          15,
          17,
          13,
          14,
          14,
          14,
          12,
          15,
          16,
          14,
          14,
          14,
          15,
          14,
          15,
          18,
          15,
          10,
          16,
          15,
          14,
          14,
          15,
          14,
          13,
          13,
          15,
          13,
          14,
          13,
          15,
          13,
          16,
          13,
          14,
          15,
          16,
          14,
          16,
          18,
          13,
          12,
          14,
          13,
          12,
          14,
          15,
          15,
          11,
          13,
          15,
          10,
          15,
          11,
          14,
          12,
          13,
          13,
          13,
          16,
          16,
          15,
          13,
          13,
          17,
          16,
          14,
          15,
          15,
          15,
          13,
          14,
          16,
          16,
          12,
          12,
          15,
          14,
          15,
          16,
          16,
          14,
          14,
          11,
          16,
          14,
          15,
          14,
          17,
          13,
          12,
          13,
          14,
          14,
          14,
          12,
          13,
          15,
          15,
          14,
          12,
          13,
          14,
          16,
          13,
          13,
          15,
          14,
          14,
          14,
          15,
          16,
          12,
          12,
          13,
          16,
          15,
          15,
          17,
          12,
          14,
          15,
          15,
          13,
          15,
          16,
          14,
          13,
          15,
          15,
          12,
          13,
          17,
          11,
          15,
          13,
          15,
          13,
          13,
          16,
          14,
          13,
          14,
          11,
          13,
          14,
          14,
          13,
          12,
          18,
          15,
          17,
          13,
          13,
          16,
          17,
          17,
          12,
          15,
          18,
          13,
          15,
          13,
          14,
          16,
          13,
          14,
          12,
          14,
          12,
          15,
          18,
          13,
          12,
          17,
          18,
          15,
          14,
          15,
          15,
          14,
          17,
          17,
          15,
          15,
          15,
          14,
          13,
          15,
          13,
          14,
          17,
          13,
          14,
          15,
          14,
          14,
          12,
          15,
          14,
          12,
          17,
          13,
          13,
          13,
          11,
          14,
          13,
          16,
          15,
          14,
          13,
          12,
          14,
          15,
          14,
          10,
          15,
          15,
          13,
          12,
          12,
          15,
          12,
          13,
          15,
          15,
          16,
          12,
          12,
          14,
          13,
          15,
          14,
          12,
          14,
          16,
          14,
          14,
          15,
          14,
          12,
          14,
          13,
          17,
          15,
          14,
          14,
          14,
          13,
          15,
          15,
          14,
          17,
          14,
          18,
          14,
          12,
          13,
          13,
          14,
          15,
          16,
          14,
          14,
          15,
          13,
          14,
          14,
          15,
          15,
          14,
          14,
          16
         ],
         "xaxis": "x2",
         "yaxis": "y2"
        },
        {
         "line": {
          "color": "purple",
          "width": 2
         },
         "marker": {
          "size": 4
         },
         "mode": "lines+markers",
         "name": "KNN ROC",
         "showlegend": false,
         "type": "scatter",
         "x": [
          0.95,
          0.95,
          0.904,
          0.84,
          0.84,
          0.754,
          0.672,
          0.672,
          0.594,
          0.51,
          0.51,
          0.426,
          0.366,
          0.366,
          0.31,
          0.254,
          0.254,
          0.226,
          0.186,
          0.186,
          0.164,
          0.122,
          0.122,
          0.098,
          0.09,
          0.09,
          0.084,
          0.064,
          0.064,
          0.054,
          0.044,
          0.044,
          0.036,
          0.032,
          0.032,
          0.03,
          0.024,
          0.024,
          0.022,
          0.018,
          0.018,
          0.016,
          0.012,
          0.012,
          0.01,
          0.006,
          0.006,
          0.002,
          0.002,
          0
         ],
         "xaxis": "x3",
         "y": [
          0.918,
          0.918,
          0.868,
          0.808,
          0.808,
          0.74,
          0.634,
          0.634,
          0.542,
          0.474,
          0.474,
          0.404,
          0.354,
          0.354,
          0.298,
          0.256,
          0.256,
          0.208,
          0.174,
          0.174,
          0.158,
          0.13,
          0.13,
          0.106,
          0.082,
          0.082,
          0.062,
          0.05,
          0.05,
          0.046,
          0.044,
          0.044,
          0.034,
          0.03,
          0.03,
          0.018,
          0.014,
          0.014,
          0.012,
          0.008,
          0.008,
          0.006,
          0.002,
          0.002,
          0.002,
          0.002,
          0.002,
          0.002,
          0.002,
          0.002
         ],
         "yaxis": "y3"
        },
        {
         "marker": {
          "color": "red",
          "size": 12,
          "symbol": "star"
         },
         "mode": "markers",
         "name": "α=0.05",
         "showlegend": false,
         "type": "scatter",
         "x": [
          0.904
         ],
         "xaxis": "x3",
         "y": [
          0.868
         ],
         "yaxis": "y3"
        },
        {
         "line": {
          "color": "darkgreen",
          "width": 2
         },
         "marker": {
          "size": 4
         },
         "mode": "lines+markers",
         "name": "Distance ROC",
         "showlegend": false,
         "type": "scatter",
         "x": [
          0.996,
          0.996,
          0.996,
          0.996,
          0.996,
          0.996,
          0.996,
          0.996,
          0.996,
          0.996,
          0.834,
          0.834,
          0.834,
          0.834,
          0.834,
          0.834,
          0.834,
          0.834,
          0.834,
          0.834,
          0.394,
          0.394,
          0.394,
          0.394,
          0.394,
          0.394,
          0.394,
          0.394,
          0.394,
          0.394,
          0.094,
          0.094,
          0.094,
          0.094,
          0.094,
          0.094,
          0.094,
          0.094,
          0.094,
          0.094,
          0.01,
          0.01,
          0.01,
          0.01,
          0.01,
          0.01,
          0.01,
          0.01,
          0.01,
          0
         ],
         "xaxis": "x4",
         "y": [
          1,
          1,
          1,
          1,
          1,
          1,
          1,
          1,
          1,
          1,
          1,
          1,
          1,
          1,
          1,
          1,
          1,
          1,
          1,
          1,
          1,
          1,
          1,
          1,
          1,
          1,
          1,
          1,
          1,
          1,
          0.99,
          0.99,
          0.99,
          0.99,
          0.99,
          0.99,
          0.99,
          0.99,
          0.99,
          0.99,
          0.962,
          0.962,
          0.962,
          0.962,
          0.962,
          0.962,
          0.962,
          0.962,
          0.962,
          0.854
         ],
         "yaxis": "y4"
        },
        {
         "marker": {
          "color": "red",
          "size": 12,
          "symbol": "star"
         },
         "mode": "markers",
         "name": "α=0.05",
         "showlegend": false,
         "type": "scatter",
         "x": [
          0.01
         ],
         "xaxis": "x4",
         "y": [
          0.962
         ],
         "yaxis": "y4"
        }
       ],
       "layout": {
        "annotations": [
         {
          "font": {
           "size": 16
          },
          "showarrow": false,
          "text": "Количество треугольников: Распределения и трешолд",
          "x": 0.225,
          "xanchor": "center",
          "xref": "paper",
          "y": 1,
          "yanchor": "bottom",
          "yref": "paper"
         },
         {
          "font": {
           "size": 16
          },
          "showarrow": false,
          "text": "Минимальное кликовое покрытие: Распределения и трешолд",
          "x": 0.775,
          "xanchor": "center",
          "xref": "paper",
          "y": 1,
          "yanchor": "bottom",
          "yref": "paper"
         },
         {
          "font": {
           "size": 16
          },
          "showarrow": false,
          "text": "KNN: ROC-подобная кривая",
          "x": 0.225,
          "xanchor": "center",
          "xref": "paper",
          "y": 0.44,
          "yanchor": "bottom",
          "yref": "paper"
         },
         {
          "font": {
           "size": 16
          },
          "showarrow": false,
          "text": "Distance: ROC-подобная кривая",
          "x": 0.775,
          "xanchor": "center",
          "xref": "paper",
          "y": 0.44,
          "yanchor": "bottom",
          "yref": "paper"
         },
         {
          "showarrow": false,
          "text": "Трешолд: 1.000",
          "x": 1,
          "xanchor": "left",
          "xref": "x",
          "y": 1,
          "yanchor": "top",
          "yref": "y domain"
         },
         {
          "showarrow": false,
          "text": "Трешолд: 11.000",
          "x": 11,
          "xanchor": "left",
          "xref": "x2",
          "y": 1,
          "yanchor": "top",
          "yref": "y2 domain"
         }
        ],
        "height": 800,
        "legend": {
         "x": 0.01,
         "xanchor": "left",
         "y": 0.98,
         "yanchor": "top"
        },
        "shapes": [
         {
          "line": {
           "color": "green",
           "dash": "dash",
           "width": 3
          },
          "type": "line",
          "x0": 1,
          "x1": 1,
          "xref": "x",
          "y0": 0,
          "y1": 1,
          "yref": "y domain"
         },
         {
          "line": {
           "color": "green",
           "dash": "dash",
           "width": 3
          },
          "type": "line",
          "x0": 11,
          "x1": 11,
          "xref": "x2",
          "y0": 0,
          "y1": 1,
          "yref": "y2 domain"
         }
        ],
        "showlegend": true,
        "template": {
         "data": {
          "bar": [
           {
            "error_x": {
             "color": "#2a3f5f"
            },
            "error_y": {
             "color": "#2a3f5f"
            },
            "marker": {
             "line": {
              "color": "#E5ECF6",
              "width": 0.5
             },
             "pattern": {
              "fillmode": "overlay",
              "size": 10,
              "solidity": 0.2
             }
            },
            "type": "bar"
           }
          ],
          "barpolar": [
           {
            "marker": {
             "line": {
              "color": "#E5ECF6",
              "width": 0.5
             },
             "pattern": {
              "fillmode": "overlay",
              "size": 10,
              "solidity": 0.2
             }
            },
            "type": "barpolar"
           }
          ],
          "carpet": [
           {
            "aaxis": {
             "endlinecolor": "#2a3f5f",
             "gridcolor": "white",
             "linecolor": "white",
             "minorgridcolor": "white",
             "startlinecolor": "#2a3f5f"
            },
            "baxis": {
             "endlinecolor": "#2a3f5f",
             "gridcolor": "white",
             "linecolor": "white",
             "minorgridcolor": "white",
             "startlinecolor": "#2a3f5f"
            },
            "type": "carpet"
           }
          ],
          "choropleth": [
           {
            "colorbar": {
             "outlinewidth": 0,
             "ticks": ""
            },
            "type": "choropleth"
           }
          ],
          "contour": [
           {
            "colorbar": {
             "outlinewidth": 0,
             "ticks": ""
            },
            "colorscale": [
             [
              0,
              "#0d0887"
             ],
             [
              0.1111111111111111,
              "#46039f"
             ],
             [
              0.2222222222222222,
              "#7201a8"
             ],
             [
              0.3333333333333333,
              "#9c179e"
             ],
             [
              0.4444444444444444,
              "#bd3786"
             ],
             [
              0.5555555555555556,
              "#d8576b"
             ],
             [
              0.6666666666666666,
              "#ed7953"
             ],
             [
              0.7777777777777778,
              "#fb9f3a"
             ],
             [
              0.8888888888888888,
              "#fdca26"
             ],
             [
              1,
              "#f0f921"
             ]
            ],
            "type": "contour"
           }
          ],
          "contourcarpet": [
           {
            "colorbar": {
             "outlinewidth": 0,
             "ticks": ""
            },
            "type": "contourcarpet"
           }
          ],
          "heatmap": [
           {
            "colorbar": {
             "outlinewidth": 0,
             "ticks": ""
            },
            "colorscale": [
             [
              0,
              "#0d0887"
             ],
             [
              0.1111111111111111,
              "#46039f"
             ],
             [
              0.2222222222222222,
              "#7201a8"
             ],
             [
              0.3333333333333333,
              "#9c179e"
             ],
             [
              0.4444444444444444,
              "#bd3786"
             ],
             [
              0.5555555555555556,
              "#d8576b"
             ],
             [
              0.6666666666666666,
              "#ed7953"
             ],
             [
              0.7777777777777778,
              "#fb9f3a"
             ],
             [
              0.8888888888888888,
              "#fdca26"
             ],
             [
              1,
              "#f0f921"
             ]
            ],
            "type": "heatmap"
           }
          ],
          "histogram": [
           {
            "marker": {
             "pattern": {
              "fillmode": "overlay",
              "size": 10,
              "solidity": 0.2
             }
            },
            "type": "histogram"
           }
          ],
          "histogram2d": [
           {
            "colorbar": {
             "outlinewidth": 0,
             "ticks": ""
            },
            "colorscale": [
             [
              0,
              "#0d0887"
             ],
             [
              0.1111111111111111,
              "#46039f"
             ],
             [
              0.2222222222222222,
              "#7201a8"
             ],
             [
              0.3333333333333333,
              "#9c179e"
             ],
             [
              0.4444444444444444,
              "#bd3786"
             ],
             [
              0.5555555555555556,
              "#d8576b"
             ],
             [
              0.6666666666666666,
              "#ed7953"
             ],
             [
              0.7777777777777778,
              "#fb9f3a"
             ],
             [
              0.8888888888888888,
              "#fdca26"
             ],
             [
              1,
              "#f0f921"
             ]
            ],
            "type": "histogram2d"
           }
          ],
          "histogram2dcontour": [
           {
            "colorbar": {
             "outlinewidth": 0,
             "ticks": ""
            },
            "colorscale": [
             [
              0,
              "#0d0887"
             ],
             [
              0.1111111111111111,
              "#46039f"
             ],
             [
              0.2222222222222222,
              "#7201a8"
             ],
             [
              0.3333333333333333,
              "#9c179e"
             ],
             [
              0.4444444444444444,
              "#bd3786"
             ],
             [
              0.5555555555555556,
              "#d8576b"
             ],
             [
              0.6666666666666666,
              "#ed7953"
             ],
             [
              0.7777777777777778,
              "#fb9f3a"
             ],
             [
              0.8888888888888888,
              "#fdca26"
             ],
             [
              1,
              "#f0f921"
             ]
            ],
            "type": "histogram2dcontour"
           }
          ],
          "mesh3d": [
           {
            "colorbar": {
             "outlinewidth": 0,
             "ticks": ""
            },
            "type": "mesh3d"
           }
          ],
          "parcoords": [
           {
            "line": {
             "colorbar": {
              "outlinewidth": 0,
              "ticks": ""
             }
            },
            "type": "parcoords"
           }
          ],
          "pie": [
           {
            "automargin": true,
            "type": "pie"
           }
          ],
          "scatter": [
           {
            "fillpattern": {
             "fillmode": "overlay",
             "size": 10,
             "solidity": 0.2
            },
            "type": "scatter"
           }
          ],
          "scatter3d": [
           {
            "line": {
             "colorbar": {
              "outlinewidth": 0,
              "ticks": ""
             }
            },
            "marker": {
             "colorbar": {
              "outlinewidth": 0,
              "ticks": ""
             }
            },
            "type": "scatter3d"
           }
          ],
          "scattercarpet": [
           {
            "marker": {
             "colorbar": {
              "outlinewidth": 0,
              "ticks": ""
             }
            },
            "type": "scattercarpet"
           }
          ],
          "scattergeo": [
           {
            "marker": {
             "colorbar": {
              "outlinewidth": 0,
              "ticks": ""
             }
            },
            "type": "scattergeo"
           }
          ],
          "scattergl": [
           {
            "marker": {
             "colorbar": {
              "outlinewidth": 0,
              "ticks": ""
             }
            },
            "type": "scattergl"
           }
          ],
          "scattermap": [
           {
            "marker": {
             "colorbar": {
              "outlinewidth": 0,
              "ticks": ""
             }
            },
            "type": "scattermap"
           }
          ],
          "scattermapbox": [
           {
            "marker": {
             "colorbar": {
              "outlinewidth": 0,
              "ticks": ""
             }
            },
            "type": "scattermapbox"
           }
          ],
          "scatterpolar": [
           {
            "marker": {
             "colorbar": {
              "outlinewidth": 0,
              "ticks": ""
             }
            },
            "type": "scatterpolar"
           }
          ],
          "scatterpolargl": [
           {
            "marker": {
             "colorbar": {
              "outlinewidth": 0,
              "ticks": ""
             }
            },
            "type": "scatterpolargl"
           }
          ],
          "scatterternary": [
           {
            "marker": {
             "colorbar": {
              "outlinewidth": 0,
              "ticks": ""
             }
            },
            "type": "scatterternary"
           }
          ],
          "surface": [
           {
            "colorbar": {
             "outlinewidth": 0,
             "ticks": ""
            },
            "colorscale": [
             [
              0,
              "#0d0887"
             ],
             [
              0.1111111111111111,
              "#46039f"
             ],
             [
              0.2222222222222222,
              "#7201a8"
             ],
             [
              0.3333333333333333,
              "#9c179e"
             ],
             [
              0.4444444444444444,
              "#bd3786"
             ],
             [
              0.5555555555555556,
              "#d8576b"
             ],
             [
              0.6666666666666666,
              "#ed7953"
             ],
             [
              0.7777777777777778,
              "#fb9f3a"
             ],
             [
              0.8888888888888888,
              "#fdca26"
             ],
             [
              1,
              "#f0f921"
             ]
            ],
            "type": "surface"
           }
          ],
          "table": [
           {
            "cells": {
             "fill": {
              "color": "#EBF0F8"
             },
             "line": {
              "color": "white"
             }
            },
            "header": {
             "fill": {
              "color": "#C8D4E3"
             },
             "line": {
              "color": "white"
             }
            },
            "type": "table"
           }
          ]
         },
         "layout": {
          "annotationdefaults": {
           "arrowcolor": "#2a3f5f",
           "arrowhead": 0,
           "arrowwidth": 1
          },
          "autotypenumbers": "strict",
          "coloraxis": {
           "colorbar": {
            "outlinewidth": 0,
            "ticks": ""
           }
          },
          "colorscale": {
           "diverging": [
            [
             0,
             "#8e0152"
            ],
            [
             0.1,
             "#c51b7d"
            ],
            [
             0.2,
             "#de77ae"
            ],
            [
             0.3,
             "#f1b6da"
            ],
            [
             0.4,
             "#fde0ef"
            ],
            [
             0.5,
             "#f7f7f7"
            ],
            [
             0.6,
             "#e6f5d0"
            ],
            [
             0.7,
             "#b8e186"
            ],
            [
             0.8,
             "#7fbc41"
            ],
            [
             0.9,
             "#4d9221"
            ],
            [
             1,
             "#276419"
            ]
           ],
           "sequential": [
            [
             0,
             "#0d0887"
            ],
            [
             0.1111111111111111,
             "#46039f"
            ],
            [
             0.2222222222222222,
             "#7201a8"
            ],
            [
             0.3333333333333333,
             "#9c179e"
            ],
            [
             0.4444444444444444,
             "#bd3786"
            ],
            [
             0.5555555555555556,
             "#d8576b"
            ],
            [
             0.6666666666666666,
             "#ed7953"
            ],
            [
             0.7777777777777778,
             "#fb9f3a"
            ],
            [
             0.8888888888888888,
             "#fdca26"
            ],
            [
             1,
             "#f0f921"
            ]
           ],
           "sequentialminus": [
            [
             0,
             "#0d0887"
            ],
            [
             0.1111111111111111,
             "#46039f"
            ],
            [
             0.2222222222222222,
             "#7201a8"
            ],
            [
             0.3333333333333333,
             "#9c179e"
            ],
            [
             0.4444444444444444,
             "#bd3786"
            ],
            [
             0.5555555555555556,
             "#d8576b"
            ],
            [
             0.6666666666666666,
             "#ed7953"
            ],
            [
             0.7777777777777778,
             "#fb9f3a"
            ],
            [
             0.8888888888888888,
             "#fdca26"
            ],
            [
             1,
             "#f0f921"
            ]
           ]
          },
          "colorway": [
           "#636efa",
           "#EF553B",
           "#00cc96",
           "#ab63fa",
           "#FFA15A",
           "#19d3f3",
           "#FF6692",
           "#B6E880",
           "#FF97FF",
           "#FECB52"
          ],
          "font": {
           "color": "#2a3f5f"
          },
          "geo": {
           "bgcolor": "white",
           "lakecolor": "white",
           "landcolor": "#E5ECF6",
           "showlakes": true,
           "showland": true,
           "subunitcolor": "white"
          },
          "hoverlabel": {
           "align": "left"
          },
          "hovermode": "closest",
          "mapbox": {
           "style": "light"
          },
          "paper_bgcolor": "white",
          "plot_bgcolor": "#E5ECF6",
          "polar": {
           "angularaxis": {
            "gridcolor": "white",
            "linecolor": "white",
            "ticks": ""
           },
           "bgcolor": "#E5ECF6",
           "radialaxis": {
            "gridcolor": "white",
            "linecolor": "white",
            "ticks": ""
           }
          },
          "scene": {
           "xaxis": {
            "backgroundcolor": "#E5ECF6",
            "gridcolor": "white",
            "gridwidth": 2,
            "linecolor": "white",
            "showbackground": true,
            "ticks": "",
            "zerolinecolor": "white"
           },
           "yaxis": {
            "backgroundcolor": "#E5ECF6",
            "gridcolor": "white",
            "gridwidth": 2,
            "linecolor": "white",
            "showbackground": true,
            "ticks": "",
            "zerolinecolor": "white"
           },
           "zaxis": {
            "backgroundcolor": "#E5ECF6",
            "gridcolor": "white",
            "gridwidth": 2,
            "linecolor": "white",
            "showbackground": true,
            "ticks": "",
            "zerolinecolor": "white"
           }
          },
          "shapedefaults": {
           "line": {
            "color": "#2a3f5f"
           }
          },
          "ternary": {
           "aaxis": {
            "gridcolor": "white",
            "linecolor": "white",
            "ticks": ""
           },
           "baxis": {
            "gridcolor": "white",
            "linecolor": "white",
            "ticks": ""
           },
           "bgcolor": "#E5ECF6",
           "caxis": {
            "gridcolor": "white",
            "linecolor": "white",
            "ticks": ""
           }
          },
          "title": {
           "x": 0.05
          },
          "xaxis": {
           "automargin": true,
           "gridcolor": "white",
           "linecolor": "white",
           "ticks": "",
           "title": {
            "standoff": 15
           },
           "zerolinecolor": "white",
           "zerolinewidth": 2
          },
          "yaxis": {
           "automargin": true,
           "gridcolor": "white",
           "linecolor": "white",
           "ticks": "",
           "title": {
            "standoff": 15
           },
           "zerolinecolor": "white",
           "zerolinewidth": 2
          }
         }
        },
        "title": {
         "text": "Анализ статистических тестов с трешолдом (α=0.05, n=100, iter=500)",
         "x": 0.5
        },
        "width": 1300,
        "xaxis": {
         "anchor": "y",
         "domain": [
          0,
          0.45
         ],
         "title": {
          "text": "Значение метрики"
         }
        },
        "xaxis2": {
         "anchor": "y2",
         "domain": [
          0.55,
          1
         ],
         "title": {
          "text": "Значение метрики"
         }
        },
        "xaxis3": {
         "anchor": "y3",
         "domain": [
          0,
          0.45
         ],
         "title": {
          "text": "Ложноположительная частота (FPR)"
         }
        },
        "xaxis4": {
         "anchor": "y4",
         "domain": [
          0.55,
          1
         ],
         "title": {
          "text": "Ложноположительная частота (FPR)"
         }
        },
        "yaxis": {
         "anchor": "x",
         "domain": [
          0.56,
          1
         ],
         "title": {
          "text": "Плотность вероятности"
         }
        },
        "yaxis2": {
         "anchor": "x2",
         "domain": [
          0.56,
          1
         ],
         "title": {
          "text": "Плотность вероятности"
         }
        },
        "yaxis3": {
         "anchor": "x3",
         "domain": [
          0,
          0.44
         ],
         "title": {
          "text": "Мощность (TPR)"
         }
        },
        "yaxis4": {
         "anchor": "x4",
         "domain": [
          0,
          0.44
         ],
         "title": {
          "text": "Мощность (TPR)"
         }
        }
       }
      }
     },
     "metadata": {},
     "output_type": "display_data"
    }
   ],
   "source": [
    "fig = make_subplots(\n",
    "    rows=2,\n",
    "    cols=2,\n",
    "    subplot_titles=(\n",
    "        \"Количество треугольников: Распределения и трешолд\",\n",
    "        \"Минимальное кликовое покрытие: Распределения и трешолд\",\n",
    "        \"KNN: ROC-подобная кривая\",\n",
    "        \"Distance: ROC-подобная кривая\",\n",
    "    ),\n",
    "    specs=[\n",
    "        [{\"secondary_y\": False}, {\"secondary_y\": False}],\n",
    "        [{\"secondary_y\": False}, {\"secondary_y\": False}],\n",
    "    ],\n",
    "    vertical_spacing=0.12,\n",
    "    horizontal_spacing=0.1,\n",
    ")\n",
    "\n",
    "fig.add_trace(\n",
    "    go.Histogram(\n",
    "        x=knn_f,\n",
    "        name=\"KNN f (H0)\",\n",
    "        opacity=0.7,\n",
    "        nbinsx=30,\n",
    "        marker_color=\"blue\",\n",
    "        histnorm=\"probability density\",\n",
    "    ),\n",
    "    row=1,\n",
    "    col=1,\n",
    ")\n",
    "\n",
    "fig.add_trace(\n",
    "    go.Histogram(\n",
    "        x=knn_h,\n",
    "        name=\"KNN h (H1)\",\n",
    "        opacity=0.7,\n",
    "        nbinsx=30,\n",
    "        marker_color=\"red\",\n",
    "        histnorm=\"probability density\",\n",
    "    ),\n",
    "    row=1,\n",
    "    col=1,\n",
    ")\n",
    "\n",
    "fig.add_vline(\n",
    "    x=knn_thr,\n",
    "    line=dict(color=\"green\", width=3, dash=\"dash\"),\n",
    "    annotation_text=f\"Трешолд: {knn_thr:.3f}\",\n",
    "    row=1,\n",
    "    col=1,\n",
    ")\n",
    "\n",
    "fig.add_trace(\n",
    "    go.Histogram(\n",
    "        x=dist_f,\n",
    "        name=\"Distance f (H0)\",\n",
    "        opacity=0.7,\n",
    "        nbinsx=30,\n",
    "        marker_color=\"lightblue\",\n",
    "        histnorm=\"probability density\",\n",
    "        showlegend=False,\n",
    "    ),\n",
    "    row=1,\n",
    "    col=2,\n",
    ")\n",
    "\n",
    "fig.add_trace(\n",
    "    go.Histogram(\n",
    "        x=dist_h,\n",
    "        name=\"Distance h (H1)\",\n",
    "        opacity=0.7,\n",
    "        nbinsx=30,\n",
    "        marker_color=\"orange\",\n",
    "        histnorm=\"probability density\",\n",
    "        showlegend=False,\n",
    "    ),\n",
    "    row=1,\n",
    "    col=2,\n",
    ")\n",
    "\n",
    "fig.add_vline(\n",
    "    x=dist_thr,\n",
    "    line=dict(color=\"green\", width=3, dash=\"dash\"),\n",
    "    annotation_text=f\"Трешолд: {dist_thr:.3f}\",\n",
    "    row=1,\n",
    "    col=2,\n",
    ")\n",
    "\n",
    "thresholds_knn: np.ndarray = np.linspace(min(knn_f), max(knn_f), 50)\n",
    "power_knn: List[float] = [\n",
    "    sum(np.array(knn_h) > thr) / len(knn_h) for thr in thresholds_knn\n",
    "]\n",
    "fpr_knn: List[float] = [\n",
    "    sum(np.array(knn_f) > thr) / len(knn_f) for thr in thresholds_knn\n",
    "]\n",
    "\n",
    "fig.add_trace(\n",
    "    go.Scatter(\n",
    "        x=fpr_knn,\n",
    "        y=power_knn,\n",
    "        mode=\"lines+markers\",\n",
    "        name=\"KNN ROC\",\n",
    "        line=dict(color=\"purple\", width=2),\n",
    "        marker=dict(size=4),\n",
    "        showlegend=False,\n",
    "    ),\n",
    "    row=2,\n",
    "    col=1,\n",
    ")\n",
    "\n",
    "current_fpr_knn: float = sum(np.array(knn_f) > knn_thr) / len(knn_f)\n",
    "current_power_knn: float = sum(np.array(knn_h) > knn_thr) / len(knn_h)\n",
    "fig.add_trace(\n",
    "    go.Scatter(\n",
    "        x=[current_fpr_knn],\n",
    "        y=[current_power_knn],\n",
    "        mode=\"markers\",\n",
    "        marker=dict(size=12, color=\"red\", symbol=\"star\"),\n",
    "        name=f\"α={a}\",\n",
    "        showlegend=False,\n",
    "    ),\n",
    "    row=2,\n",
    "    col=1,\n",
    ")\n",
    "\n",
    "thresholds_dist: np.ndarray = np.linspace(min(dist_f), max(dist_f), 50)\n",
    "power_dist: List[float] = [\n",
    "    sum(np.array(dist_h) > thr) / len(dist_h) for thr in thresholds_dist\n",
    "]\n",
    "fpr_dist: List[float] = [\n",
    "    sum(np.array(dist_f) > thr) / len(dist_f) for thr in thresholds_dist\n",
    "]\n",
    "\n",
    "fig.add_trace(\n",
    "    go.Scatter(\n",
    "        x=fpr_dist,\n",
    "        y=power_dist,\n",
    "        mode=\"lines+markers\",\n",
    "        name=\"Distance ROC\",\n",
    "        line=dict(color=\"darkgreen\", width=2),\n",
    "        marker=dict(size=4),\n",
    "        showlegend=False,\n",
    "    ),\n",
    "    row=2,\n",
    "    col=2,\n",
    ")\n",
    "\n",
    "current_fpr_dist: float = sum(np.array(dist_f) > dist_thr) / len(dist_f)\n",
    "current_power_dist: float = sum(np.array(dist_h) > dist_thr) / len(dist_h)\n",
    "fig.add_trace(\n",
    "    go.Scatter(\n",
    "        x=[current_fpr_dist],\n",
    "        y=[current_power_dist],\n",
    "        mode=\"markers\",\n",
    "        marker=dict(size=12, color=\"red\", symbol=\"star\"),\n",
    "        name=f\"α={a}\",\n",
    "        showlegend=False,\n",
    "    ),\n",
    "    row=2,\n",
    "    col=2,\n",
    ")\n",
    "\n",
    "fig.update_xaxes(title_text=\"Значение метрики\", row=1, col=1)\n",
    "fig.update_xaxes(title_text=\"Значение метрики\", row=1, col=2)\n",
    "fig.update_xaxes(title_text=\"Ложноположительная частота (FPR)\", row=2, col=1)\n",
    "fig.update_xaxes(title_text=\"Ложноположительная частота (FPR)\", row=2, col=2)\n",
    "\n",
    "fig.update_yaxes(title_text=\"Плотность вероятности\", row=1, col=1)\n",
    "fig.update_yaxes(title_text=\"Плотность вероятности\", row=1, col=2)\n",
    "fig.update_yaxes(title_text=\"Мощность (TPR)\", row=2, col=1)\n",
    "fig.update_yaxes(title_text=\"Мощность (TPR)\", row=2, col=2)\n",
    "\n",
    "fig.update_layout(\n",
    "    title_text=f\"Анализ статистических тестов с трешолдом (α={a}, n={n}, iter={mc_iter})\",\n",
    "    title_x=0.5,\n",
    "    width=1300,\n",
    "    height=800,\n",
    "    showlegend=True,\n",
    "    legend=dict(yanchor=\"top\", y=0.98, xanchor=\"left\", x=0.01),\n",
    ")\n",
    "\n",
    "fig.show()\n"
   ]
  },
  {
   "cell_type": "code",
   "execution_count": null,
   "id": "b69368b7",
   "metadata": {},
   "outputs": [],
   "source": []
  },
  {
   "cell_type": "code",
   "execution_count": null,
   "id": "9ff67744",
   "metadata": {},
   "outputs": [],
   "source": []
  }
 ],
 "metadata": {
  "kernelspec": {
   "display_name": "Python 3",
   "language": "python",
   "name": "python3"
  },
  "language_info": {
   "codemirror_mode": {
    "name": "ipython",
    "version": 3
   },
   "file_extension": ".py",
   "mimetype": "text/x-python",
   "name": "python",
   "nbconvert_exporter": "python",
   "pygments_lexer": "ipython3",
   "version": "3.11.9"
  }
 },
 "nbformat": 4,
 "nbformat_minor": 5
}
