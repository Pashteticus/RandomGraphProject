{
 "cells": [
  {
   "cell_type": "code",
   "execution_count": 8,
   "id": "a6501306",
   "metadata": {},
   "outputs": [],
   "source": [
    "import numpy as np\n",
    "from typing import List\n",
    "import plotly.graph_objects as go\n",
    "from plotly.subplots import make_subplots\n",
    "from tqdm.auto import tqdm\n",
    "\n",
    "import sys\n",
    "sys.path.append(\"..\")\n",
    "from src.data import Generator\n",
    "from src.graph.knn import GraphKnn\n",
    "from src.graph.dist import GraphDist"
   ]
  },
  {
   "cell_type": "code",
   "execution_count": 9,
   "id": "86e59430",
   "metadata": {},
   "outputs": [
    {
     "data": {
      "application/vnd.jupyter.widget-view+json": {
       "model_id": "bec73fc868794bb789383b91c30e83c8",
       "version_major": 2,
       "version_minor": 0
      },
      "text/plain": [
       "  0%|          | 0/50 [00:00<?, ?it/s]"
      ]
     },
     "metadata": {},
     "output_type": "display_data"
    }
   ],
   "source": [
    "n: int = 100\n",
    "cnt: int = 50\n",
    "shape_param: np.ndarray = np.linspace(0.01, 2, cnt)  # для Gamma(shape=0.5, scale=λ)\n",
    "alpha_param: np.ndarray = np.linspace(0.01, 2, cnt)  # для Pareto(α)\n",
    "mc_iter: int = 20\n",
    "\n",
    "knn_f_two: List[float] = []\n",
    "knn_h_two: List[float] = []\n",
    "dist_f_two: List[float] = []\n",
    "dist_h_two: List[float] = []\n",
    "for i in tqdm(range(cnt)):\n",
    "    gen: Generator = Generator(v=3, alpha=alpha_param[i], shape=shape_param[i], size=n)\n",
    "    knn_f_two.append(np.mean([GraphKnn(gen.get_f_two()).calc_connected_components() for _ in range(mc_iter)]))\n",
    "    knn_h_two.append(np.mean([GraphKnn(gen.get_h_two()).calc_connected_components() for _ in range(mc_iter)]))\n",
    "\n",
    "    dist_f_two.append(\n",
    "        np.mean([GraphDist(gen.get_f_two()).calc_chromatic_number() for _ in range(mc_iter)])\n",
    "    )\n",
    "    dist_h_two.append(\n",
    "        np.mean([GraphDist(gen.get_h_two()).calc_chromatic_number() for _ in range(mc_iter)])\n",
    "    )"
   ]
  },
  {
   "cell_type": "code",
   "execution_count": 10,
   "id": "2cd98668",
   "metadata": {},
   "outputs": [
    {
     "data": {
      "application/vnd.plotly.v1+json": {
       "config": {
        "plotlyServerURL": "https://plot.ly"
       },
       "data": [
        {
         "line": {
          "color": "blue",
          "width": 2
         },
         "marker": {
          "size": 4
         },
         "mode": "lines+markers",
         "name": "KNN Pareto(α)",
         "type": "scatter",
         "x": {
          "bdata": "exSuR+F6hD8pTjoh2empP5mLRPh8Wrc/D/j1rwbgwD9SqsnjzhLGP5RcnReXRcs/a4e4pS880D+NYKK/k9XSP645jNn3btU/zxJ281sI2D/w618NwKHaPxLFSSckO90/M54zQYjU3z+qu44t9jbhPzuogzqog+I/y5R4R1rQ4z9cgW1UDB3lP+1tYmG+aeY/fVpXbnC25z8OR0x7IgPpP54zQYjUT+o/LyA2lYac6z/ADCuiOOnsP1D5H6/qNe4/4eUUvJyC7z856YRkp2fwP4Ff/2oADvE/ydV5cVm08T8STPR3slryP1rCbn4LAfM/ojjphGSn8z/rrmOLvU30PzMl3pEW9PQ/e5tYmG+a9T/EEdOeyED2PwyITaUh5/Y/VP7Hq3qN9z+ddEKy0zP4P+XqvLgs2vg/LWE3v4WA+T9117HF3ib6P75NLMw3zfo/BsSm0pBz+z9OOiHZ6Rn8P5ewm99CwPw/3yYW5ptm/T8nnZDs9Az+P3ATC/NNs/4/uImF+aZZ/z8AAAAAAAAAQA==",
          "dtype": "f8"
         },
         "xaxis": "x",
         "y": [
          1,
          1,
          1,
          1,
          1,
          1,
          1,
          1,
          1,
          1,
          1,
          1,
          1,
          1,
          1,
          1,
          1,
          1,
          1,
          1,
          1,
          1,
          1,
          1,
          1,
          1,
          1,
          1,
          1,
          1,
          1,
          1,
          1,
          1,
          1,
          1,
          1,
          1,
          1,
          1,
          1,
          1,
          1,
          1,
          1,
          1,
          1,
          1,
          1,
          1
         ],
         "yaxis": "y"
        },
        {
         "line": {
          "color": "red",
          "width": 2
         },
         "marker": {
          "size": 4
         },
         "mode": "lines+markers",
         "name": "KNN Gamma(½, λ)",
         "type": "scatter",
         "x": {
          "bdata": "exSuR+F6hD8pTjoh2empP5mLRPh8Wrc/D/j1rwbgwD9SqsnjzhLGP5RcnReXRcs/a4e4pS880D+NYKK/k9XSP645jNn3btU/zxJ281sI2D/w618NwKHaPxLFSSckO90/M54zQYjU3z+qu44t9jbhPzuogzqog+I/y5R4R1rQ4z9cgW1UDB3lP+1tYmG+aeY/fVpXbnC25z8OR0x7IgPpP54zQYjUT+o/LyA2lYac6z/ADCuiOOnsP1D5H6/qNe4/4eUUvJyC7z856YRkp2fwP4Ff/2oADvE/ydV5cVm08T8STPR3slryP1rCbn4LAfM/ojjphGSn8z/rrmOLvU30PzMl3pEW9PQ/e5tYmG+a9T/EEdOeyED2PwyITaUh5/Y/VP7Hq3qN9z+ddEKy0zP4P+XqvLgs2vg/LWE3v4WA+T9117HF3ib6P75NLMw3zfo/BsSm0pBz+z9OOiHZ6Rn8P5ewm99CwPw/3yYW5ptm/T8nnZDs9Az+P3ATC/NNs/4/uImF+aZZ/z8AAAAAAAAAQA==",
          "dtype": "f8"
         },
         "xaxis": "x",
         "y": [
          1,
          1,
          1,
          1,
          1,
          1,
          1,
          1,
          1,
          1,
          1,
          1,
          1,
          1,
          1,
          1,
          1,
          1,
          1,
          1,
          1,
          1,
          1,
          1,
          1,
          1,
          1,
          1,
          1,
          1,
          1,
          1,
          1,
          1,
          1,
          1,
          1,
          1,
          1,
          1,
          1,
          1,
          1,
          1,
          1,
          1,
          1,
          1,
          1,
          1
         ],
         "yaxis": "y"
        },
        {
         "line": {
          "color": "green",
          "width": 2
         },
         "marker": {
          "size": 4
         },
         "mode": "lines+markers",
         "name": "Distance Pareto(α)",
         "showlegend": true,
         "type": "scatter",
         "x": {
          "bdata": "exSuR+F6hD8pTjoh2empP5mLRPh8Wrc/D/j1rwbgwD9SqsnjzhLGP5RcnReXRcs/a4e4pS880D+NYKK/k9XSP645jNn3btU/zxJ281sI2D/w618NwKHaPxLFSSckO90/M54zQYjU3z+qu44t9jbhPzuogzqog+I/y5R4R1rQ4z9cgW1UDB3lP+1tYmG+aeY/fVpXbnC25z8OR0x7IgPpP54zQYjUT+o/LyA2lYac6z/ADCuiOOnsP1D5H6/qNe4/4eUUvJyC7z856YRkp2fwP4Ff/2oADvE/ydV5cVm08T8STPR3slryP1rCbn4LAfM/ojjphGSn8z/rrmOLvU30PzMl3pEW9PQ/e5tYmG+a9T/EEdOeyED2PwyITaUh5/Y/VP7Hq3qN9z+ddEKy0zP4P+XqvLgs2vg/LWE3v4WA+T9117HF3ib6P75NLMw3zfo/BsSm0pBz+z9OOiHZ6Rn8P5ewm99CwPw/3yYW5ptm/T8nnZDs9Az+P3ATC/NNs/4/uImF+aZZ/z8AAAAAAAAAQA==",
          "dtype": "f8"
         },
         "xaxis": "x2",
         "y": [
          1.35,
          3.4,
          5.05,
          6.8,
          8.6,
          9.7,
          11.9,
          12.15,
          15.3,
          16,
          16.85,
          18.8,
          19.45,
          19.15,
          21.45,
          22.8,
          25.3,
          25.9,
          27.1,
          28.15,
          29.5,
          30.85,
          31.05,
          32.9,
          33.1,
          34.45,
          35.9,
          36.55,
          35.95,
          39.05,
          40.75,
          40.35,
          42.3,
          45.05,
          44.8,
          46.5,
          47.1,
          42.45,
          47.4,
          48.15,
          47.45,
          47,
          51.1,
          50.15,
          51.95,
          51.8,
          53.2,
          56.3,
          54.25,
          54.25
         ],
         "yaxis": "y2"
        },
        {
         "line": {
          "color": "orange",
          "width": 2
         },
         "marker": {
          "size": 4
         },
         "mode": "lines+markers",
         "name": "Distance Gamma(½, λ)",
         "showlegend": true,
         "type": "scatter",
         "x": {
          "bdata": "exSuR+F6hD8pTjoh2empP5mLRPh8Wrc/D/j1rwbgwD9SqsnjzhLGP5RcnReXRcs/a4e4pS880D+NYKK/k9XSP645jNn3btU/zxJ281sI2D/w618NwKHaPxLFSSckO90/M54zQYjU3z+qu44t9jbhPzuogzqog+I/y5R4R1rQ4z9cgW1UDB3lP+1tYmG+aeY/fVpXbnC25z8OR0x7IgPpP54zQYjUT+o/LyA2lYac6z/ADCuiOOnsP1D5H6/qNe4/4eUUvJyC7z856YRkp2fwP4Ff/2oADvE/ydV5cVm08T8STPR3slryP1rCbn4LAfM/ojjphGSn8z/rrmOLvU30PzMl3pEW9PQ/e5tYmG+a9T/EEdOeyED2PwyITaUh5/Y/VP7Hq3qN9z+ddEKy0zP4P+XqvLgs2vg/LWE3v4WA+T9117HF3ib6P75NLMw3zfo/BsSm0pBz+z9OOiHZ6Rn8P5ewm99CwPw/3yYW5ptm/T8nnZDs9Az+P3ATC/NNs/4/uImF+aZZ/z8AAAAAAAAAQA==",
          "dtype": "f8"
         },
         "xaxis": "x2",
         "y": [
          99.45,
          97.8,
          95.85,
          93.45,
          90.75,
          90.2,
          87.6,
          85.3,
          83.95,
          80.1,
          76.85,
          72.75,
          73.25,
          71.7,
          65.85,
          65.6,
          65.25,
          61.8,
          59.2,
          57.45,
          55.3,
          53.65,
          50.2,
          49.85,
          46.25,
          44.9,
          43.75,
          42.95,
          41.1,
          40.75,
          38.85,
          38.1,
          35.65,
          35.75,
          35.85,
          34.65,
          33.1,
          32.35,
          33.7,
          31.75,
          32.2,
          30.65,
          29.65,
          31.55,
          29.85,
          30.2,
          28.55,
          28.45,
          27.85,
          27.55
         ],
         "yaxis": "y2"
        }
       ],
       "layout": {
        "annotations": [
         {
          "font": {
           "size": 16
          },
          "showarrow": false,
          "text": "Количество компонент связности",
          "x": 0.225,
          "xanchor": "center",
          "xref": "paper",
          "y": 1,
          "yanchor": "bottom",
          "yref": "paper"
         },
         {
          "font": {
           "size": 16
          },
          "showarrow": false,
          "text": "Хроматическое число",
          "x": 0.775,
          "xanchor": "center",
          "xref": "paper",
          "y": 1,
          "yanchor": "bottom",
          "yref": "paper"
         }
        ],
        "height": 600,
        "legend": {
         "x": 0.01,
         "xanchor": "left",
         "y": 0.99,
         "yanchor": "top"
        },
        "template": {
         "data": {
          "bar": [
           {
            "error_x": {
             "color": "#2a3f5f"
            },
            "error_y": {
             "color": "#2a3f5f"
            },
            "marker": {
             "line": {
              "color": "#E5ECF6",
              "width": 0.5
             },
             "pattern": {
              "fillmode": "overlay",
              "size": 10,
              "solidity": 0.2
             }
            },
            "type": "bar"
           }
          ],
          "barpolar": [
           {
            "marker": {
             "line": {
              "color": "#E5ECF6",
              "width": 0.5
             },
             "pattern": {
              "fillmode": "overlay",
              "size": 10,
              "solidity": 0.2
             }
            },
            "type": "barpolar"
           }
          ],
          "carpet": [
           {
            "aaxis": {
             "endlinecolor": "#2a3f5f",
             "gridcolor": "white",
             "linecolor": "white",
             "minorgridcolor": "white",
             "startlinecolor": "#2a3f5f"
            },
            "baxis": {
             "endlinecolor": "#2a3f5f",
             "gridcolor": "white",
             "linecolor": "white",
             "minorgridcolor": "white",
             "startlinecolor": "#2a3f5f"
            },
            "type": "carpet"
           }
          ],
          "choropleth": [
           {
            "colorbar": {
             "outlinewidth": 0,
             "ticks": ""
            },
            "type": "choropleth"
           }
          ],
          "contour": [
           {
            "colorbar": {
             "outlinewidth": 0,
             "ticks": ""
            },
            "colorscale": [
             [
              0,
              "#0d0887"
             ],
             [
              0.1111111111111111,
              "#46039f"
             ],
             [
              0.2222222222222222,
              "#7201a8"
             ],
             [
              0.3333333333333333,
              "#9c179e"
             ],
             [
              0.4444444444444444,
              "#bd3786"
             ],
             [
              0.5555555555555556,
              "#d8576b"
             ],
             [
              0.6666666666666666,
              "#ed7953"
             ],
             [
              0.7777777777777778,
              "#fb9f3a"
             ],
             [
              0.8888888888888888,
              "#fdca26"
             ],
             [
              1,
              "#f0f921"
             ]
            ],
            "type": "contour"
           }
          ],
          "contourcarpet": [
           {
            "colorbar": {
             "outlinewidth": 0,
             "ticks": ""
            },
            "type": "contourcarpet"
           }
          ],
          "heatmap": [
           {
            "colorbar": {
             "outlinewidth": 0,
             "ticks": ""
            },
            "colorscale": [
             [
              0,
              "#0d0887"
             ],
             [
              0.1111111111111111,
              "#46039f"
             ],
             [
              0.2222222222222222,
              "#7201a8"
             ],
             [
              0.3333333333333333,
              "#9c179e"
             ],
             [
              0.4444444444444444,
              "#bd3786"
             ],
             [
              0.5555555555555556,
              "#d8576b"
             ],
             [
              0.6666666666666666,
              "#ed7953"
             ],
             [
              0.7777777777777778,
              "#fb9f3a"
             ],
             [
              0.8888888888888888,
              "#fdca26"
             ],
             [
              1,
              "#f0f921"
             ]
            ],
            "type": "heatmap"
           }
          ],
          "histogram": [
           {
            "marker": {
             "pattern": {
              "fillmode": "overlay",
              "size": 10,
              "solidity": 0.2
             }
            },
            "type": "histogram"
           }
          ],
          "histogram2d": [
           {
            "colorbar": {
             "outlinewidth": 0,
             "ticks": ""
            },
            "colorscale": [
             [
              0,
              "#0d0887"
             ],
             [
              0.1111111111111111,
              "#46039f"
             ],
             [
              0.2222222222222222,
              "#7201a8"
             ],
             [
              0.3333333333333333,
              "#9c179e"
             ],
             [
              0.4444444444444444,
              "#bd3786"
             ],
             [
              0.5555555555555556,
              "#d8576b"
             ],
             [
              0.6666666666666666,
              "#ed7953"
             ],
             [
              0.7777777777777778,
              "#fb9f3a"
             ],
             [
              0.8888888888888888,
              "#fdca26"
             ],
             [
              1,
              "#f0f921"
             ]
            ],
            "type": "histogram2d"
           }
          ],
          "histogram2dcontour": [
           {
            "colorbar": {
             "outlinewidth": 0,
             "ticks": ""
            },
            "colorscale": [
             [
              0,
              "#0d0887"
             ],
             [
              0.1111111111111111,
              "#46039f"
             ],
             [
              0.2222222222222222,
              "#7201a8"
             ],
             [
              0.3333333333333333,
              "#9c179e"
             ],
             [
              0.4444444444444444,
              "#bd3786"
             ],
             [
              0.5555555555555556,
              "#d8576b"
             ],
             [
              0.6666666666666666,
              "#ed7953"
             ],
             [
              0.7777777777777778,
              "#fb9f3a"
             ],
             [
              0.8888888888888888,
              "#fdca26"
             ],
             [
              1,
              "#f0f921"
             ]
            ],
            "type": "histogram2dcontour"
           }
          ],
          "mesh3d": [
           {
            "colorbar": {
             "outlinewidth": 0,
             "ticks": ""
            },
            "type": "mesh3d"
           }
          ],
          "parcoords": [
           {
            "line": {
             "colorbar": {
              "outlinewidth": 0,
              "ticks": ""
             }
            },
            "type": "parcoords"
           }
          ],
          "pie": [
           {
            "automargin": true,
            "type": "pie"
           }
          ],
          "scatter": [
           {
            "fillpattern": {
             "fillmode": "overlay",
             "size": 10,
             "solidity": 0.2
            },
            "type": "scatter"
           }
          ],
          "scatter3d": [
           {
            "line": {
             "colorbar": {
              "outlinewidth": 0,
              "ticks": ""
             }
            },
            "marker": {
             "colorbar": {
              "outlinewidth": 0,
              "ticks": ""
             }
            },
            "type": "scatter3d"
           }
          ],
          "scattercarpet": [
           {
            "marker": {
             "colorbar": {
              "outlinewidth": 0,
              "ticks": ""
             }
            },
            "type": "scattercarpet"
           }
          ],
          "scattergeo": [
           {
            "marker": {
             "colorbar": {
              "outlinewidth": 0,
              "ticks": ""
             }
            },
            "type": "scattergeo"
           }
          ],
          "scattergl": [
           {
            "marker": {
             "colorbar": {
              "outlinewidth": 0,
              "ticks": ""
             }
            },
            "type": "scattergl"
           }
          ],
          "scattermap": [
           {
            "marker": {
             "colorbar": {
              "outlinewidth": 0,
              "ticks": ""
             }
            },
            "type": "scattermap"
           }
          ],
          "scattermapbox": [
           {
            "marker": {
             "colorbar": {
              "outlinewidth": 0,
              "ticks": ""
             }
            },
            "type": "scattermapbox"
           }
          ],
          "scatterpolar": [
           {
            "marker": {
             "colorbar": {
              "outlinewidth": 0,
              "ticks": ""
             }
            },
            "type": "scatterpolar"
           }
          ],
          "scatterpolargl": [
           {
            "marker": {
             "colorbar": {
              "outlinewidth": 0,
              "ticks": ""
             }
            },
            "type": "scatterpolargl"
           }
          ],
          "scatterternary": [
           {
            "marker": {
             "colorbar": {
              "outlinewidth": 0,
              "ticks": ""
             }
            },
            "type": "scatterternary"
           }
          ],
          "surface": [
           {
            "colorbar": {
             "outlinewidth": 0,
             "ticks": ""
            },
            "colorscale": [
             [
              0,
              "#0d0887"
             ],
             [
              0.1111111111111111,
              "#46039f"
             ],
             [
              0.2222222222222222,
              "#7201a8"
             ],
             [
              0.3333333333333333,
              "#9c179e"
             ],
             [
              0.4444444444444444,
              "#bd3786"
             ],
             [
              0.5555555555555556,
              "#d8576b"
             ],
             [
              0.6666666666666666,
              "#ed7953"
             ],
             [
              0.7777777777777778,
              "#fb9f3a"
             ],
             [
              0.8888888888888888,
              "#fdca26"
             ],
             [
              1,
              "#f0f921"
             ]
            ],
            "type": "surface"
           }
          ],
          "table": [
           {
            "cells": {
             "fill": {
              "color": "#EBF0F8"
             },
             "line": {
              "color": "white"
             }
            },
            "header": {
             "fill": {
              "color": "#C8D4E3"
             },
             "line": {
              "color": "white"
             }
            },
            "type": "table"
           }
          ]
         },
         "layout": {
          "annotationdefaults": {
           "arrowcolor": "#2a3f5f",
           "arrowhead": 0,
           "arrowwidth": 1
          },
          "autotypenumbers": "strict",
          "coloraxis": {
           "colorbar": {
            "outlinewidth": 0,
            "ticks": ""
           }
          },
          "colorscale": {
           "diverging": [
            [
             0,
             "#8e0152"
            ],
            [
             0.1,
             "#c51b7d"
            ],
            [
             0.2,
             "#de77ae"
            ],
            [
             0.3,
             "#f1b6da"
            ],
            [
             0.4,
             "#fde0ef"
            ],
            [
             0.5,
             "#f7f7f7"
            ],
            [
             0.6,
             "#e6f5d0"
            ],
            [
             0.7,
             "#b8e186"
            ],
            [
             0.8,
             "#7fbc41"
            ],
            [
             0.9,
             "#4d9221"
            ],
            [
             1,
             "#276419"
            ]
           ],
           "sequential": [
            [
             0,
             "#0d0887"
            ],
            [
             0.1111111111111111,
             "#46039f"
            ],
            [
             0.2222222222222222,
             "#7201a8"
            ],
            [
             0.3333333333333333,
             "#9c179e"
            ],
            [
             0.4444444444444444,
             "#bd3786"
            ],
            [
             0.5555555555555556,
             "#d8576b"
            ],
            [
             0.6666666666666666,
             "#ed7953"
            ],
            [
             0.7777777777777778,
             "#fb9f3a"
            ],
            [
             0.8888888888888888,
             "#fdca26"
            ],
            [
             1,
             "#f0f921"
            ]
           ],
           "sequentialminus": [
            [
             0,
             "#0d0887"
            ],
            [
             0.1111111111111111,
             "#46039f"
            ],
            [
             0.2222222222222222,
             "#7201a8"
            ],
            [
             0.3333333333333333,
             "#9c179e"
            ],
            [
             0.4444444444444444,
             "#bd3786"
            ],
            [
             0.5555555555555556,
             "#d8576b"
            ],
            [
             0.6666666666666666,
             "#ed7953"
            ],
            [
             0.7777777777777778,
             "#fb9f3a"
            ],
            [
             0.8888888888888888,
             "#fdca26"
            ],
            [
             1,
             "#f0f921"
            ]
           ]
          },
          "colorway": [
           "#636efa",
           "#EF553B",
           "#00cc96",
           "#ab63fa",
           "#FFA15A",
           "#19d3f3",
           "#FF6692",
           "#B6E880",
           "#FF97FF",
           "#FECB52"
          ],
          "font": {
           "color": "#2a3f5f"
          },
          "geo": {
           "bgcolor": "white",
           "lakecolor": "white",
           "landcolor": "#E5ECF6",
           "showlakes": true,
           "showland": true,
           "subunitcolor": "white"
          },
          "hoverlabel": {
           "align": "left"
          },
          "hovermode": "closest",
          "mapbox": {
           "style": "light"
          },
          "paper_bgcolor": "white",
          "plot_bgcolor": "#E5ECF6",
          "polar": {
           "angularaxis": {
            "gridcolor": "white",
            "linecolor": "white",
            "ticks": ""
           },
           "bgcolor": "#E5ECF6",
           "radialaxis": {
            "gridcolor": "white",
            "linecolor": "white",
            "ticks": ""
           }
          },
          "scene": {
           "xaxis": {
            "backgroundcolor": "#E5ECF6",
            "gridcolor": "white",
            "gridwidth": 2,
            "linecolor": "white",
            "showbackground": true,
            "ticks": "",
            "zerolinecolor": "white"
           },
           "yaxis": {
            "backgroundcolor": "#E5ECF6",
            "gridcolor": "white",
            "gridwidth": 2,
            "linecolor": "white",
            "showbackground": true,
            "ticks": "",
            "zerolinecolor": "white"
           },
           "zaxis": {
            "backgroundcolor": "#E5ECF6",
            "gridcolor": "white",
            "gridwidth": 2,
            "linecolor": "white",
            "showbackground": true,
            "ticks": "",
            "zerolinecolor": "white"
           }
          },
          "shapedefaults": {
           "line": {
            "color": "#2a3f5f"
           }
          },
          "ternary": {
           "aaxis": {
            "gridcolor": "white",
            "linecolor": "white",
            "ticks": ""
           },
           "baxis": {
            "gridcolor": "white",
            "linecolor": "white",
            "ticks": ""
           },
           "bgcolor": "#E5ECF6",
           "caxis": {
            "gridcolor": "white",
            "linecolor": "white",
            "ticks": ""
           }
          },
          "title": {
           "x": 0.05
          },
          "xaxis": {
           "automargin": true,
           "gridcolor": "white",
           "linecolor": "white",
           "ticks": "",
           "title": {
            "standoff": 15
           },
           "zerolinecolor": "white",
           "zerolinewidth": 2
          },
          "yaxis": {
           "automargin": true,
           "gridcolor": "white",
           "linecolor": "white",
           "ticks": "",
           "title": {
            "standoff": 15
           },
           "zerolinecolor": "white",
           "zerolinewidth": 2
          }
         }
        },
        "title": {
         "text": "Сравнение метрик для графов: зависимость от shape и α (Pareto vs Gamma)",
         "x": 0.5
        },
        "width": 1400,
        "xaxis": {
         "anchor": "y",
         "domain": [
          0,
          0.45
         ],
         "title": {
          "text": "shape / α"
         }
        },
        "xaxis2": {
         "anchor": "y2",
         "domain": [
          0.55,
          1
         ],
         "title": {
          "text": "shape / α"
         }
        },
        "yaxis": {
         "anchor": "x",
         "domain": [
          0,
          1
         ],
         "title": {
          "text": "Количество компонент связности"
         }
        },
        "yaxis2": {
         "anchor": "x2",
         "domain": [
          0,
          1
         ],
         "title": {
          "text": "Хроматическое число"
         }
        }
       }
      }
     },
     "metadata": {},
     "output_type": "display_data"
    }
   ],
   "source": [
    "fig = make_subplots(\n",
    "    rows=1,\n",
    "    cols=2,\n",
    "    subplot_titles=(\"Количество компонент связности\", \"Хроматическое число\"),\n",
    "    horizontal_spacing=0.1,\n",
    ")\n",
    "\n",
    "fig.add_trace(\n",
    "    go.Scatter(\n",
    "        x=shape_param,\n",
    "        y=knn_f_two,\n",
    "        mode=\"lines+markers\",\n",
    "        name=\"KNN Pareto(α)\",\n",
    "        line=dict(color=\"blue\", width=2),\n",
    "        marker=dict(size=4),\n",
    "    ),\n",
    "    row=1,\n",
    "    col=1,\n",
    ")\n",
    "\n",
    "fig.add_trace(\n",
    "    go.Scatter(\n",
    "        x=shape_param,\n",
    "        y=knn_h_two,\n",
    "        mode=\"lines+markers\",\n",
    "        name=\"KNN Gamma(½, λ)\",\n",
    "        line=dict(color=\"red\", width=2),\n",
    "        marker=dict(size=4),\n",
    "    ),\n",
    "    row=1,\n",
    "    col=1,\n",
    ")\n",
    "\n",
    "fig.add_trace(\n",
    "    go.Scatter(\n",
    "        x=shape_param,\n",
    "        y=dist_f_two,\n",
    "        mode=\"lines+markers\",\n",
    "        name=\"Distance Pareto(α)\",\n",
    "        line=dict(color=\"green\", width=2),\n",
    "        marker=dict(size=4),\n",
    "        showlegend=True,\n",
    "    ),\n",
    "    row=1,\n",
    "    col=2,\n",
    ")\n",
    "\n",
    "fig.add_trace(\n",
    "    go.Scatter(\n",
    "        x=shape_param,\n",
    "        y=dist_h_two,\n",
    "        mode=\"lines+markers\",\n",
    "        name=\"Distance Gamma(½, λ)\",\n",
    "        line=dict(color=\"orange\", width=2),\n",
    "        marker=dict(size=4),\n",
    "        showlegend=True,\n",
    "    ),\n",
    "    row=1,\n",
    "    col=2,\n",
    ")\n",
    "\n",
    "fig.update_xaxes(title_text=\"shape / α\", row=1, col=1)\n",
    "fig.update_xaxes(title_text=\"shape / α\", row=1, col=2)\n",
    "fig.update_yaxes(title_text=\"Количество компонент связности\", row=1, col=1)\n",
    "fig.update_yaxes(title_text=\"Хроматическое число\", row=1, col=2)\n",
    "\n",
    "fig.update_layout(\n",
    "    title_text=\"Сравнение метрик для графов: зависимость от shape и α (Pareto vs Gamma)\",\n",
    "    title_x=0.5,\n",
    "    width=1400,\n",
    "    height=600,\n",
    "    legend=dict(yanchor=\"top\", y=0.99, xanchor=\"left\", x=0.01),\n",
    ")\n",
    "\n",
    "fig.show()"
   ]
  },
  {
   "cell_type": "code",
   "execution_count": 11,
   "id": "a45d8b4f",
   "metadata": {},
   "outputs": [
    {
     "data": {
      "application/vnd.jupyter.widget-view+json": {
       "model_id": "acf29a6e03d143308d3f21a5e1f25b6c",
       "version_major": 2,
       "version_minor": 0
      },
      "text/plain": [
       "  0%|          | 0/27 [00:00<?, ?it/s]"
      ]
     },
     "metadata": {},
     "output_type": "display_data"
    }
   ],
   "source": [
    "n: np.ndarray = np.linspace(25, 150, 27)\n",
    "k: np.ndarray = np.linspace(2, 11, 10)\n",
    "d: np.ndarray = np.linspace(0.1, 10, 10)\n",
    "mc_iter: int = 20\n",
    "\n",
    "knn_f_two: List[List[float]] = [[] for _ in range(len(n))]\n",
    "knn_h_two: List[List[float]] = [[] for _ in range(len(n))]\n",
    "dist_f_two: List[List[float]] = [[] for _ in range(len(n))]\n",
    "dist_h_two: List[List[float]] = [[] for _ in range(len(n))]\n",
    "for i in tqdm(range(len(n))):\n",
    "    gen: Generator = Generator(v=3, alpha=3, shape=np.sqrt(2/3), size=int(n[i]))\n",
    "    for j in range(len(k)):\n",
    "        knn_f_two[i].append(\n",
    "            np.mean(\n",
    "                [GraphKnn(gen.get_f_two(), int(k[j])).calc_connected_components() for _ in range(mc_iter)]\n",
    "            )\n",
    "        )\n",
    "        knn_h_two[i].append(\n",
    "            np.mean(\n",
    "                [GraphKnn(gen.get_h_two(), int(k[j])).calc_connected_components() for _ in range(mc_iter)]\n",
    "            )\n",
    "        )\n",
    "\n",
    "        dist_f_two[i].append(\n",
    "            np.mean(\n",
    "                [GraphDist(gen.get_f_two(), d[j]).calc_chromatic_number() for _ in range(mc_iter)]\n",
    "            )\n",
    "        )\n",
    "        dist_h_two[i].append(\n",
    "            np.mean(\n",
    "                [GraphDist(gen.get_h_two(), d[j]).calc_chromatic_number() for _ in range(mc_iter)]\n",
    "            )\n",
    "        )"
   ]
  },
  {
   "cell_type": "code",
   "execution_count": 12,
   "id": "d8f06ebd",
   "metadata": {},
   "outputs": [
    {
     "data": {
      "application/vnd.plotly.v1+json": {
       "config": {
        "plotlyServerURL": "https://plot.ly"
       },
       "data": [
        {
         "colorscale": [
          [
           0,
           "rgb(247,251,255)"
          ],
          [
           0.125,
           "rgb(222,235,247)"
          ],
          [
           0.25,
           "rgb(198,219,239)"
          ],
          [
           0.375,
           "rgb(158,202,225)"
          ],
          [
           0.5,
           "rgb(107,174,214)"
          ],
          [
           0.625,
           "rgb(66,146,198)"
          ],
          [
           0.75,
           "rgb(33,113,181)"
          ],
          [
           0.875,
           "rgb(8,81,156)"
          ],
          [
           1,
           "rgb(8,48,107)"
          ]
         ],
         "name": "KNN Pareto",
         "opacity": 0.7,
         "scene": "scene",
         "showscale": false,
         "type": "surface",
         "x": {
          "bdata": "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",
          "dtype": "f8",
          "shape": "27, 10"
         },
         "y": {
          "bdata": "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",
          "dtype": "f8",
          "shape": "27, 10"
         },
         "z": {
          "bdata": "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",
          "dtype": "f8",
          "shape": "27, 10"
         }
        },
        {
         "colorscale": [
          [
           0,
           "rgb(255,245,240)"
          ],
          [
           0.125,
           "rgb(254,224,210)"
          ],
          [
           0.25,
           "rgb(252,187,161)"
          ],
          [
           0.375,
           "rgb(252,146,114)"
          ],
          [
           0.5,
           "rgb(251,106,74)"
          ],
          [
           0.625,
           "rgb(239,59,44)"
          ],
          [
           0.75,
           "rgb(203,24,29)"
          ],
          [
           0.875,
           "rgb(165,15,21)"
          ],
          [
           1,
           "rgb(103,0,13)"
          ]
         ],
         "name": "KNN Gamma",
         "opacity": 0.7,
         "scene": "scene",
         "showscale": false,
         "type": "surface",
         "x": {
          "bdata": "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",
          "dtype": "f8",
          "shape": "27, 10"
         },
         "y": {
          "bdata": "AAAAAAAAAEAAAAAAAAAIQAAAAAAAABBAAAAAAAAAFEAAAAAAAAAYQAAAAAAAABxAAAAAAAAAIEAAAAAAAAAiQAAAAAAAACRAAAAAAAAAJkAAAAAAAAAAQAAAAAAAAAhAAAAAAAAAEEAAAAAAAAAUQAAAAAAAABhAAAAAAAAAHEAAAAAAAAAgQAAAAAAAACJAAAAAAAAAJEAAAAAAAAAmQAAAAAAAAABAAAAAAAAACEAAAAAAAAAQQAAAAAAAABRAAAAAAAAAGEAAAAAAAAAcQAAAAAAAACBAAAAAAAAAIkAAAAAAAAAkQAAAAAAAACZAAAAAAAAAAEAAAAAAAAAIQAAAAAAAABBAAAAAAAAAFEAAAAAAAAAYQAAAAAAAABxAAAAAAAAAIEAAAAAAAAAiQAAAAAAAACRAAAAAAAAAJkAAAAAAAAAAQAAAAAAAAAhAAAAAAAAAEEAAAAAAAAAUQAAAAAAAABhAAAAAAAAAHEAAAAAAAAAgQAAAAAAAACJAAAAAAAAAJEAAAAAAAAAmQAAAAAAAAABAAAAAAAAACEAAAAAAAAAQQAAAAAAAABRAAAAAAAAAGEAAAAAAAAAcQAAAAAAAACBAAAAAAAAAIkAAAAAAAAAkQAAAAAAAACZAAAAAAAAAAEAAAAAAAAAIQAAAAAAAABBAAAAAAAAAFEAAAAAAAAAYQAAAAAAAABxAAAAAAAAAIEAAAAAAAAAiQAAAAAAAACRAAAAAAAAAJkAAAAAAAAAAQAAAAAAAAAhAAAAAAAAAEEAAAAAAAAAUQAAAAAAAABhAAAAAAAAAHEAAAAAAAAAgQAAAAAAAACJAAAAAAAAAJEAAAAAAAAAmQAAAAAAAAABAAAAAAAAACEAAAAAAAAAQQAAAAAAAABRAAAAAAAAAGEAAAAAAAAAcQAAAAAAAACBAAAAAAAAAIkAAAAAAAAAkQAAAAAAAACZAAAAAAAAAAEAAAAAAAAAIQAAAAAAAABBAAAAAAAAAFEAAAAAAAAAYQAAAAAAAABxAAAAAAAAAIEAAAAAAAAAiQAAAAAAAACRAAAAAAAAAJkAAAAAAAAAAQAAAAAAAAAhAAAAAAAAAEEAAAAAAAAAUQAAAAAAAABhAAAAAAAAAHEAAAAAAAAAgQAAAAAAAACJAAAAAAAAAJEAAAAAAAAAmQAAAAAAAAABAAAAAAAAACEAAAAAAAAAQQAAAAAAAABRAAAAAAAAAGEAAAAAAAAAcQAAAAAAAACBAAAAAAAAAIkAAAAAAAAAkQAAAAAAAACZAAAAAAAAAAEAAAAAAAAAIQAAAAAAAABBAAAAAAAAAFEAAAAAAAAAYQAAAAAAAABxAAAAAAAAAIEAAAAAAAAAiQAAAAAAAACRAAAAAAAAAJkAAAAAAAAAAQAAAAAAAAAhAAAAAAAAAEEAAAAAAAAAUQAAAAAAAABhAAAAAAAAAHEAAAAAAAAAgQAAAAAAAACJAAAAAAAAAJEAAAAAAAAAmQAAAAAAAAABAAAAAAAAACEAAAAAAAAAQQAAAAAAAABRAAAAAAAAAGEAAAAAAAAAcQAAAAAAAACBAAAAAAAAAIkAAAAAAAAAkQAAAAAAAACZAAAAAAAAAAEAAAAAAAAAIQAAAAAAAABBAAAAAAAAAFEAAAAAAAAAYQAAAAAAAABxAAAAAAAAAIEAAAAAAAAAiQAAAAAAAACRAAAAAAAAAJkAAAAAAAAAAQAAAAAAAAAhAAAAAAAAAEEAAAAAAAAAUQAAAAAAAABhAAAAAAAAAHEAAAAAAAAAgQAAAAAAAACJAAAAAAAAAJEAAAAAAAAAmQAAAAAAAAABAAAAAAAAACEAAAAAAAAAQQAAAAAAAABRAAAAAAAAAGEAAAAAAAAAcQAAAAAAAACBAAAAAAAAAIkAAAAAAAAAkQAAAAAAAACZAAAAAAAAAAEAAAAAAAAAIQAAAAAAAABBAAAAAAAAAFEAAAAAAAAAYQAAAAAAAABxAAAAAAAAAIEAAAAAAAAAiQAAAAAAAACRAAAAAAAAAJkAAAAAAAAAAQAAAAAAAAAhAAAAAAAAAEEAAAAAAAAAUQAAAAAAAABhAAAAAAAAAHEAAAAAAAAAgQAAAAAAAACJAAAAAAAAAJEAAAAAAAAAmQAAAAAAAAABAAAAAAAAACEAAAAAAAAAQQAAAAAAAABRAAAAAAAAAGEAAAAAAAAAcQAAAAAAAACBAAAAAAAAAIkAAAAAAAAAkQAAAAAAAACZAAAAAAAAAAEAAAAAAAAAIQAAAAAAAABBAAAAAAAAAFEAAAAAAAAAYQAAAAAAAABxAAAAAAAAAIEAAAAAAAAAiQAAAAAAAACRAAAAAAAAAJkAAAAAAAAAAQAAAAAAAAAhAAAAAAAAAEEAAAAAAAAAUQAAAAAAAABhAAAAAAAAAHEAAAAAAAAAgQAAAAAAAACJAAAAAAAAAJEAAAAAAAAAmQAAAAAAAAABAAAAAAAAACEAAAAAAAAAQQAAAAAAAABRAAAAAAAAAGEAAAAAAAAAcQAAAAAAAACBAAAAAAAAAIkAAAAAAAAAkQAAAAAAAACZAAAAAAAAAAEAAAAAAAAAIQAAAAAAAABBAAAAAAAAAFEAAAAAAAAAYQAAAAAAAABxAAAAAAAAAIEAAAAAAAAAiQAAAAAAAACRAAAAAAAAAJkAAAAAAAAAAQAAAAAAAAAhAAAAAAAAAEEAAAAAAAAAUQAAAAAAAABhAAAAAAAAAHEAAAAAAAAAgQAAAAAAAACJAAAAAAAAAJEAAAAAAAAAmQAAAAAAAAABAAAAAAAAACEAAAAAAAAAQQAAAAAAAABRAAAAAAAAAGEAAAAAAAAAcQAAAAAAAACBAAAAAAAAAIkAAAAAAAAAkQAAAAAAAACZA",
          "dtype": "f8",
          "shape": "27, 10"
         },
         "z": {
          "bdata": "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",
          "dtype": "f8",
          "shape": "27, 10"
         }
        },
        {
         "colorscale": [
          [
           0,
           "rgb(247,252,245)"
          ],
          [
           0.125,
           "rgb(229,245,224)"
          ],
          [
           0.25,
           "rgb(199,233,192)"
          ],
          [
           0.375,
           "rgb(161,217,155)"
          ],
          [
           0.5,
           "rgb(116,196,118)"
          ],
          [
           0.625,
           "rgb(65,171,93)"
          ],
          [
           0.75,
           "rgb(35,139,69)"
          ],
          [
           0.875,
           "rgb(0,109,44)"
          ],
          [
           1,
           "rgb(0,68,27)"
          ]
         ],
         "name": "Distance Pareto",
         "opacity": 0.7,
         "scene": "scene2",
         "showscale": false,
         "type": "surface",
         "x": {
          "bdata": "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",
          "dtype": "f8",
          "shape": "27, 10"
         },
         "y": {
          "bdata": "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",
          "dtype": "f8",
          "shape": "27, 10"
         },
         "z": {
          "bdata": "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",
          "dtype": "f8",
          "shape": "27, 10"
         }
        },
        {
         "colorscale": [
          [
           0,
           "rgb(255,245,235)"
          ],
          [
           0.125,
           "rgb(254,230,206)"
          ],
          [
           0.25,
           "rgb(253,208,162)"
          ],
          [
           0.375,
           "rgb(253,174,107)"
          ],
          [
           0.5,
           "rgb(253,141,60)"
          ],
          [
           0.625,
           "rgb(241,105,19)"
          ],
          [
           0.75,
           "rgb(217,72,1)"
          ],
          [
           0.875,
           "rgb(166,54,3)"
          ],
          [
           1,
           "rgb(127,39,4)"
          ]
         ],
         "name": "Distance Gamma",
         "opacity": 0.7,
         "scene": "scene2",
         "showscale": false,
         "type": "surface",
         "x": {
          "bdata": "AAAAAAAAOUAAAAAAAAA5QAAAAAAAADlAAAAAAAAAOUAAAAAAAAA5QAAAAAAAADlAAAAAAAAAOUAAAAAAAAA5QAAAAAAAADlAAAAAAAAAOUDsxE7sxM49QOzETuzEzj1A7MRO7MTOPUDsxE7sxM49QOzETuzEzj1A7MRO7MTOPUDsxE7sxM49QOzETuzEzj1A7MRO7MTOPUDsxE7sxM49QOzETuzETkFA7MRO7MROQUDsxE7sxE5BQOzETuzETkFA7MRO7MROQUDsxE7sxE5BQOzETuzETkFA7MRO7MROQUDsxE7sxE5BQOzETuzETkFAYid2Yie2Q0BiJ3ZiJ7ZDQGIndmIntkNAYid2Yie2Q0BiJ3ZiJ7ZDQGIndmIntkNAYid2Yie2Q0BiJ3ZiJ7ZDQGIndmIntkNAYid2Yie2Q0DYiZ3YiR1GQNiJndiJHUZA2Imd2IkdRkDYiZ3YiR1GQNiJndiJHUZA2Imd2IkdRkDYiZ3YiR1GQNiJndiJHUZA2Imd2IkdRkDYiZ3YiR1GQE7sxE7shEhATuzETuyESEBO7MRO7IRIQE7sxE7shEhATuzETuyESEBO7MRO7IRIQE7sxE7shEhATuzETuyESEBO7MRO7IRIQE7sxE7shEhAxU7sxE7sSkDFTuzETuxKQMVO7MRO7EpAxU7sxE7sSkDFTuzETuxKQMVO7MRO7EpAxU7sxE7sSkDFTuzETuxKQMVO7MRO7EpAxU7sxE7sSkA7sRM7sVNNQDuxEzuxU01AO7ETO7FTTUA7sRM7sVNNQDuxEzuxU01AO7ETO7FTTUA7sRM7sVNNQDuxEzuxU01AO7ETO7FTTUA7sRM7sVNNQLETO7ETu09AsRM7sRO7T0CxEzuxE7tPQLETO7ETu09AsRM7sRO7T0CxEzuxE7tPQLETO7ETu09AsRM7sRO7T0CxEzuxE7tPQLETO7ETu09AFDuxEzsRUUAUO7ETOxFRQBQ7sRM7EVFAFDuxEzsRUUAUO7ETOxFRQBQ7sRM7EVFAFDuxEzsRUUAUO7ETOxFRQBQ7sRM7EVFAFDuxEzsRUUBO7MRO7ERSQE7sxE7sRFJATuzETuxEUkBO7MRO7ERSQE7sxE7sRFJATuzETuxEUkBO7MRO7ERSQE7sxE7sRFJATuzETuxEUkBO7MRO7ERSQIqd2ImdeFNAip3YiZ14U0CKndiJnXhTQIqd2ImdeFNAip3YiZ14U0CKndiJnXhTQIqd2ImdeFNAip3YiZ14U0CKndiJnXhTQIqd2ImdeFNAxU7sxE6sVEDFTuzETqxUQMVO7MROrFRAxU7sxE6sVEDFTuzETqxUQMVO7MROrFRAxU7sxE6sVEDFTuzETqxUQMVO7MROrFRAxU7sxE6sVEAAAAAAAOBVQAAAAAAA4FVAAAAAAADgVUAAAAAAAOBVQAAAAAAA4FVAAAAAAADgVUAAAAAAAOBVQAAAAAAA4FVAAAAAAADgVUAAAAAAAOBVQDuxEzuxE1dAO7ETO7ETV0A7sRM7sRNXQDuxEzuxE1dAO7ETO7ETV0A7sRM7sRNXQDuxEzuxE1dAO7ETO7ETV0A7sRM7sRNXQDuxEzuxE1dAdmIndmJHWEB2Yid2YkdYQHZiJ3ZiR1hAdmIndmJHWEB2Yid2YkdYQHZiJ3ZiR1hAdmIndmJHWEB2Yid2YkdYQHZiJ3ZiR1hAdmIndmJHWECxEzuxE3tZQLETO7ETe1lAsRM7sRN7WUCxEzuxE3tZQLETO7ETe1lAsRM7sRN7WUCxEzuxE3tZQLETO7ETe1lAsRM7sRN7WUCxEzuxE3tZQOzETuzErlpA7MRO7MSuWkDsxE7sxK5aQOzETuzErlpA7MRO7MSuWkDsxE7sxK5aQOzETuzErlpA7MRO7MSuWkDsxE7sxK5aQOzETuzErlpAJ3ZiJ3biW0AndmInduJbQCd2Yid24ltAJ3ZiJ3biW0AndmInduJbQCd2Yid24ltAJ3ZiJ3biW0AndmInduJbQCd2Yid24ltAJ3ZiJ3biW0BiJ3ZiJxZdQGIndmInFl1AYid2YicWXUBiJ3ZiJxZdQGIndmInFl1AYid2YicWXUBiJ3ZiJxZdQGIndmInFl1AYid2YicWXUBiJ3ZiJxZdQJ3YiZ3YSV5AndiJndhJXkCd2Imd2EleQJ3YiZ3YSV5AndiJndhJXkCd2Imd2EleQJ3YiZ3YSV5AndiJndhJXkCd2Imd2EleQJ3YiZ3YSV5A2Imd2Il9X0DYiZ3YiX1fQNiJndiJfV9A2Imd2Il9X0DYiZ3YiX1fQNiJndiJfV9A2Imd2Il9X0DYiZ3YiX1fQNiJndiJfV9A2Imd2Il9X0CKndiJnVhgQIqd2ImdWGBAip3YiZ1YYECKndiJnVhgQIqd2ImdWGBAip3YiZ1YYECKndiJnVhgQIqd2ImdWGBAip3YiZ1YYECKndiJnVhgQCd2Yid28mBAJ3ZiJ3byYEAndmIndvJgQCd2Yid28mBAJ3ZiJ3byYEAndmIndvJgQCd2Yid28mBAJ3ZiJ3byYEAndmIndvJgQCd2Yid28mBAxU7sxE6MYUDFTuzEToxhQMVO7MROjGFAxU7sxE6MYUDFTuzEToxhQMVO7MROjGFAxU7sxE6MYUDFTuzEToxhQMVO7MROjGFAxU7sxE6MYUBiJ3ZiJyZiQGIndmInJmJAYid2YicmYkBiJ3ZiJyZiQGIndmInJmJAYid2YicmYkBiJ3ZiJyZiQGIndmInJmJAYid2YicmYkBiJ3ZiJyZiQAAAAAAAwGJAAAAAAADAYkAAAAAAAMBiQAAAAAAAwGJAAAAAAADAYkAAAAAAAMBiQAAAAAAAwGJAAAAAAADAYkAAAAAAAMBiQAAAAAAAwGJA",
          "dtype": "f8",
          "shape": "27, 10"
         },
         "y": {
          "bdata": "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",
          "dtype": "f8",
          "shape": "27, 10"
         },
         "z": {
          "bdata": "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",
          "dtype": "f8",
          "shape": "27, 10"
         }
        }
       ],
       "layout": {
        "annotations": [
         {
          "font": {
           "size": 16
          },
          "showarrow": false,
          "text": "3D KNN Metric (n, k, компоненты связности)",
          "x": 0.2375,
          "xanchor": "center",
          "xref": "paper",
          "y": 1,
          "yanchor": "bottom",
          "yref": "paper"
         },
         {
          "font": {
           "size": 16
          },
          "showarrow": false,
          "text": "3D Distance Metric (n, d, хроматическое число)",
          "x": 0.7625,
          "xanchor": "center",
          "xref": "paper",
          "y": 1,
          "yanchor": "bottom",
          "yref": "paper"
         }
        ],
        "height": 700,
        "legend": {
         "x": 0.01,
         "xanchor": "left",
         "y": 0.99,
         "yanchor": "top"
        },
        "scene": {
         "camera": {
          "eye": {
           "x": 1.2,
           "y": 1.2,
           "z": 1.2
          }
         },
         "domain": {
          "x": [
           0,
           0.475
          ],
          "y": [
           0,
           1
          ]
         },
         "xaxis": {
          "title": {
           "text": "n (размер графа)"
          }
         },
         "yaxis": {
          "title": {
           "text": "k (количество соседей)"
          }
         },
         "zaxis": {
          "title": {
           "text": "Количество компонент связности"
          }
         }
        },
        "scene2": {
         "camera": {
          "eye": {
           "x": 1.2,
           "y": 1.2,
           "z": 1.2
          }
         },
         "domain": {
          "x": [
           0.525,
           1
          ],
          "y": [
           0,
           1
          ]
         },
         "xaxis": {
          "title": {
           "text": "n (размер графа)"
          }
         },
         "yaxis": {
          "title": {
           "text": "d (пороговое расстояние)"
          }
         },
         "zaxis": {
          "title": {
           "text": "Хроматическое число"
          }
         }
        },
        "showlegend": true,
        "template": {
         "data": {
          "bar": [
           {
            "error_x": {
             "color": "#2a3f5f"
            },
            "error_y": {
             "color": "#2a3f5f"
            },
            "marker": {
             "line": {
              "color": "#E5ECF6",
              "width": 0.5
             },
             "pattern": {
              "fillmode": "overlay",
              "size": 10,
              "solidity": 0.2
             }
            },
            "type": "bar"
           }
          ],
          "barpolar": [
           {
            "marker": {
             "line": {
              "color": "#E5ECF6",
              "width": 0.5
             },
             "pattern": {
              "fillmode": "overlay",
              "size": 10,
              "solidity": 0.2
             }
            },
            "type": "barpolar"
           }
          ],
          "carpet": [
           {
            "aaxis": {
             "endlinecolor": "#2a3f5f",
             "gridcolor": "white",
             "linecolor": "white",
             "minorgridcolor": "white",
             "startlinecolor": "#2a3f5f"
            },
            "baxis": {
             "endlinecolor": "#2a3f5f",
             "gridcolor": "white",
             "linecolor": "white",
             "minorgridcolor": "white",
             "startlinecolor": "#2a3f5f"
            },
            "type": "carpet"
           }
          ],
          "choropleth": [
           {
            "colorbar": {
             "outlinewidth": 0,
             "ticks": ""
            },
            "type": "choropleth"
           }
          ],
          "contour": [
           {
            "colorbar": {
             "outlinewidth": 0,
             "ticks": ""
            },
            "colorscale": [
             [
              0,
              "#0d0887"
             ],
             [
              0.1111111111111111,
              "#46039f"
             ],
             [
              0.2222222222222222,
              "#7201a8"
             ],
             [
              0.3333333333333333,
              "#9c179e"
             ],
             [
              0.4444444444444444,
              "#bd3786"
             ],
             [
              0.5555555555555556,
              "#d8576b"
             ],
             [
              0.6666666666666666,
              "#ed7953"
             ],
             [
              0.7777777777777778,
              "#fb9f3a"
             ],
             [
              0.8888888888888888,
              "#fdca26"
             ],
             [
              1,
              "#f0f921"
             ]
            ],
            "type": "contour"
           }
          ],
          "contourcarpet": [
           {
            "colorbar": {
             "outlinewidth": 0,
             "ticks": ""
            },
            "type": "contourcarpet"
           }
          ],
          "heatmap": [
           {
            "colorbar": {
             "outlinewidth": 0,
             "ticks": ""
            },
            "colorscale": [
             [
              0,
              "#0d0887"
             ],
             [
              0.1111111111111111,
              "#46039f"
             ],
             [
              0.2222222222222222,
              "#7201a8"
             ],
             [
              0.3333333333333333,
              "#9c179e"
             ],
             [
              0.4444444444444444,
              "#bd3786"
             ],
             [
              0.5555555555555556,
              "#d8576b"
             ],
             [
              0.6666666666666666,
              "#ed7953"
             ],
             [
              0.7777777777777778,
              "#fb9f3a"
             ],
             [
              0.8888888888888888,
              "#fdca26"
             ],
             [
              1,
              "#f0f921"
             ]
            ],
            "type": "heatmap"
           }
          ],
          "histogram": [
           {
            "marker": {
             "pattern": {
              "fillmode": "overlay",
              "size": 10,
              "solidity": 0.2
             }
            },
            "type": "histogram"
           }
          ],
          "histogram2d": [
           {
            "colorbar": {
             "outlinewidth": 0,
             "ticks": ""
            },
            "colorscale": [
             [
              0,
              "#0d0887"
             ],
             [
              0.1111111111111111,
              "#46039f"
             ],
             [
              0.2222222222222222,
              "#7201a8"
             ],
             [
              0.3333333333333333,
              "#9c179e"
             ],
             [
              0.4444444444444444,
              "#bd3786"
             ],
             [
              0.5555555555555556,
              "#d8576b"
             ],
             [
              0.6666666666666666,
              "#ed7953"
             ],
             [
              0.7777777777777778,
              "#fb9f3a"
             ],
             [
              0.8888888888888888,
              "#fdca26"
             ],
             [
              1,
              "#f0f921"
             ]
            ],
            "type": "histogram2d"
           }
          ],
          "histogram2dcontour": [
           {
            "colorbar": {
             "outlinewidth": 0,
             "ticks": ""
            },
            "colorscale": [
             [
              0,
              "#0d0887"
             ],
             [
              0.1111111111111111,
              "#46039f"
             ],
             [
              0.2222222222222222,
              "#7201a8"
             ],
             [
              0.3333333333333333,
              "#9c179e"
             ],
             [
              0.4444444444444444,
              "#bd3786"
             ],
             [
              0.5555555555555556,
              "#d8576b"
             ],
             [
              0.6666666666666666,
              "#ed7953"
             ],
             [
              0.7777777777777778,
              "#fb9f3a"
             ],
             [
              0.8888888888888888,
              "#fdca26"
             ],
             [
              1,
              "#f0f921"
             ]
            ],
            "type": "histogram2dcontour"
           }
          ],
          "mesh3d": [
           {
            "colorbar": {
             "outlinewidth": 0,
             "ticks": ""
            },
            "type": "mesh3d"
           }
          ],
          "parcoords": [
           {
            "line": {
             "colorbar": {
              "outlinewidth": 0,
              "ticks": ""
             }
            },
            "type": "parcoords"
           }
          ],
          "pie": [
           {
            "automargin": true,
            "type": "pie"
           }
          ],
          "scatter": [
           {
            "fillpattern": {
             "fillmode": "overlay",
             "size": 10,
             "solidity": 0.2
            },
            "type": "scatter"
           }
          ],
          "scatter3d": [
           {
            "line": {
             "colorbar": {
              "outlinewidth": 0,
              "ticks": ""
             }
            },
            "marker": {
             "colorbar": {
              "outlinewidth": 0,
              "ticks": ""
             }
            },
            "type": "scatter3d"
           }
          ],
          "scattercarpet": [
           {
            "marker": {
             "colorbar": {
              "outlinewidth": 0,
              "ticks": ""
             }
            },
            "type": "scattercarpet"
           }
          ],
          "scattergeo": [
           {
            "marker": {
             "colorbar": {
              "outlinewidth": 0,
              "ticks": ""
             }
            },
            "type": "scattergeo"
           }
          ],
          "scattergl": [
           {
            "marker": {
             "colorbar": {
              "outlinewidth": 0,
              "ticks": ""
             }
            },
            "type": "scattergl"
           }
          ],
          "scattermap": [
           {
            "marker": {
             "colorbar": {
              "outlinewidth": 0,
              "ticks": ""
             }
            },
            "type": "scattermap"
           }
          ],
          "scattermapbox": [
           {
            "marker": {
             "colorbar": {
              "outlinewidth": 0,
              "ticks": ""
             }
            },
            "type": "scattermapbox"
           }
          ],
          "scatterpolar": [
           {
            "marker": {
             "colorbar": {
              "outlinewidth": 0,
              "ticks": ""
             }
            },
            "type": "scatterpolar"
           }
          ],
          "scatterpolargl": [
           {
            "marker": {
             "colorbar": {
              "outlinewidth": 0,
              "ticks": ""
             }
            },
            "type": "scatterpolargl"
           }
          ],
          "scatterternary": [
           {
            "marker": {
             "colorbar": {
              "outlinewidth": 0,
              "ticks": ""
             }
            },
            "type": "scatterternary"
           }
          ],
          "surface": [
           {
            "colorbar": {
             "outlinewidth": 0,
             "ticks": ""
            },
            "colorscale": [
             [
              0,
              "#0d0887"
             ],
             [
              0.1111111111111111,
              "#46039f"
             ],
             [
              0.2222222222222222,
              "#7201a8"
             ],
             [
              0.3333333333333333,
              "#9c179e"
             ],
             [
              0.4444444444444444,
              "#bd3786"
             ],
             [
              0.5555555555555556,
              "#d8576b"
             ],
             [
              0.6666666666666666,
              "#ed7953"
             ],
             [
              0.7777777777777778,
              "#fb9f3a"
             ],
             [
              0.8888888888888888,
              "#fdca26"
             ],
             [
              1,
              "#f0f921"
             ]
            ],
            "type": "surface"
           }
          ],
          "table": [
           {
            "cells": {
             "fill": {
              "color": "#EBF0F8"
             },
             "line": {
              "color": "white"
             }
            },
            "header": {
             "fill": {
              "color": "#C8D4E3"
             },
             "line": {
              "color": "white"
             }
            },
            "type": "table"
           }
          ]
         },
         "layout": {
          "annotationdefaults": {
           "arrowcolor": "#2a3f5f",
           "arrowhead": 0,
           "arrowwidth": 1
          },
          "autotypenumbers": "strict",
          "coloraxis": {
           "colorbar": {
            "outlinewidth": 0,
            "ticks": ""
           }
          },
          "colorscale": {
           "diverging": [
            [
             0,
             "#8e0152"
            ],
            [
             0.1,
             "#c51b7d"
            ],
            [
             0.2,
             "#de77ae"
            ],
            [
             0.3,
             "#f1b6da"
            ],
            [
             0.4,
             "#fde0ef"
            ],
            [
             0.5,
             "#f7f7f7"
            ],
            [
             0.6,
             "#e6f5d0"
            ],
            [
             0.7,
             "#b8e186"
            ],
            [
             0.8,
             "#7fbc41"
            ],
            [
             0.9,
             "#4d9221"
            ],
            [
             1,
             "#276419"
            ]
           ],
           "sequential": [
            [
             0,
             "#0d0887"
            ],
            [
             0.1111111111111111,
             "#46039f"
            ],
            [
             0.2222222222222222,
             "#7201a8"
            ],
            [
             0.3333333333333333,
             "#9c179e"
            ],
            [
             0.4444444444444444,
             "#bd3786"
            ],
            [
             0.5555555555555556,
             "#d8576b"
            ],
            [
             0.6666666666666666,
             "#ed7953"
            ],
            [
             0.7777777777777778,
             "#fb9f3a"
            ],
            [
             0.8888888888888888,
             "#fdca26"
            ],
            [
             1,
             "#f0f921"
            ]
           ],
           "sequentialminus": [
            [
             0,
             "#0d0887"
            ],
            [
             0.1111111111111111,
             "#46039f"
            ],
            [
             0.2222222222222222,
             "#7201a8"
            ],
            [
             0.3333333333333333,
             "#9c179e"
            ],
            [
             0.4444444444444444,
             "#bd3786"
            ],
            [
             0.5555555555555556,
             "#d8576b"
            ],
            [
             0.6666666666666666,
             "#ed7953"
            ],
            [
             0.7777777777777778,
             "#fb9f3a"
            ],
            [
             0.8888888888888888,
             "#fdca26"
            ],
            [
             1,
             "#f0f921"
            ]
           ]
          },
          "colorway": [
           "#636efa",
           "#EF553B",
           "#00cc96",
           "#ab63fa",
           "#FFA15A",
           "#19d3f3",
           "#FF6692",
           "#B6E880",
           "#FF97FF",
           "#FECB52"
          ],
          "font": {
           "color": "#2a3f5f"
          },
          "geo": {
           "bgcolor": "white",
           "lakecolor": "white",
           "landcolor": "#E5ECF6",
           "showlakes": true,
           "showland": true,
           "subunitcolor": "white"
          },
          "hoverlabel": {
           "align": "left"
          },
          "hovermode": "closest",
          "mapbox": {
           "style": "light"
          },
          "paper_bgcolor": "white",
          "plot_bgcolor": "#E5ECF6",
          "polar": {
           "angularaxis": {
            "gridcolor": "white",
            "linecolor": "white",
            "ticks": ""
           },
           "bgcolor": "#E5ECF6",
           "radialaxis": {
            "gridcolor": "white",
            "linecolor": "white",
            "ticks": ""
           }
          },
          "scene": {
           "xaxis": {
            "backgroundcolor": "#E5ECF6",
            "gridcolor": "white",
            "gridwidth": 2,
            "linecolor": "white",
            "showbackground": true,
            "ticks": "",
            "zerolinecolor": "white"
           },
           "yaxis": {
            "backgroundcolor": "#E5ECF6",
            "gridcolor": "white",
            "gridwidth": 2,
            "linecolor": "white",
            "showbackground": true,
            "ticks": "",
            "zerolinecolor": "white"
           },
           "zaxis": {
            "backgroundcolor": "#E5ECF6",
            "gridcolor": "white",
            "gridwidth": 2,
            "linecolor": "white",
            "showbackground": true,
            "ticks": "",
            "zerolinecolor": "white"
           }
          },
          "shapedefaults": {
           "line": {
            "color": "#2a3f5f"
           }
          },
          "ternary": {
           "aaxis": {
            "gridcolor": "white",
            "linecolor": "white",
            "ticks": ""
           },
           "baxis": {
            "gridcolor": "white",
            "linecolor": "white",
            "ticks": ""
           },
           "bgcolor": "#E5ECF6",
           "caxis": {
            "gridcolor": "white",
            "linecolor": "white",
            "ticks": ""
           }
          },
          "title": {
           "x": 0.05
          },
          "xaxis": {
           "automargin": true,
           "gridcolor": "white",
           "linecolor": "white",
           "ticks": "",
           "title": {
            "standoff": 15
           },
           "zerolinecolor": "white",
           "zerolinewidth": 2
          },
          "yaxis": {
           "automargin": true,
           "gridcolor": "white",
           "linecolor": "white",
           "ticks": "",
           "title": {
            "standoff": 15
           },
           "zerolinecolor": "white",
           "zerolinewidth": 2
          }
         }
        },
        "title": {
         "text": "3D Визуализация метрик: влияние параметров графа (Pareto vs Gamma)",
         "x": 0.5
        },
        "width": 1400
       }
      }
     },
     "metadata": {},
     "output_type": "display_data"
    }
   ],
   "source": [
    "N_knn: np.ndarray\n",
    "K_knn: np.ndarray\n",
    "N_knn, K_knn = np.meshgrid(n, k, indexing=\"ij\")\n",
    "knn_f_two_array: np.ndarray = np.array(knn_f_two)\n",
    "knn_h_two_array: np.ndarray = np.array(knn_h_two)\n",
    "\n",
    "N_dist: np.ndarray\n",
    "D_dist: np.ndarray\n",
    "N_dist, D_dist = np.meshgrid(n, d, indexing=\"ij\")\n",
    "dist_f_two_array: np.ndarray = np.array(dist_f_two)\n",
    "dist_h_two_array: np.ndarray = np.array(dist_h_two)\n",
    "\n",
    "fig = make_subplots(\n",
    "    rows=1,\n",
    "    cols=2,\n",
    "    specs=[[{\"type\": \"surface\"}, {\"type\": \"surface\"}]],\n",
    "    subplot_titles=(\n",
    "        \"3D KNN Metric (n, k, компоненты связности)\",\n",
    "        \"3D Distance Metric (n, d, хроматическое число)\",\n",
    "    ),\n",
    "    horizontal_spacing=0.05,\n",
    ")\n",
    "\n",
    "fig.add_trace(\n",
    "    go.Surface(\n",
    "        x=N_knn,\n",
    "        y=K_knn,\n",
    "        z=knn_f_two_array,\n",
    "        name=\"KNN Pareto\",\n",
    "        colorscale=\"Blues\",\n",
    "        opacity=0.7,\n",
    "        showscale=False,\n",
    "    ),\n",
    "    row=1,\n",
    "    col=1,\n",
    ")\n",
    "\n",
    "fig.add_trace(\n",
    "    go.Surface(\n",
    "        x=N_knn,\n",
    "        y=K_knn,\n",
    "        z=knn_h_two_array,\n",
    "        name=\"KNN Gamma\",\n",
    "        colorscale=\"Reds\",\n",
    "        opacity=0.7,\n",
    "        showscale=False,\n",
    "    ),\n",
    "    row=1,\n",
    "    col=1,\n",
    ")\n",
    "\n",
    "fig.add_trace(\n",
    "    go.Surface(\n",
    "        x=N_dist,\n",
    "        y=D_dist,\n",
    "        z=dist_f_two_array,\n",
    "        name=\"Distance Pareto\",\n",
    "        colorscale=\"Greens\",\n",
    "        opacity=0.7,\n",
    "        showscale=False,\n",
    "    ),\n",
    "    row=1,\n",
    "    col=2,\n",
    ")\n",
    "\n",
    "fig.add_trace(\n",
    "    go.Surface(\n",
    "        x=N_dist,\n",
    "        y=D_dist,\n",
    "        z=dist_h_two_array,\n",
    "        name=\"Distance Gamma\",\n",
    "        colorscale=\"Oranges\",\n",
    "        opacity=0.7,\n",
    "        showscale=False,\n",
    "    ),\n",
    "    row=1,\n",
    "    col=2,\n",
    ")\n",
    "\n",
    "fig.update_layout(\n",
    "    scene=dict(\n",
    "        xaxis_title=\"n (размер графа)\",\n",
    "        yaxis_title=\"k (количество соседей)\",\n",
    "        zaxis_title=\"Количество компонент связности\",\n",
    "        camera=dict(eye=dict(x=1.2, y=1.2, z=1.2)),\n",
    "    ),\n",
    "    scene2=dict(\n",
    "        xaxis_title=\"n (размер графа)\",\n",
    "        yaxis_title=\"d (пороговое расстояние)\",\n",
    "        zaxis_title=\"Хроматическое число\",\n",
    "        camera=dict(eye=dict(x=1.2, y=1.2, z=1.2)),\n",
    "    ),\n",
    "    title_text=\"3D Визуализация метрик: влияние параметров графа (Pareto vs Gamma)\",\n",
    "    title_x=0.5,\n",
    "    width=1400,\n",
    "    height=700,\n",
    "    showlegend=True,\n",
    "    legend=dict(yanchor=\"top\", y=0.99, xanchor=\"left\", x=0.01),\n",
    ")\n",
    "\n",
    "fig.show()"
   ]
  },
  {
   "cell_type": "markdown",
   "id": "e09c03dc",
   "metadata": {},
   "source": [
    "### Distance\n",
    "Видно, что при росте n и фиксированных остальных параметрах, хроматическое число растет для распределений Парето и Гамма"
   ]
  },
  {
   "cell_type": "code",
   "execution_count": 13,
   "id": "87b7d7c6",
   "metadata": {},
   "outputs": [
    {
     "data": {
      "application/vnd.jupyter.widget-view+json": {
       "model_id": "995103332c36499bbcffddc0668fed91",
       "version_major": 2,
       "version_minor": 0
      },
      "text/plain": [
       "  0%|          | 0/500 [00:00<?, ?it/s]"
      ]
     },
     "metadata": {},
     "output_type": "display_data"
    },
    {
     "data": {
      "application/vnd.jupyter.widget-view+json": {
       "model_id": "d28fa989a78340d1ad16a2a1912c51d1",
       "version_major": 2,
       "version_minor": 0
      },
      "text/plain": [
       "  0%|          | 0/500 [00:00<?, ?it/s]"
      ]
     },
     "metadata": {},
     "output_type": "display_data"
    },
    {
     "data": {
      "application/vnd.jupyter.widget-view+json": {
       "model_id": "a2904957b85a4b4a8d964420b0fa2ee2",
       "version_major": 2,
       "version_minor": 0
      },
      "text/plain": [
       "  0%|          | 0/500 [00:00<?, ?it/s]"
      ]
     },
     "metadata": {},
     "output_type": "display_data"
    },
    {
     "data": {
      "application/vnd.jupyter.widget-view+json": {
       "model_id": "18ce8f3bce7748ff877940312827d3e2",
       "version_major": 2,
       "version_minor": 0
      },
      "text/plain": [
       "  0%|          | 0/500 [00:00<?, ?it/s]"
      ]
     },
     "metadata": {},
     "output_type": "display_data"
    }
   ],
   "source": [
    "n: int = 100\n",
    "cnt: int = 50\n",
    "shape: float = np.sqrt(2/3)\n",
    "alpha: float = 3\n",
    "mc_iter: int = 500\n",
    "\n",
    "gen: Generator = Generator(v=3, alpha=alpha, shape=shape, size=n)\n",
    "knn_f_two: List[float] = [GraphKnn(gen.get_f_two()).calc_connected_components() for _ in tqdm(range(mc_iter))]\n",
    "knn_h_two: List[float] = [GraphKnn(gen.get_h_two()).calc_connected_components() for _ in tqdm(range(mc_iter))]\n",
    "dist_f_two: List[float] = [GraphDist(gen.get_f_two()).calc_chromatic_number() for _ in tqdm(range(mc_iter))]\n",
    "dist_h_two: List[float] = [GraphDist(gen.get_h_two()).calc_chromatic_number() for _ in tqdm(range(mc_iter))]\n",
    "\n",
    "a: float = 0.05\n",
    "\n",
    "knn_f_mean = np.mean(knn_f_two)\n",
    "knn_h_mean = np.mean(knn_h_two)\n",
    "dist_f_mean = np.mean(dist_f_two)\n",
    "dist_h_mean = np.mean(dist_h_two)\n",
    "\n",
    "if knn_h_mean > knn_f_mean:\n",
    "    knn_thr: float = sorted(knn_f_two)[int((1-a)*len(knn_f_two))]\n",
    "else:\n",
    "    knn_thr: float = sorted(knn_f_two)[int(a*len(knn_f_two))]\n",
    "\n",
    "if dist_h_mean > dist_f_mean:\n",
    "    dist_thr: float = sorted(dist_f_two)[int((1-a)*len(dist_f_two))]\n",
    "else:\n",
    "    dist_thr: float = sorted(dist_f_two)[int(a*len(dist_f_two))]\n",
    "\n",
    "if knn_h_mean > knn_f_mean:\n",
    "    knn_pow: int = sum(np.array(knn_h_two) > knn_thr)\n",
    "else:\n",
    "    knn_pow: int = sum(np.array(knn_h_two) < knn_thr)\n",
    "\n",
    "if dist_h_mean > dist_f_mean:\n",
    "    dist_pow: int = sum(np.array(dist_h_two) > dist_thr)\n",
    "else:\n",
    "    dist_pow: int = sum(np.array(dist_h_two) < dist_thr)"
   ]
  },
  {
   "cell_type": "code",
   "execution_count": 14,
   "id": "247d1a5b",
   "metadata": {},
   "outputs": [
    {
     "data": {
      "application/vnd.plotly.v1+json": {
       "config": {
        "plotlyServerURL": "https://plot.ly"
       },
       "data": [
        {
         "histnorm": "probability density",
         "marker": {
          "color": "blue"
         },
         "name": "KNN Pareto (H0)",
         "nbinsx": 30,
         "opacity": 0.7,
         "type": "histogram",
         "x": [
          1,
          1,
          1,
          1,
          1,
          1,
          1,
          1,
          1,
          1,
          1,
          1,
          1,
          1,
          1,
          1,
          1,
          1,
          1,
          1,
          1,
          1,
          1,
          1,
          1,
          1,
          1,
          1,
          1,
          1,
          1,
          1,
          1,
          1,
          1,
          1,
          1,
          1,
          1,
          1,
          1,
          1,
          1,
          1,
          1,
          1,
          1,
          1,
          1,
          1,
          1,
          1,
          1,
          1,
          1,
          1,
          1,
          1,
          1,
          1,
          1,
          1,
          1,
          1,
          1,
          1,
          1,
          1,
          1,
          1,
          1,
          1,
          1,
          1,
          1,
          1,
          1,
          1,
          1,
          1,
          1,
          1,
          1,
          1,
          1,
          1,
          1,
          1,
          1,
          1,
          1,
          1,
          1,
          1,
          1,
          1,
          1,
          1,
          1,
          1,
          1,
          1,
          1,
          1,
          1,
          1,
          1,
          1,
          1,
          1,
          1,
          1,
          1,
          1,
          1,
          1,
          1,
          1,
          1,
          1,
          1,
          1,
          1,
          1,
          1,
          1,
          1,
          1,
          1,
          1,
          1,
          1,
          1,
          1,
          1,
          1,
          1,
          1,
          1,
          1,
          1,
          1,
          1,
          1,
          1,
          1,
          1,
          1,
          1,
          1,
          1,
          1,
          1,
          1,
          1,
          1,
          1,
          1,
          1,
          1,
          1,
          1,
          1,
          1,
          1,
          1,
          1,
          1,
          1,
          1,
          1,
          1,
          1,
          1,
          1,
          1,
          1,
          1,
          1,
          1,
          1,
          1,
          1,
          1,
          1,
          1,
          1,
          1,
          1,
          1,
          1,
          1,
          1,
          1,
          1,
          1,
          1,
          1,
          1,
          1,
          1,
          1,
          1,
          1,
          1,
          1,
          1,
          1,
          1,
          1,
          1,
          1,
          1,
          1,
          1,
          1,
          1,
          1,
          1,
          1,
          1,
          1,
          1,
          1,
          1,
          1,
          1,
          1,
          1,
          1,
          1,
          1,
          1,
          1,
          1,
          1,
          1,
          1,
          1,
          1,
          1,
          1,
          1,
          1,
          1,
          1,
          1,
          1,
          1,
          1,
          1,
          1,
          1,
          1,
          1,
          1,
          1,
          1,
          1,
          1,
          1,
          1,
          1,
          1,
          1,
          1,
          1,
          1,
          1,
          1,
          1,
          1,
          1,
          1,
          1,
          1,
          1,
          1,
          1,
          1,
          1,
          1,
          1,
          1,
          1,
          1,
          1,
          1,
          1,
          1,
          1,
          1,
          1,
          1,
          1,
          1,
          1,
          1,
          1,
          1,
          1,
          1,
          1,
          1,
          1,
          1,
          1,
          1,
          1,
          1,
          1,
          1,
          1,
          1,
          1,
          1,
          1,
          1,
          1,
          1,
          1,
          1,
          1,
          1,
          1,
          1,
          1,
          1,
          1,
          1,
          1,
          1,
          1,
          1,
          1,
          1,
          1,
          1,
          1,
          1,
          1,
          1,
          1,
          1,
          1,
          1,
          1,
          1,
          1,
          1,
          1,
          1,
          1,
          1,
          1,
          1,
          1,
          1,
          1,
          1,
          1,
          1,
          1,
          1,
          1,
          1,
          1,
          1,
          1,
          1,
          1,
          1,
          1,
          1,
          1,
          1,
          1,
          1,
          1,
          1,
          1,
          1,
          1,
          1,
          1,
          1,
          1,
          1,
          1,
          1,
          1,
          1,
          1,
          1,
          1,
          1,
          1,
          1,
          1,
          1,
          1,
          1,
          1,
          1,
          1,
          1,
          1,
          1,
          1,
          1,
          1,
          1,
          1,
          1,
          1,
          1,
          1,
          1,
          1,
          1,
          1,
          1,
          1,
          1,
          1,
          1,
          1,
          1,
          1,
          1,
          1,
          1,
          1,
          1,
          1,
          1,
          1,
          1,
          1,
          1,
          1,
          1,
          1,
          1,
          1,
          1,
          1,
          1,
          1,
          1,
          1,
          1,
          1,
          1,
          1,
          1,
          1,
          1,
          1,
          1,
          1,
          1,
          1,
          1,
          1,
          1,
          1,
          1,
          1,
          1,
          1,
          1,
          1,
          1,
          1,
          1,
          1,
          1,
          1,
          1,
          1,
          1,
          1,
          1,
          1,
          1,
          1,
          1,
          1,
          1,
          1,
          1,
          1,
          1,
          1,
          1,
          1,
          1,
          1,
          1
         ],
         "xaxis": "x",
         "yaxis": "y"
        },
        {
         "histnorm": "probability density",
         "marker": {
          "color": "red"
         },
         "name": "KNN Gamma (H1)",
         "nbinsx": 30,
         "opacity": 0.7,
         "type": "histogram",
         "x": [
          1,
          1,
          1,
          1,
          1,
          1,
          1,
          1,
          1,
          1,
          1,
          1,
          1,
          1,
          1,
          1,
          1,
          1,
          1,
          1,
          1,
          1,
          1,
          1,
          1,
          1,
          1,
          1,
          1,
          1,
          1,
          1,
          1,
          1,
          1,
          1,
          1,
          1,
          1,
          1,
          1,
          1,
          1,
          1,
          1,
          1,
          1,
          1,
          1,
          1,
          1,
          1,
          1,
          1,
          1,
          1,
          1,
          1,
          1,
          1,
          1,
          1,
          1,
          1,
          1,
          1,
          1,
          1,
          1,
          1,
          1,
          1,
          1,
          1,
          1,
          1,
          1,
          1,
          1,
          1,
          1,
          1,
          1,
          1,
          1,
          1,
          1,
          1,
          1,
          1,
          1,
          1,
          1,
          1,
          1,
          1,
          1,
          1,
          1,
          1,
          1,
          1,
          1,
          1,
          1,
          1,
          1,
          1,
          1,
          1,
          1,
          1,
          1,
          1,
          1,
          1,
          1,
          1,
          1,
          1,
          1,
          1,
          1,
          1,
          1,
          1,
          1,
          1,
          1,
          1,
          1,
          1,
          1,
          1,
          1,
          1,
          1,
          1,
          1,
          1,
          1,
          1,
          1,
          1,
          1,
          1,
          1,
          1,
          1,
          1,
          1,
          1,
          1,
          1,
          1,
          1,
          1,
          1,
          1,
          1,
          1,
          1,
          1,
          1,
          1,
          1,
          1,
          1,
          1,
          1,
          1,
          1,
          1,
          1,
          1,
          1,
          1,
          1,
          1,
          1,
          1,
          1,
          1,
          1,
          1,
          1,
          1,
          1,
          1,
          1,
          1,
          1,
          1,
          1,
          1,
          1,
          1,
          1,
          1,
          1,
          1,
          1,
          1,
          1,
          1,
          1,
          1,
          1,
          1,
          1,
          1,
          1,
          1,
          1,
          1,
          1,
          1,
          1,
          1,
          1,
          1,
          1,
          1,
          1,
          1,
          1,
          1,
          1,
          1,
          1,
          1,
          1,
          1,
          1,
          1,
          1,
          1,
          1,
          1,
          1,
          1,
          1,
          1,
          1,
          1,
          1,
          1,
          1,
          1,
          1,
          1,
          1,
          1,
          1,
          1,
          1,
          1,
          1,
          1,
          1,
          1,
          1,
          1,
          1,
          1,
          1,
          1,
          1,
          1,
          1,
          1,
          1,
          1,
          1,
          1,
          1,
          1,
          1,
          1,
          1,
          1,
          1,
          1,
          1,
          1,
          1,
          1,
          1,
          1,
          1,
          1,
          1,
          1,
          1,
          1,
          1,
          1,
          1,
          1,
          1,
          1,
          1,
          1,
          1,
          1,
          1,
          1,
          1,
          1,
          1,
          1,
          1,
          1,
          1,
          1,
          1,
          1,
          1,
          1,
          1,
          1,
          1,
          1,
          1,
          1,
          1,
          1,
          1,
          1,
          1,
          1,
          1,
          1,
          1,
          1,
          1,
          1,
          1,
          1,
          1,
          1,
          1,
          1,
          1,
          1,
          1,
          1,
          1,
          1,
          1,
          1,
          1,
          1,
          1,
          1,
          1,
          1,
          1,
          1,
          1,
          1,
          1,
          1,
          1,
          1,
          1,
          1,
          1,
          1,
          1,
          1,
          1,
          1,
          1,
          1,
          1,
          1,
          1,
          1,
          1,
          1,
          1,
          1,
          1,
          1,
          1,
          1,
          1,
          1,
          1,
          1,
          1,
          1,
          1,
          1,
          1,
          1,
          1,
          1,
          1,
          1,
          1,
          1,
          1,
          1,
          1,
          1,
          1,
          1,
          1,
          1,
          1,
          1,
          1,
          1,
          1,
          1,
          1,
          1,
          1,
          1,
          1,
          1,
          1,
          1,
          1,
          1,
          1,
          1,
          1,
          1,
          1,
          1,
          1,
          1,
          1,
          1,
          1,
          1,
          1,
          1,
          1,
          1,
          1,
          1,
          1,
          1,
          1,
          1,
          1,
          1,
          1,
          1,
          1,
          1,
          1,
          1,
          1,
          1,
          1,
          1,
          1,
          1,
          1,
          1,
          1,
          1,
          1,
          1,
          1,
          1,
          1,
          1,
          1,
          1,
          1,
          1,
          1,
          1,
          1,
          1,
          1,
          1,
          1,
          1,
          1,
          1,
          1,
          1,
          1,
          1,
          1,
          1,
          1,
          1,
          1,
          1,
          1,
          1,
          1
         ],
         "xaxis": "x",
         "yaxis": "y"
        },
        {
         "histnorm": "probability density",
         "marker": {
          "color": "lightblue"
         },
         "name": "Distance Pareto (H0)",
         "nbinsx": 30,
         "opacity": 0.7,
         "showlegend": false,
         "type": "histogram",
         "x": [
          74,
          70,
          73,
          77,
          77,
          71,
          65,
          74,
          77,
          69,
          75,
          73,
          72,
          73,
          65,
          68,
          64,
          69,
          71,
          63,
          71,
          71,
          73,
          73,
          72,
          71,
          68,
          70,
          70,
          72,
          72,
          75,
          73,
          71,
          72,
          71,
          81,
          74,
          67,
          70,
          69,
          67,
          69,
          75,
          72,
          76,
          71,
          70,
          70,
          68,
          70,
          70,
          69,
          63,
          74,
          77,
          72,
          64,
          64,
          73,
          63,
          76,
          66,
          72,
          72,
          66,
          72,
          71,
          70,
          72,
          73,
          70,
          75,
          79,
          67,
          69,
          73,
          69,
          67,
          60,
          67,
          66,
          75,
          72,
          69,
          72,
          70,
          72,
          69,
          68,
          76,
          74,
          77,
          71,
          68,
          71,
          68,
          76,
          72,
          65,
          72,
          72,
          66,
          74,
          72,
          75,
          56,
          65,
          73,
          62,
          71,
          67,
          70,
          79,
          70,
          71,
          76,
          72,
          76,
          71,
          71,
          76,
          76,
          68,
          65,
          83,
          71,
          67,
          80,
          78,
          72,
          68,
          69,
          73,
          78,
          67,
          67,
          74,
          70,
          80,
          81,
          64,
          74,
          75,
          70,
          74,
          64,
          83,
          63,
          73,
          70,
          70,
          68,
          73,
          66,
          65,
          68,
          70,
          69,
          79,
          67,
          66,
          73,
          77,
          67,
          72,
          72,
          69,
          65,
          73,
          68,
          71,
          72,
          72,
          75,
          64,
          66,
          70,
          71,
          64,
          69,
          70,
          79,
          74,
          66,
          74,
          77,
          73,
          65,
          76,
          72,
          66,
          74,
          71,
          66,
          71,
          76,
          72,
          76,
          72,
          70,
          68,
          74,
          77,
          72,
          78,
          75,
          72,
          69,
          82,
          76,
          64,
          71,
          75,
          69,
          67,
          56,
          79,
          66,
          76,
          71,
          67,
          69,
          61,
          62,
          70,
          71,
          79,
          68,
          71,
          71,
          65,
          73,
          68,
          74,
          65,
          79,
          69,
          64,
          74,
          71,
          68,
          75,
          63,
          79,
          66,
          74,
          64,
          75,
          70,
          68,
          76,
          67,
          69,
          75,
          63,
          72,
          69,
          77,
          75,
          70,
          75,
          75,
          67,
          74,
          72,
          72,
          65,
          72,
          66,
          62,
          76,
          73,
          66,
          67,
          66,
          73,
          75,
          76,
          70,
          71,
          76,
          67,
          73,
          69,
          76,
          57,
          72,
          68,
          70,
          64,
          64,
          68,
          67,
          73,
          81,
          70,
          69,
          72,
          73,
          73,
          75,
          72,
          75,
          62,
          67,
          64,
          70,
          74,
          74,
          66,
          71,
          75,
          64,
          76,
          64,
          67,
          74,
          71,
          79,
          78,
          81,
          67,
          77,
          66,
          63,
          70,
          75,
          66,
          68,
          71,
          64,
          76,
          72,
          71,
          72,
          81,
          59,
          68,
          69,
          74,
          66,
          68,
          76,
          72,
          67,
          75,
          69,
          79,
          75,
          70,
          68,
          69,
          74,
          61,
          65,
          67,
          75,
          68,
          72,
          76,
          72,
          76,
          73,
          70,
          71,
          63,
          68,
          72,
          71,
          78,
          69,
          63,
          67,
          79,
          73,
          69,
          72,
          69,
          63,
          78,
          67,
          75,
          78,
          72,
          68,
          65,
          64,
          82,
          71,
          69,
          71,
          68,
          63,
          73,
          74,
          73,
          71,
          76,
          74,
          73,
          71,
          71,
          70,
          70,
          74,
          72,
          70,
          67,
          62,
          72,
          66,
          68,
          66,
          70,
          75,
          64,
          66,
          72,
          71,
          72,
          73,
          68,
          70,
          67,
          62,
          75,
          82,
          62,
          73,
          71,
          76,
          74,
          62,
          67,
          71,
          65,
          70,
          75,
          79,
          68,
          66,
          70,
          67,
          70,
          61,
          78,
          75,
          65,
          76,
          69,
          68,
          75,
          75,
          81,
          73,
          66,
          67,
          65,
          59,
          67,
          65,
          67,
          78,
          72,
          70,
          73,
          70,
          72,
          66,
          72,
          69,
          59,
          79,
          70,
          72,
          71,
          66,
          65,
          68,
          69,
          67,
          68,
          63,
          75,
          71,
          73,
          76,
          65,
          79,
          79,
          67,
          68,
          74,
          76,
          66,
          67,
          67,
          74,
          75
         ],
         "xaxis": "x2",
         "yaxis": "y2"
        },
        {
         "histnorm": "probability density",
         "marker": {
          "color": "orange"
         },
         "name": "Distance Gamma (H1)",
         "nbinsx": 30,
         "opacity": 0.7,
         "showlegend": false,
         "type": "histogram",
         "x": [
          61,
          63,
          59,
          54,
          55,
          54,
          54,
          56,
          59,
          53,
          55,
          50,
          56,
          46,
          48,
          59,
          63,
          60,
          52,
          47,
          52,
          56,
          54,
          54,
          65,
          56,
          53,
          58,
          52,
          48,
          55,
          60,
          54,
          58,
          52,
          57,
          58,
          56,
          50,
          52,
          60,
          49,
          58,
          62,
          61,
          51,
          61,
          58,
          53,
          58,
          56,
          46,
          51,
          58,
          53,
          48,
          56,
          55,
          54,
          55,
          59,
          62,
          61,
          60,
          67,
          47,
          57,
          58,
          41,
          55,
          54,
          49,
          48,
          60,
          47,
          56,
          64,
          51,
          55,
          52,
          66,
          57,
          47,
          65,
          60,
          62,
          53,
          60,
          65,
          52,
          54,
          52,
          50,
          48,
          53,
          51,
          64,
          56,
          56,
          55,
          50,
          50,
          52,
          58,
          55,
          57,
          48,
          48,
          56,
          50,
          57,
          59,
          54,
          50,
          55,
          52,
          63,
          56,
          55,
          50,
          48,
          51,
          48,
          55,
          60,
          51,
          55,
          57,
          53,
          51,
          59,
          51,
          56,
          54,
          60,
          50,
          64,
          55,
          60,
          53,
          54,
          54,
          48,
          60,
          54,
          52,
          54,
          59,
          64,
          53,
          56,
          55,
          55,
          59,
          60,
          57,
          58,
          64,
          61,
          51,
          51,
          54,
          59,
          60,
          68,
          57,
          59,
          50,
          60,
          55,
          56,
          59,
          52,
          51,
          56,
          63,
          47,
          54,
          56,
          52,
          54,
          55,
          57,
          61,
          52,
          48,
          61,
          55,
          52,
          52,
          54,
          55,
          57,
          58,
          52,
          48,
          53,
          57,
          44,
          55,
          55,
          52,
          60,
          56,
          55,
          65,
          61,
          49,
          46,
          52,
          56,
          59,
          50,
          60,
          58,
          59,
          57,
          53,
          58,
          54,
          55,
          59,
          67,
          55,
          63,
          49,
          57,
          65,
          54,
          53,
          63,
          50,
          59,
          62,
          54,
          47,
          59,
          56,
          55,
          54,
          62,
          50,
          58,
          55,
          57,
          53,
          55,
          55,
          55,
          49,
          54,
          56,
          53,
          62,
          53,
          49,
          59,
          60,
          66,
          55,
          59,
          59,
          51,
          58,
          57,
          50,
          61,
          57,
          62,
          54,
          55,
          68,
          63,
          50,
          58,
          60,
          52,
          56,
          47,
          61,
          60,
          57,
          62,
          57,
          51,
          52,
          55,
          46,
          61,
          54,
          57,
          59,
          58,
          54,
          51,
          52,
          45,
          45,
          55,
          51,
          58,
          62,
          48,
          54,
          55,
          57,
          63,
          50,
          54,
          47,
          57,
          54,
          57,
          53,
          55,
          56,
          59,
          52,
          56,
          53,
          49,
          60,
          59,
          48,
          58,
          54,
          50,
          60,
          51,
          60,
          47,
          57,
          58,
          64,
          50,
          57,
          56,
          49,
          53,
          57,
          60,
          58,
          51,
          58,
          57,
          56,
          62,
          52,
          52,
          60,
          59,
          62,
          57,
          55,
          52,
          58,
          61,
          66,
          56,
          47,
          57,
          53,
          54,
          57,
          58,
          55,
          59,
          51,
          56,
          50,
          69,
          54,
          59,
          58,
          59,
          49,
          61,
          54,
          56,
          61,
          58,
          55,
          61,
          56,
          54,
          53,
          60,
          58,
          62,
          57,
          66,
          58,
          56,
          49,
          58,
          47,
          59,
          57,
          63,
          61,
          62,
          53,
          60,
          49,
          59,
          55,
          56,
          60,
          66,
          57,
          47,
          58,
          53,
          57,
          60,
          57,
          60,
          51,
          58,
          50,
          54,
          55,
          62,
          48,
          59,
          56,
          53,
          53,
          49,
          50,
          51,
          55,
          51,
          58,
          61,
          56,
          52,
          53,
          50,
          59,
          52,
          58,
          50,
          63,
          45,
          50,
          65,
          59,
          40,
          44,
          56,
          49,
          54,
          55,
          62,
          61,
          61,
          54,
          54,
          58,
          51,
          58,
          53,
          48,
          57,
          53,
          56,
          54,
          51,
          57,
          51,
          61,
          58,
          59,
          54,
          61,
          48,
          56,
          57,
          50,
          49,
          54,
          59,
          55,
          63,
          62,
          53,
          55,
          55,
          55,
          59,
          62,
          58,
          53,
          56,
          53,
          66,
          55,
          57,
          51
         ],
         "xaxis": "x2",
         "yaxis": "y2"
        },
        {
         "line": {
          "color": "purple",
          "width": 2
         },
         "marker": {
          "size": 4
         },
         "mode": "lines+markers",
         "name": "KNN ROC",
         "showlegend": false,
         "type": "scatter",
         "x": [
          0,
          0,
          0,
          0,
          0,
          0,
          0,
          0,
          0,
          0,
          0,
          0,
          0,
          0,
          0,
          0,
          0,
          0,
          0,
          0,
          0,
          0,
          0,
          0,
          0,
          0,
          0,
          0,
          0,
          0,
          0,
          0,
          0,
          0,
          0,
          0,
          0,
          0,
          0,
          0,
          0,
          0,
          0,
          0,
          0,
          0,
          0,
          0,
          0,
          0
         ],
         "xaxis": "x3",
         "y": [
          0,
          0,
          0,
          0,
          0,
          0,
          0,
          0,
          0,
          0,
          0,
          0,
          0,
          0,
          0,
          0,
          0,
          0,
          0,
          0,
          0,
          0,
          0,
          0,
          0,
          0,
          0,
          0,
          0,
          0,
          0,
          0,
          0,
          0,
          0,
          0,
          0,
          0,
          0,
          0,
          0,
          0,
          0,
          0,
          0,
          0,
          0,
          0,
          0,
          0
         ],
         "yaxis": "y3"
        },
        {
         "marker": {
          "color": "red",
          "size": 12,
          "symbol": "star"
         },
         "mode": "markers",
         "name": "α=0.05",
         "showlegend": false,
         "type": "scatter",
         "x": [
          0
         ],
         "xaxis": "x3",
         "y": [
          0
         ],
         "yaxis": "y3"
        },
        {
         "line": {
          "color": "darkgreen",
          "width": 2
         },
         "marker": {
          "size": 4
         },
         "mode": "lines+markers",
         "name": "Distance ROC",
         "showlegend": false,
         "type": "scatter",
         "x": [
          0,
          0.004,
          0.006,
          0.006,
          0.006,
          0.006,
          0.012,
          0.012,
          0.014,
          0.014,
          0.02,
          0.036,
          0.036,
          0.06,
          0.06,
          0.096,
          0.096,
          0.134,
          0.134,
          0.188,
          0.26,
          0.26,
          0.326,
          0.326,
          0.388,
          0.388,
          0.472,
          0.472,
          0.558,
          0.558,
          0.662,
          0.728,
          0.728,
          0.784,
          0.784,
          0.85,
          0.85,
          0.906,
          0.906,
          0.926,
          0.944,
          0.944,
          0.974,
          0.974,
          0.978,
          0.978,
          0.99,
          0.99,
          0.996,
          0.996
         ],
         "xaxis": "x4",
         "y": [
          0.504,
          0.58,
          0.656,
          0.656,
          0.73,
          0.73,
          0.798,
          0.798,
          0.856,
          0.856,
          0.898,
          0.932,
          0.932,
          0.954,
          0.954,
          0.966,
          0.966,
          0.978,
          0.978,
          0.99,
          0.994,
          0.994,
          0.998,
          0.998,
          1,
          1,
          1,
          1,
          1,
          1,
          1,
          1,
          1,
          1,
          1,
          1,
          1,
          1,
          1,
          1,
          1,
          1,
          1,
          1,
          1,
          1,
          1,
          1,
          1,
          1
         ],
         "yaxis": "y4"
        },
        {
         "marker": {
          "color": "red",
          "size": 12,
          "symbol": "star"
         },
         "mode": "markers",
         "name": "α=0.05",
         "showlegend": false,
         "type": "scatter",
         "x": [
          0.036
         ],
         "xaxis": "x4",
         "y": [
          0.932
         ],
         "yaxis": "y4"
        }
       ],
       "layout": {
        "annotations": [
         {
          "font": {
           "size": 16
          },
          "showarrow": false,
          "text": "Количество компонент связности: Распределения и трешхолд",
          "x": 0.225,
          "xanchor": "center",
          "xref": "paper",
          "y": 1,
          "yanchor": "bottom",
          "yref": "paper"
         },
         {
          "font": {
           "size": 16
          },
          "showarrow": false,
          "text": "Хроматическое число: Распределения и трешхолд",
          "x": 0.775,
          "xanchor": "center",
          "xref": "paper",
          "y": 1,
          "yanchor": "bottom",
          "yref": "paper"
         },
         {
          "font": {
           "size": 16
          },
          "showarrow": false,
          "text": "KNN: ROC-подобная кривая",
          "x": 0.225,
          "xanchor": "center",
          "xref": "paper",
          "y": 0.44,
          "yanchor": "bottom",
          "yref": "paper"
         },
         {
          "font": {
           "size": 16
          },
          "showarrow": false,
          "text": "Distance: ROC-подобная кривая",
          "x": 0.775,
          "xanchor": "center",
          "xref": "paper",
          "y": 0.44,
          "yanchor": "bottom",
          "yref": "paper"
         },
         {
          "showarrow": false,
          "text": "Трешхолд: 1.000",
          "x": 1,
          "xanchor": "left",
          "xref": "x",
          "y": 1,
          "yanchor": "top",
          "yref": "y domain"
         },
         {
          "showarrow": false,
          "text": "Трешхолд: 63.000",
          "x": 63,
          "xanchor": "left",
          "xref": "x2",
          "y": 1,
          "yanchor": "top",
          "yref": "y2 domain"
         }
        ],
        "height": 800,
        "legend": {
         "x": 0.01,
         "xanchor": "left",
         "y": 0.98,
         "yanchor": "top"
        },
        "shapes": [
         {
          "line": {
           "color": "green",
           "dash": "dash",
           "width": 3
          },
          "type": "line",
          "x0": 1,
          "x1": 1,
          "xref": "x",
          "y0": 0,
          "y1": 1,
          "yref": "y domain"
         },
         {
          "line": {
           "color": "green",
           "dash": "dash",
           "width": 3
          },
          "type": "line",
          "x0": 63,
          "x1": 63,
          "xref": "x2",
          "y0": 0,
          "y1": 1,
          "yref": "y2 domain"
         }
        ],
        "showlegend": true,
        "template": {
         "data": {
          "bar": [
           {
            "error_x": {
             "color": "#2a3f5f"
            },
            "error_y": {
             "color": "#2a3f5f"
            },
            "marker": {
             "line": {
              "color": "#E5ECF6",
              "width": 0.5
             },
             "pattern": {
              "fillmode": "overlay",
              "size": 10,
              "solidity": 0.2
             }
            },
            "type": "bar"
           }
          ],
          "barpolar": [
           {
            "marker": {
             "line": {
              "color": "#E5ECF6",
              "width": 0.5
             },
             "pattern": {
              "fillmode": "overlay",
              "size": 10,
              "solidity": 0.2
             }
            },
            "type": "barpolar"
           }
          ],
          "carpet": [
           {
            "aaxis": {
             "endlinecolor": "#2a3f5f",
             "gridcolor": "white",
             "linecolor": "white",
             "minorgridcolor": "white",
             "startlinecolor": "#2a3f5f"
            },
            "baxis": {
             "endlinecolor": "#2a3f5f",
             "gridcolor": "white",
             "linecolor": "white",
             "minorgridcolor": "white",
             "startlinecolor": "#2a3f5f"
            },
            "type": "carpet"
           }
          ],
          "choropleth": [
           {
            "colorbar": {
             "outlinewidth": 0,
             "ticks": ""
            },
            "type": "choropleth"
           }
          ],
          "contour": [
           {
            "colorbar": {
             "outlinewidth": 0,
             "ticks": ""
            },
            "colorscale": [
             [
              0,
              "#0d0887"
             ],
             [
              0.1111111111111111,
              "#46039f"
             ],
             [
              0.2222222222222222,
              "#7201a8"
             ],
             [
              0.3333333333333333,
              "#9c179e"
             ],
             [
              0.4444444444444444,
              "#bd3786"
             ],
             [
              0.5555555555555556,
              "#d8576b"
             ],
             [
              0.6666666666666666,
              "#ed7953"
             ],
             [
              0.7777777777777778,
              "#fb9f3a"
             ],
             [
              0.8888888888888888,
              "#fdca26"
             ],
             [
              1,
              "#f0f921"
             ]
            ],
            "type": "contour"
           }
          ],
          "contourcarpet": [
           {
            "colorbar": {
             "outlinewidth": 0,
             "ticks": ""
            },
            "type": "contourcarpet"
           }
          ],
          "heatmap": [
           {
            "colorbar": {
             "outlinewidth": 0,
             "ticks": ""
            },
            "colorscale": [
             [
              0,
              "#0d0887"
             ],
             [
              0.1111111111111111,
              "#46039f"
             ],
             [
              0.2222222222222222,
              "#7201a8"
             ],
             [
              0.3333333333333333,
              "#9c179e"
             ],
             [
              0.4444444444444444,
              "#bd3786"
             ],
             [
              0.5555555555555556,
              "#d8576b"
             ],
             [
              0.6666666666666666,
              "#ed7953"
             ],
             [
              0.7777777777777778,
              "#fb9f3a"
             ],
             [
              0.8888888888888888,
              "#fdca26"
             ],
             [
              1,
              "#f0f921"
             ]
            ],
            "type": "heatmap"
           }
          ],
          "histogram": [
           {
            "marker": {
             "pattern": {
              "fillmode": "overlay",
              "size": 10,
              "solidity": 0.2
             }
            },
            "type": "histogram"
           }
          ],
          "histogram2d": [
           {
            "colorbar": {
             "outlinewidth": 0,
             "ticks": ""
            },
            "colorscale": [
             [
              0,
              "#0d0887"
             ],
             [
              0.1111111111111111,
              "#46039f"
             ],
             [
              0.2222222222222222,
              "#7201a8"
             ],
             [
              0.3333333333333333,
              "#9c179e"
             ],
             [
              0.4444444444444444,
              "#bd3786"
             ],
             [
              0.5555555555555556,
              "#d8576b"
             ],
             [
              0.6666666666666666,
              "#ed7953"
             ],
             [
              0.7777777777777778,
              "#fb9f3a"
             ],
             [
              0.8888888888888888,
              "#fdca26"
             ],
             [
              1,
              "#f0f921"
             ]
            ],
            "type": "histogram2d"
           }
          ],
          "histogram2dcontour": [
           {
            "colorbar": {
             "outlinewidth": 0,
             "ticks": ""
            },
            "colorscale": [
             [
              0,
              "#0d0887"
             ],
             [
              0.1111111111111111,
              "#46039f"
             ],
             [
              0.2222222222222222,
              "#7201a8"
             ],
             [
              0.3333333333333333,
              "#9c179e"
             ],
             [
              0.4444444444444444,
              "#bd3786"
             ],
             [
              0.5555555555555556,
              "#d8576b"
             ],
             [
              0.6666666666666666,
              "#ed7953"
             ],
             [
              0.7777777777777778,
              "#fb9f3a"
             ],
             [
              0.8888888888888888,
              "#fdca26"
             ],
             [
              1,
              "#f0f921"
             ]
            ],
            "type": "histogram2dcontour"
           }
          ],
          "mesh3d": [
           {
            "colorbar": {
             "outlinewidth": 0,
             "ticks": ""
            },
            "type": "mesh3d"
           }
          ],
          "parcoords": [
           {
            "line": {
             "colorbar": {
              "outlinewidth": 0,
              "ticks": ""
             }
            },
            "type": "parcoords"
           }
          ],
          "pie": [
           {
            "automargin": true,
            "type": "pie"
           }
          ],
          "scatter": [
           {
            "fillpattern": {
             "fillmode": "overlay",
             "size": 10,
             "solidity": 0.2
            },
            "type": "scatter"
           }
          ],
          "scatter3d": [
           {
            "line": {
             "colorbar": {
              "outlinewidth": 0,
              "ticks": ""
             }
            },
            "marker": {
             "colorbar": {
              "outlinewidth": 0,
              "ticks": ""
             }
            },
            "type": "scatter3d"
           }
          ],
          "scattercarpet": [
           {
            "marker": {
             "colorbar": {
              "outlinewidth": 0,
              "ticks": ""
             }
            },
            "type": "scattercarpet"
           }
          ],
          "scattergeo": [
           {
            "marker": {
             "colorbar": {
              "outlinewidth": 0,
              "ticks": ""
             }
            },
            "type": "scattergeo"
           }
          ],
          "scattergl": [
           {
            "marker": {
             "colorbar": {
              "outlinewidth": 0,
              "ticks": ""
             }
            },
            "type": "scattergl"
           }
          ],
          "scattermap": [
           {
            "marker": {
             "colorbar": {
              "outlinewidth": 0,
              "ticks": ""
             }
            },
            "type": "scattermap"
           }
          ],
          "scattermapbox": [
           {
            "marker": {
             "colorbar": {
              "outlinewidth": 0,
              "ticks": ""
             }
            },
            "type": "scattermapbox"
           }
          ],
          "scatterpolar": [
           {
            "marker": {
             "colorbar": {
              "outlinewidth": 0,
              "ticks": ""
             }
            },
            "type": "scatterpolar"
           }
          ],
          "scatterpolargl": [
           {
            "marker": {
             "colorbar": {
              "outlinewidth": 0,
              "ticks": ""
             }
            },
            "type": "scatterpolargl"
           }
          ],
          "scatterternary": [
           {
            "marker": {
             "colorbar": {
              "outlinewidth": 0,
              "ticks": ""
             }
            },
            "type": "scatterternary"
           }
          ],
          "surface": [
           {
            "colorbar": {
             "outlinewidth": 0,
             "ticks": ""
            },
            "colorscale": [
             [
              0,
              "#0d0887"
             ],
             [
              0.1111111111111111,
              "#46039f"
             ],
             [
              0.2222222222222222,
              "#7201a8"
             ],
             [
              0.3333333333333333,
              "#9c179e"
             ],
             [
              0.4444444444444444,
              "#bd3786"
             ],
             [
              0.5555555555555556,
              "#d8576b"
             ],
             [
              0.6666666666666666,
              "#ed7953"
             ],
             [
              0.7777777777777778,
              "#fb9f3a"
             ],
             [
              0.8888888888888888,
              "#fdca26"
             ],
             [
              1,
              "#f0f921"
             ]
            ],
            "type": "surface"
           }
          ],
          "table": [
           {
            "cells": {
             "fill": {
              "color": "#EBF0F8"
             },
             "line": {
              "color": "white"
             }
            },
            "header": {
             "fill": {
              "color": "#C8D4E3"
             },
             "line": {
              "color": "white"
             }
            },
            "type": "table"
           }
          ]
         },
         "layout": {
          "annotationdefaults": {
           "arrowcolor": "#2a3f5f",
           "arrowhead": 0,
           "arrowwidth": 1
          },
          "autotypenumbers": "strict",
          "coloraxis": {
           "colorbar": {
            "outlinewidth": 0,
            "ticks": ""
           }
          },
          "colorscale": {
           "diverging": [
            [
             0,
             "#8e0152"
            ],
            [
             0.1,
             "#c51b7d"
            ],
            [
             0.2,
             "#de77ae"
            ],
            [
             0.3,
             "#f1b6da"
            ],
            [
             0.4,
             "#fde0ef"
            ],
            [
             0.5,
             "#f7f7f7"
            ],
            [
             0.6,
             "#e6f5d0"
            ],
            [
             0.7,
             "#b8e186"
            ],
            [
             0.8,
             "#7fbc41"
            ],
            [
             0.9,
             "#4d9221"
            ],
            [
             1,
             "#276419"
            ]
           ],
           "sequential": [
            [
             0,
             "#0d0887"
            ],
            [
             0.1111111111111111,
             "#46039f"
            ],
            [
             0.2222222222222222,
             "#7201a8"
            ],
            [
             0.3333333333333333,
             "#9c179e"
            ],
            [
             0.4444444444444444,
             "#bd3786"
            ],
            [
             0.5555555555555556,
             "#d8576b"
            ],
            [
             0.6666666666666666,
             "#ed7953"
            ],
            [
             0.7777777777777778,
             "#fb9f3a"
            ],
            [
             0.8888888888888888,
             "#fdca26"
            ],
            [
             1,
             "#f0f921"
            ]
           ],
           "sequentialminus": [
            [
             0,
             "#0d0887"
            ],
            [
             0.1111111111111111,
             "#46039f"
            ],
            [
             0.2222222222222222,
             "#7201a8"
            ],
            [
             0.3333333333333333,
             "#9c179e"
            ],
            [
             0.4444444444444444,
             "#bd3786"
            ],
            [
             0.5555555555555556,
             "#d8576b"
            ],
            [
             0.6666666666666666,
             "#ed7953"
            ],
            [
             0.7777777777777778,
             "#fb9f3a"
            ],
            [
             0.8888888888888888,
             "#fdca26"
            ],
            [
             1,
             "#f0f921"
            ]
           ]
          },
          "colorway": [
           "#636efa",
           "#EF553B",
           "#00cc96",
           "#ab63fa",
           "#FFA15A",
           "#19d3f3",
           "#FF6692",
           "#B6E880",
           "#FF97FF",
           "#FECB52"
          ],
          "font": {
           "color": "#2a3f5f"
          },
          "geo": {
           "bgcolor": "white",
           "lakecolor": "white",
           "landcolor": "#E5ECF6",
           "showlakes": true,
           "showland": true,
           "subunitcolor": "white"
          },
          "hoverlabel": {
           "align": "left"
          },
          "hovermode": "closest",
          "mapbox": {
           "style": "light"
          },
          "paper_bgcolor": "white",
          "plot_bgcolor": "#E5ECF6",
          "polar": {
           "angularaxis": {
            "gridcolor": "white",
            "linecolor": "white",
            "ticks": ""
           },
           "bgcolor": "#E5ECF6",
           "radialaxis": {
            "gridcolor": "white",
            "linecolor": "white",
            "ticks": ""
           }
          },
          "scene": {
           "xaxis": {
            "backgroundcolor": "#E5ECF6",
            "gridcolor": "white",
            "gridwidth": 2,
            "linecolor": "white",
            "showbackground": true,
            "ticks": "",
            "zerolinecolor": "white"
           },
           "yaxis": {
            "backgroundcolor": "#E5ECF6",
            "gridcolor": "white",
            "gridwidth": 2,
            "linecolor": "white",
            "showbackground": true,
            "ticks": "",
            "zerolinecolor": "white"
           },
           "zaxis": {
            "backgroundcolor": "#E5ECF6",
            "gridcolor": "white",
            "gridwidth": 2,
            "linecolor": "white",
            "showbackground": true,
            "ticks": "",
            "zerolinecolor": "white"
           }
          },
          "shapedefaults": {
           "line": {
            "color": "#2a3f5f"
           }
          },
          "ternary": {
           "aaxis": {
            "gridcolor": "white",
            "linecolor": "white",
            "ticks": ""
           },
           "baxis": {
            "gridcolor": "white",
            "linecolor": "white",
            "ticks": ""
           },
           "bgcolor": "#E5ECF6",
           "caxis": {
            "gridcolor": "white",
            "linecolor": "white",
            "ticks": ""
           }
          },
          "title": {
           "x": 0.05
          },
          "xaxis": {
           "automargin": true,
           "gridcolor": "white",
           "linecolor": "white",
           "ticks": "",
           "title": {
            "standoff": 15
           },
           "zerolinecolor": "white",
           "zerolinewidth": 2
          },
          "yaxis": {
           "automargin": true,
           "gridcolor": "white",
           "linecolor": "white",
           "ticks": "",
           "title": {
            "standoff": 15
           },
           "zerolinecolor": "white",
           "zerolinewidth": 2
          }
         }
        },
        "title": {
         "text": "Анализ статистических тестов с трешхолдом: Pareto vs Gamma (α=0.05, n=100, iter=500)",
         "x": 0.5
        },
        "width": 1300,
        "xaxis": {
         "anchor": "y",
         "domain": [
          0,
          0.45
         ],
         "title": {
          "text": "Значение метрики"
         }
        },
        "xaxis2": {
         "anchor": "y2",
         "domain": [
          0.55,
          1
         ],
         "title": {
          "text": "Значение метрики"
         }
        },
        "xaxis3": {
         "anchor": "y3",
         "domain": [
          0,
          0.45
         ],
         "title": {
          "text": "Ложноположительная частота (FPR)"
         }
        },
        "xaxis4": {
         "anchor": "y4",
         "domain": [
          0.55,
          1
         ],
         "title": {
          "text": "Ложноположительная частота (FPR)"
         }
        },
        "yaxis": {
         "anchor": "x",
         "domain": [
          0.56,
          1
         ],
         "title": {
          "text": "Плотность вероятности"
         }
        },
        "yaxis2": {
         "anchor": "x2",
         "domain": [
          0.56,
          1
         ],
         "title": {
          "text": "Плотность вероятности"
         }
        },
        "yaxis3": {
         "anchor": "x3",
         "domain": [
          0,
          0.44
         ],
         "title": {
          "text": "Мощность (TPR)"
         }
        },
        "yaxis4": {
         "anchor": "x4",
         "domain": [
          0,
          0.44
         ],
         "title": {
          "text": "Мощность (TPR)"
         }
        }
       }
      }
     },
     "metadata": {},
     "output_type": "display_data"
    }
   ],
   "source": [
    "fig = make_subplots(\n",
    "    rows=2,\n",
    "    cols=2,\n",
    "    subplot_titles=(\n",
    "        \"Количество компонент связности: Распределения и трешхолд\",\n",
    "        \"Хроматическое число: Распределения и трешхолд\",\n",
    "        \"KNN: ROC-подобная кривая\",\n",
    "        \"Distance: ROC-подобная кривая\",\n",
    "    ),\n",
    "    specs=[\n",
    "        [{\"secondary_y\": False}, {\"secondary_y\": False}],\n",
    "        [{\"secondary_y\": False}, {\"secondary_y\": False}],\n",
    "    ],\n",
    "    vertical_spacing=0.12,\n",
    "    horizontal_spacing=0.1,\n",
    ")\n",
    "\n",
    "fig.add_trace(\n",
    "    go.Histogram(\n",
    "        x=knn_f_two,\n",
    "        name=\"KNN Pareto (H0)\",\n",
    "        opacity=0.7,\n",
    "        nbinsx=30,\n",
    "        marker_color=\"blue\",\n",
    "        histnorm=\"probability density\",\n",
    "    ),\n",
    "    row=1,\n",
    "    col=1,\n",
    ")\n",
    "\n",
    "fig.add_trace(\n",
    "    go.Histogram(\n",
    "        x=knn_h_two,\n",
    "        name=\"KNN Gamma (H1)\",\n",
    "        opacity=0.7,\n",
    "        nbinsx=30,\n",
    "        marker_color=\"red\",\n",
    "        histnorm=\"probability density\",\n",
    "    ),\n",
    "    row=1,\n",
    "    col=1,\n",
    ")\n",
    "\n",
    "fig.add_vline(\n",
    "    x=knn_thr,\n",
    "    line=dict(color=\"green\", width=3, dash=\"dash\"),\n",
    "    annotation_text=f\"Трешхолд: {knn_thr:.3f}\",\n",
    "    row=1,\n",
    "    col=1,\n",
    ")\n",
    "\n",
    "fig.add_trace(\n",
    "    go.Histogram(\n",
    "        x=dist_f_two,\n",
    "        name=\"Distance Pareto (H0)\",\n",
    "        opacity=0.7,\n",
    "        nbinsx=30,\n",
    "        marker_color=\"lightblue\",\n",
    "        histnorm=\"probability density\",\n",
    "        showlegend=False,\n",
    "    ),\n",
    "    row=1,\n",
    "    col=2,\n",
    ")\n",
    "\n",
    "fig.add_trace(\n",
    "    go.Histogram(\n",
    "        x=dist_h_two,\n",
    "        name=\"Distance Gamma (H1)\",\n",
    "        opacity=0.7,\n",
    "        nbinsx=30,\n",
    "        marker_color=\"orange\",\n",
    "        histnorm=\"probability density\",\n",
    "        showlegend=False,\n",
    "    ),\n",
    "    row=1,\n",
    "    col=2,\n",
    ")\n",
    "\n",
    "fig.add_vline(\n",
    "    x=dist_thr,\n",
    "    line=dict(color=\"green\", width=3, dash=\"dash\"),\n",
    "    annotation_text=f\"Трешхолд: {dist_thr:.3f}\",\n",
    "    row=1,\n",
    "    col=2,\n",
    ")\n",
    "\n",
    "thresholds_knn: np.ndarray = np.linspace(min(knn_f_two), max(knn_f_two), 50)\n",
    "\n",
    "if knn_h_mean > knn_f_mean:\n",
    "    power_knn: List[float] = [sum(np.array(knn_h_two) > thr) / len(knn_h_two) for thr in thresholds_knn]\n",
    "    fpr_knn: List[float] = [sum(np.array(knn_f_two) > thr) / len(knn_f_two) for thr in thresholds_knn]\n",
    "    current_fpr_knn: float = sum(np.array(knn_f_two) > knn_thr) / len(knn_f_two)\n",
    "    current_power_knn: float = sum(np.array(knn_h_two) > knn_thr) / len(knn_h_two)\n",
    "else:\n",
    "    power_knn: List[float] = [sum(np.array(knn_h_two) < thr) / len(knn_h_two) for thr in thresholds_knn]\n",
    "    fpr_knn: List[float] = [sum(np.array(knn_f_two) < thr) / len(knn_f_two) for thr in thresholds_knn]\n",
    "    current_fpr_knn: float = sum(np.array(knn_f_two) < knn_thr) / len(knn_f_two)\n",
    "    current_power_knn: float = sum(np.array(knn_h_two) < knn_thr) / len(knn_h_two)\n",
    "\n",
    "fig.add_trace(\n",
    "    go.Scatter(\n",
    "        x=fpr_knn,\n",
    "        y=power_knn,\n",
    "        mode=\"lines+markers\",\n",
    "        name=\"KNN ROC\",\n",
    "        line=dict(color=\"purple\", width=2),\n",
    "        marker=dict(size=4),\n",
    "        showlegend=False,\n",
    "    ),\n",
    "    row=2,\n",
    "    col=1,\n",
    ")\n",
    "\n",
    "fig.add_trace(\n",
    "    go.Scatter(\n",
    "        x=[current_fpr_knn],\n",
    "        y=[current_power_knn],\n",
    "        mode=\"markers\",\n",
    "        marker=dict(size=12, color=\"red\", symbol=\"star\"),\n",
    "        name=f\"α={a}\",\n",
    "        showlegend=False,\n",
    "    ),\n",
    "    row=2,\n",
    "    col=1,\n",
    ")\n",
    "\n",
    "thresholds_dist: np.ndarray = np.linspace(min(dist_f_two), max(dist_f_two), 50)\n",
    "\n",
    "if dist_h_mean > dist_f_mean:\n",
    "    power_dist: List[float] = [sum(np.array(dist_h_two) > thr) / len(dist_h_two) for thr in thresholds_dist]\n",
    "    fpr_dist: List[float] = [sum(np.array(dist_f_two) > thr) / len(dist_f_two) for thr in thresholds_dist]\n",
    "    current_fpr_dist: float = sum(np.array(dist_f_two) > dist_thr) / len(dist_f_two)\n",
    "    current_power_dist: float = sum(np.array(dist_h_two) > dist_thr) / len(dist_h_two)\n",
    "else:\n",
    "    power_dist: List[float] = [sum(np.array(dist_h_two) < thr) / len(dist_h_two) for thr in thresholds_dist]\n",
    "    fpr_dist: List[float] = [sum(np.array(dist_f_two) < thr) / len(dist_f_two) for thr in thresholds_dist]\n",
    "    current_fpr_dist: float = sum(np.array(dist_f_two) < dist_thr) / len(dist_f_two)\n",
    "    current_power_dist: float = sum(np.array(dist_h_two) < dist_thr) / len(dist_h_two)\n",
    "\n",
    "fig.add_trace(\n",
    "    go.Scatter(\n",
    "        x=fpr_dist,\n",
    "        y=power_dist,\n",
    "        mode=\"lines+markers\",\n",
    "        name=\"Distance ROC\",\n",
    "        line=dict(color=\"darkgreen\", width=2),\n",
    "        marker=dict(size=4),\n",
    "        showlegend=False,\n",
    "    ),\n",
    "    row=2,\n",
    "    col=2,\n",
    ")\n",
    "\n",
    "fig.add_trace(\n",
    "    go.Scatter(\n",
    "        x=[current_fpr_dist],\n",
    "        y=[current_power_dist],\n",
    "        mode=\"markers\",\n",
    "        marker=dict(size=12, color=\"red\", symbol=\"star\"),\n",
    "        name=f\"α={a}\",\n",
    "        showlegend=False,\n",
    "    ),\n",
    "    row=2,\n",
    "    col=2,\n",
    ")\n",
    "\n",
    "fig.update_xaxes(title_text=\"Значение метрики\", row=1, col=1)\n",
    "fig.update_xaxes(title_text=\"Значение метрики\", row=1, col=2)\n",
    "fig.update_xaxes(title_text=\"Ложноположительная частота (FPR)\", row=2, col=1)\n",
    "fig.update_xaxes(title_text=\"Ложноположительная частота (FPR)\", row=2, col=2)\n",
    "\n",
    "fig.update_yaxes(title_text=\"Плотность вероятности\", row=1, col=1)\n",
    "fig.update_yaxes(title_text=\"Плотность вероятности\", row=1, col=2)\n",
    "fig.update_yaxes(title_text=\"Мощность (TPR)\", row=2, col=1)\n",
    "fig.update_yaxes(title_text=\"Мощность (TPR)\", row=2, col=2)\n",
    "\n",
    "fig.update_layout(\n",
    "    title_text=f\"Анализ статистических тестов с трешхолдом: Pareto vs Gamma (α={a}, n={n}, iter={mc_iter})\",\n",
    "    title_x=0.5,\n",
    "    width=1300,\n",
    "    height=800,\n",
    "    showlegend=True,\n",
    "    legend=dict(yanchor=\"top\", y=0.98, xanchor=\"left\", x=0.01),\n",
    ")\n",
    "\n",
    "fig.show()"
   ]
  },
  {
   "cell_type": "code",
   "execution_count": null,
   "id": "58cd6fff",
   "metadata": {},
   "outputs": [],
   "source": []
  }
 ],
 "metadata": {
  "kernelspec": {
   "display_name": "Python 3",
   "language": "python",
   "name": "python3"
  },
  "language_info": {
   "codemirror_mode": {
    "name": "ipython",
    "version": 3
   },
   "file_extension": ".py",
   "mimetype": "text/x-python",
   "name": "python",
   "nbconvert_exporter": "python",
   "pygments_lexer": "ipython3",
   "version": "3.11.9"
  }
 },
 "nbformat": 4,
 "nbformat_minor": 5
}
