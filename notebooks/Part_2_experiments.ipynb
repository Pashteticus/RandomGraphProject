{
 "cells": [
  {
   "cell_type": "code",
   "execution_count": 1,
   "id": "a6501306",
   "metadata": {},
   "outputs": [],
   "source": [
    "import numpy as np\n",
    "from typing import List\n",
    "import plotly.graph_objects as go\n",
    "from plotly.subplots import make_subplots\n",
    "from tqdm.auto import tqdm\n",
    "\n",
    "import sys\n",
    "sys.path.append(\"..\")\n",
    "from src.data import Generator\n",
    "from src.graph.knn import GraphKnn\n",
    "from src.graph.dist import GraphDist"
   ]
  },
  {
   "cell_type": "code",
   "execution_count": 2,
   "id": "86e59430",
   "metadata": {},
   "outputs": [
    {
     "data": {
      "application/vnd.jupyter.widget-view+json": {
       "model_id": "c593eae96cce4a9f8e0159e325275a8a",
       "version_major": 2,
       "version_minor": 0
      },
      "text/plain": [
       "  0%|          | 0/50 [00:00<?, ?it/s]"
      ]
     },
     "metadata": {},
     "output_type": "display_data"
    }
   ],
   "source": [
    "n: int = 100\n",
    "cnt: int = 50\n",
    "shape_param: np.ndarray = np.linspace(0.01, 2, cnt)  # для Gamma(shape=0.5, scale=λ)\n",
    "alpha_param: np.ndarray = np.linspace(0.01, 2, cnt)  # для Pareto(α)\n",
    "mc_iter: int = 20\n",
    "\n",
    "knn_f_two: List[float] = []\n",
    "knn_h_two: List[float] = []\n",
    "dist_f_two: List[float] = []\n",
    "dist_h_two: List[float] = []\n",
    "for i in tqdm(range(cnt)):\n",
    "    gen: Generator = Generator(v=3, alpha=alpha_param[i], shape=shape_param[i], size=n)\n",
    "    knn_f_two.append(np.mean([GraphKnn(gen.get_f_two()).calc_connected_components() for _ in range(mc_iter)]))\n",
    "    knn_h_two.append(np.mean([GraphKnn(gen.get_h_two()).calc_connected_components() for _ in range(mc_iter)]))\n",
    "\n",
    "    dist_f_two.append(\n",
    "        np.mean([GraphDist(gen.get_f_two()).calc_chromatic_number() for _ in range(mc_iter)])\n",
    "    )\n",
    "    dist_h_two.append(\n",
    "        np.mean([GraphDist(gen.get_h_two()).calc_chromatic_number() for _ in range(mc_iter)])\n",
    "    )"
   ]
  },
  {
   "cell_type": "code",
   "execution_count": 3,
   "id": "2cd98668",
   "metadata": {},
   "outputs": [
    {
     "data": {
      "application/vnd.plotly.v1+json": {
       "config": {
        "plotlyServerURL": "https://plot.ly"
       },
       "data": [
        {
         "line": {
          "color": "blue",
          "width": 2
         },
         "marker": {
          "size": 4
         },
         "mode": "lines+markers",
         "name": "KNN Pareto(α)",
         "type": "scatter",
         "x": {
          "bdata": "exSuR+F6hD8pTjoh2empP5mLRPh8Wrc/D/j1rwbgwD9SqsnjzhLGP5RcnReXRcs/a4e4pS880D+NYKK/k9XSP645jNn3btU/zxJ281sI2D/w618NwKHaPxLFSSckO90/M54zQYjU3z+qu44t9jbhPzuogzqog+I/y5R4R1rQ4z9cgW1UDB3lP+1tYmG+aeY/fVpXbnC25z8OR0x7IgPpP54zQYjUT+o/LyA2lYac6z/ADCuiOOnsP1D5H6/qNe4/4eUUvJyC7z856YRkp2fwP4Ff/2oADvE/ydV5cVm08T8STPR3slryP1rCbn4LAfM/ojjphGSn8z/rrmOLvU30PzMl3pEW9PQ/e5tYmG+a9T/EEdOeyED2PwyITaUh5/Y/VP7Hq3qN9z+ddEKy0zP4P+XqvLgs2vg/LWE3v4WA+T9117HF3ib6P75NLMw3zfo/BsSm0pBz+z9OOiHZ6Rn8P5ewm99CwPw/3yYW5ptm/T8nnZDs9Az+P3ATC/NNs/4/uImF+aZZ/z8AAAAAAAAAQA==",
          "dtype": "f8"
         },
         "xaxis": "x",
         "y": [
          1,
          1,
          1,
          1,
          1,
          1,
          1,
          1,
          1,
          1,
          1,
          1,
          1,
          1,
          1,
          1,
          1,
          1,
          1,
          1,
          1,
          1,
          1,
          1,
          1,
          1,
          1,
          1,
          1,
          1,
          1,
          1,
          1,
          1,
          1,
          1,
          1,
          1,
          1,
          1,
          1,
          1,
          1,
          1,
          1,
          1,
          1,
          1,
          1,
          1
         ],
         "yaxis": "y"
        },
        {
         "line": {
          "color": "red",
          "width": 2
         },
         "marker": {
          "size": 4
         },
         "mode": "lines+markers",
         "name": "KNN Gamma(½, λ)",
         "type": "scatter",
         "x": {
          "bdata": "exSuR+F6hD8pTjoh2empP5mLRPh8Wrc/D/j1rwbgwD9SqsnjzhLGP5RcnReXRcs/a4e4pS880D+NYKK/k9XSP645jNn3btU/zxJ281sI2D/w618NwKHaPxLFSSckO90/M54zQYjU3z+qu44t9jbhPzuogzqog+I/y5R4R1rQ4z9cgW1UDB3lP+1tYmG+aeY/fVpXbnC25z8OR0x7IgPpP54zQYjUT+o/LyA2lYac6z/ADCuiOOnsP1D5H6/qNe4/4eUUvJyC7z856YRkp2fwP4Ff/2oADvE/ydV5cVm08T8STPR3slryP1rCbn4LAfM/ojjphGSn8z/rrmOLvU30PzMl3pEW9PQ/e5tYmG+a9T/EEdOeyED2PwyITaUh5/Y/VP7Hq3qN9z+ddEKy0zP4P+XqvLgs2vg/LWE3v4WA+T9117HF3ib6P75NLMw3zfo/BsSm0pBz+z9OOiHZ6Rn8P5ewm99CwPw/3yYW5ptm/T8nnZDs9Az+P3ATC/NNs/4/uImF+aZZ/z8AAAAAAAAAQA==",
          "dtype": "f8"
         },
         "xaxis": "x",
         "y": [
          1,
          1,
          1,
          1,
          1,
          1,
          1,
          1,
          1,
          1,
          1,
          1,
          1,
          1,
          1,
          1,
          1,
          1,
          1,
          1,
          1,
          1,
          1,
          1,
          1,
          1,
          1,
          1,
          1,
          1,
          1,
          1,
          1,
          1,
          1,
          1,
          1,
          1,
          1,
          1,
          1,
          1,
          1,
          1,
          1,
          1,
          1,
          1,
          1,
          1
         ],
         "yaxis": "y"
        },
        {
         "line": {
          "color": "green",
          "width": 2
         },
         "marker": {
          "size": 4
         },
         "mode": "lines+markers",
         "name": "Distance Pareto(α)",
         "showlegend": true,
         "type": "scatter",
         "x": {
          "bdata": "exSuR+F6hD8pTjoh2empP5mLRPh8Wrc/D/j1rwbgwD9SqsnjzhLGP5RcnReXRcs/a4e4pS880D+NYKK/k9XSP645jNn3btU/zxJ281sI2D/w618NwKHaPxLFSSckO90/M54zQYjU3z+qu44t9jbhPzuogzqog+I/y5R4R1rQ4z9cgW1UDB3lP+1tYmG+aeY/fVpXbnC25z8OR0x7IgPpP54zQYjUT+o/LyA2lYac6z/ADCuiOOnsP1D5H6/qNe4/4eUUvJyC7z856YRkp2fwP4Ff/2oADvE/ydV5cVm08T8STPR3slryP1rCbn4LAfM/ojjphGSn8z/rrmOLvU30PzMl3pEW9PQ/e5tYmG+a9T/EEdOeyED2PwyITaUh5/Y/VP7Hq3qN9z+ddEKy0zP4P+XqvLgs2vg/LWE3v4WA+T9117HF3ib6P75NLMw3zfo/BsSm0pBz+z9OOiHZ6Rn8P5ewm99CwPw/3yYW5ptm/T8nnZDs9Az+P3ATC/NNs/4/uImF+aZZ/z8AAAAAAAAAQA==",
          "dtype": "f8"
         },
         "xaxis": "x2",
         "y": [
          99.5,
          94.5,
          88.05,
          82.05,
          74.75,
          68.65,
          62.95,
          57.35,
          53.05,
          48.75,
          45.25,
          42.45,
          38.85,
          36.3,
          34.1,
          32.55,
          30.65,
          28.85,
          26.75,
          25.65,
          24.15,
          23.6,
          22.2,
          21.25,
          20.65,
          19.75,
          19.25,
          18.05,
          17.35,
          16.85,
          16.25,
          15.85,
          15.3,
          14.55,
          14.3,
          13.8,
          13.2,
          12.75,
          12.15,
          11.55,
          11.45,
          11.2,
          10.85,
          10.45,
          10.25,
          9.9,
          9.65,
          9.35,
          9.3,
          8.95
         ],
         "yaxis": "y2"
        },
        {
         "line": {
          "color": "orange",
          "width": 2
         },
         "marker": {
          "size": 4
         },
         "mode": "lines+markers",
         "name": "Distance Gamma(½, λ)",
         "showlegend": true,
         "type": "scatter",
         "x": {
          "bdata": "exSuR+F6hD8pTjoh2empP5mLRPh8Wrc/D/j1rwbgwD9SqsnjzhLGP5RcnReXRcs/a4e4pS880D+NYKK/k9XSP645jNn3btU/zxJ281sI2D/w618NwKHaPxLFSSckO90/M54zQYjU3z+qu44t9jbhPzuogzqog+I/y5R4R1rQ4z9cgW1UDB3lP+1tYmG+aeY/fVpXbnC25z8OR0x7IgPpP54zQYjUT+o/LyA2lYac6z/ADCuiOOnsP1D5H6/qNe4/4eUUvJyC7z856YRkp2fwP4Ff/2oADvE/ydV5cVm08T8STPR3slryP1rCbn4LAfM/ojjphGSn8z/rrmOLvU30PzMl3pEW9PQ/e5tYmG+a9T/EEdOeyED2PwyITaUh5/Y/VP7Hq3qN9z+ddEKy0zP4P+XqvLgs2vg/LWE3v4WA+T9117HF3ib6P75NLMw3zfo/BsSm0pBz+z9OOiHZ6Rn8P5ewm99CwPw/3yYW5ptm/T8nnZDs9Az+P3ATC/NNs/4/uImF+aZZ/z8AAAAAAAAAQA==",
          "dtype": "f8"
         },
         "xaxis": "x2",
         "y": [
          1.35,
          2.25,
          2.95,
          2.95,
          3.3,
          3.6,
          4.05,
          4.45,
          4.65,
          4.95,
          5.25,
          5.25,
          5.4,
          5.5,
          5.8,
          6.05,
          5.85,
          5.85,
          5.85,
          6.1,
          6.15,
          6.25,
          6.5,
          6.95,
          6.9,
          7.25,
          7.05,
          7.55,
          7.75,
          7.7,
          7.9,
          7.9,
          8,
          8.15,
          8.15,
          8.3,
          8.4,
          8.5,
          8.55,
          8.8,
          8.9,
          9.1,
          9.1,
          9.25,
          9.4,
          9.5,
          9.6,
          9.75,
          9.8,
          9.8
         ],
         "yaxis": "y2"
        }
       ],
       "layout": {
        "annotations": [
         {
          "font": {
           "size": 16
          },
          "showarrow": false,
          "text": "Количество компонент связности",
          "x": 0.225,
          "xanchor": "center",
          "xref": "paper",
          "y": 1,
          "yanchor": "bottom",
          "yref": "paper"
         },
         {
          "font": {
           "size": 16
          },
          "showarrow": false,
          "text": "Хроматическое число",
          "x": 0.775,
          "xanchor": "center",
          "xref": "paper",
          "y": 1,
          "yanchor": "bottom",
          "yref": "paper"
         }
        ],
        "height": 600,
        "legend": {
         "x": 0.01,
         "xanchor": "left",
         "y": 0.99,
         "yanchor": "top"
        },
        "template": {
         "data": {
          "bar": [
           {
            "error_x": {
             "color": "#2a3f5f"
            },
            "error_y": {
             "color": "#2a3f5f"
            },
            "marker": {
             "line": {
              "color": "#E5ECF6",
              "width": 0.5
             },
             "pattern": {
              "fillmode": "overlay",
              "size": 10,
              "solidity": 0.2
             }
            },
            "type": "bar"
           }
          ],
          "barpolar": [
           {
            "marker": {
             "line": {
              "color": "#E5ECF6",
              "width": 0.5
             },
             "pattern": {
              "fillmode": "overlay",
              "size": 10,
              "solidity": 0.2
             }
            },
            "type": "barpolar"
           }
          ],
          "carpet": [
           {
            "aaxis": {
             "endlinecolor": "#2a3f5f",
             "gridcolor": "white",
             "linecolor": "white",
             "minorgridcolor": "white",
             "startlinecolor": "#2a3f5f"
            },
            "baxis": {
             "endlinecolor": "#2a3f5f",
             "gridcolor": "white",
             "linecolor": "white",
             "minorgridcolor": "white",
             "startlinecolor": "#2a3f5f"
            },
            "type": "carpet"
           }
          ],
          "choropleth": [
           {
            "colorbar": {
             "outlinewidth": 0,
             "ticks": ""
            },
            "type": "choropleth"
           }
          ],
          "contour": [
           {
            "colorbar": {
             "outlinewidth": 0,
             "ticks": ""
            },
            "colorscale": [
             [
              0,
              "#0d0887"
             ],
             [
              0.1111111111111111,
              "#46039f"
             ],
             [
              0.2222222222222222,
              "#7201a8"
             ],
             [
              0.3333333333333333,
              "#9c179e"
             ],
             [
              0.4444444444444444,
              "#bd3786"
             ],
             [
              0.5555555555555556,
              "#d8576b"
             ],
             [
              0.6666666666666666,
              "#ed7953"
             ],
             [
              0.7777777777777778,
              "#fb9f3a"
             ],
             [
              0.8888888888888888,
              "#fdca26"
             ],
             [
              1,
              "#f0f921"
             ]
            ],
            "type": "contour"
           }
          ],
          "contourcarpet": [
           {
            "colorbar": {
             "outlinewidth": 0,
             "ticks": ""
            },
            "type": "contourcarpet"
           }
          ],
          "heatmap": [
           {
            "colorbar": {
             "outlinewidth": 0,
             "ticks": ""
            },
            "colorscale": [
             [
              0,
              "#0d0887"
             ],
             [
              0.1111111111111111,
              "#46039f"
             ],
             [
              0.2222222222222222,
              "#7201a8"
             ],
             [
              0.3333333333333333,
              "#9c179e"
             ],
             [
              0.4444444444444444,
              "#bd3786"
             ],
             [
              0.5555555555555556,
              "#d8576b"
             ],
             [
              0.6666666666666666,
              "#ed7953"
             ],
             [
              0.7777777777777778,
              "#fb9f3a"
             ],
             [
              0.8888888888888888,
              "#fdca26"
             ],
             [
              1,
              "#f0f921"
             ]
            ],
            "type": "heatmap"
           }
          ],
          "histogram": [
           {
            "marker": {
             "pattern": {
              "fillmode": "overlay",
              "size": 10,
              "solidity": 0.2
             }
            },
            "type": "histogram"
           }
          ],
          "histogram2d": [
           {
            "colorbar": {
             "outlinewidth": 0,
             "ticks": ""
            },
            "colorscale": [
             [
              0,
              "#0d0887"
             ],
             [
              0.1111111111111111,
              "#46039f"
             ],
             [
              0.2222222222222222,
              "#7201a8"
             ],
             [
              0.3333333333333333,
              "#9c179e"
             ],
             [
              0.4444444444444444,
              "#bd3786"
             ],
             [
              0.5555555555555556,
              "#d8576b"
             ],
             [
              0.6666666666666666,
              "#ed7953"
             ],
             [
              0.7777777777777778,
              "#fb9f3a"
             ],
             [
              0.8888888888888888,
              "#fdca26"
             ],
             [
              1,
              "#f0f921"
             ]
            ],
            "type": "histogram2d"
           }
          ],
          "histogram2dcontour": [
           {
            "colorbar": {
             "outlinewidth": 0,
             "ticks": ""
            },
            "colorscale": [
             [
              0,
              "#0d0887"
             ],
             [
              0.1111111111111111,
              "#46039f"
             ],
             [
              0.2222222222222222,
              "#7201a8"
             ],
             [
              0.3333333333333333,
              "#9c179e"
             ],
             [
              0.4444444444444444,
              "#bd3786"
             ],
             [
              0.5555555555555556,
              "#d8576b"
             ],
             [
              0.6666666666666666,
              "#ed7953"
             ],
             [
              0.7777777777777778,
              "#fb9f3a"
             ],
             [
              0.8888888888888888,
              "#fdca26"
             ],
             [
              1,
              "#f0f921"
             ]
            ],
            "type": "histogram2dcontour"
           }
          ],
          "mesh3d": [
           {
            "colorbar": {
             "outlinewidth": 0,
             "ticks": ""
            },
            "type": "mesh3d"
           }
          ],
          "parcoords": [
           {
            "line": {
             "colorbar": {
              "outlinewidth": 0,
              "ticks": ""
             }
            },
            "type": "parcoords"
           }
          ],
          "pie": [
           {
            "automargin": true,
            "type": "pie"
           }
          ],
          "scatter": [
           {
            "fillpattern": {
             "fillmode": "overlay",
             "size": 10,
             "solidity": 0.2
            },
            "type": "scatter"
           }
          ],
          "scatter3d": [
           {
            "line": {
             "colorbar": {
              "outlinewidth": 0,
              "ticks": ""
             }
            },
            "marker": {
             "colorbar": {
              "outlinewidth": 0,
              "ticks": ""
             }
            },
            "type": "scatter3d"
           }
          ],
          "scattercarpet": [
           {
            "marker": {
             "colorbar": {
              "outlinewidth": 0,
              "ticks": ""
             }
            },
            "type": "scattercarpet"
           }
          ],
          "scattergeo": [
           {
            "marker": {
             "colorbar": {
              "outlinewidth": 0,
              "ticks": ""
             }
            },
            "type": "scattergeo"
           }
          ],
          "scattergl": [
           {
            "marker": {
             "colorbar": {
              "outlinewidth": 0,
              "ticks": ""
             }
            },
            "type": "scattergl"
           }
          ],
          "scattermap": [
           {
            "marker": {
             "colorbar": {
              "outlinewidth": 0,
              "ticks": ""
             }
            },
            "type": "scattermap"
           }
          ],
          "scattermapbox": [
           {
            "marker": {
             "colorbar": {
              "outlinewidth": 0,
              "ticks": ""
             }
            },
            "type": "scattermapbox"
           }
          ],
          "scatterpolar": [
           {
            "marker": {
             "colorbar": {
              "outlinewidth": 0,
              "ticks": ""
             }
            },
            "type": "scatterpolar"
           }
          ],
          "scatterpolargl": [
           {
            "marker": {
             "colorbar": {
              "outlinewidth": 0,
              "ticks": ""
             }
            },
            "type": "scatterpolargl"
           }
          ],
          "scatterternary": [
           {
            "marker": {
             "colorbar": {
              "outlinewidth": 0,
              "ticks": ""
             }
            },
            "type": "scatterternary"
           }
          ],
          "surface": [
           {
            "colorbar": {
             "outlinewidth": 0,
             "ticks": ""
            },
            "colorscale": [
             [
              0,
              "#0d0887"
             ],
             [
              0.1111111111111111,
              "#46039f"
             ],
             [
              0.2222222222222222,
              "#7201a8"
             ],
             [
              0.3333333333333333,
              "#9c179e"
             ],
             [
              0.4444444444444444,
              "#bd3786"
             ],
             [
              0.5555555555555556,
              "#d8576b"
             ],
             [
              0.6666666666666666,
              "#ed7953"
             ],
             [
              0.7777777777777778,
              "#fb9f3a"
             ],
             [
              0.8888888888888888,
              "#fdca26"
             ],
             [
              1,
              "#f0f921"
             ]
            ],
            "type": "surface"
           }
          ],
          "table": [
           {
            "cells": {
             "fill": {
              "color": "#EBF0F8"
             },
             "line": {
              "color": "white"
             }
            },
            "header": {
             "fill": {
              "color": "#C8D4E3"
             },
             "line": {
              "color": "white"
             }
            },
            "type": "table"
           }
          ]
         },
         "layout": {
          "annotationdefaults": {
           "arrowcolor": "#2a3f5f",
           "arrowhead": 0,
           "arrowwidth": 1
          },
          "autotypenumbers": "strict",
          "coloraxis": {
           "colorbar": {
            "outlinewidth": 0,
            "ticks": ""
           }
          },
          "colorscale": {
           "diverging": [
            [
             0,
             "#8e0152"
            ],
            [
             0.1,
             "#c51b7d"
            ],
            [
             0.2,
             "#de77ae"
            ],
            [
             0.3,
             "#f1b6da"
            ],
            [
             0.4,
             "#fde0ef"
            ],
            [
             0.5,
             "#f7f7f7"
            ],
            [
             0.6,
             "#e6f5d0"
            ],
            [
             0.7,
             "#b8e186"
            ],
            [
             0.8,
             "#7fbc41"
            ],
            [
             0.9,
             "#4d9221"
            ],
            [
             1,
             "#276419"
            ]
           ],
           "sequential": [
            [
             0,
             "#0d0887"
            ],
            [
             0.1111111111111111,
             "#46039f"
            ],
            [
             0.2222222222222222,
             "#7201a8"
            ],
            [
             0.3333333333333333,
             "#9c179e"
            ],
            [
             0.4444444444444444,
             "#bd3786"
            ],
            [
             0.5555555555555556,
             "#d8576b"
            ],
            [
             0.6666666666666666,
             "#ed7953"
            ],
            [
             0.7777777777777778,
             "#fb9f3a"
            ],
            [
             0.8888888888888888,
             "#fdca26"
            ],
            [
             1,
             "#f0f921"
            ]
           ],
           "sequentialminus": [
            [
             0,
             "#0d0887"
            ],
            [
             0.1111111111111111,
             "#46039f"
            ],
            [
             0.2222222222222222,
             "#7201a8"
            ],
            [
             0.3333333333333333,
             "#9c179e"
            ],
            [
             0.4444444444444444,
             "#bd3786"
            ],
            [
             0.5555555555555556,
             "#d8576b"
            ],
            [
             0.6666666666666666,
             "#ed7953"
            ],
            [
             0.7777777777777778,
             "#fb9f3a"
            ],
            [
             0.8888888888888888,
             "#fdca26"
            ],
            [
             1,
             "#f0f921"
            ]
           ]
          },
          "colorway": [
           "#636efa",
           "#EF553B",
           "#00cc96",
           "#ab63fa",
           "#FFA15A",
           "#19d3f3",
           "#FF6692",
           "#B6E880",
           "#FF97FF",
           "#FECB52"
          ],
          "font": {
           "color": "#2a3f5f"
          },
          "geo": {
           "bgcolor": "white",
           "lakecolor": "white",
           "landcolor": "#E5ECF6",
           "showlakes": true,
           "showland": true,
           "subunitcolor": "white"
          },
          "hoverlabel": {
           "align": "left"
          },
          "hovermode": "closest",
          "mapbox": {
           "style": "light"
          },
          "paper_bgcolor": "white",
          "plot_bgcolor": "#E5ECF6",
          "polar": {
           "angularaxis": {
            "gridcolor": "white",
            "linecolor": "white",
            "ticks": ""
           },
           "bgcolor": "#E5ECF6",
           "radialaxis": {
            "gridcolor": "white",
            "linecolor": "white",
            "ticks": ""
           }
          },
          "scene": {
           "xaxis": {
            "backgroundcolor": "#E5ECF6",
            "gridcolor": "white",
            "gridwidth": 2,
            "linecolor": "white",
            "showbackground": true,
            "ticks": "",
            "zerolinecolor": "white"
           },
           "yaxis": {
            "backgroundcolor": "#E5ECF6",
            "gridcolor": "white",
            "gridwidth": 2,
            "linecolor": "white",
            "showbackground": true,
            "ticks": "",
            "zerolinecolor": "white"
           },
           "zaxis": {
            "backgroundcolor": "#E5ECF6",
            "gridcolor": "white",
            "gridwidth": 2,
            "linecolor": "white",
            "showbackground": true,
            "ticks": "",
            "zerolinecolor": "white"
           }
          },
          "shapedefaults": {
           "line": {
            "color": "#2a3f5f"
           }
          },
          "ternary": {
           "aaxis": {
            "gridcolor": "white",
            "linecolor": "white",
            "ticks": ""
           },
           "baxis": {
            "gridcolor": "white",
            "linecolor": "white",
            "ticks": ""
           },
           "bgcolor": "#E5ECF6",
           "caxis": {
            "gridcolor": "white",
            "linecolor": "white",
            "ticks": ""
           }
          },
          "title": {
           "x": 0.05
          },
          "xaxis": {
           "automargin": true,
           "gridcolor": "white",
           "linecolor": "white",
           "ticks": "",
           "title": {
            "standoff": 15
           },
           "zerolinecolor": "white",
           "zerolinewidth": 2
          },
          "yaxis": {
           "automargin": true,
           "gridcolor": "white",
           "linecolor": "white",
           "ticks": "",
           "title": {
            "standoff": 15
           },
           "zerolinecolor": "white",
           "zerolinewidth": 2
          }
         }
        },
        "title": {
         "text": "Сравнение метрик для графов: зависимость от shape и α (Pareto vs Gamma)",
         "x": 0.5
        },
        "width": 1400,
        "xaxis": {
         "anchor": "y",
         "domain": [
          0,
          0.45
         ],
         "title": {
          "text": "shape / α"
         }
        },
        "xaxis2": {
         "anchor": "y2",
         "domain": [
          0.55,
          1
         ],
         "title": {
          "text": "shape / α"
         }
        },
        "yaxis": {
         "anchor": "x",
         "domain": [
          0,
          1
         ],
         "title": {
          "text": "Количество компонент связности"
         }
        },
        "yaxis2": {
         "anchor": "x2",
         "domain": [
          0,
          1
         ],
         "title": {
          "text": "Хроматическое число"
         }
        }
       }
      }
     },
     "metadata": {},
     "output_type": "display_data"
    }
   ],
   "source": [
    "fig = make_subplots(\n",
    "    rows=1,\n",
    "    cols=2,\n",
    "    subplot_titles=(\"Количество компонент связности\", \"Хроматическое число\"),\n",
    "    horizontal_spacing=0.1,\n",
    ")\n",
    "\n",
    "fig.add_trace(\n",
    "    go.Scatter(\n",
    "        x=shape_param,\n",
    "        y=knn_f_two,\n",
    "        mode=\"lines+markers\",\n",
    "        name=\"KNN Pareto(α)\",\n",
    "        line=dict(color=\"blue\", width=2),\n",
    "        marker=dict(size=4),\n",
    "    ),\n",
    "    row=1,\n",
    "    col=1,\n",
    ")\n",
    "\n",
    "fig.add_trace(\n",
    "    go.Scatter(\n",
    "        x=shape_param,\n",
    "        y=knn_h_two,\n",
    "        mode=\"lines+markers\",\n",
    "        name=\"KNN Gamma(½, λ)\",\n",
    "        line=dict(color=\"red\", width=2),\n",
    "        marker=dict(size=4),\n",
    "    ),\n",
    "    row=1,\n",
    "    col=1,\n",
    ")\n",
    "\n",
    "fig.add_trace(\n",
    "    go.Scatter(\n",
    "        x=shape_param,\n",
    "        y=dist_f_two,\n",
    "        mode=\"lines+markers\",\n",
    "        name=\"Distance Pareto(α)\",\n",
    "        line=dict(color=\"green\", width=2),\n",
    "        marker=dict(size=4),\n",
    "        showlegend=True,\n",
    "    ),\n",
    "    row=1,\n",
    "    col=2,\n",
    ")\n",
    "\n",
    "fig.add_trace(\n",
    "    go.Scatter(\n",
    "        x=shape_param,\n",
    "        y=dist_h_two,\n",
    "        mode=\"lines+markers\",\n",
    "        name=\"Distance Gamma(½, λ)\",\n",
    "        line=dict(color=\"orange\", width=2),\n",
    "        marker=dict(size=4),\n",
    "        showlegend=True,\n",
    "    ),\n",
    "    row=1,\n",
    "    col=2,\n",
    ")\n",
    "\n",
    "fig.update_xaxes(title_text=\"shape / α\", row=1, col=1)\n",
    "fig.update_xaxes(title_text=\"shape / α\", row=1, col=2)\n",
    "fig.update_yaxes(title_text=\"Количество компонент связности\", row=1, col=1)\n",
    "fig.update_yaxes(title_text=\"Хроматическое число\", row=1, col=2)\n",
    "\n",
    "fig.update_layout(\n",
    "    title_text=\"Сравнение метрик для графов: зависимость от shape и α (Pareto vs Gamma)\",\n",
    "    title_x=0.5,\n",
    "    width=1400,\n",
    "    height=600,\n",
    "    legend=dict(yanchor=\"top\", y=0.99, xanchor=\"left\", x=0.01),\n",
    ")\n",
    "\n",
    "fig.show()"
   ]
  },
  {
   "cell_type": "code",
   "execution_count": 4,
   "id": "a45d8b4f",
   "metadata": {},
   "outputs": [
    {
     "data": {
      "application/vnd.jupyter.widget-view+json": {
       "model_id": "130a2965298b4b01b50f53007353d8fe",
       "version_major": 2,
       "version_minor": 0
      },
      "text/plain": [
       "  0%|          | 0/27 [00:00<?, ?it/s]"
      ]
     },
     "metadata": {},
     "output_type": "display_data"
    }
   ],
   "source": [
    "n: np.ndarray = np.linspace(25, 150, 27)\n",
    "k: np.ndarray = np.linspace(2, 11, 10)\n",
    "d: np.ndarray = np.linspace(0.1, 10, 10)\n",
    "mc_iter: int = 20\n",
    "\n",
    "knn_f_two: List[List[float]] = [[] for _ in range(len(n))]\n",
    "knn_h_two: List[List[float]] = [[] for _ in range(len(n))]\n",
    "dist_f_two: List[List[float]] = [[] for _ in range(len(n))]\n",
    "dist_h_two: List[List[float]] = [[] for _ in range(len(n))]\n",
    "for i in tqdm(range(len(n))):\n",
    "    gen: Generator = Generator(v=3, alpha=3, shape=np.sqrt(2/3), size=int(n[i]))\n",
    "    for j in range(len(k)):\n",
    "        knn_f_two[i].append(\n",
    "            np.mean(\n",
    "                [GraphKnn(gen.get_f_two(), int(k[j])).calc_connected_components() for _ in range(mc_iter)]\n",
    "            )\n",
    "        )\n",
    "        knn_h_two[i].append(\n",
    "            np.mean(\n",
    "                [GraphKnn(gen.get_h_two(), int(k[j])).calc_connected_components() for _ in range(mc_iter)]\n",
    "            )\n",
    "        )\n",
    "\n",
    "        dist_f_two[i].append(\n",
    "            np.mean(\n",
    "                [GraphDist(gen.get_f_two(), d[j]).calc_chromatic_number() for _ in range(mc_iter)]\n",
    "            )\n",
    "        )\n",
    "        dist_h_two[i].append(\n",
    "            np.mean(\n",
    "                [GraphDist(gen.get_h_two(), d[j]).calc_chromatic_number() for _ in range(mc_iter)]\n",
    "            )\n",
    "        )"
   ]
  },
  {
   "cell_type": "code",
   "execution_count": 5,
   "id": "d8f06ebd",
   "metadata": {},
   "outputs": [
    {
     "data": {
      "application/vnd.plotly.v1+json": {
       "config": {
        "plotlyServerURL": "https://plot.ly"
       },
       "data": [
        {
         "colorscale": [
          [
           0,
           "rgb(247,251,255)"
          ],
          [
           0.125,
           "rgb(222,235,247)"
          ],
          [
           0.25,
           "rgb(198,219,239)"
          ],
          [
           0.375,
           "rgb(158,202,225)"
          ],
          [
           0.5,
           "rgb(107,174,214)"
          ],
          [
           0.625,
           "rgb(66,146,198)"
          ],
          [
           0.75,
           "rgb(33,113,181)"
          ],
          [
           0.875,
           "rgb(8,81,156)"
          ],
          [
           1,
           "rgb(8,48,107)"
          ]
         ],
         "name": "KNN Pareto",
         "opacity": 0.7,
         "scene": "scene",
         "showscale": false,
         "type": "surface",
         "x": {
          "bdata": "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",
          "dtype": "f8",
          "shape": "27, 10"
         },
         "y": {
          "bdata": "AAAAAAAAAEAAAAAAAAAIQAAAAAAAABBAAAAAAAAAFEAAAAAAAAAYQAAAAAAAABxAAAAAAAAAIEAAAAAAAAAiQAAAAAAAACRAAAAAAAAAJkAAAAAAAAAAQAAAAAAAAAhAAAAAAAAAEEAAAAAAAAAUQAAAAAAAABhAAAAAAAAAHEAAAAAAAAAgQAAAAAAAACJAAAAAAAAAJEAAAAAAAAAmQAAAAAAAAABAAAAAAAAACEAAAAAAAAAQQAAAAAAAABRAAAAAAAAAGEAAAAAAAAAcQAAAAAAAACBAAAAAAAAAIkAAAAAAAAAkQAAAAAAAACZAAAAAAAAAAEAAAAAAAAAIQAAAAAAAABBAAAAAAAAAFEAAAAAAAAAYQAAAAAAAABxAAAAAAAAAIEAAAAAAAAAiQAAAAAAAACRAAAAAAAAAJkAAAAAAAAAAQAAAAAAAAAhAAAAAAAAAEEAAAAAAAAAUQAAAAAAAABhAAAAAAAAAHEAAAAAAAAAgQAAAAAAAACJAAAAAAAAAJEAAAAAAAAAmQAAAAAAAAABAAAAAAAAACEAAAAAAAAAQQAAAAAAAABRAAAAAAAAAGEAAAAAAAAAcQAAAAAAAACBAAAAAAAAAIkAAAAAAAAAkQAAAAAAAACZAAAAAAAAAAEAAAAAAAAAIQAAAAAAAABBAAAAAAAAAFEAAAAAAAAAYQAAAAAAAABxAAAAAAAAAIEAAAAAAAAAiQAAAAAAAACRAAAAAAAAAJkAAAAAAAAAAQAAAAAAAAAhAAAAAAAAAEEAAAAAAAAAUQAAAAAAAABhAAAAAAAAAHEAAAAAAAAAgQAAAAAAAACJAAAAAAAAAJEAAAAAAAAAmQAAAAAAAAABAAAAAAAAACEAAAAAAAAAQQAAAAAAAABRAAAAAAAAAGEAAAAAAAAAcQAAAAAAAACBAAAAAAAAAIkAAAAAAAAAkQAAAAAAAACZAAAAAAAAAAEAAAAAAAAAIQAAAAAAAABBAAAAAAAAAFEAAAAAAAAAYQAAAAAAAABxAAAAAAAAAIEAAAAAAAAAiQAAAAAAAACRAAAAAAAAAJkAAAAAAAAAAQAAAAAAAAAhAAAAAAAAAEEAAAAAAAAAUQAAAAAAAABhAAAAAAAAAHEAAAAAAAAAgQAAAAAAAACJAAAAAAAAAJEAAAAAAAAAmQAAAAAAAAABAAAAAAAAACEAAAAAAAAAQQAAAAAAAABRAAAAAAAAAGEAAAAAAAAAcQAAAAAAAACBAAAAAAAAAIkAAAAAAAAAkQAAAAAAAACZAAAAAAAAAAEAAAAAAAAAIQAAAAAAAABBAAAAAAAAAFEAAAAAAAAAYQAAAAAAAABxAAAAAAAAAIEAAAAAAAAAiQAAAAAAAACRAAAAAAAAAJkAAAAAAAAAAQAAAAAAAAAhAAAAAAAAAEEAAAAAAAAAUQAAAAAAAABhAAAAAAAAAHEAAAAAAAAAgQAAAAAAAACJAAAAAAAAAJEAAAAAAAAAmQAAAAAAAAABAAAAAAAAACEAAAAAAAAAQQAAAAAAAABRAAAAAAAAAGEAAAAAAAAAcQAAAAAAAACBAAAAAAAAAIkAAAAAAAAAkQAAAAAAAACZAAAAAAAAAAEAAAAAAAAAIQAAAAAAAABBAAAAAAAAAFEAAAAAAAAAYQAAAAAAAABxAAAAAAAAAIEAAAAAAAAAiQAAAAAAAACRAAAAAAAAAJkAAAAAAAAAAQAAAAAAAAAhAAAAAAAAAEEAAAAAAAAAUQAAAAAAAABhAAAAAAAAAHEAAAAAAAAAgQAAAAAAAACJAAAAAAAAAJEAAAAAAAAAmQAAAAAAAAABAAAAAAAAACEAAAAAAAAAQQAAAAAAAABRAAAAAAAAAGEAAAAAAAAAcQAAAAAAAACBAAAAAAAAAIkAAAAAAAAAkQAAAAAAAACZAAAAAAAAAAEAAAAAAAAAIQAAAAAAAABBAAAAAAAAAFEAAAAAAAAAYQAAAAAAAABxAAAAAAAAAIEAAAAAAAAAiQAAAAAAAACRAAAAAAAAAJkAAAAAAAAAAQAAAAAAAAAhAAAAAAAAAEEAAAAAAAAAUQAAAAAAAABhAAAAAAAAAHEAAAAAAAAAgQAAAAAAAACJAAAAAAAAAJEAAAAAAAAAmQAAAAAAAAABAAAAAAAAACEAAAAAAAAAQQAAAAAAAABRAAAAAAAAAGEAAAAAAAAAcQAAAAAAAACBAAAAAAAAAIkAAAAAAAAAkQAAAAAAAACZAAAAAAAAAAEAAAAAAAAAIQAAAAAAAABBAAAAAAAAAFEAAAAAAAAAYQAAAAAAAABxAAAAAAAAAIEAAAAAAAAAiQAAAAAAAACRAAAAAAAAAJkAAAAAAAAAAQAAAAAAAAAhAAAAAAAAAEEAAAAAAAAAUQAAAAAAAABhAAAAAAAAAHEAAAAAAAAAgQAAAAAAAACJAAAAAAAAAJEAAAAAAAAAmQAAAAAAAAABAAAAAAAAACEAAAAAAAAAQQAAAAAAAABRAAAAAAAAAGEAAAAAAAAAcQAAAAAAAACBAAAAAAAAAIkAAAAAAAAAkQAAAAAAAACZAAAAAAAAAAEAAAAAAAAAIQAAAAAAAABBAAAAAAAAAFEAAAAAAAAAYQAAAAAAAABxAAAAAAAAAIEAAAAAAAAAiQAAAAAAAACRAAAAAAAAAJkAAAAAAAAAAQAAAAAAAAAhAAAAAAAAAEEAAAAAAAAAUQAAAAAAAABhAAAAAAAAAHEAAAAAAAAAgQAAAAAAAACJAAAAAAAAAJEAAAAAAAAAmQAAAAAAAAABAAAAAAAAACEAAAAAAAAAQQAAAAAAAABRAAAAAAAAAGEAAAAAAAAAcQAAAAAAAACBAAAAAAAAAIkAAAAAAAAAkQAAAAAAAACZA",
          "dtype": "f8",
          "shape": "27, 10"
         },
         "z": {
          "bdata": "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",
          "dtype": "f8",
          "shape": "27, 10"
         }
        },
        {
         "colorscale": [
          [
           0,
           "rgb(255,245,240)"
          ],
          [
           0.125,
           "rgb(254,224,210)"
          ],
          [
           0.25,
           "rgb(252,187,161)"
          ],
          [
           0.375,
           "rgb(252,146,114)"
          ],
          [
           0.5,
           "rgb(251,106,74)"
          ],
          [
           0.625,
           "rgb(239,59,44)"
          ],
          [
           0.75,
           "rgb(203,24,29)"
          ],
          [
           0.875,
           "rgb(165,15,21)"
          ],
          [
           1,
           "rgb(103,0,13)"
          ]
         ],
         "name": "KNN Gamma",
         "opacity": 0.7,
         "scene": "scene",
         "showscale": false,
         "type": "surface",
         "x": {
          "bdata": "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",
          "dtype": "f8",
          "shape": "27, 10"
         },
         "y": {
          "bdata": "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",
          "dtype": "f8",
          "shape": "27, 10"
         },
         "z": {
          "bdata": "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",
          "dtype": "f8",
          "shape": "27, 10"
         }
        },
        {
         "colorscale": [
          [
           0,
           "rgb(247,252,245)"
          ],
          [
           0.125,
           "rgb(229,245,224)"
          ],
          [
           0.25,
           "rgb(199,233,192)"
          ],
          [
           0.375,
           "rgb(161,217,155)"
          ],
          [
           0.5,
           "rgb(116,196,118)"
          ],
          [
           0.625,
           "rgb(65,171,93)"
          ],
          [
           0.75,
           "rgb(35,139,69)"
          ],
          [
           0.875,
           "rgb(0,109,44)"
          ],
          [
           1,
           "rgb(0,68,27)"
          ]
         ],
         "name": "Distance Pareto",
         "opacity": 0.7,
         "scene": "scene2",
         "showscale": false,
         "type": "surface",
         "x": {
          "bdata": "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",
          "dtype": "f8",
          "shape": "27, 10"
         },
         "y": {
          "bdata": "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",
          "dtype": "f8",
          "shape": "27, 10"
         },
         "z": {
          "bdata": "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",
          "dtype": "f8",
          "shape": "27, 10"
         }
        },
        {
         "colorscale": [
          [
           0,
           "rgb(255,245,235)"
          ],
          [
           0.125,
           "rgb(254,230,206)"
          ],
          [
           0.25,
           "rgb(253,208,162)"
          ],
          [
           0.375,
           "rgb(253,174,107)"
          ],
          [
           0.5,
           "rgb(253,141,60)"
          ],
          [
           0.625,
           "rgb(241,105,19)"
          ],
          [
           0.75,
           "rgb(217,72,1)"
          ],
          [
           0.875,
           "rgb(166,54,3)"
          ],
          [
           1,
           "rgb(127,39,4)"
          ]
         ],
         "name": "Distance Gamma",
         "opacity": 0.7,
         "scene": "scene2",
         "showscale": false,
         "type": "surface",
         "x": {
          "bdata": "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",
          "dtype": "f8",
          "shape": "27, 10"
         },
         "y": {
          "bdata": "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",
          "dtype": "f8",
          "shape": "27, 10"
         },
         "z": {
          "bdata": "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",
          "dtype": "f8",
          "shape": "27, 10"
         }
        }
       ],
       "layout": {
        "annotations": [
         {
          "font": {
           "size": 16
          },
          "showarrow": false,
          "text": "3D KNN Metric (n, k, компоненты связности)",
          "x": 0.2375,
          "xanchor": "center",
          "xref": "paper",
          "y": 1,
          "yanchor": "bottom",
          "yref": "paper"
         },
         {
          "font": {
           "size": 16
          },
          "showarrow": false,
          "text": "3D Distance Metric (n, d, хроматическое число)",
          "x": 0.7625,
          "xanchor": "center",
          "xref": "paper",
          "y": 1,
          "yanchor": "bottom",
          "yref": "paper"
         }
        ],
        "height": 700,
        "legend": {
         "x": 0.01,
         "xanchor": "left",
         "y": 0.99,
         "yanchor": "top"
        },
        "scene": {
         "camera": {
          "eye": {
           "x": 1.2,
           "y": 1.2,
           "z": 1.2
          }
         },
         "domain": {
          "x": [
           0,
           0.475
          ],
          "y": [
           0,
           1
          ]
         },
         "xaxis": {
          "title": {
           "text": "n (размер графа)"
          }
         },
         "yaxis": {
          "title": {
           "text": "k (количество соседей)"
          }
         },
         "zaxis": {
          "title": {
           "text": "Количество компонент связности"
          }
         }
        },
        "scene2": {
         "camera": {
          "eye": {
           "x": 1.2,
           "y": 1.2,
           "z": 1.2
          }
         },
         "domain": {
          "x": [
           0.525,
           1
          ],
          "y": [
           0,
           1
          ]
         },
         "xaxis": {
          "title": {
           "text": "n (размер графа)"
          }
         },
         "yaxis": {
          "title": {
           "text": "d (пороговое расстояние)"
          }
         },
         "zaxis": {
          "title": {
           "text": "Хроматическое число"
          }
         }
        },
        "showlegend": true,
        "template": {
         "data": {
          "bar": [
           {
            "error_x": {
             "color": "#2a3f5f"
            },
            "error_y": {
             "color": "#2a3f5f"
            },
            "marker": {
             "line": {
              "color": "#E5ECF6",
              "width": 0.5
             },
             "pattern": {
              "fillmode": "overlay",
              "size": 10,
              "solidity": 0.2
             }
            },
            "type": "bar"
           }
          ],
          "barpolar": [
           {
            "marker": {
             "line": {
              "color": "#E5ECF6",
              "width": 0.5
             },
             "pattern": {
              "fillmode": "overlay",
              "size": 10,
              "solidity": 0.2
             }
            },
            "type": "barpolar"
           }
          ],
          "carpet": [
           {
            "aaxis": {
             "endlinecolor": "#2a3f5f",
             "gridcolor": "white",
             "linecolor": "white",
             "minorgridcolor": "white",
             "startlinecolor": "#2a3f5f"
            },
            "baxis": {
             "endlinecolor": "#2a3f5f",
             "gridcolor": "white",
             "linecolor": "white",
             "minorgridcolor": "white",
             "startlinecolor": "#2a3f5f"
            },
            "type": "carpet"
           }
          ],
          "choropleth": [
           {
            "colorbar": {
             "outlinewidth": 0,
             "ticks": ""
            },
            "type": "choropleth"
           }
          ],
          "contour": [
           {
            "colorbar": {
             "outlinewidth": 0,
             "ticks": ""
            },
            "colorscale": [
             [
              0,
              "#0d0887"
             ],
             [
              0.1111111111111111,
              "#46039f"
             ],
             [
              0.2222222222222222,
              "#7201a8"
             ],
             [
              0.3333333333333333,
              "#9c179e"
             ],
             [
              0.4444444444444444,
              "#bd3786"
             ],
             [
              0.5555555555555556,
              "#d8576b"
             ],
             [
              0.6666666666666666,
              "#ed7953"
             ],
             [
              0.7777777777777778,
              "#fb9f3a"
             ],
             [
              0.8888888888888888,
              "#fdca26"
             ],
             [
              1,
              "#f0f921"
             ]
            ],
            "type": "contour"
           }
          ],
          "contourcarpet": [
           {
            "colorbar": {
             "outlinewidth": 0,
             "ticks": ""
            },
            "type": "contourcarpet"
           }
          ],
          "heatmap": [
           {
            "colorbar": {
             "outlinewidth": 0,
             "ticks": ""
            },
            "colorscale": [
             [
              0,
              "#0d0887"
             ],
             [
              0.1111111111111111,
              "#46039f"
             ],
             [
              0.2222222222222222,
              "#7201a8"
             ],
             [
              0.3333333333333333,
              "#9c179e"
             ],
             [
              0.4444444444444444,
              "#bd3786"
             ],
             [
              0.5555555555555556,
              "#d8576b"
             ],
             [
              0.6666666666666666,
              "#ed7953"
             ],
             [
              0.7777777777777778,
              "#fb9f3a"
             ],
             [
              0.8888888888888888,
              "#fdca26"
             ],
             [
              1,
              "#f0f921"
             ]
            ],
            "type": "heatmap"
           }
          ],
          "histogram": [
           {
            "marker": {
             "pattern": {
              "fillmode": "overlay",
              "size": 10,
              "solidity": 0.2
             }
            },
            "type": "histogram"
           }
          ],
          "histogram2d": [
           {
            "colorbar": {
             "outlinewidth": 0,
             "ticks": ""
            },
            "colorscale": [
             [
              0,
              "#0d0887"
             ],
             [
              0.1111111111111111,
              "#46039f"
             ],
             [
              0.2222222222222222,
              "#7201a8"
             ],
             [
              0.3333333333333333,
              "#9c179e"
             ],
             [
              0.4444444444444444,
              "#bd3786"
             ],
             [
              0.5555555555555556,
              "#d8576b"
             ],
             [
              0.6666666666666666,
              "#ed7953"
             ],
             [
              0.7777777777777778,
              "#fb9f3a"
             ],
             [
              0.8888888888888888,
              "#fdca26"
             ],
             [
              1,
              "#f0f921"
             ]
            ],
            "type": "histogram2d"
           }
          ],
          "histogram2dcontour": [
           {
            "colorbar": {
             "outlinewidth": 0,
             "ticks": ""
            },
            "colorscale": [
             [
              0,
              "#0d0887"
             ],
             [
              0.1111111111111111,
              "#46039f"
             ],
             [
              0.2222222222222222,
              "#7201a8"
             ],
             [
              0.3333333333333333,
              "#9c179e"
             ],
             [
              0.4444444444444444,
              "#bd3786"
             ],
             [
              0.5555555555555556,
              "#d8576b"
             ],
             [
              0.6666666666666666,
              "#ed7953"
             ],
             [
              0.7777777777777778,
              "#fb9f3a"
             ],
             [
              0.8888888888888888,
              "#fdca26"
             ],
             [
              1,
              "#f0f921"
             ]
            ],
            "type": "histogram2dcontour"
           }
          ],
          "mesh3d": [
           {
            "colorbar": {
             "outlinewidth": 0,
             "ticks": ""
            },
            "type": "mesh3d"
           }
          ],
          "parcoords": [
           {
            "line": {
             "colorbar": {
              "outlinewidth": 0,
              "ticks": ""
             }
            },
            "type": "parcoords"
           }
          ],
          "pie": [
           {
            "automargin": true,
            "type": "pie"
           }
          ],
          "scatter": [
           {
            "fillpattern": {
             "fillmode": "overlay",
             "size": 10,
             "solidity": 0.2
            },
            "type": "scatter"
           }
          ],
          "scatter3d": [
           {
            "line": {
             "colorbar": {
              "outlinewidth": 0,
              "ticks": ""
             }
            },
            "marker": {
             "colorbar": {
              "outlinewidth": 0,
              "ticks": ""
             }
            },
            "type": "scatter3d"
           }
          ],
          "scattercarpet": [
           {
            "marker": {
             "colorbar": {
              "outlinewidth": 0,
              "ticks": ""
             }
            },
            "type": "scattercarpet"
           }
          ],
          "scattergeo": [
           {
            "marker": {
             "colorbar": {
              "outlinewidth": 0,
              "ticks": ""
             }
            },
            "type": "scattergeo"
           }
          ],
          "scattergl": [
           {
            "marker": {
             "colorbar": {
              "outlinewidth": 0,
              "ticks": ""
             }
            },
            "type": "scattergl"
           }
          ],
          "scattermap": [
           {
            "marker": {
             "colorbar": {
              "outlinewidth": 0,
              "ticks": ""
             }
            },
            "type": "scattermap"
           }
          ],
          "scattermapbox": [
           {
            "marker": {
             "colorbar": {
              "outlinewidth": 0,
              "ticks": ""
             }
            },
            "type": "scattermapbox"
           }
          ],
          "scatterpolar": [
           {
            "marker": {
             "colorbar": {
              "outlinewidth": 0,
              "ticks": ""
             }
            },
            "type": "scatterpolar"
           }
          ],
          "scatterpolargl": [
           {
            "marker": {
             "colorbar": {
              "outlinewidth": 0,
              "ticks": ""
             }
            },
            "type": "scatterpolargl"
           }
          ],
          "scatterternary": [
           {
            "marker": {
             "colorbar": {
              "outlinewidth": 0,
              "ticks": ""
             }
            },
            "type": "scatterternary"
           }
          ],
          "surface": [
           {
            "colorbar": {
             "outlinewidth": 0,
             "ticks": ""
            },
            "colorscale": [
             [
              0,
              "#0d0887"
             ],
             [
              0.1111111111111111,
              "#46039f"
             ],
             [
              0.2222222222222222,
              "#7201a8"
             ],
             [
              0.3333333333333333,
              "#9c179e"
             ],
             [
              0.4444444444444444,
              "#bd3786"
             ],
             [
              0.5555555555555556,
              "#d8576b"
             ],
             [
              0.6666666666666666,
              "#ed7953"
             ],
             [
              0.7777777777777778,
              "#fb9f3a"
             ],
             [
              0.8888888888888888,
              "#fdca26"
             ],
             [
              1,
              "#f0f921"
             ]
            ],
            "type": "surface"
           }
          ],
          "table": [
           {
            "cells": {
             "fill": {
              "color": "#EBF0F8"
             },
             "line": {
              "color": "white"
             }
            },
            "header": {
             "fill": {
              "color": "#C8D4E3"
             },
             "line": {
              "color": "white"
             }
            },
            "type": "table"
           }
          ]
         },
         "layout": {
          "annotationdefaults": {
           "arrowcolor": "#2a3f5f",
           "arrowhead": 0,
           "arrowwidth": 1
          },
          "autotypenumbers": "strict",
          "coloraxis": {
           "colorbar": {
            "outlinewidth": 0,
            "ticks": ""
           }
          },
          "colorscale": {
           "diverging": [
            [
             0,
             "#8e0152"
            ],
            [
             0.1,
             "#c51b7d"
            ],
            [
             0.2,
             "#de77ae"
            ],
            [
             0.3,
             "#f1b6da"
            ],
            [
             0.4,
             "#fde0ef"
            ],
            [
             0.5,
             "#f7f7f7"
            ],
            [
             0.6,
             "#e6f5d0"
            ],
            [
             0.7,
             "#b8e186"
            ],
            [
             0.8,
             "#7fbc41"
            ],
            [
             0.9,
             "#4d9221"
            ],
            [
             1,
             "#276419"
            ]
           ],
           "sequential": [
            [
             0,
             "#0d0887"
            ],
            [
             0.1111111111111111,
             "#46039f"
            ],
            [
             0.2222222222222222,
             "#7201a8"
            ],
            [
             0.3333333333333333,
             "#9c179e"
            ],
            [
             0.4444444444444444,
             "#bd3786"
            ],
            [
             0.5555555555555556,
             "#d8576b"
            ],
            [
             0.6666666666666666,
             "#ed7953"
            ],
            [
             0.7777777777777778,
             "#fb9f3a"
            ],
            [
             0.8888888888888888,
             "#fdca26"
            ],
            [
             1,
             "#f0f921"
            ]
           ],
           "sequentialminus": [
            [
             0,
             "#0d0887"
            ],
            [
             0.1111111111111111,
             "#46039f"
            ],
            [
             0.2222222222222222,
             "#7201a8"
            ],
            [
             0.3333333333333333,
             "#9c179e"
            ],
            [
             0.4444444444444444,
             "#bd3786"
            ],
            [
             0.5555555555555556,
             "#d8576b"
            ],
            [
             0.6666666666666666,
             "#ed7953"
            ],
            [
             0.7777777777777778,
             "#fb9f3a"
            ],
            [
             0.8888888888888888,
             "#fdca26"
            ],
            [
             1,
             "#f0f921"
            ]
           ]
          },
          "colorway": [
           "#636efa",
           "#EF553B",
           "#00cc96",
           "#ab63fa",
           "#FFA15A",
           "#19d3f3",
           "#FF6692",
           "#B6E880",
           "#FF97FF",
           "#FECB52"
          ],
          "font": {
           "color": "#2a3f5f"
          },
          "geo": {
           "bgcolor": "white",
           "lakecolor": "white",
           "landcolor": "#E5ECF6",
           "showlakes": true,
           "showland": true,
           "subunitcolor": "white"
          },
          "hoverlabel": {
           "align": "left"
          },
          "hovermode": "closest",
          "mapbox": {
           "style": "light"
          },
          "paper_bgcolor": "white",
          "plot_bgcolor": "#E5ECF6",
          "polar": {
           "angularaxis": {
            "gridcolor": "white",
            "linecolor": "white",
            "ticks": ""
           },
           "bgcolor": "#E5ECF6",
           "radialaxis": {
            "gridcolor": "white",
            "linecolor": "white",
            "ticks": ""
           }
          },
          "scene": {
           "xaxis": {
            "backgroundcolor": "#E5ECF6",
            "gridcolor": "white",
            "gridwidth": 2,
            "linecolor": "white",
            "showbackground": true,
            "ticks": "",
            "zerolinecolor": "white"
           },
           "yaxis": {
            "backgroundcolor": "#E5ECF6",
            "gridcolor": "white",
            "gridwidth": 2,
            "linecolor": "white",
            "showbackground": true,
            "ticks": "",
            "zerolinecolor": "white"
           },
           "zaxis": {
            "backgroundcolor": "#E5ECF6",
            "gridcolor": "white",
            "gridwidth": 2,
            "linecolor": "white",
            "showbackground": true,
            "ticks": "",
            "zerolinecolor": "white"
           }
          },
          "shapedefaults": {
           "line": {
            "color": "#2a3f5f"
           }
          },
          "ternary": {
           "aaxis": {
            "gridcolor": "white",
            "linecolor": "white",
            "ticks": ""
           },
           "baxis": {
            "gridcolor": "white",
            "linecolor": "white",
            "ticks": ""
           },
           "bgcolor": "#E5ECF6",
           "caxis": {
            "gridcolor": "white",
            "linecolor": "white",
            "ticks": ""
           }
          },
          "title": {
           "x": 0.05
          },
          "xaxis": {
           "automargin": true,
           "gridcolor": "white",
           "linecolor": "white",
           "ticks": "",
           "title": {
            "standoff": 15
           },
           "zerolinecolor": "white",
           "zerolinewidth": 2
          },
          "yaxis": {
           "automargin": true,
           "gridcolor": "white",
           "linecolor": "white",
           "ticks": "",
           "title": {
            "standoff": 15
           },
           "zerolinecolor": "white",
           "zerolinewidth": 2
          }
         }
        },
        "title": {
         "text": "3D Визуализация метрик: влияние параметров графа (Pareto vs Gamma)",
         "x": 0.5
        },
        "width": 1400
       }
      }
     },
     "metadata": {},
     "output_type": "display_data"
    }
   ],
   "source": [
    "N_knn: np.ndarray\n",
    "K_knn: np.ndarray\n",
    "N_knn, K_knn = np.meshgrid(n, k, indexing=\"ij\")\n",
    "knn_f_two_array: np.ndarray = np.array(knn_f_two)\n",
    "knn_h_two_array: np.ndarray = np.array(knn_h_two)\n",
    "\n",
    "N_dist: np.ndarray\n",
    "D_dist: np.ndarray\n",
    "N_dist, D_dist = np.meshgrid(n, d, indexing=\"ij\")\n",
    "dist_f_two_array: np.ndarray = np.array(dist_f_two)\n",
    "dist_h_two_array: np.ndarray = np.array(dist_h_two)\n",
    "\n",
    "fig = make_subplots(\n",
    "    rows=1,\n",
    "    cols=2,\n",
    "    specs=[[{\"type\": \"surface\"}, {\"type\": \"surface\"}]],\n",
    "    subplot_titles=(\n",
    "        \"3D KNN Metric (n, k, компоненты связности)\",\n",
    "        \"3D Distance Metric (n, d, хроматическое число)\",\n",
    "    ),\n",
    "    horizontal_spacing=0.05,\n",
    ")\n",
    "\n",
    "fig.add_trace(\n",
    "    go.Surface(\n",
    "        x=N_knn,\n",
    "        y=K_knn,\n",
    "        z=knn_f_two_array,\n",
    "        name=\"KNN Pareto\",\n",
    "        colorscale=\"Blues\",\n",
    "        opacity=0.7,\n",
    "        showscale=False,\n",
    "    ),\n",
    "    row=1,\n",
    "    col=1,\n",
    ")\n",
    "\n",
    "fig.add_trace(\n",
    "    go.Surface(\n",
    "        x=N_knn,\n",
    "        y=K_knn,\n",
    "        z=knn_h_two_array,\n",
    "        name=\"KNN Gamma\",\n",
    "        colorscale=\"Reds\",\n",
    "        opacity=0.7,\n",
    "        showscale=False,\n",
    "    ),\n",
    "    row=1,\n",
    "    col=1,\n",
    ")\n",
    "\n",
    "fig.add_trace(\n",
    "    go.Surface(\n",
    "        x=N_dist,\n",
    "        y=D_dist,\n",
    "        z=dist_f_two_array,\n",
    "        name=\"Distance Pareto\",\n",
    "        colorscale=\"Greens\",\n",
    "        opacity=0.7,\n",
    "        showscale=False,\n",
    "    ),\n",
    "    row=1,\n",
    "    col=2,\n",
    ")\n",
    "\n",
    "fig.add_trace(\n",
    "    go.Surface(\n",
    "        x=N_dist,\n",
    "        y=D_dist,\n",
    "        z=dist_h_two_array,\n",
    "        name=\"Distance Gamma\",\n",
    "        colorscale=\"Oranges\",\n",
    "        opacity=0.7,\n",
    "        showscale=False,\n",
    "    ),\n",
    "    row=1,\n",
    "    col=2,\n",
    ")\n",
    "\n",
    "fig.update_layout(\n",
    "    scene=dict(\n",
    "        xaxis_title=\"n (размер графа)\",\n",
    "        yaxis_title=\"k (количество соседей)\",\n",
    "        zaxis_title=\"Количество компонент связности\",\n",
    "        camera=dict(eye=dict(x=1.2, y=1.2, z=1.2)),\n",
    "    ),\n",
    "    scene2=dict(\n",
    "        xaxis_title=\"n (размер графа)\",\n",
    "        yaxis_title=\"d (пороговое расстояние)\",\n",
    "        zaxis_title=\"Хроматическое число\",\n",
    "        camera=dict(eye=dict(x=1.2, y=1.2, z=1.2)),\n",
    "    ),\n",
    "    title_text=\"3D Визуализация метрик: влияние параметров графа (Pareto vs Gamma)\",\n",
    "    title_x=0.5,\n",
    "    width=1400,\n",
    "    height=700,\n",
    "    showlegend=True,\n",
    "    legend=dict(yanchor=\"top\", y=0.99, xanchor=\"left\", x=0.01),\n",
    ")\n",
    "\n",
    "fig.show()"
   ]
  },
  {
   "cell_type": "markdown",
   "id": "e09c03dc",
   "metadata": {},
   "source": [
    "### Distance\n",
    "Видно, что при росте n и фиксированных остальных параметрах, хроматическое число растет для распределений Парето и Гамма"
   ]
  },
  {
   "cell_type": "code",
   "execution_count": 6,
   "id": "87b7d7c6",
   "metadata": {},
   "outputs": [
    {
     "data": {
      "application/vnd.jupyter.widget-view+json": {
       "model_id": "e2bee739598b4144a4fd062a61169a33",
       "version_major": 2,
       "version_minor": 0
      },
      "text/plain": [
       "  0%|          | 0/500 [00:00<?, ?it/s]"
      ]
     },
     "metadata": {},
     "output_type": "display_data"
    },
    {
     "data": {
      "application/vnd.jupyter.widget-view+json": {
       "model_id": "25f80e6e0c714f2d8a53cdfbbe679320",
       "version_major": 2,
       "version_minor": 0
      },
      "text/plain": [
       "  0%|          | 0/500 [00:00<?, ?it/s]"
      ]
     },
     "metadata": {},
     "output_type": "display_data"
    },
    {
     "data": {
      "application/vnd.jupyter.widget-view+json": {
       "model_id": "7b843c33dba24b14919678325d4b8c18",
       "version_major": 2,
       "version_minor": 0
      },
      "text/plain": [
       "  0%|          | 0/500 [00:00<?, ?it/s]"
      ]
     },
     "metadata": {},
     "output_type": "display_data"
    },
    {
     "data": {
      "application/vnd.jupyter.widget-view+json": {
       "model_id": "60a4b46cbda94d6d8fa68e167ee0682c",
       "version_major": 2,
       "version_minor": 0
      },
      "text/plain": [
       "  0%|          | 0/500 [00:00<?, ?it/s]"
      ]
     },
     "metadata": {},
     "output_type": "display_data"
    }
   ],
   "source": [
    "n: int = 100\n",
    "cnt: int = 50\n",
    "shape: float = np.sqrt(2/3)  # λ₀ = sqrt(⅔)\n",
    "alpha: float = 3  # α₀ = 3\n",
    "mc_iter: int = 500\n",
    "\n",
    "gen: Generator = Generator(v=3, alpha=alpha, shape=shape, size=n)\n",
    "knn_f_two: List[float] = [GraphKnn(gen.get_f_two()).calc_connected_components() for _ in tqdm(range(mc_iter))]\n",
    "knn_h_two: List[float] = [GraphKnn(gen.get_h_two()).calc_connected_components() for _ in tqdm(range(mc_iter))]\n",
    "    \n",
    "dist_f_two: List[float] = [GraphDist(gen.get_f_two()).calc_chromatic_number() for _ in tqdm(range(mc_iter))]\n",
    "dist_h_two: List[float] = [GraphDist(gen.get_h_two()).calc_chromatic_number() for _ in tqdm(range(mc_iter))]\n",
    "\n",
    "a: float = 0.05\n",
    "knn_thr: float = sorted(knn_f_two)[int((1-a)*len(knn_f_two))]\n",
    "dist_thr: float = sorted(dist_f_two)[int((1-a)*len(dist_f_two))]\n",
    "\n",
    "knn_pow: int = sum(np.array(knn_h_two) > knn_thr)\n",
    "dist_pow: int = sum(np.array(dist_h_two) > dist_thr)"
   ]
  },
  {
   "cell_type": "code",
   "execution_count": 7,
   "id": "fc3b6fa8",
   "metadata": {},
   "outputs": [
    {
     "data": {
      "text/plain": [
       "np.int64(4)"
      ]
     },
     "execution_count": 7,
     "metadata": {},
     "output_type": "execute_result"
    }
   ],
   "source": [
    "dist_pow"
   ]
  },
  {
   "cell_type": "code",
   "execution_count": 8,
   "id": "247d1a5b",
   "metadata": {},
   "outputs": [
    {
     "data": {
      "application/vnd.plotly.v1+json": {
       "config": {
        "plotlyServerURL": "https://plot.ly"
       },
       "data": [
        {
         "histnorm": "probability density",
         "marker": {
          "color": "blue"
         },
         "name": "KNN Pareto (H0)",
         "nbinsx": 30,
         "opacity": 0.7,
         "type": "histogram",
         "x": [
          1,
          1,
          1,
          1,
          1,
          1,
          1,
          1,
          1,
          1,
          1,
          1,
          1,
          1,
          1,
          1,
          1,
          1,
          1,
          1,
          1,
          1,
          1,
          1,
          1,
          1,
          1,
          1,
          1,
          1,
          1,
          1,
          1,
          1,
          1,
          1,
          1,
          1,
          1,
          1,
          1,
          1,
          1,
          1,
          1,
          1,
          1,
          1,
          1,
          1,
          1,
          1,
          1,
          1,
          1,
          1,
          1,
          1,
          1,
          1,
          1,
          1,
          1,
          1,
          1,
          1,
          1,
          1,
          1,
          1,
          1,
          1,
          1,
          1,
          1,
          1,
          1,
          1,
          1,
          1,
          1,
          1,
          1,
          1,
          1,
          1,
          1,
          1,
          1,
          1,
          1,
          1,
          1,
          1,
          1,
          1,
          1,
          1,
          1,
          1,
          1,
          1,
          1,
          1,
          1,
          1,
          1,
          1,
          1,
          1,
          1,
          1,
          1,
          1,
          1,
          1,
          1,
          1,
          1,
          1,
          1,
          1,
          1,
          1,
          1,
          1,
          1,
          1,
          1,
          1,
          1,
          1,
          1,
          1,
          1,
          1,
          1,
          1,
          1,
          1,
          1,
          1,
          1,
          1,
          1,
          1,
          1,
          1,
          1,
          1,
          1,
          1,
          1,
          1,
          1,
          1,
          1,
          1,
          1,
          1,
          1,
          1,
          1,
          1,
          1,
          1,
          1,
          1,
          1,
          1,
          1,
          1,
          1,
          1,
          1,
          1,
          1,
          1,
          1,
          1,
          1,
          1,
          1,
          1,
          1,
          1,
          1,
          1,
          1,
          1,
          1,
          1,
          1,
          1,
          1,
          1,
          1,
          1,
          1,
          1,
          1,
          1,
          1,
          1,
          1,
          1,
          1,
          1,
          1,
          1,
          1,
          1,
          1,
          1,
          1,
          1,
          1,
          1,
          1,
          1,
          1,
          1,
          1,
          1,
          1,
          1,
          1,
          1,
          1,
          1,
          1,
          1,
          1,
          1,
          1,
          1,
          1,
          1,
          1,
          1,
          1,
          1,
          1,
          1,
          1,
          1,
          1,
          1,
          1,
          1,
          1,
          1,
          1,
          1,
          1,
          1,
          1,
          1,
          1,
          1,
          1,
          1,
          1,
          1,
          1,
          1,
          1,
          1,
          1,
          1,
          1,
          1,
          1,
          1,
          1,
          1,
          1,
          1,
          1,
          1,
          1,
          1,
          1,
          1,
          1,
          1,
          1,
          1,
          1,
          1,
          1,
          1,
          1,
          1,
          1,
          1,
          1,
          1,
          1,
          1,
          1,
          1,
          1,
          1,
          1,
          1,
          1,
          1,
          1,
          1,
          1,
          1,
          1,
          1,
          1,
          1,
          1,
          1,
          1,
          1,
          1,
          1,
          1,
          1,
          1,
          1,
          1,
          1,
          1,
          1,
          1,
          1,
          1,
          1,
          1,
          1,
          1,
          1,
          1,
          1,
          1,
          1,
          1,
          1,
          1,
          1,
          1,
          1,
          1,
          1,
          1,
          1,
          1,
          1,
          1,
          1,
          1,
          1,
          1,
          1,
          1,
          1,
          1,
          1,
          1,
          1,
          1,
          1,
          1,
          1,
          1,
          1,
          1,
          1,
          1,
          1,
          1,
          1,
          1,
          1,
          1,
          1,
          1,
          1,
          1,
          1,
          1,
          1,
          1,
          1,
          1,
          1,
          1,
          1,
          1,
          1,
          1,
          1,
          1,
          1,
          1,
          1,
          1,
          1,
          1,
          1,
          1,
          1,
          1,
          1,
          1,
          1,
          1,
          1,
          1,
          1,
          1,
          1,
          1,
          1,
          1,
          1,
          1,
          1,
          1,
          1,
          1,
          1,
          1,
          1,
          1,
          1,
          1,
          1,
          1,
          1,
          1,
          1,
          1,
          1,
          1,
          1,
          1,
          1,
          1,
          1,
          1,
          1,
          1,
          1,
          1,
          1,
          1,
          1,
          1,
          1,
          1,
          1,
          1,
          1,
          1,
          1,
          1,
          1,
          1,
          1,
          1,
          1,
          1,
          1,
          1,
          1,
          1,
          1,
          1,
          1,
          1,
          1,
          1,
          1,
          1,
          1,
          1,
          1,
          1,
          1,
          1,
          1,
          1,
          1,
          1,
          1,
          1,
          1,
          1,
          1,
          1,
          1,
          1,
          1
         ],
         "xaxis": "x",
         "yaxis": "y"
        },
        {
         "histnorm": "probability density",
         "marker": {
          "color": "red"
         },
         "name": "KNN Gamma (H1)",
         "nbinsx": 30,
         "opacity": 0.7,
         "type": "histogram",
         "x": [
          1,
          1,
          1,
          1,
          1,
          1,
          1,
          1,
          1,
          1,
          1,
          1,
          1,
          1,
          1,
          1,
          1,
          1,
          1,
          1,
          1,
          1,
          1,
          1,
          1,
          1,
          1,
          1,
          1,
          1,
          1,
          1,
          1,
          1,
          1,
          1,
          1,
          1,
          1,
          1,
          1,
          1,
          1,
          1,
          1,
          1,
          1,
          1,
          1,
          1,
          1,
          1,
          1,
          1,
          1,
          1,
          1,
          1,
          1,
          1,
          1,
          1,
          1,
          1,
          1,
          1,
          1,
          1,
          1,
          1,
          1,
          1,
          1,
          1,
          1,
          1,
          1,
          1,
          1,
          1,
          1,
          1,
          1,
          1,
          1,
          1,
          1,
          1,
          1,
          1,
          1,
          1,
          1,
          1,
          1,
          1,
          1,
          1,
          1,
          1,
          1,
          1,
          1,
          1,
          1,
          1,
          1,
          1,
          1,
          1,
          1,
          1,
          1,
          1,
          1,
          1,
          1,
          1,
          1,
          1,
          1,
          1,
          1,
          1,
          1,
          1,
          1,
          1,
          1,
          1,
          1,
          1,
          1,
          1,
          1,
          1,
          1,
          1,
          1,
          1,
          1,
          1,
          1,
          1,
          1,
          1,
          1,
          1,
          1,
          1,
          1,
          1,
          1,
          1,
          1,
          1,
          1,
          1,
          1,
          1,
          1,
          1,
          1,
          1,
          1,
          1,
          1,
          1,
          1,
          1,
          1,
          1,
          1,
          1,
          1,
          1,
          1,
          1,
          1,
          1,
          1,
          1,
          1,
          1,
          1,
          1,
          1,
          1,
          1,
          1,
          1,
          1,
          1,
          1,
          1,
          1,
          1,
          1,
          1,
          1,
          1,
          1,
          1,
          1,
          1,
          1,
          1,
          1,
          1,
          1,
          1,
          1,
          1,
          1,
          1,
          1,
          1,
          1,
          1,
          1,
          1,
          1,
          1,
          1,
          1,
          1,
          1,
          1,
          1,
          1,
          1,
          1,
          1,
          1,
          1,
          1,
          1,
          1,
          1,
          1,
          1,
          1,
          1,
          1,
          1,
          1,
          1,
          1,
          1,
          1,
          1,
          1,
          1,
          1,
          1,
          1,
          1,
          1,
          1,
          1,
          1,
          1,
          1,
          1,
          1,
          1,
          1,
          1,
          1,
          1,
          1,
          1,
          1,
          1,
          1,
          1,
          1,
          1,
          1,
          1,
          1,
          1,
          1,
          1,
          1,
          1,
          1,
          1,
          1,
          1,
          1,
          1,
          1,
          1,
          1,
          1,
          1,
          1,
          1,
          1,
          1,
          1,
          1,
          1,
          1,
          1,
          1,
          1,
          1,
          1,
          1,
          1,
          1,
          1,
          1,
          1,
          1,
          1,
          1,
          1,
          1,
          1,
          1,
          1,
          1,
          1,
          1,
          1,
          1,
          1,
          1,
          1,
          1,
          1,
          1,
          1,
          1,
          1,
          1,
          1,
          1,
          1,
          1,
          1,
          1,
          1,
          1,
          1,
          1,
          1,
          1,
          1,
          1,
          1,
          1,
          1,
          1,
          1,
          1,
          1,
          1,
          1,
          1,
          1,
          1,
          1,
          1,
          1,
          1,
          1,
          1,
          1,
          1,
          1,
          1,
          1,
          1,
          1,
          1,
          1,
          1,
          1,
          1,
          1,
          1,
          1,
          1,
          1,
          1,
          1,
          1,
          1,
          1,
          1,
          1,
          1,
          1,
          1,
          1,
          1,
          1,
          1,
          1,
          1,
          1,
          1,
          1,
          1,
          1,
          1,
          1,
          1,
          1,
          1,
          1,
          1,
          1,
          1,
          1,
          1,
          1,
          1,
          1,
          1,
          1,
          1,
          1,
          1,
          1,
          1,
          1,
          1,
          1,
          1,
          1,
          1,
          1,
          1,
          1,
          1,
          1,
          1,
          1,
          1,
          1,
          1,
          1,
          1,
          1,
          1,
          1,
          1,
          1,
          1,
          1,
          1,
          1,
          1,
          1,
          1,
          1,
          1,
          1,
          1,
          1,
          1,
          1,
          1,
          1,
          1,
          1,
          1,
          1,
          1,
          1,
          1,
          1,
          1,
          1,
          1,
          1,
          1,
          1,
          1,
          1,
          1,
          1,
          1,
          1,
          1,
          1,
          1,
          1,
          1,
          1,
          1,
          1,
          1,
          1,
          1
         ],
         "xaxis": "x",
         "yaxis": "y"
        },
        {
         "histnorm": "probability density",
         "marker": {
          "color": "lightblue"
         },
         "name": "Distance Pareto (H0)",
         "nbinsx": 30,
         "opacity": 0.7,
         "showlegend": false,
         "type": "histogram",
         "x": [
          7,
          7,
          6,
          6,
          6,
          5,
          4,
          6,
          6,
          8,
          7,
          4,
          5,
          4,
          6,
          7,
          6,
          5,
          6,
          6,
          7,
          8,
          5,
          7,
          6,
          8,
          5,
          7,
          5,
          7,
          6,
          6,
          4,
          5,
          6,
          7,
          4,
          6,
          8,
          6,
          6,
          8,
          8,
          5,
          7,
          6,
          5,
          6,
          6,
          6,
          7,
          8,
          6,
          6,
          5,
          6,
          8,
          8,
          8,
          6,
          3,
          5,
          6,
          4,
          7,
          7,
          6,
          8,
          5,
          6,
          6,
          7,
          6,
          4,
          5,
          6,
          5,
          7,
          6,
          5,
          6,
          5,
          7,
          4,
          6,
          4,
          6,
          7,
          6,
          7,
          5,
          5,
          6,
          6,
          5,
          6,
          7,
          5,
          7,
          6,
          6,
          6,
          5,
          6,
          8,
          7,
          5,
          6,
          6,
          7,
          6,
          6,
          6,
          5,
          6,
          7,
          7,
          6,
          6,
          6,
          8,
          7,
          6,
          7,
          7,
          7,
          4,
          7,
          6,
          7,
          4,
          6,
          6,
          7,
          5,
          4,
          5,
          5,
          5,
          7,
          7,
          6,
          5,
          6,
          7,
          5,
          5,
          7,
          5,
          8,
          6,
          5,
          4,
          5,
          6,
          7,
          7,
          7,
          5,
          5,
          6,
          6,
          5,
          4,
          6,
          6,
          7,
          6,
          6,
          8,
          4,
          6,
          7,
          8,
          8,
          6,
          4,
          5,
          6,
          6,
          6,
          6,
          6,
          6,
          6,
          7,
          5,
          7,
          7,
          5,
          4,
          6,
          7,
          6,
          8,
          5,
          5,
          6,
          5,
          6,
          5,
          5,
          5,
          6,
          6,
          6,
          6,
          4,
          7,
          5,
          4,
          5,
          6,
          7,
          6,
          6,
          6,
          6,
          5,
          8,
          7,
          6,
          6,
          5,
          6,
          6,
          5,
          6,
          6,
          8,
          5,
          5,
          6,
          6,
          4,
          5,
          5,
          5,
          8,
          5,
          4,
          7,
          6,
          7,
          5,
          5,
          7,
          5,
          5,
          5,
          5,
          5,
          7,
          6,
          7,
          8,
          5,
          6,
          8,
          6,
          6,
          6,
          7,
          5,
          6,
          6,
          6,
          6,
          6,
          7,
          7,
          7,
          6,
          6,
          6,
          7,
          7,
          5,
          4,
          4,
          7,
          6,
          7,
          6,
          7,
          5,
          8,
          6,
          6,
          5,
          7,
          6,
          4,
          6,
          5,
          6,
          6,
          6,
          6,
          5,
          8,
          6,
          8,
          7,
          6,
          8,
          5,
          6,
          5,
          6,
          5,
          8,
          8,
          4,
          5,
          5,
          8,
          6,
          6,
          8,
          5,
          6,
          5,
          5,
          5,
          6,
          5,
          6,
          6,
          7,
          6,
          6,
          6,
          7,
          6,
          6,
          6,
          8,
          5,
          5,
          5,
          5,
          6,
          7,
          5,
          5,
          10,
          7,
          6,
          6,
          7,
          6,
          7,
          6,
          7,
          7,
          6,
          5,
          5,
          5,
          6,
          7,
          6,
          4,
          6,
          5,
          7,
          5,
          5,
          5,
          6,
          8,
          5,
          6,
          7,
          5,
          6,
          7,
          6,
          7,
          6,
          5,
          6,
          5,
          5,
          6,
          7,
          5,
          5,
          7,
          7,
          7,
          4,
          6,
          4,
          8,
          8,
          7,
          5,
          7,
          8,
          5,
          4,
          5,
          5,
          6,
          5,
          7,
          8,
          7,
          5,
          6,
          6,
          8,
          8,
          5,
          6,
          6,
          6,
          6,
          7,
          5,
          5,
          7,
          5,
          6,
          6,
          7,
          7,
          8,
          5,
          6,
          6,
          5,
          5,
          6,
          6,
          7,
          5,
          9,
          6,
          5,
          5,
          5,
          6,
          5,
          7,
          6,
          6,
          5,
          5,
          8,
          4,
          8,
          7,
          7,
          4,
          5,
          5,
          7,
          6,
          7,
          6,
          6,
          7,
          6,
          8,
          9,
          6,
          7,
          8,
          4,
          6,
          7,
          6,
          7,
          5,
          6,
          6,
          6,
          8,
          5,
          5,
          5,
          6,
          7,
          5,
          5,
          6,
          7,
          6,
          6,
          7,
          7,
          7,
          5,
          5,
          10,
          8,
          6
         ],
         "xaxis": "x2",
         "yaxis": "y2"
        },
        {
         "histnorm": "probability density",
         "marker": {
          "color": "orange"
         },
         "name": "Distance Gamma (H1)",
         "nbinsx": 30,
         "opacity": 0.7,
         "showlegend": false,
         "type": "histogram",
         "x": [
          6,
          6,
          8,
          6,
          6,
          6,
          6,
          5,
          6,
          7,
          7,
          5,
          5,
          7,
          6,
          6,
          7,
          5,
          8,
          7,
          5,
          7,
          8,
          6,
          6,
          6,
          6,
          6,
          6,
          8,
          6,
          7,
          7,
          6,
          6,
          6,
          8,
          6,
          6,
          7,
          6,
          6,
          8,
          6,
          8,
          5,
          8,
          5,
          7,
          8,
          8,
          7,
          6,
          7,
          6,
          8,
          6,
          7,
          5,
          6,
          7,
          8,
          7,
          6,
          6,
          6,
          5,
          7,
          5,
          7,
          5,
          7,
          6,
          6,
          6,
          6,
          8,
          6,
          6,
          5,
          7,
          7,
          7,
          6,
          6,
          8,
          6,
          6,
          6,
          6,
          6,
          7,
          8,
          7,
          7,
          6,
          6,
          6,
          6,
          7,
          6,
          5,
          6,
          7,
          5,
          6,
          7,
          7,
          7,
          7,
          6,
          6,
          6,
          6,
          6,
          6,
          8,
          6,
          6,
          7,
          6,
          7,
          7,
          5,
          7,
          6,
          7,
          7,
          5,
          6,
          7,
          7,
          7,
          7,
          6,
          7,
          7,
          5,
          7,
          6,
          8,
          6,
          7,
          6,
          7,
          6,
          7,
          6,
          6,
          7,
          6,
          6,
          6,
          6,
          4,
          6,
          6,
          6,
          8,
          6,
          6,
          6,
          7,
          8,
          7,
          7,
          7,
          5,
          9,
          7,
          7,
          6,
          6,
          7,
          7,
          8,
          5,
          7,
          6,
          6,
          6,
          8,
          8,
          7,
          5,
          6,
          8,
          7,
          7,
          5,
          6,
          6,
          7,
          7,
          6,
          5,
          6,
          5,
          6,
          7,
          7,
          7,
          8,
          6,
          6,
          7,
          7,
          7,
          7,
          7,
          6,
          7,
          5,
          6,
          7,
          5,
          7,
          6,
          7,
          6,
          6,
          7,
          7,
          7,
          5,
          7,
          6,
          6,
          5,
          6,
          6,
          6,
          7,
          7,
          7,
          7,
          6,
          5,
          6,
          7,
          6,
          7,
          6,
          6,
          7,
          7,
          6,
          6,
          6,
          5,
          8,
          5,
          6,
          6,
          5,
          7,
          7,
          7,
          7,
          7,
          6,
          7,
          7,
          8,
          7,
          8,
          6,
          8,
          6,
          7,
          7,
          7,
          6,
          7,
          6,
          7,
          7,
          8,
          7,
          7,
          6,
          6,
          5,
          8,
          6,
          5,
          6,
          6,
          7,
          7,
          7,
          6,
          6,
          9,
          7,
          7,
          6,
          7,
          7,
          5,
          6,
          7,
          7,
          6,
          7,
          5,
          6,
          7,
          6,
          6,
          5,
          6,
          7,
          7,
          7,
          6,
          7,
          7,
          5,
          6,
          6,
          7,
          7,
          7,
          7,
          7,
          6,
          7,
          5,
          8,
          7,
          6,
          6,
          7,
          8,
          7,
          5,
          5,
          8,
          8,
          6,
          7,
          7,
          6,
          9,
          7,
          6,
          8,
          7,
          5,
          7,
          6,
          6,
          6,
          7,
          7,
          6,
          5,
          8,
          7,
          6,
          5,
          5,
          7,
          7,
          7,
          6,
          6,
          5,
          6,
          7,
          7,
          8,
          7,
          6,
          6,
          6,
          6,
          8,
          5,
          6,
          6,
          8,
          5,
          6,
          6,
          8,
          6,
          6,
          6,
          7,
          7,
          6,
          6,
          5,
          7,
          6,
          6,
          6,
          6,
          7,
          8,
          6,
          6,
          5,
          5,
          5,
          6,
          6,
          8,
          7,
          6,
          7,
          7,
          6,
          6,
          6,
          6,
          6,
          7,
          7,
          7,
          6,
          7,
          8,
          6,
          7,
          6,
          6,
          6,
          7,
          8,
          4,
          5,
          6,
          6,
          7,
          7,
          6,
          7,
          6,
          8,
          6,
          7,
          6,
          6,
          5,
          7,
          7,
          6,
          7,
          5,
          8,
          6,
          7,
          7,
          6,
          7,
          8,
          6,
          6,
          7,
          7,
          6,
          7,
          6,
          5,
          6,
          7,
          6,
          6,
          6,
          7,
          7,
          8,
          6,
          7,
          7,
          6,
          7,
          5,
          9,
          7,
          5,
          6,
          6,
          8,
          5,
          6,
          6,
          6,
          6,
          6,
          5,
          8,
          6,
          6,
          7,
          7,
          6
         ],
         "xaxis": "x2",
         "yaxis": "y2"
        },
        {
         "line": {
          "color": "purple",
          "width": 2
         },
         "marker": {
          "size": 4
         },
         "mode": "lines+markers",
         "name": "KNN ROC",
         "showlegend": false,
         "type": "scatter",
         "x": [
          0,
          0,
          0,
          0,
          0,
          0,
          0,
          0,
          0,
          0,
          0,
          0,
          0,
          0,
          0,
          0,
          0,
          0,
          0,
          0,
          0,
          0,
          0,
          0,
          0,
          0,
          0,
          0,
          0,
          0,
          0,
          0,
          0,
          0,
          0,
          0,
          0,
          0,
          0,
          0,
          0,
          0,
          0,
          0,
          0,
          0,
          0,
          0,
          0,
          0
         ],
         "xaxis": "x3",
         "y": [
          0,
          0,
          0,
          0,
          0,
          0,
          0,
          0,
          0,
          0,
          0,
          0,
          0,
          0,
          0,
          0,
          0,
          0,
          0,
          0,
          0,
          0,
          0,
          0,
          0,
          0,
          0,
          0,
          0,
          0,
          0,
          0,
          0,
          0,
          0,
          0,
          0,
          0,
          0,
          0,
          0,
          0,
          0,
          0,
          0,
          0,
          0,
          0,
          0,
          0
         ],
         "yaxis": "y3"
        },
        {
         "marker": {
          "color": "red",
          "size": 12,
          "symbol": "star"
         },
         "mode": "markers",
         "name": "α=0.05",
         "showlegend": false,
         "type": "scatter",
         "x": [
          0
         ],
         "xaxis": "x3",
         "y": [
          0
         ],
         "yaxis": "y3"
        },
        {
         "line": {
          "color": "darkgreen",
          "width": 2
         },
         "marker": {
          "size": 4
         },
         "mode": "lines+markers",
         "name": "Distance ROC",
         "showlegend": false,
         "type": "scatter",
         "x": [
          0.998,
          0.998,
          0.998,
          0.998,
          0.998,
          0.998,
          0.998,
          0.934,
          0.934,
          0.934,
          0.934,
          0.934,
          0.934,
          0.934,
          0.674,
          0.674,
          0.674,
          0.674,
          0.674,
          0.674,
          0.674,
          0.306,
          0.306,
          0.306,
          0.306,
          0.306,
          0.306,
          0.306,
          0.1,
          0.1,
          0.1,
          0.1,
          0.1,
          0.1,
          0.1,
          0.008,
          0.008,
          0.008,
          0.008,
          0.008,
          0.008,
          0.008,
          0.004,
          0.004,
          0.004,
          0.004,
          0.004,
          0.004,
          0.004,
          0
         ],
         "xaxis": "x4",
         "y": [
          1,
          1,
          1,
          1,
          1,
          1,
          1,
          0.996,
          0.996,
          0.996,
          0.996,
          0.996,
          0.996,
          0.996,
          0.878,
          0.878,
          0.878,
          0.878,
          0.878,
          0.878,
          0.878,
          0.458,
          0.458,
          0.458,
          0.458,
          0.458,
          0.458,
          0.458,
          0.108,
          0.108,
          0.108,
          0.108,
          0.108,
          0.108,
          0.108,
          0.008,
          0.008,
          0.008,
          0.008,
          0.008,
          0.008,
          0.008,
          0,
          0,
          0,
          0,
          0,
          0,
          0,
          0
         ],
         "yaxis": "y4"
        },
        {
         "marker": {
          "color": "red",
          "size": 12,
          "symbol": "star"
         },
         "mode": "markers",
         "name": "α=0.05",
         "showlegend": false,
         "type": "scatter",
         "x": [
          0.008
         ],
         "xaxis": "x4",
         "y": [
          0.008
         ],
         "yaxis": "y4"
        }
       ],
       "layout": {
        "annotations": [
         {
          "font": {
           "size": 16
          },
          "showarrow": false,
          "text": "Количество компонент связности: Распределения и трешолд",
          "x": 0.225,
          "xanchor": "center",
          "xref": "paper",
          "y": 1,
          "yanchor": "bottom",
          "yref": "paper"
         },
         {
          "font": {
           "size": 16
          },
          "showarrow": false,
          "text": "Хроматическое число: Распределения и трешолд",
          "x": 0.775,
          "xanchor": "center",
          "xref": "paper",
          "y": 1,
          "yanchor": "bottom",
          "yref": "paper"
         },
         {
          "font": {
           "size": 16
          },
          "showarrow": false,
          "text": "KNN: ROC-подобная кривая",
          "x": 0.225,
          "xanchor": "center",
          "xref": "paper",
          "y": 0.44,
          "yanchor": "bottom",
          "yref": "paper"
         },
         {
          "font": {
           "size": 16
          },
          "showarrow": false,
          "text": "Distance: ROC-подобная кривая",
          "x": 0.775,
          "xanchor": "center",
          "xref": "paper",
          "y": 0.44,
          "yanchor": "bottom",
          "yref": "paper"
         },
         {
          "showarrow": false,
          "text": "Трешолд: 1.000",
          "x": 1,
          "xanchor": "left",
          "xref": "x",
          "y": 1,
          "yanchor": "top",
          "yref": "y domain"
         },
         {
          "showarrow": false,
          "text": "Трешолд: 8.000",
          "x": 8,
          "xanchor": "left",
          "xref": "x2",
          "y": 1,
          "yanchor": "top",
          "yref": "y2 domain"
         }
        ],
        "height": 800,
        "legend": {
         "x": 0.01,
         "xanchor": "left",
         "y": 0.98,
         "yanchor": "top"
        },
        "shapes": [
         {
          "line": {
           "color": "green",
           "dash": "dash",
           "width": 3
          },
          "type": "line",
          "x0": 1,
          "x1": 1,
          "xref": "x",
          "y0": 0,
          "y1": 1,
          "yref": "y domain"
         },
         {
          "line": {
           "color": "green",
           "dash": "dash",
           "width": 3
          },
          "type": "line",
          "x0": 8,
          "x1": 8,
          "xref": "x2",
          "y0": 0,
          "y1": 1,
          "yref": "y2 domain"
         }
        ],
        "showlegend": true,
        "template": {
         "data": {
          "bar": [
           {
            "error_x": {
             "color": "#2a3f5f"
            },
            "error_y": {
             "color": "#2a3f5f"
            },
            "marker": {
             "line": {
              "color": "#E5ECF6",
              "width": 0.5
             },
             "pattern": {
              "fillmode": "overlay",
              "size": 10,
              "solidity": 0.2
             }
            },
            "type": "bar"
           }
          ],
          "barpolar": [
           {
            "marker": {
             "line": {
              "color": "#E5ECF6",
              "width": 0.5
             },
             "pattern": {
              "fillmode": "overlay",
              "size": 10,
              "solidity": 0.2
             }
            },
            "type": "barpolar"
           }
          ],
          "carpet": [
           {
            "aaxis": {
             "endlinecolor": "#2a3f5f",
             "gridcolor": "white",
             "linecolor": "white",
             "minorgridcolor": "white",
             "startlinecolor": "#2a3f5f"
            },
            "baxis": {
             "endlinecolor": "#2a3f5f",
             "gridcolor": "white",
             "linecolor": "white",
             "minorgridcolor": "white",
             "startlinecolor": "#2a3f5f"
            },
            "type": "carpet"
           }
          ],
          "choropleth": [
           {
            "colorbar": {
             "outlinewidth": 0,
             "ticks": ""
            },
            "type": "choropleth"
           }
          ],
          "contour": [
           {
            "colorbar": {
             "outlinewidth": 0,
             "ticks": ""
            },
            "colorscale": [
             [
              0,
              "#0d0887"
             ],
             [
              0.1111111111111111,
              "#46039f"
             ],
             [
              0.2222222222222222,
              "#7201a8"
             ],
             [
              0.3333333333333333,
              "#9c179e"
             ],
             [
              0.4444444444444444,
              "#bd3786"
             ],
             [
              0.5555555555555556,
              "#d8576b"
             ],
             [
              0.6666666666666666,
              "#ed7953"
             ],
             [
              0.7777777777777778,
              "#fb9f3a"
             ],
             [
              0.8888888888888888,
              "#fdca26"
             ],
             [
              1,
              "#f0f921"
             ]
            ],
            "type": "contour"
           }
          ],
          "contourcarpet": [
           {
            "colorbar": {
             "outlinewidth": 0,
             "ticks": ""
            },
            "type": "contourcarpet"
           }
          ],
          "heatmap": [
           {
            "colorbar": {
             "outlinewidth": 0,
             "ticks": ""
            },
            "colorscale": [
             [
              0,
              "#0d0887"
             ],
             [
              0.1111111111111111,
              "#46039f"
             ],
             [
              0.2222222222222222,
              "#7201a8"
             ],
             [
              0.3333333333333333,
              "#9c179e"
             ],
             [
              0.4444444444444444,
              "#bd3786"
             ],
             [
              0.5555555555555556,
              "#d8576b"
             ],
             [
              0.6666666666666666,
              "#ed7953"
             ],
             [
              0.7777777777777778,
              "#fb9f3a"
             ],
             [
              0.8888888888888888,
              "#fdca26"
             ],
             [
              1,
              "#f0f921"
             ]
            ],
            "type": "heatmap"
           }
          ],
          "histogram": [
           {
            "marker": {
             "pattern": {
              "fillmode": "overlay",
              "size": 10,
              "solidity": 0.2
             }
            },
            "type": "histogram"
           }
          ],
          "histogram2d": [
           {
            "colorbar": {
             "outlinewidth": 0,
             "ticks": ""
            },
            "colorscale": [
             [
              0,
              "#0d0887"
             ],
             [
              0.1111111111111111,
              "#46039f"
             ],
             [
              0.2222222222222222,
              "#7201a8"
             ],
             [
              0.3333333333333333,
              "#9c179e"
             ],
             [
              0.4444444444444444,
              "#bd3786"
             ],
             [
              0.5555555555555556,
              "#d8576b"
             ],
             [
              0.6666666666666666,
              "#ed7953"
             ],
             [
              0.7777777777777778,
              "#fb9f3a"
             ],
             [
              0.8888888888888888,
              "#fdca26"
             ],
             [
              1,
              "#f0f921"
             ]
            ],
            "type": "histogram2d"
           }
          ],
          "histogram2dcontour": [
           {
            "colorbar": {
             "outlinewidth": 0,
             "ticks": ""
            },
            "colorscale": [
             [
              0,
              "#0d0887"
             ],
             [
              0.1111111111111111,
              "#46039f"
             ],
             [
              0.2222222222222222,
              "#7201a8"
             ],
             [
              0.3333333333333333,
              "#9c179e"
             ],
             [
              0.4444444444444444,
              "#bd3786"
             ],
             [
              0.5555555555555556,
              "#d8576b"
             ],
             [
              0.6666666666666666,
              "#ed7953"
             ],
             [
              0.7777777777777778,
              "#fb9f3a"
             ],
             [
              0.8888888888888888,
              "#fdca26"
             ],
             [
              1,
              "#f0f921"
             ]
            ],
            "type": "histogram2dcontour"
           }
          ],
          "mesh3d": [
           {
            "colorbar": {
             "outlinewidth": 0,
             "ticks": ""
            },
            "type": "mesh3d"
           }
          ],
          "parcoords": [
           {
            "line": {
             "colorbar": {
              "outlinewidth": 0,
              "ticks": ""
             }
            },
            "type": "parcoords"
           }
          ],
          "pie": [
           {
            "automargin": true,
            "type": "pie"
           }
          ],
          "scatter": [
           {
            "fillpattern": {
             "fillmode": "overlay",
             "size": 10,
             "solidity": 0.2
            },
            "type": "scatter"
           }
          ],
          "scatter3d": [
           {
            "line": {
             "colorbar": {
              "outlinewidth": 0,
              "ticks": ""
             }
            },
            "marker": {
             "colorbar": {
              "outlinewidth": 0,
              "ticks": ""
             }
            },
            "type": "scatter3d"
           }
          ],
          "scattercarpet": [
           {
            "marker": {
             "colorbar": {
              "outlinewidth": 0,
              "ticks": ""
             }
            },
            "type": "scattercarpet"
           }
          ],
          "scattergeo": [
           {
            "marker": {
             "colorbar": {
              "outlinewidth": 0,
              "ticks": ""
             }
            },
            "type": "scattergeo"
           }
          ],
          "scattergl": [
           {
            "marker": {
             "colorbar": {
              "outlinewidth": 0,
              "ticks": ""
             }
            },
            "type": "scattergl"
           }
          ],
          "scattermap": [
           {
            "marker": {
             "colorbar": {
              "outlinewidth": 0,
              "ticks": ""
             }
            },
            "type": "scattermap"
           }
          ],
          "scattermapbox": [
           {
            "marker": {
             "colorbar": {
              "outlinewidth": 0,
              "ticks": ""
             }
            },
            "type": "scattermapbox"
           }
          ],
          "scatterpolar": [
           {
            "marker": {
             "colorbar": {
              "outlinewidth": 0,
              "ticks": ""
             }
            },
            "type": "scatterpolar"
           }
          ],
          "scatterpolargl": [
           {
            "marker": {
             "colorbar": {
              "outlinewidth": 0,
              "ticks": ""
             }
            },
            "type": "scatterpolargl"
           }
          ],
          "scatterternary": [
           {
            "marker": {
             "colorbar": {
              "outlinewidth": 0,
              "ticks": ""
             }
            },
            "type": "scatterternary"
           }
          ],
          "surface": [
           {
            "colorbar": {
             "outlinewidth": 0,
             "ticks": ""
            },
            "colorscale": [
             [
              0,
              "#0d0887"
             ],
             [
              0.1111111111111111,
              "#46039f"
             ],
             [
              0.2222222222222222,
              "#7201a8"
             ],
             [
              0.3333333333333333,
              "#9c179e"
             ],
             [
              0.4444444444444444,
              "#bd3786"
             ],
             [
              0.5555555555555556,
              "#d8576b"
             ],
             [
              0.6666666666666666,
              "#ed7953"
             ],
             [
              0.7777777777777778,
              "#fb9f3a"
             ],
             [
              0.8888888888888888,
              "#fdca26"
             ],
             [
              1,
              "#f0f921"
             ]
            ],
            "type": "surface"
           }
          ],
          "table": [
           {
            "cells": {
             "fill": {
              "color": "#EBF0F8"
             },
             "line": {
              "color": "white"
             }
            },
            "header": {
             "fill": {
              "color": "#C8D4E3"
             },
             "line": {
              "color": "white"
             }
            },
            "type": "table"
           }
          ]
         },
         "layout": {
          "annotationdefaults": {
           "arrowcolor": "#2a3f5f",
           "arrowhead": 0,
           "arrowwidth": 1
          },
          "autotypenumbers": "strict",
          "coloraxis": {
           "colorbar": {
            "outlinewidth": 0,
            "ticks": ""
           }
          },
          "colorscale": {
           "diverging": [
            [
             0,
             "#8e0152"
            ],
            [
             0.1,
             "#c51b7d"
            ],
            [
             0.2,
             "#de77ae"
            ],
            [
             0.3,
             "#f1b6da"
            ],
            [
             0.4,
             "#fde0ef"
            ],
            [
             0.5,
             "#f7f7f7"
            ],
            [
             0.6,
             "#e6f5d0"
            ],
            [
             0.7,
             "#b8e186"
            ],
            [
             0.8,
             "#7fbc41"
            ],
            [
             0.9,
             "#4d9221"
            ],
            [
             1,
             "#276419"
            ]
           ],
           "sequential": [
            [
             0,
             "#0d0887"
            ],
            [
             0.1111111111111111,
             "#46039f"
            ],
            [
             0.2222222222222222,
             "#7201a8"
            ],
            [
             0.3333333333333333,
             "#9c179e"
            ],
            [
             0.4444444444444444,
             "#bd3786"
            ],
            [
             0.5555555555555556,
             "#d8576b"
            ],
            [
             0.6666666666666666,
             "#ed7953"
            ],
            [
             0.7777777777777778,
             "#fb9f3a"
            ],
            [
             0.8888888888888888,
             "#fdca26"
            ],
            [
             1,
             "#f0f921"
            ]
           ],
           "sequentialminus": [
            [
             0,
             "#0d0887"
            ],
            [
             0.1111111111111111,
             "#46039f"
            ],
            [
             0.2222222222222222,
             "#7201a8"
            ],
            [
             0.3333333333333333,
             "#9c179e"
            ],
            [
             0.4444444444444444,
             "#bd3786"
            ],
            [
             0.5555555555555556,
             "#d8576b"
            ],
            [
             0.6666666666666666,
             "#ed7953"
            ],
            [
             0.7777777777777778,
             "#fb9f3a"
            ],
            [
             0.8888888888888888,
             "#fdca26"
            ],
            [
             1,
             "#f0f921"
            ]
           ]
          },
          "colorway": [
           "#636efa",
           "#EF553B",
           "#00cc96",
           "#ab63fa",
           "#FFA15A",
           "#19d3f3",
           "#FF6692",
           "#B6E880",
           "#FF97FF",
           "#FECB52"
          ],
          "font": {
           "color": "#2a3f5f"
          },
          "geo": {
           "bgcolor": "white",
           "lakecolor": "white",
           "landcolor": "#E5ECF6",
           "showlakes": true,
           "showland": true,
           "subunitcolor": "white"
          },
          "hoverlabel": {
           "align": "left"
          },
          "hovermode": "closest",
          "mapbox": {
           "style": "light"
          },
          "paper_bgcolor": "white",
          "plot_bgcolor": "#E5ECF6",
          "polar": {
           "angularaxis": {
            "gridcolor": "white",
            "linecolor": "white",
            "ticks": ""
           },
           "bgcolor": "#E5ECF6",
           "radialaxis": {
            "gridcolor": "white",
            "linecolor": "white",
            "ticks": ""
           }
          },
          "scene": {
           "xaxis": {
            "backgroundcolor": "#E5ECF6",
            "gridcolor": "white",
            "gridwidth": 2,
            "linecolor": "white",
            "showbackground": true,
            "ticks": "",
            "zerolinecolor": "white"
           },
           "yaxis": {
            "backgroundcolor": "#E5ECF6",
            "gridcolor": "white",
            "gridwidth": 2,
            "linecolor": "white",
            "showbackground": true,
            "ticks": "",
            "zerolinecolor": "white"
           },
           "zaxis": {
            "backgroundcolor": "#E5ECF6",
            "gridcolor": "white",
            "gridwidth": 2,
            "linecolor": "white",
            "showbackground": true,
            "ticks": "",
            "zerolinecolor": "white"
           }
          },
          "shapedefaults": {
           "line": {
            "color": "#2a3f5f"
           }
          },
          "ternary": {
           "aaxis": {
            "gridcolor": "white",
            "linecolor": "white",
            "ticks": ""
           },
           "baxis": {
            "gridcolor": "white",
            "linecolor": "white",
            "ticks": ""
           },
           "bgcolor": "#E5ECF6",
           "caxis": {
            "gridcolor": "white",
            "linecolor": "white",
            "ticks": ""
           }
          },
          "title": {
           "x": 0.05
          },
          "xaxis": {
           "automargin": true,
           "gridcolor": "white",
           "linecolor": "white",
           "ticks": "",
           "title": {
            "standoff": 15
           },
           "zerolinecolor": "white",
           "zerolinewidth": 2
          },
          "yaxis": {
           "automargin": true,
           "gridcolor": "white",
           "linecolor": "white",
           "ticks": "",
           "title": {
            "standoff": 15
           },
           "zerolinecolor": "white",
           "zerolinewidth": 2
          }
         }
        },
        "title": {
         "text": "Анализ статистических тестов с трешолдом: Pareto vs Gamma (α=0.05, n=100, iter=500)",
         "x": 0.5
        },
        "width": 1300,
        "xaxis": {
         "anchor": "y",
         "domain": [
          0,
          0.45
         ],
         "title": {
          "text": "Значение метрики"
         }
        },
        "xaxis2": {
         "anchor": "y2",
         "domain": [
          0.55,
          1
         ],
         "title": {
          "text": "Значение метрики"
         }
        },
        "xaxis3": {
         "anchor": "y3",
         "domain": [
          0,
          0.45
         ],
         "title": {
          "text": "Ложноположительная частота (FPR)"
         }
        },
        "xaxis4": {
         "anchor": "y4",
         "domain": [
          0.55,
          1
         ],
         "title": {
          "text": "Ложноположительная частота (FPR)"
         }
        },
        "yaxis": {
         "anchor": "x",
         "domain": [
          0.56,
          1
         ],
         "title": {
          "text": "Плотность вероятности"
         }
        },
        "yaxis2": {
         "anchor": "x2",
         "domain": [
          0.56,
          1
         ],
         "title": {
          "text": "Плотность вероятности"
         }
        },
        "yaxis3": {
         "anchor": "x3",
         "domain": [
          0,
          0.44
         ],
         "title": {
          "text": "Мощность (TPR)"
         }
        },
        "yaxis4": {
         "anchor": "x4",
         "domain": [
          0,
          0.44
         ],
         "title": {
          "text": "Мощность (TPR)"
         }
        }
       }
      }
     },
     "metadata": {},
     "output_type": "display_data"
    }
   ],
   "source": [
    "fig = make_subplots(\n",
    "    rows=2,\n",
    "    cols=2,\n",
    "    subplot_titles=(\n",
    "        \"Количество компонент связности: Распределения и трешолд\",\n",
    "        \"Хроматическое число: Распределения и трешолд\",\n",
    "        \"KNN: ROC-подобная кривая\",\n",
    "        \"Distance: ROC-подобная кривая\",\n",
    "    ),\n",
    "    specs=[\n",
    "        [{\"secondary_y\": False}, {\"secondary_y\": False}],\n",
    "        [{\"secondary_y\": False}, {\"secondary_y\": False}],\n",
    "    ],\n",
    "    vertical_spacing=0.12,\n",
    "    horizontal_spacing=0.1,\n",
    ")\n",
    "\n",
    "fig.add_trace(\n",
    "    go.Histogram(\n",
    "        x=knn_f_two,\n",
    "        name=\"KNN Pareto (H0)\",\n",
    "        opacity=0.7,\n",
    "        nbinsx=30,\n",
    "        marker_color=\"blue\",\n",
    "        histnorm=\"probability density\",\n",
    "    ),\n",
    "    row=1,\n",
    "    col=1,\n",
    ")\n",
    "\n",
    "fig.add_trace(\n",
    "    go.Histogram(\n",
    "        x=knn_h_two,\n",
    "        name=\"KNN Gamma (H1)\",\n",
    "        opacity=0.7,\n",
    "        nbinsx=30,\n",
    "        marker_color=\"red\",\n",
    "        histnorm=\"probability density\",\n",
    "    ),\n",
    "    row=1,\n",
    "    col=1,\n",
    ")\n",
    "\n",
    "fig.add_vline(\n",
    "    x=knn_thr,\n",
    "    line=dict(color=\"green\", width=3, dash=\"dash\"),\n",
    "    annotation_text=f\"Трешолд: {knn_thr:.3f}\",\n",
    "    row=1,\n",
    "    col=1,\n",
    ")\n",
    "\n",
    "fig.add_trace(\n",
    "    go.Histogram(\n",
    "        x=dist_f_two,\n",
    "        name=\"Distance Pareto (H0)\",\n",
    "        opacity=0.7,\n",
    "        nbinsx=30,\n",
    "        marker_color=\"lightblue\",\n",
    "        histnorm=\"probability density\",\n",
    "        showlegend=False,\n",
    "    ),\n",
    "    row=1,\n",
    "    col=2,\n",
    ")\n",
    "\n",
    "fig.add_trace(\n",
    "    go.Histogram(\n",
    "        x=dist_h_two,\n",
    "        name=\"Distance Gamma (H1)\",\n",
    "        opacity=0.7,\n",
    "        nbinsx=30,\n",
    "        marker_color=\"orange\",\n",
    "        histnorm=\"probability density\",\n",
    "        showlegend=False,\n",
    "    ),\n",
    "    row=1,\n",
    "    col=2,\n",
    ")\n",
    "\n",
    "fig.add_vline(\n",
    "    x=dist_thr,\n",
    "    line=dict(color=\"green\", width=3, dash=\"dash\"),\n",
    "    annotation_text=f\"Трешолд: {dist_thr:.3f}\",\n",
    "    row=1,\n",
    "    col=2,\n",
    ")\n",
    "\n",
    "thresholds_knn: np.ndarray = np.linspace(min(knn_f_two), max(knn_f_two), 50)\n",
    "power_knn: List[float] = [\n",
    "    sum(np.array(knn_h_two) > thr) / len(knn_h_two) for thr in thresholds_knn\n",
    "]\n",
    "fpr_knn: List[float] = [\n",
    "    sum(np.array(knn_f_two) > thr) / len(knn_f_two) for thr in thresholds_knn\n",
    "]\n",
    "\n",
    "fig.add_trace(\n",
    "    go.Scatter(\n",
    "        x=fpr_knn,\n",
    "        y=power_knn,\n",
    "        mode=\"lines+markers\",\n",
    "        name=\"KNN ROC\",\n",
    "        line=dict(color=\"purple\", width=2),\n",
    "        marker=dict(size=4),\n",
    "        showlegend=False,\n",
    "    ),\n",
    "    row=2,\n",
    "    col=1,\n",
    ")\n",
    "\n",
    "current_fpr_knn: float = sum(np.array(knn_f_two) > knn_thr) / len(knn_f_two)\n",
    "current_power_knn: float = sum(np.array(knn_h_two) > knn_thr) / len(knn_h_two)\n",
    "fig.add_trace(\n",
    "    go.Scatter(\n",
    "        x=[current_fpr_knn],\n",
    "        y=[current_power_knn],\n",
    "        mode=\"markers\",\n",
    "        marker=dict(size=12, color=\"red\", symbol=\"star\"),\n",
    "        name=f\"α={a}\",\n",
    "        showlegend=False,\n",
    "    ),\n",
    "    row=2,\n",
    "    col=1,\n",
    ")\n",
    "\n",
    "thresholds_dist: np.ndarray = np.linspace(min(dist_f_two), max(dist_f_two), 50)\n",
    "power_dist: List[float] = [\n",
    "    sum(np.array(dist_h_two) > thr) / len(dist_h_two) for thr in thresholds_dist\n",
    "]\n",
    "fpr_dist: List[float] = [\n",
    "    sum(np.array(dist_f_two) > thr) / len(dist_f_two) for thr in thresholds_dist\n",
    "]\n",
    "\n",
    "fig.add_trace(\n",
    "    go.Scatter(\n",
    "        x=fpr_dist,\n",
    "        y=power_dist,\n",
    "        mode=\"lines+markers\",\n",
    "        name=\"Distance ROC\",\n",
    "        line=dict(color=\"darkgreen\", width=2),\n",
    "        marker=dict(size=4),\n",
    "        showlegend=False,\n",
    "    ),\n",
    "    row=2,\n",
    "    col=2,\n",
    ")\n",
    "\n",
    "current_fpr_dist: float = sum(np.array(dist_f_two) > dist_thr) / len(dist_f_two)\n",
    "current_power_dist: float = sum(np.array(dist_h_two) > dist_thr) / len(dist_h_two)\n",
    "fig.add_trace(\n",
    "    go.Scatter(\n",
    "        x=[current_fpr_dist],\n",
    "        y=[current_power_dist],\n",
    "        mode=\"markers\",\n",
    "        marker=dict(size=12, color=\"red\", symbol=\"star\"),\n",
    "        name=f\"α={a}\",\n",
    "        showlegend=False,\n",
    "    ),\n",
    "    row=2,\n",
    "    col=2,\n",
    ")\n",
    "\n",
    "fig.update_xaxes(title_text=\"Значение метрики\", row=1, col=1)\n",
    "fig.update_xaxes(title_text=\"Значение метрики\", row=1, col=2)\n",
    "fig.update_xaxes(title_text=\"Ложноположительная частота (FPR)\", row=2, col=1)\n",
    "fig.update_xaxes(title_text=\"Ложноположительная частота (FPR)\", row=2, col=2)\n",
    "\n",
    "fig.update_yaxes(title_text=\"Плотность вероятности\", row=1, col=1)\n",
    "fig.update_yaxes(title_text=\"Плотность вероятности\", row=1, col=2)\n",
    "fig.update_yaxes(title_text=\"Мощность (TPR)\", row=2, col=1)\n",
    "fig.update_yaxes(title_text=\"Мощность (TPR)\", row=2, col=2)\n",
    "\n",
    "fig.update_layout(\n",
    "    title_text=f\"Анализ статистических тестов с трешолдом: Pareto vs Gamma (α={a}, n={n}, iter={mc_iter})\",\n",
    "    title_x=0.5,\n",
    "    width=1300,\n",
    "    height=800,\n",
    "    showlegend=True,\n",
    "    legend=dict(yanchor=\"top\", y=0.98, xanchor=\"left\", x=0.01),\n",
    ")\n",
    "\n",
    "fig.show()"
   ]
  },
  {
   "cell_type": "code",
   "execution_count": null,
   "id": "58cd6fff",
   "metadata": {},
   "outputs": [],
   "source": []
  }
 ],
 "metadata": {
  "kernelspec": {
   "display_name": "venv",
   "language": "python",
   "name": "python3"
  },
  "language_info": {
   "codemirror_mode": {
    "name": "ipython",
    "version": 3
   },
   "file_extension": ".py",
   "mimetype": "text/x-python",
   "name": "python",
   "nbconvert_exporter": "python",
   "pygments_lexer": "ipython3",
   "version": "3.13.3"
  }
 },
 "nbformat": 4,
 "nbformat_minor": 5
}
