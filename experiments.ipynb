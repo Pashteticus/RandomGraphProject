{
 "cells": [
  {
   "cell_type": "code",
   "execution_count": 1,
   "id": "fa1a9d25",
   "metadata": {},
   "outputs": [],
   "source": [
    "import numpy as np\n",
    "from typing import List\n",
    "from src.data import Generator\n",
    "from src.graph.knn import GraphKnn\n",
    "from src.graph.dist import GraphDist\n",
    "import plotly.graph_objects as go\n",
    "from plotly.subplots import make_subplots\n",
    "from tqdm.auto import tqdm"
   ]
  },
  {
   "cell_type": "code",
   "execution_count": 2,
   "id": "e3dca97c",
   "metadata": {},
   "outputs": [
    {
     "data": {
      "application/vnd.jupyter.widget-view+json": {
       "model_id": "e9f1d5dd8f974da9bfa51dbcf1fd065d",
       "version_major": 2,
       "version_minor": 0
      },
      "text/plain": [
       "  0%|          | 0/50 [00:00<?, ?it/s]"
      ]
     },
     "metadata": {},
     "output_type": "display_data"
    }
   ],
   "source": [
    "n: int = 500\n",
    "cnt: int = 50\n",
    "v: np.ndarray = np.linspace(0.01, 2, cnt)\n",
    "alpha: np.ndarray = np.linspace(0.01, 2, cnt)\n",
    "mc_iter: int = 20\n",
    "\n",
    "knn_f: List[float] = []\n",
    "knn_h: List[float] = []\n",
    "dist_f: List[float] = []\n",
    "dist_h: List[float] = []\n",
    "for i in tqdm(range(cnt)):\n",
    "    gen: Generator = Generator(v[i], alpha[i], size=n)\n",
    "    knn_f.append(np.mean([GraphKnn(gen.get_f()).calc_metric() for _ in range(mc_iter)]))\n",
    "    knn_h.append(np.mean([GraphKnn(gen.get_h()).calc_metric() for _ in range(mc_iter)]))\n",
    "\n",
    "    dist_f.append(\n",
    "        np.mean([GraphDist(gen.get_f()).calc_metric() for _ in range(mc_iter)])\n",
    "    )\n",
    "    dist_h.append(\n",
    "        np.mean([GraphDist(gen.get_h()).calc_metric() for _ in range(mc_iter)])\n",
    "    )\n"
   ]
  },
  {
   "cell_type": "code",
   "execution_count": 3,
   "id": "23fb600d",
   "metadata": {},
   "outputs": [
    {
     "data": {
      "application/vnd.plotly.v1+json": {
       "config": {
        "plotlyServerURL": "https://plot.ly"
       },
       "data": [
        {
         "line": {
          "color": "blue",
          "width": 2
         },
         "marker": {
          "size": 4
         },
         "mode": "lines+markers",
         "name": "KNN f",
         "type": "scatter",
         "x": {
          "bdata": "exSuR+F6hD8pTjoh2empP5mLRPh8Wrc/D/j1rwbgwD9SqsnjzhLGP5RcnReXRcs/a4e4pS880D+NYKK/k9XSP645jNn3btU/zxJ281sI2D/w618NwKHaPxLFSSckO90/M54zQYjU3z+qu44t9jbhPzuogzqog+I/y5R4R1rQ4z9cgW1UDB3lP+1tYmG+aeY/fVpXbnC25z8OR0x7IgPpP54zQYjUT+o/LyA2lYac6z/ADCuiOOnsP1D5H6/qNe4/4eUUvJyC7z856YRkp2fwP4Ff/2oADvE/ydV5cVm08T8STPR3slryP1rCbn4LAfM/ojjphGSn8z/rrmOLvU30PzMl3pEW9PQ/e5tYmG+a9T/EEdOeyED2PwyITaUh5/Y/VP7Hq3qN9z+ddEKy0zP4P+XqvLgs2vg/LWE3v4WA+T9117HF3ib6P75NLMw3zfo/BsSm0pBz+z9OOiHZ6Rn8P5ewm99CwPw/3yYW5ptm/T8nnZDs9Az+P3ATC/NNs/4/uImF+aZZ/z8AAAAAAAAAQA==",
          "dtype": "f8"
         },
         "xaxis": "x",
         "y": [
          0.95,
          0.95,
          0.95,
          0.95,
          0.95,
          0.95,
          0.95,
          0.95,
          0.95,
          0.95,
          0.95,
          0.95,
          0.95,
          0.95,
          0.95,
          0.95,
          0.95,
          0.95,
          0.95,
          0.95,
          0.95,
          0.95,
          0.95,
          0.95,
          0.95,
          0.95,
          0.95,
          0.95,
          0.95,
          0.95,
          0.95,
          0.95,
          0.95,
          0.95,
          0.95,
          0.95,
          0.95,
          0.95,
          0.95,
          0.95,
          0.95,
          0.95,
          0.95,
          0.95,
          0.95,
          0.95,
          0.95,
          0.95,
          0.95,
          0.95
         ],
         "yaxis": "y"
        },
        {
         "line": {
          "color": "red",
          "width": 2
         },
         "marker": {
          "size": 4
         },
         "mode": "lines+markers",
         "name": "KNN h",
         "type": "scatter",
         "x": {
          "bdata": "exSuR+F6hD8pTjoh2empP5mLRPh8Wrc/D/j1rwbgwD9SqsnjzhLGP5RcnReXRcs/a4e4pS880D+NYKK/k9XSP645jNn3btU/zxJ281sI2D/w618NwKHaPxLFSSckO90/M54zQYjU3z+qu44t9jbhPzuogzqog+I/y5R4R1rQ4z9cgW1UDB3lP+1tYmG+aeY/fVpXbnC25z8OR0x7IgPpP54zQYjUT+o/LyA2lYac6z/ADCuiOOnsP1D5H6/qNe4/4eUUvJyC7z856YRkp2fwP4Ff/2oADvE/ydV5cVm08T8STPR3slryP1rCbn4LAfM/ojjphGSn8z/rrmOLvU30PzMl3pEW9PQ/e5tYmG+a9T/EEdOeyED2PwyITaUh5/Y/VP7Hq3qN9z+ddEKy0zP4P+XqvLgs2vg/LWE3v4WA+T9117HF3ib6P75NLMw3zfo/BsSm0pBz+z9OOiHZ6Rn8P5ewm99CwPw/3yYW5ptm/T8nnZDs9Az+P3ATC/NNs/4/uImF+aZZ/z8AAAAAAAAAQA==",
          "dtype": "f8"
         },
         "xaxis": "x",
         "y": [
          0.65,
          1.5,
          1.35,
          1.7,
          1.2,
          1.2,
          1.3,
          0.7,
          0.85,
          1.3,
          1.15,
          1.25,
          1.25,
          1.5,
          1.25,
          1.4,
          1.35,
          1.1,
          1.3,
          1.25,
          1.15,
          0.85,
          1.35,
          0.9,
          1.1,
          1,
          1.05,
          1.2,
          1.25,
          0.9,
          0.9,
          0.95,
          1,
          0.9,
          1.15,
          1.05,
          1,
          1.05,
          1,
          1.35,
          1.7,
          1.95,
          1.9,
          1.6,
          1.5,
          1.75,
          1.5,
          1.85,
          1.6,
          1
         ],
         "yaxis": "y"
        },
        {
         "line": {
          "color": "green",
          "width": 2
         },
         "marker": {
          "size": 4
         },
         "mode": "lines+markers",
         "name": "Distance f",
         "showlegend": true,
         "type": "scatter",
         "x": {
          "bdata": "exSuR+F6hD8pTjoh2empP5mLRPh8Wrc/D/j1rwbgwD9SqsnjzhLGP5RcnReXRcs/a4e4pS880D+NYKK/k9XSP645jNn3btU/zxJ281sI2D/w618NwKHaPxLFSSckO90/M54zQYjU3z+qu44t9jbhPzuogzqog+I/y5R4R1rQ4z9cgW1UDB3lP+1tYmG+aeY/fVpXbnC25z8OR0x7IgPpP54zQYjUT+o/LyA2lYac6z/ADCuiOOnsP1D5H6/qNe4/4eUUvJyC7z856YRkp2fwP4Ff/2oADvE/ydV5cVm08T8STPR3slryP1rCbn4LAfM/ojjphGSn8z/rrmOLvU30PzMl3pEW9PQ/e5tYmG+a9T/EEdOeyED2PwyITaUh5/Y/VP7Hq3qN9z+ddEKy0zP4P+XqvLgs2vg/LWE3v4WA+T9117HF3ib6P75NLMw3zfo/BsSm0pBz+z9OOiHZ6Rn8P5ewm99CwPw/3yYW5ptm/T8nnZDs9Az+P3ATC/NNs/4/uImF+aZZ/z8AAAAAAAAAQA==",
          "dtype": "f8"
         },
         "xaxis": "x2",
         "y": [
          1,
          1,
          1.95,
          2.05,
          2.8,
          3.15,
          3.9,
          4.1,
          4.65,
          5.15,
          5.8,
          6.25,
          6.65,
          7.15,
          7.55,
          8.2,
          8.55,
          8.95,
          9.45,
          9.95,
          10.3,
          10.8,
          11.25,
          11.75,
          12.15,
          12.45,
          12.9,
          13.35,
          13.8,
          14.2,
          14.5,
          15.05,
          15.5,
          16.1,
          16.55,
          16.9,
          16.8,
          17.65,
          18,
          18.4,
          18.6,
          19.2,
          19.65,
          20.25,
          20.5,
          21.25,
          21.65,
          21.9,
          22.2,
          22.6
         ],
         "yaxis": "y2"
        },
        {
         "line": {
          "color": "orange",
          "width": 2
         },
         "marker": {
          "size": 4
         },
         "mode": "lines+markers",
         "name": "Distance h",
         "showlegend": true,
         "type": "scatter",
         "x": {
          "bdata": "exSuR+F6hD8pTjoh2empP5mLRPh8Wrc/D/j1rwbgwD9SqsnjzhLGP5RcnReXRcs/a4e4pS880D+NYKK/k9XSP645jNn3btU/zxJ281sI2D/w618NwKHaPxLFSSckO90/M54zQYjU3z+qu44t9jbhPzuogzqog+I/y5R4R1rQ4z9cgW1UDB3lP+1tYmG+aeY/fVpXbnC25z8OR0x7IgPpP54zQYjUT+o/LyA2lYac6z/ADCuiOOnsP1D5H6/qNe4/4eUUvJyC7z856YRkp2fwP4Ff/2oADvE/ydV5cVm08T8STPR3slryP1rCbn4LAfM/ojjphGSn8z/rrmOLvU30PzMl3pEW9PQ/e5tYmG+a9T/EEdOeyED2PwyITaUh5/Y/VP7Hq3qN9z+ddEKy0zP4P+XqvLgs2vg/LWE3v4WA+T9117HF3ib6P75NLMw3zfo/BsSm0pBz+z9OOiHZ6Rn8P5ewm99CwPw/3yYW5ptm/T8nnZDs9Az+P3ATC/NNs/4/uImF+aZZ/z8AAAAAAAAAQA==",
          "dtype": "f8"
         },
         "xaxis": "x2",
         "y": [
          469.55,
          415.25,
          354.75,
          305.65,
          265.2,
          230.4,
          206.9,
          182.55,
          165.65,
          147.9,
          135.75,
          124.25,
          113.65,
          103.1,
          98,
          91.55,
          84.3,
          80.65,
          76.75,
          72.4,
          69.2,
          65.75,
          63,
          59.7,
          56.6,
          54.3,
          52.7,
          51.65,
          49.2,
          46.4,
          45.1,
          44.05,
          43.2,
          41.05,
          39.7,
          39.15,
          38.8,
          37,
          36.1,
          35.05,
          34.8,
          34.45,
          33.3,
          32.95,
          32.25,
          31.95,
          31.45,
          30.75,
          30.5,
          28.8
         ],
         "yaxis": "y2"
        }
       ],
       "layout": {
        "annotations": [
         {
          "font": {
           "size": 16
          },
          "showarrow": false,
          "text": "KNN Metric",
          "x": 0.225,
          "xanchor": "center",
          "xref": "paper",
          "y": 1,
          "yanchor": "bottom",
          "yref": "paper"
         },
         {
          "font": {
           "size": 16
          },
          "showarrow": false,
          "text": "Distance Metric",
          "x": 0.775,
          "xanchor": "center",
          "xref": "paper",
          "y": 1,
          "yanchor": "bottom",
          "yref": "paper"
         }
        ],
        "height": 600,
        "legend": {
         "x": 0.01,
         "xanchor": "left",
         "y": 0.99,
         "yanchor": "top"
        },
        "template": {
         "data": {
          "bar": [
           {
            "error_x": {
             "color": "#2a3f5f"
            },
            "error_y": {
             "color": "#2a3f5f"
            },
            "marker": {
             "line": {
              "color": "#E5ECF6",
              "width": 0.5
             },
             "pattern": {
              "fillmode": "overlay",
              "size": 10,
              "solidity": 0.2
             }
            },
            "type": "bar"
           }
          ],
          "barpolar": [
           {
            "marker": {
             "line": {
              "color": "#E5ECF6",
              "width": 0.5
             },
             "pattern": {
              "fillmode": "overlay",
              "size": 10,
              "solidity": 0.2
             }
            },
            "type": "barpolar"
           }
          ],
          "carpet": [
           {
            "aaxis": {
             "endlinecolor": "#2a3f5f",
             "gridcolor": "white",
             "linecolor": "white",
             "minorgridcolor": "white",
             "startlinecolor": "#2a3f5f"
            },
            "baxis": {
             "endlinecolor": "#2a3f5f",
             "gridcolor": "white",
             "linecolor": "white",
             "minorgridcolor": "white",
             "startlinecolor": "#2a3f5f"
            },
            "type": "carpet"
           }
          ],
          "choropleth": [
           {
            "colorbar": {
             "outlinewidth": 0,
             "ticks": ""
            },
            "type": "choropleth"
           }
          ],
          "contour": [
           {
            "colorbar": {
             "outlinewidth": 0,
             "ticks": ""
            },
            "colorscale": [
             [
              0,
              "#0d0887"
             ],
             [
              0.1111111111111111,
              "#46039f"
             ],
             [
              0.2222222222222222,
              "#7201a8"
             ],
             [
              0.3333333333333333,
              "#9c179e"
             ],
             [
              0.4444444444444444,
              "#bd3786"
             ],
             [
              0.5555555555555556,
              "#d8576b"
             ],
             [
              0.6666666666666666,
              "#ed7953"
             ],
             [
              0.7777777777777778,
              "#fb9f3a"
             ],
             [
              0.8888888888888888,
              "#fdca26"
             ],
             [
              1,
              "#f0f921"
             ]
            ],
            "type": "contour"
           }
          ],
          "contourcarpet": [
           {
            "colorbar": {
             "outlinewidth": 0,
             "ticks": ""
            },
            "type": "contourcarpet"
           }
          ],
          "heatmap": [
           {
            "colorbar": {
             "outlinewidth": 0,
             "ticks": ""
            },
            "colorscale": [
             [
              0,
              "#0d0887"
             ],
             [
              0.1111111111111111,
              "#46039f"
             ],
             [
              0.2222222222222222,
              "#7201a8"
             ],
             [
              0.3333333333333333,
              "#9c179e"
             ],
             [
              0.4444444444444444,
              "#bd3786"
             ],
             [
              0.5555555555555556,
              "#d8576b"
             ],
             [
              0.6666666666666666,
              "#ed7953"
             ],
             [
              0.7777777777777778,
              "#fb9f3a"
             ],
             [
              0.8888888888888888,
              "#fdca26"
             ],
             [
              1,
              "#f0f921"
             ]
            ],
            "type": "heatmap"
           }
          ],
          "histogram": [
           {
            "marker": {
             "pattern": {
              "fillmode": "overlay",
              "size": 10,
              "solidity": 0.2
             }
            },
            "type": "histogram"
           }
          ],
          "histogram2d": [
           {
            "colorbar": {
             "outlinewidth": 0,
             "ticks": ""
            },
            "colorscale": [
             [
              0,
              "#0d0887"
             ],
             [
              0.1111111111111111,
              "#46039f"
             ],
             [
              0.2222222222222222,
              "#7201a8"
             ],
             [
              0.3333333333333333,
              "#9c179e"
             ],
             [
              0.4444444444444444,
              "#bd3786"
             ],
             [
              0.5555555555555556,
              "#d8576b"
             ],
             [
              0.6666666666666666,
              "#ed7953"
             ],
             [
              0.7777777777777778,
              "#fb9f3a"
             ],
             [
              0.8888888888888888,
              "#fdca26"
             ],
             [
              1,
              "#f0f921"
             ]
            ],
            "type": "histogram2d"
           }
          ],
          "histogram2dcontour": [
           {
            "colorbar": {
             "outlinewidth": 0,
             "ticks": ""
            },
            "colorscale": [
             [
              0,
              "#0d0887"
             ],
             [
              0.1111111111111111,
              "#46039f"
             ],
             [
              0.2222222222222222,
              "#7201a8"
             ],
             [
              0.3333333333333333,
              "#9c179e"
             ],
             [
              0.4444444444444444,
              "#bd3786"
             ],
             [
              0.5555555555555556,
              "#d8576b"
             ],
             [
              0.6666666666666666,
              "#ed7953"
             ],
             [
              0.7777777777777778,
              "#fb9f3a"
             ],
             [
              0.8888888888888888,
              "#fdca26"
             ],
             [
              1,
              "#f0f921"
             ]
            ],
            "type": "histogram2dcontour"
           }
          ],
          "mesh3d": [
           {
            "colorbar": {
             "outlinewidth": 0,
             "ticks": ""
            },
            "type": "mesh3d"
           }
          ],
          "parcoords": [
           {
            "line": {
             "colorbar": {
              "outlinewidth": 0,
              "ticks": ""
             }
            },
            "type": "parcoords"
           }
          ],
          "pie": [
           {
            "automargin": true,
            "type": "pie"
           }
          ],
          "scatter": [
           {
            "fillpattern": {
             "fillmode": "overlay",
             "size": 10,
             "solidity": 0.2
            },
            "type": "scatter"
           }
          ],
          "scatter3d": [
           {
            "line": {
             "colorbar": {
              "outlinewidth": 0,
              "ticks": ""
             }
            },
            "marker": {
             "colorbar": {
              "outlinewidth": 0,
              "ticks": ""
             }
            },
            "type": "scatter3d"
           }
          ],
          "scattercarpet": [
           {
            "marker": {
             "colorbar": {
              "outlinewidth": 0,
              "ticks": ""
             }
            },
            "type": "scattercarpet"
           }
          ],
          "scattergeo": [
           {
            "marker": {
             "colorbar": {
              "outlinewidth": 0,
              "ticks": ""
             }
            },
            "type": "scattergeo"
           }
          ],
          "scattergl": [
           {
            "marker": {
             "colorbar": {
              "outlinewidth": 0,
              "ticks": ""
             }
            },
            "type": "scattergl"
           }
          ],
          "scattermap": [
           {
            "marker": {
             "colorbar": {
              "outlinewidth": 0,
              "ticks": ""
             }
            },
            "type": "scattermap"
           }
          ],
          "scattermapbox": [
           {
            "marker": {
             "colorbar": {
              "outlinewidth": 0,
              "ticks": ""
             }
            },
            "type": "scattermapbox"
           }
          ],
          "scatterpolar": [
           {
            "marker": {
             "colorbar": {
              "outlinewidth": 0,
              "ticks": ""
             }
            },
            "type": "scatterpolar"
           }
          ],
          "scatterpolargl": [
           {
            "marker": {
             "colorbar": {
              "outlinewidth": 0,
              "ticks": ""
             }
            },
            "type": "scatterpolargl"
           }
          ],
          "scatterternary": [
           {
            "marker": {
             "colorbar": {
              "outlinewidth": 0,
              "ticks": ""
             }
            },
            "type": "scatterternary"
           }
          ],
          "surface": [
           {
            "colorbar": {
             "outlinewidth": 0,
             "ticks": ""
            },
            "colorscale": [
             [
              0,
              "#0d0887"
             ],
             [
              0.1111111111111111,
              "#46039f"
             ],
             [
              0.2222222222222222,
              "#7201a8"
             ],
             [
              0.3333333333333333,
              "#9c179e"
             ],
             [
              0.4444444444444444,
              "#bd3786"
             ],
             [
              0.5555555555555556,
              "#d8576b"
             ],
             [
              0.6666666666666666,
              "#ed7953"
             ],
             [
              0.7777777777777778,
              "#fb9f3a"
             ],
             [
              0.8888888888888888,
              "#fdca26"
             ],
             [
              1,
              "#f0f921"
             ]
            ],
            "type": "surface"
           }
          ],
          "table": [
           {
            "cells": {
             "fill": {
              "color": "#EBF0F8"
             },
             "line": {
              "color": "white"
             }
            },
            "header": {
             "fill": {
              "color": "#C8D4E3"
             },
             "line": {
              "color": "white"
             }
            },
            "type": "table"
           }
          ]
         },
         "layout": {
          "annotationdefaults": {
           "arrowcolor": "#2a3f5f",
           "arrowhead": 0,
           "arrowwidth": 1
          },
          "autotypenumbers": "strict",
          "coloraxis": {
           "colorbar": {
            "outlinewidth": 0,
            "ticks": ""
           }
          },
          "colorscale": {
           "diverging": [
            [
             0,
             "#8e0152"
            ],
            [
             0.1,
             "#c51b7d"
            ],
            [
             0.2,
             "#de77ae"
            ],
            [
             0.3,
             "#f1b6da"
            ],
            [
             0.4,
             "#fde0ef"
            ],
            [
             0.5,
             "#f7f7f7"
            ],
            [
             0.6,
             "#e6f5d0"
            ],
            [
             0.7,
             "#b8e186"
            ],
            [
             0.8,
             "#7fbc41"
            ],
            [
             0.9,
             "#4d9221"
            ],
            [
             1,
             "#276419"
            ]
           ],
           "sequential": [
            [
             0,
             "#0d0887"
            ],
            [
             0.1111111111111111,
             "#46039f"
            ],
            [
             0.2222222222222222,
             "#7201a8"
            ],
            [
             0.3333333333333333,
             "#9c179e"
            ],
            [
             0.4444444444444444,
             "#bd3786"
            ],
            [
             0.5555555555555556,
             "#d8576b"
            ],
            [
             0.6666666666666666,
             "#ed7953"
            ],
            [
             0.7777777777777778,
             "#fb9f3a"
            ],
            [
             0.8888888888888888,
             "#fdca26"
            ],
            [
             1,
             "#f0f921"
            ]
           ],
           "sequentialminus": [
            [
             0,
             "#0d0887"
            ],
            [
             0.1111111111111111,
             "#46039f"
            ],
            [
             0.2222222222222222,
             "#7201a8"
            ],
            [
             0.3333333333333333,
             "#9c179e"
            ],
            [
             0.4444444444444444,
             "#bd3786"
            ],
            [
             0.5555555555555556,
             "#d8576b"
            ],
            [
             0.6666666666666666,
             "#ed7953"
            ],
            [
             0.7777777777777778,
             "#fb9f3a"
            ],
            [
             0.8888888888888888,
             "#fdca26"
            ],
            [
             1,
             "#f0f921"
            ]
           ]
          },
          "colorway": [
           "#636efa",
           "#EF553B",
           "#00cc96",
           "#ab63fa",
           "#FFA15A",
           "#19d3f3",
           "#FF6692",
           "#B6E880",
           "#FF97FF",
           "#FECB52"
          ],
          "font": {
           "color": "#2a3f5f"
          },
          "geo": {
           "bgcolor": "white",
           "lakecolor": "white",
           "landcolor": "#E5ECF6",
           "showlakes": true,
           "showland": true,
           "subunitcolor": "white"
          },
          "hoverlabel": {
           "align": "left"
          },
          "hovermode": "closest",
          "mapbox": {
           "style": "light"
          },
          "paper_bgcolor": "white",
          "plot_bgcolor": "#E5ECF6",
          "polar": {
           "angularaxis": {
            "gridcolor": "white",
            "linecolor": "white",
            "ticks": ""
           },
           "bgcolor": "#E5ECF6",
           "radialaxis": {
            "gridcolor": "white",
            "linecolor": "white",
            "ticks": ""
           }
          },
          "scene": {
           "xaxis": {
            "backgroundcolor": "#E5ECF6",
            "gridcolor": "white",
            "gridwidth": 2,
            "linecolor": "white",
            "showbackground": true,
            "ticks": "",
            "zerolinecolor": "white"
           },
           "yaxis": {
            "backgroundcolor": "#E5ECF6",
            "gridcolor": "white",
            "gridwidth": 2,
            "linecolor": "white",
            "showbackground": true,
            "ticks": "",
            "zerolinecolor": "white"
           },
           "zaxis": {
            "backgroundcolor": "#E5ECF6",
            "gridcolor": "white",
            "gridwidth": 2,
            "linecolor": "white",
            "showbackground": true,
            "ticks": "",
            "zerolinecolor": "white"
           }
          },
          "shapedefaults": {
           "line": {
            "color": "#2a3f5f"
           }
          },
          "ternary": {
           "aaxis": {
            "gridcolor": "white",
            "linecolor": "white",
            "ticks": ""
           },
           "baxis": {
            "gridcolor": "white",
            "linecolor": "white",
            "ticks": ""
           },
           "bgcolor": "#E5ECF6",
           "caxis": {
            "gridcolor": "white",
            "linecolor": "white",
            "ticks": ""
           }
          },
          "title": {
           "x": 0.05
          },
          "xaxis": {
           "automargin": true,
           "gridcolor": "white",
           "linecolor": "white",
           "ticks": "",
           "title": {
            "standoff": 15
           },
           "zerolinecolor": "white",
           "zerolinewidth": 2
          },
          "yaxis": {
           "automargin": true,
           "gridcolor": "white",
           "linecolor": "white",
           "ticks": "",
           "title": {
            "standoff": 15
           },
           "zerolinecolor": "white",
           "zerolinewidth": 2
          }
         }
        },
        "title": {
         "text": "Сравнение метрик для графов: зависимость от v и α",
         "x": 0.5
        },
        "width": 1400,
        "xaxis": {
         "anchor": "y",
         "domain": [
          0,
          0.45
         ],
         "title": {
          "text": "v / α"
         }
        },
        "xaxis2": {
         "anchor": "y2",
         "domain": [
          0.55,
          1
         ],
         "title": {
          "text": "v / α"
         }
        },
        "yaxis": {
         "anchor": "x",
         "domain": [
          0,
          1
         ],
         "title": {
          "text": "KNN Metric"
         }
        },
        "yaxis2": {
         "anchor": "x2",
         "domain": [
          0,
          1
         ],
         "title": {
          "text": "Distance Metric"
         }
        }
       }
      }
     },
     "metadata": {},
     "output_type": "display_data"
    }
   ],
   "source": [
    "fig = make_subplots(\n",
    "    rows=1,\n",
    "    cols=2,\n",
    "    subplot_titles=(\"KNN Metric\", \"Distance Metric\"),\n",
    "    horizontal_spacing=0.1,\n",
    ")\n",
    "\n",
    "fig.add_trace(\n",
    "    go.Scatter(\n",
    "        x=v,\n",
    "        y=knn_f,\n",
    "        mode=\"lines+markers\",\n",
    "        name=\"KNN f\",\n",
    "        line=dict(color=\"blue\", width=2),\n",
    "        marker=dict(size=4),\n",
    "    ),\n",
    "    row=1,\n",
    "    col=1,\n",
    ")\n",
    "\n",
    "fig.add_trace(\n",
    "    go.Scatter(\n",
    "        x=v,\n",
    "        y=knn_h,\n",
    "        mode=\"lines+markers\",\n",
    "        name=\"KNN h\",\n",
    "        line=dict(color=\"red\", width=2),\n",
    "        marker=dict(size=4),\n",
    "    ),\n",
    "    row=1,\n",
    "    col=1,\n",
    ")\n",
    "\n",
    "fig.add_trace(\n",
    "    go.Scatter(\n",
    "        x=v,\n",
    "        y=dist_f,\n",
    "        mode=\"lines+markers\",\n",
    "        name=\"Distance f\",\n",
    "        line=dict(color=\"green\", width=2),\n",
    "        marker=dict(size=4),\n",
    "        showlegend=True,\n",
    "    ),\n",
    "    row=1,\n",
    "    col=2,\n",
    ")\n",
    "\n",
    "fig.add_trace(\n",
    "    go.Scatter(\n",
    "        x=v,\n",
    "        y=dist_h,\n",
    "        mode=\"lines+markers\",\n",
    "        name=\"Distance h\",\n",
    "        line=dict(color=\"orange\", width=2),\n",
    "        marker=dict(size=4),\n",
    "        showlegend=True,\n",
    "    ),\n",
    "    row=1,\n",
    "    col=2,\n",
    ")\n",
    "\n",
    "fig.update_xaxes(title_text=\"v / α\", row=1, col=1)\n",
    "fig.update_xaxes(title_text=\"v / α\", row=1, col=2)\n",
    "fig.update_yaxes(title_text=\"KNN Metric\", row=1, col=1)\n",
    "fig.update_yaxes(title_text=\"Distance Metric\", row=1, col=2)\n",
    "\n",
    "fig.update_layout(\n",
    "    title_text=\"Сравнение метрик для графов: зависимость от v и α\",\n",
    "    title_x=0.5,\n",
    "    width=1400,\n",
    "    height=600,\n",
    "    legend=dict(yanchor=\"top\", y=0.99, xanchor=\"left\", x=0.01),\n",
    ")\n",
    "\n",
    "fig.show()"
   ]
  },
  {
   "cell_type": "code",
   "execution_count": 4,
   "id": "22bce636",
   "metadata": {},
   "outputs": [
    {
     "data": {
      "application/vnd.jupyter.widget-view+json": {
       "model_id": "b0b5f96b70714bc28f3877e3f2097f8b",
       "version_major": 2,
       "version_minor": 0
      },
      "text/plain": [
       "  0%|          | 0/47 [00:00<?, ?it/s]"
      ]
     },
     "metadata": {},
     "output_type": "display_data"
    }
   ],
   "source": [
    "n: np.ndarray = np.linspace(25, 250, 47)\n",
    "k: np.ndarray = np.linspace(2, 11, 10)\n",
    "d: np.ndarray = np.linspace(0.1, 10, 10)\n",
    "mc_iter: int = 20\n",
    "\n",
    "knn_f: List[List[float]] = [[] for _ in range(len(n))]\n",
    "knn_h: List[List[float]] = [[] for _ in range(len(n))]\n",
    "dist_f: List[List[float]] = [[] for _ in range(len(n))]\n",
    "dist_h: List[List[float]] = [[] for _ in range(len(n))]\n",
    "for i in tqdm(range(len(n))):\n",
    "    gen: Generator = Generator(v=3, alpha=1, size=int(n[i]))\n",
    "    for j in range(len(k)):\n",
    "        knn_f[i].append(\n",
    "            np.mean(\n",
    "                [GraphKnn(gen.get_f(), int(k[j])).calc_metric() for _ in range(mc_iter)]\n",
    "            )\n",
    "        )\n",
    "        knn_h[i].append(\n",
    "            np.mean(\n",
    "                [GraphKnn(gen.get_h(), int(k[j])).calc_metric() for _ in range(mc_iter)]\n",
    "            )\n",
    "        )\n",
    "\n",
    "        dist_f[i].append(\n",
    "            np.mean(\n",
    "                [GraphDist(gen.get_f(), d[j]).calc_metric() for _ in range(mc_iter)]\n",
    "            )\n",
    "        )\n",
    "        dist_h[i].append(\n",
    "            np.mean(\n",
    "                [GraphDist(gen.get_h(), d[j]).calc_metric() for _ in range(mc_iter)]\n",
    "            )\n",
    "        )\n"
   ]
  },
  {
   "cell_type": "code",
   "execution_count": 5,
   "id": "a0187847",
   "metadata": {},
   "outputs": [
    {
     "data": {
      "application/vnd.plotly.v1+json": {
       "config": {
        "plotlyServerURL": "https://plot.ly"
       },
       "data": [
        {
         "colorscale": [
          [
           0,
           "rgb(247,251,255)"
          ],
          [
           0.125,
           "rgb(222,235,247)"
          ],
          [
           0.25,
           "rgb(198,219,239)"
          ],
          [
           0.375,
           "rgb(158,202,225)"
          ],
          [
           0.5,
           "rgb(107,174,214)"
          ],
          [
           0.625,
           "rgb(66,146,198)"
          ],
          [
           0.75,
           "rgb(33,113,181)"
          ],
          [
           0.875,
           "rgb(8,81,156)"
          ],
          [
           1,
           "rgb(8,48,107)"
          ]
         ],
         "name": "KNN f",
         "opacity": 0.7,
         "scene": "scene",
         "showscale": false,
         "type": "surface",
         "x": {
          "bdata": "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",
          "dtype": "f8",
          "shape": "47, 10"
         },
         "y": {
          "bdata": "AAAAAAAAAEAAAAAAAAAIQAAAAAAAABBAAAAAAAAAFEAAAAAAAAAYQAAAAAAAABxAAAAAAAAAIEAAAAAAAAAiQAAAAAAAACRAAAAAAAAAJkAAAAAAAAAAQAAAAAAAAAhAAAAAAAAAEEAAAAAAAAAUQAAAAAAAABhAAAAAAAAAHEAAAAAAAAAgQAAAAAAAACJAAAAAAAAAJEAAAAAAAAAmQAAAAAAAAABAAAAAAAAACEAAAAAAAAAQQAAAAAAAABRAAAAAAAAAGEAAAAAAAAAcQAAAAAAAACBAAAAAAAAAIkAAAAAAAAAkQAAAAAAAACZAAAAAAAAAAEAAAAAAAAAIQAAAAAAAABBAAAAAAAAAFEAAAAAAAAAYQAAAAAAAABxAAAAAAAAAIEAAAAAAAAAiQAAAAAAAACRAAAAAAAAAJkAAAAAAAAAAQAAAAAAAAAhAAAAAAAAAEEAAAAAAAAAUQAAAAAAAABhAAAAAAAAAHEAAAAAAAAAgQAAAAAAAACJAAAAAAAAAJEAAAAAAAAAmQAAAAAAAAABAAAAAAAAACEAAAAAAAAAQQAAAAAAAABRAAAAAAAAAGEAAAAAAAAAcQAAAAAAAACBAAAAAAAAAIkAAAAAAAAAkQAAAAAAAACZAAAAAAAAAAEAAAAAAAAAIQAAAAAAAABBAAAAAAAAAFEAAAAAAAAAYQAAAAAAAABxAAAAAAAAAIEAAAAAAAAAiQAAAAAAAACRAAAAAAAAAJkAAAAAAAAAAQAAAAAAAAAhAAAAAAAAAEEAAAAAAAAAUQAAAAAAAABhAAAAAAAAAHEAAAAAAAAAgQAAAAAAAACJAAAAAAAAAJEAAAAAAAAAmQAAAAAAAAABAAAAAAAAACEAAAAAAAAAQQAAAAAAAABRAAAAAAAAAGEAAAAAAAAAcQAAAAAAAACBAAAAAAAAAIkAAAAAAAAAkQAAAAAAAACZAAAAAAAAAAEAAAAAAAAAIQAAAAAAAABBAAAAAAAAAFEAAAAAAAAAYQAAAAAAAABxAAAAAAAAAIEAAAAAAAAAiQAAAAAAAACRAAAAAAAAAJkAAAAAAAAAAQAAAAAAAAAhAAAAAAAAAEEAAAAAAAAAUQAAAAAAAABhAAAAAAAAAHEAAAAAAAAAgQAAAAAAAACJAAAAAAAAAJEAAAAAAAAAmQAAAAAAAAABAAAAAAAAACEAAAAAAAAAQQAAAAAAAABRAAAAAAAAAGEAAAAAAAAAcQAAAAAAAACBAAAAAAAAAIkAAAAAAAAAkQAAAAAAAACZAAAAAAAAAAEAAAAAAAAAIQAAAAAAAABBAAAAAAAAAFEAAAAAAAAAYQAAAAAAAABxAAAAAAAAAIEAAAAAAAAAiQAAAAAAAACRAAAAAAAAAJkAAAAAAAAAAQAAAAAAAAAhAAAAAAAAAEEAAAAAAAAAUQAAAAAAAABhAAAAAAAAAHEAAAAAAAAAgQAAAAAAAACJAAAAAAAAAJEAAAAAAAAAmQAAAAAAAAABAAAAAAAAACEAAAAAAAAAQQAAAAAAAABRAAAAAAAAAGEAAAAAAAAAcQAAAAAAAACBAAAAAAAAAIkAAAAAAAAAkQAAAAAAAACZAAAAAAAAAAEAAAAAAAAAIQAAAAAAAABBAAAAAAAAAFEAAAAAAAAAYQAAAAAAAABxAAAAAAAAAIEAAAAAAAAAiQAAAAAAAACRAAAAAAAAAJkAAAAAAAAAAQAAAAAAAAAhAAAAAAAAAEEAAAAAAAAAUQAAAAAAAABhAAAAAAAAAHEAAAAAAAAAgQAAAAAAAACJAAAAAAAAAJEAAAAAAAAAmQAAAAAAAAABAAAAAAAAACEAAAAAAAAAQQAAAAAAAABRAAAAAAAAAGEAAAAAAAAAcQAAAAAAAACBAAAAAAAAAIkAAAAAAAAAkQAAAAAAAACZAAAAAAAAAAEAAAAAAAAAIQAAAAAAAABBAAAAAAAAAFEAAAAAAAAAYQAAAAAAAABxAAAAAAAAAIEAAAAAAAAAiQAAAAAAAACRAAAAAAAAAJkAAAAAAAAAAQAAAAAAAAAhAAAAAAAAAEEAAAAAAAAAUQAAAAAAAABhAAAAAAAAAHEAAAAAAAAAgQAAAAAAAACJAAAAAAAAAJEAAAAAAAAAmQAAAAAAAAABAAAAAAAAACEAAAAAAAAAQQAAAAAAAABRAAAAAAAAAGEAAAAAAAAAcQAAAAAAAACBAAAAAAAAAIkAAAAAAAAAkQAAAAAAAACZAAAAAAAAAAEAAAAAAAAAIQAAAAAAAABBAAAAAAAAAFEAAAAAAAAAYQAAAAAAAABxAAAAAAAAAIEAAAAAAAAAiQAAAAAAAACRAAAAAAAAAJkAAAAAAAAAAQAAAAAAAAAhAAAAAAAAAEEAAAAAAAAAUQAAAAAAAABhAAAAAAAAAHEAAAAAAAAAgQAAAAAAAACJAAAAAAAAAJEAAAAAAAAAmQAAAAAAAAABAAAAAAAAACEAAAAAAAAAQQAAAAAAAABRAAAAAAAAAGEAAAAAAAAAcQAAAAAAAACBAAAAAAAAAIkAAAAAAAAAkQAAAAAAAACZAAAAAAAAAAEAAAAAAAAAIQAAAAAAAABBAAAAAAAAAFEAAAAAAAAAYQAAAAAAAABxAAAAAAAAAIEAAAAAAAAAiQAAAAAAAACRAAAAAAAAAJkAAAAAAAAAAQAAAAAAAAAhAAAAAAAAAEEAAAAAAAAAUQAAAAAAAABhAAAAAAAAAHEAAAAAAAAAgQAAAAAAAACJAAAAAAAAAJEAAAAAAAAAmQAAAAAAAAABAAAAAAAAACEAAAAAAAAAQQAAAAAAAABRAAAAAAAAAGEAAAAAAAAAcQAAAAAAAACBAAAAAAAAAIkAAAAAAAAAkQAAAAAAAACZAAAAAAAAAAEAAAAAAAAAIQAAAAAAAABBAAAAAAAAAFEAAAAAAAAAYQAAAAAAAABxAAAAAAAAAIEAAAAAAAAAiQAAAAAAAACRAAAAAAAAAJkAAAAAAAAAAQAAAAAAAAAhAAAAAAAAAEEAAAAAAAAAUQAAAAAAAABhAAAAAAAAAHEAAAAAAAAAgQAAAAAAAACJAAAAAAAAAJEAAAAAAAAAmQAAAAAAAAABAAAAAAAAACEAAAAAAAAAQQAAAAAAAABRAAAAAAAAAGEAAAAAAAAAcQAAAAAAAACBAAAAAAAAAIkAAAAAAAAAkQAAAAAAAACZAAAAAAAAAAEAAAAAAAAAIQAAAAAAAABBAAAAAAAAAFEAAAAAAAAAYQAAAAAAAABxAAAAAAAAAIEAAAAAAAAAiQAAAAAAAACRAAAAAAAAAJkAAAAAAAAAAQAAAAAAAAAhAAAAAAAAAEEAAAAAAAAAUQAAAAAAAABhAAAAAAAAAHEAAAAAAAAAgQAAAAAAAACJAAAAAAAAAJEAAAAAAAAAmQAAAAAAAAABAAAAAAAAACEAAAAAAAAAQQAAAAAAAABRAAAAAAAAAGEAAAAAAAAAcQAAAAAAAACBAAAAAAAAAIkAAAAAAAAAkQAAAAAAAACZAAAAAAAAAAEAAAAAAAAAIQAAAAAAAABBAAAAAAAAAFEAAAAAAAAAYQAAAAAAAABxAAAAAAAAAIEAAAAAAAAAiQAAAAAAAACRAAAAAAAAAJkAAAAAAAAAAQAAAAAAAAAhAAAAAAAAAEEAAAAAAAAAUQAAAAAAAABhAAAAAAAAAHEAAAAAAAAAgQAAAAAAAACJAAAAAAAAAJEAAAAAAAAAmQAAAAAAAAABAAAAAAAAACEAAAAAAAAAQQAAAAAAAABRAAAAAAAAAGEAAAAAAAAAcQAAAAAAAACBAAAAAAAAAIkAAAAAAAAAkQAAAAAAAACZAAAAAAAAAAEAAAAAAAAAIQAAAAAAAABBAAAAAAAAAFEAAAAAAAAAYQAAAAAAAABxAAAAAAAAAIEAAAAAAAAAiQAAAAAAAACRAAAAAAAAAJkAAAAAAAAAAQAAAAAAAAAhAAAAAAAAAEEAAAAAAAAAUQAAAAAAAABhAAAAAAAAAHEAAAAAAAAAgQAAAAAAAACJAAAAAAAAAJEAAAAAAAAAmQAAAAAAAAABAAAAAAAAACEAAAAAAAAAQQAAAAAAAABRAAAAAAAAAGEAAAAAAAAAcQAAAAAAAACBAAAAAAAAAIkAAAAAAAAAkQAAAAAAAACZAAAAAAAAAAEAAAAAAAAAIQAAAAAAAABBAAAAAAAAAFEAAAAAAAAAYQAAAAAAAABxAAAAAAAAAIEAAAAAAAAAiQAAAAAAAACRAAAAAAAAAJkAAAAAAAAAAQAAAAAAAAAhAAAAAAAAAEEAAAAAAAAAUQAAAAAAAABhAAAAAAAAAHEAAAAAAAAAgQAAAAAAAACJAAAAAAAAAJEAAAAAAAAAmQAAAAAAAAABAAAAAAAAACEAAAAAAAAAQQAAAAAAAABRAAAAAAAAAGEAAAAAAAAAcQAAAAAAAACBAAAAAAAAAIkAAAAAAAAAkQAAAAAAAACZAAAAAAAAAAEAAAAAAAAAIQAAAAAAAABBAAAAAAAAAFEAAAAAAAAAYQAAAAAAAABxAAAAAAAAAIEAAAAAAAAAiQAAAAAAAACRAAAAAAAAAJkAAAAAAAAAAQAAAAAAAAAhAAAAAAAAAEEAAAAAAAAAUQAAAAAAAABhAAAAAAAAAHEAAAAAAAAAgQAAAAAAAACJAAAAAAAAAJEAAAAAAAAAmQAAAAAAAAABAAAAAAAAACEAAAAAAAAAQQAAAAAAAABRAAAAAAAAAGEAAAAAAAAAcQAAAAAAAACBAAAAAAAAAIkAAAAAAAAAkQAAAAAAAACZAAAAAAAAAAEAAAAAAAAAIQAAAAAAAABBAAAAAAAAAFEAAAAAAAAAYQAAAAAAAABxAAAAAAAAAIEAAAAAAAAAiQAAAAAAAACRAAAAAAAAAJkAAAAAAAAAAQAAAAAAAAAhAAAAAAAAAEEAAAAAAAAAUQAAAAAAAABhAAAAAAAAAHEAAAAAAAAAgQAAAAAAAACJAAAAAAAAAJEAAAAAAAAAmQA==",
          "dtype": "f8",
          "shape": "47, 10"
         },
         "z": {
          "bdata": "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",
          "dtype": "f8",
          "shape": "47, 10"
         }
        },
        {
         "colorscale": [
          [
           0,
           "rgb(255,245,240)"
          ],
          [
           0.125,
           "rgb(254,224,210)"
          ],
          [
           0.25,
           "rgb(252,187,161)"
          ],
          [
           0.375,
           "rgb(252,146,114)"
          ],
          [
           0.5,
           "rgb(251,106,74)"
          ],
          [
           0.625,
           "rgb(239,59,44)"
          ],
          [
           0.75,
           "rgb(203,24,29)"
          ],
          [
           0.875,
           "rgb(165,15,21)"
          ],
          [
           1,
           "rgb(103,0,13)"
          ]
         ],
         "name": "KNN h",
         "opacity": 0.7,
         "scene": "scene",
         "showscale": false,
         "type": "surface",
         "x": {
          "bdata": "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",
          "dtype": "f8",
          "shape": "47, 10"
         },
         "y": {
          "bdata": "AAAAAAAAAEAAAAAAAAAIQAAAAAAAABBAAAAAAAAAFEAAAAAAAAAYQAAAAAAAABxAAAAAAAAAIEAAAAAAAAAiQAAAAAAAACRAAAAAAAAAJkAAAAAAAAAAQAAAAAAAAAhAAAAAAAAAEEAAAAAAAAAUQAAAAAAAABhAAAAAAAAAHEAAAAAAAAAgQAAAAAAAACJAAAAAAAAAJEAAAAAAAAAmQAAAAAAAAABAAAAAAAAACEAAAAAAAAAQQAAAAAAAABRAAAAAAAAAGEAAAAAAAAAcQAAAAAAAACBAAAAAAAAAIkAAAAAAAAAkQAAAAAAAACZAAAAAAAAAAEAAAAAAAAAIQAAAAAAAABBAAAAAAAAAFEAAAAAAAAAYQAAAAAAAABxAAAAAAAAAIEAAAAAAAAAiQAAAAAAAACRAAAAAAAAAJkAAAAAAAAAAQAAAAAAAAAhAAAAAAAAAEEAAAAAAAAAUQAAAAAAAABhAAAAAAAAAHEAAAAAAAAAgQAAAAAAAACJAAAAAAAAAJEAAAAAAAAAmQAAAAAAAAABAAAAAAAAACEAAAAAAAAAQQAAAAAAAABRAAAAAAAAAGEAAAAAAAAAcQAAAAAAAACBAAAAAAAAAIkAAAAAAAAAkQAAAAAAAACZAAAAAAAAAAEAAAAAAAAAIQAAAAAAAABBAAAAAAAAAFEAAAAAAAAAYQAAAAAAAABxAAAAAAAAAIEAAAAAAAAAiQAAAAAAAACRAAAAAAAAAJkAAAAAAAAAAQAAAAAAAAAhAAAAAAAAAEEAAAAAAAAAUQAAAAAAAABhAAAAAAAAAHEAAAAAAAAAgQAAAAAAAACJAAAAAAAAAJEAAAAAAAAAmQAAAAAAAAABAAAAAAAAACEAAAAAAAAAQQAAAAAAAABRAAAAAAAAAGEAAAAAAAAAcQAAAAAAAACBAAAAAAAAAIkAAAAAAAAAkQAAAAAAAACZAAAAAAAAAAEAAAAAAAAAIQAAAAAAAABBAAAAAAAAAFEAAAAAAAAAYQAAAAAAAABxAAAAAAAAAIEAAAAAAAAAiQAAAAAAAACRAAAAAAAAAJkAAAAAAAAAAQAAAAAAAAAhAAAAAAAAAEEAAAAAAAAAUQAAAAAAAABhAAAAAAAAAHEAAAAAAAAAgQAAAAAAAACJAAAAAAAAAJEAAAAAAAAAmQAAAAAAAAABAAAAAAAAACEAAAAAAAAAQQAAAAAAAABRAAAAAAAAAGEAAAAAAAAAcQAAAAAAAACBAAAAAAAAAIkAAAAAAAAAkQAAAAAAAACZAAAAAAAAAAEAAAAAAAAAIQAAAAAAAABBAAAAAAAAAFEAAAAAAAAAYQAAAAAAAABxAAAAAAAAAIEAAAAAAAAAiQAAAAAAAACRAAAAAAAAAJkAAAAAAAAAAQAAAAAAAAAhAAAAAAAAAEEAAAAAAAAAUQAAAAAAAABhAAAAAAAAAHEAAAAAAAAAgQAAAAAAAACJAAAAAAAAAJEAAAAAAAAAmQAAAAAAAAABAAAAAAAAACEAAAAAAAAAQQAAAAAAAABRAAAAAAAAAGEAAAAAAAAAcQAAAAAAAACBAAAAAAAAAIkAAAAAAAAAkQAAAAAAAACZAAAAAAAAAAEAAAAAAAAAIQAAAAAAAABBAAAAAAAAAFEAAAAAAAAAYQAAAAAAAABxAAAAAAAAAIEAAAAAAAAAiQAAAAAAAACRAAAAAAAAAJkAAAAAAAAAAQAAAAAAAAAhAAAAAAAAAEEAAAAAAAAAUQAAAAAAAABhAAAAAAAAAHEAAAAAAAAAgQAAAAAAAACJAAAAAAAAAJEAAAAAAAAAmQAAAAAAAAABAAAAAAAAACEAAAAAAAAAQQAAAAAAAABRAAAAAAAAAGEAAAAAAAAAcQAAAAAAAACBAAAAAAAAAIkAAAAAAAAAkQAAAAAAAACZAAAAAAAAAAEAAAAAAAAAIQAAAAAAAABBAAAAAAAAAFEAAAAAAAAAYQAAAAAAAABxAAAAAAAAAIEAAAAAAAAAiQAAAAAAAACRAAAAAAAAAJkAAAAAAAAAAQAAAAAAAAAhAAAAAAAAAEEAAAAAAAAAUQAAAAAAAABhAAAAAAAAAHEAAAAAAAAAgQAAAAAAAACJAAAAAAAAAJEAAAAAAAAAmQAAAAAAAAABAAAAAAAAACEAAAAAAAAAQQAAAAAAAABRAAAAAAAAAGEAAAAAAAAAcQAAAAAAAACBAAAAAAAAAIkAAAAAAAAAkQAAAAAAAACZAAAAAAAAAAEAAAAAAAAAIQAAAAAAAABBAAAAAAAAAFEAAAAAAAAAYQAAAAAAAABxAAAAAAAAAIEAAAAAAAAAiQAAAAAAAACRAAAAAAAAAJkAAAAAAAAAAQAAAAAAAAAhAAAAAAAAAEEAAAAAAAAAUQAAAAAAAABhAAAAAAAAAHEAAAAAAAAAgQAAAAAAAACJAAAAAAAAAJEAAAAAAAAAmQAAAAAAAAABAAAAAAAAACEAAAAAAAAAQQAAAAAAAABRAAAAAAAAAGEAAAAAAAAAcQAAAAAAAACBAAAAAAAAAIkAAAAAAAAAkQAAAAAAAACZAAAAAAAAAAEAAAAAAAAAIQAAAAAAAABBAAAAAAAAAFEAAAAAAAAAYQAAAAAAAABxAAAAAAAAAIEAAAAAAAAAiQAAAAAAAACRAAAAAAAAAJkAAAAAAAAAAQAAAAAAAAAhAAAAAAAAAEEAAAAAAAAAUQAAAAAAAABhAAAAAAAAAHEAAAAAAAAAgQAAAAAAAACJAAAAAAAAAJEAAAAAAAAAmQAAAAAAAAABAAAAAAAAACEAAAAAAAAAQQAAAAAAAABRAAAAAAAAAGEAAAAAAAAAcQAAAAAAAACBAAAAAAAAAIkAAAAAAAAAkQAAAAAAAACZAAAAAAAAAAEAAAAAAAAAIQAAAAAAAABBAAAAAAAAAFEAAAAAAAAAYQAAAAAAAABxAAAAAAAAAIEAAAAAAAAAiQAAAAAAAACRAAAAAAAAAJkAAAAAAAAAAQAAAAAAAAAhAAAAAAAAAEEAAAAAAAAAUQAAAAAAAABhAAAAAAAAAHEAAAAAAAAAgQAAAAAAAACJAAAAAAAAAJEAAAAAAAAAmQAAAAAAAAABAAAAAAAAACEAAAAAAAAAQQAAAAAAAABRAAAAAAAAAGEAAAAAAAAAcQAAAAAAAACBAAAAAAAAAIkAAAAAAAAAkQAAAAAAAACZAAAAAAAAAAEAAAAAAAAAIQAAAAAAAABBAAAAAAAAAFEAAAAAAAAAYQAAAAAAAABxAAAAAAAAAIEAAAAAAAAAiQAAAAAAAACRAAAAAAAAAJkAAAAAAAAAAQAAAAAAAAAhAAAAAAAAAEEAAAAAAAAAUQAAAAAAAABhAAAAAAAAAHEAAAAAAAAAgQAAAAAAAACJAAAAAAAAAJEAAAAAAAAAmQAAAAAAAAABAAAAAAAAACEAAAAAAAAAQQAAAAAAAABRAAAAAAAAAGEAAAAAAAAAcQAAAAAAAACBAAAAAAAAAIkAAAAAAAAAkQAAAAAAAACZAAAAAAAAAAEAAAAAAAAAIQAAAAAAAABBAAAAAAAAAFEAAAAAAAAAYQAAAAAAAABxAAAAAAAAAIEAAAAAAAAAiQAAAAAAAACRAAAAAAAAAJkAAAAAAAAAAQAAAAAAAAAhAAAAAAAAAEEAAAAAAAAAUQAAAAAAAABhAAAAAAAAAHEAAAAAAAAAgQAAAAAAAACJAAAAAAAAAJEAAAAAAAAAmQAAAAAAAAABAAAAAAAAACEAAAAAAAAAQQAAAAAAAABRAAAAAAAAAGEAAAAAAAAAcQAAAAAAAACBAAAAAAAAAIkAAAAAAAAAkQAAAAAAAACZAAAAAAAAAAEAAAAAAAAAIQAAAAAAAABBAAAAAAAAAFEAAAAAAAAAYQAAAAAAAABxAAAAAAAAAIEAAAAAAAAAiQAAAAAAAACRAAAAAAAAAJkAAAAAAAAAAQAAAAAAAAAhAAAAAAAAAEEAAAAAAAAAUQAAAAAAAABhAAAAAAAAAHEAAAAAAAAAgQAAAAAAAACJAAAAAAAAAJEAAAAAAAAAmQAAAAAAAAABAAAAAAAAACEAAAAAAAAAQQAAAAAAAABRAAAAAAAAAGEAAAAAAAAAcQAAAAAAAACBAAAAAAAAAIkAAAAAAAAAkQAAAAAAAACZAAAAAAAAAAEAAAAAAAAAIQAAAAAAAABBAAAAAAAAAFEAAAAAAAAAYQAAAAAAAABxAAAAAAAAAIEAAAAAAAAAiQAAAAAAAACRAAAAAAAAAJkAAAAAAAAAAQAAAAAAAAAhAAAAAAAAAEEAAAAAAAAAUQAAAAAAAABhAAAAAAAAAHEAAAAAAAAAgQAAAAAAAACJAAAAAAAAAJEAAAAAAAAAmQAAAAAAAAABAAAAAAAAACEAAAAAAAAAQQAAAAAAAABRAAAAAAAAAGEAAAAAAAAAcQAAAAAAAACBAAAAAAAAAIkAAAAAAAAAkQAAAAAAAACZAAAAAAAAAAEAAAAAAAAAIQAAAAAAAABBAAAAAAAAAFEAAAAAAAAAYQAAAAAAAABxAAAAAAAAAIEAAAAAAAAAiQAAAAAAAACRAAAAAAAAAJkAAAAAAAAAAQAAAAAAAAAhAAAAAAAAAEEAAAAAAAAAUQAAAAAAAABhAAAAAAAAAHEAAAAAAAAAgQAAAAAAAACJAAAAAAAAAJEAAAAAAAAAmQAAAAAAAAABAAAAAAAAACEAAAAAAAAAQQAAAAAAAABRAAAAAAAAAGEAAAAAAAAAcQAAAAAAAACBAAAAAAAAAIkAAAAAAAAAkQAAAAAAAACZAAAAAAAAAAEAAAAAAAAAIQAAAAAAAABBAAAAAAAAAFEAAAAAAAAAYQAAAAAAAABxAAAAAAAAAIEAAAAAAAAAiQAAAAAAAACRAAAAAAAAAJkAAAAAAAAAAQAAAAAAAAAhAAAAAAAAAEEAAAAAAAAAUQAAAAAAAABhAAAAAAAAAHEAAAAAAAAAgQAAAAAAAACJAAAAAAAAAJEAAAAAAAAAmQA==",
          "dtype": "f8",
          "shape": "47, 10"
         },
         "z": {
          "bdata": "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",
          "dtype": "f8",
          "shape": "47, 10"
         }
        },
        {
         "colorscale": [
          [
           0,
           "rgb(247,252,245)"
          ],
          [
           0.125,
           "rgb(229,245,224)"
          ],
          [
           0.25,
           "rgb(199,233,192)"
          ],
          [
           0.375,
           "rgb(161,217,155)"
          ],
          [
           0.5,
           "rgb(116,196,118)"
          ],
          [
           0.625,
           "rgb(65,171,93)"
          ],
          [
           0.75,
           "rgb(35,139,69)"
          ],
          [
           0.875,
           "rgb(0,109,44)"
          ],
          [
           1,
           "rgb(0,68,27)"
          ]
         ],
         "name": "Distance f",
         "opacity": 0.7,
         "scene": "scene2",
         "showscale": false,
         "type": "surface",
         "x": {
          "bdata": "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",
          "dtype": "f8",
          "shape": "47, 10"
         },
         "y": {
          "bdata": "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",
          "dtype": "f8",
          "shape": "47, 10"
         },
         "z": {
          "bdata": "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",
          "dtype": "f8",
          "shape": "47, 10"
         }
        },
        {
         "colorscale": [
          [
           0,
           "rgb(255,245,235)"
          ],
          [
           0.125,
           "rgb(254,230,206)"
          ],
          [
           0.25,
           "rgb(253,208,162)"
          ],
          [
           0.375,
           "rgb(253,174,107)"
          ],
          [
           0.5,
           "rgb(253,141,60)"
          ],
          [
           0.625,
           "rgb(241,105,19)"
          ],
          [
           0.75,
           "rgb(217,72,1)"
          ],
          [
           0.875,
           "rgb(166,54,3)"
          ],
          [
           1,
           "rgb(127,39,4)"
          ]
         ],
         "name": "Distance h",
         "opacity": 0.7,
         "scene": "scene2",
         "showscale": false,
         "type": "surface",
         "x": {
          "bdata": "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",
          "dtype": "f8",
          "shape": "47, 10"
         },
         "y": {
          "bdata": "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",
          "dtype": "f8",
          "shape": "47, 10"
         },
         "z": {
          "bdata": "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",
          "dtype": "f8",
          "shape": "47, 10"
         }
        }
       ],
       "layout": {
        "annotations": [
         {
          "font": {
           "size": 16
          },
          "showarrow": false,
          "text": "3D KNN Metric (n, k, metric)",
          "x": 0.2375,
          "xanchor": "center",
          "xref": "paper",
          "y": 1,
          "yanchor": "bottom",
          "yref": "paper"
         },
         {
          "font": {
           "size": 16
          },
          "showarrow": false,
          "text": "3D Distance Metric (n, d, metric)",
          "x": 0.7625,
          "xanchor": "center",
          "xref": "paper",
          "y": 1,
          "yanchor": "bottom",
          "yref": "paper"
         }
        ],
        "height": 700,
        "legend": {
         "x": 0.01,
         "xanchor": "left",
         "y": 0.99,
         "yanchor": "top"
        },
        "scene": {
         "camera": {
          "eye": {
           "x": 1.2,
           "y": 1.2,
           "z": 1.2
          }
         },
         "domain": {
          "x": [
           0,
           0.475
          ],
          "y": [
           0,
           1
          ]
         },
         "xaxis": {
          "title": {
           "text": "n (размер графа)"
          }
         },
         "yaxis": {
          "title": {
           "text": "k (количество соседей)"
          }
         },
         "zaxis": {
          "title": {
           "text": "KNN Metric Value"
          }
         }
        },
        "scene2": {
         "camera": {
          "eye": {
           "x": 1.2,
           "y": 1.2,
           "z": 1.2
          }
         },
         "domain": {
          "x": [
           0.525,
           1
          ],
          "y": [
           0,
           1
          ]
         },
         "xaxis": {
          "title": {
           "text": "n (размер графа)"
          }
         },
         "yaxis": {
          "title": {
           "text": "d (пороговое расстояние)"
          }
         },
         "zaxis": {
          "title": {
           "text": "Distance Metric Value"
          }
         }
        },
        "showlegend": true,
        "template": {
         "data": {
          "bar": [
           {
            "error_x": {
             "color": "#2a3f5f"
            },
            "error_y": {
             "color": "#2a3f5f"
            },
            "marker": {
             "line": {
              "color": "#E5ECF6",
              "width": 0.5
             },
             "pattern": {
              "fillmode": "overlay",
              "size": 10,
              "solidity": 0.2
             }
            },
            "type": "bar"
           }
          ],
          "barpolar": [
           {
            "marker": {
             "line": {
              "color": "#E5ECF6",
              "width": 0.5
             },
             "pattern": {
              "fillmode": "overlay",
              "size": 10,
              "solidity": 0.2
             }
            },
            "type": "barpolar"
           }
          ],
          "carpet": [
           {
            "aaxis": {
             "endlinecolor": "#2a3f5f",
             "gridcolor": "white",
             "linecolor": "white",
             "minorgridcolor": "white",
             "startlinecolor": "#2a3f5f"
            },
            "baxis": {
             "endlinecolor": "#2a3f5f",
             "gridcolor": "white",
             "linecolor": "white",
             "minorgridcolor": "white",
             "startlinecolor": "#2a3f5f"
            },
            "type": "carpet"
           }
          ],
          "choropleth": [
           {
            "colorbar": {
             "outlinewidth": 0,
             "ticks": ""
            },
            "type": "choropleth"
           }
          ],
          "contour": [
           {
            "colorbar": {
             "outlinewidth": 0,
             "ticks": ""
            },
            "colorscale": [
             [
              0,
              "#0d0887"
             ],
             [
              0.1111111111111111,
              "#46039f"
             ],
             [
              0.2222222222222222,
              "#7201a8"
             ],
             [
              0.3333333333333333,
              "#9c179e"
             ],
             [
              0.4444444444444444,
              "#bd3786"
             ],
             [
              0.5555555555555556,
              "#d8576b"
             ],
             [
              0.6666666666666666,
              "#ed7953"
             ],
             [
              0.7777777777777778,
              "#fb9f3a"
             ],
             [
              0.8888888888888888,
              "#fdca26"
             ],
             [
              1,
              "#f0f921"
             ]
            ],
            "type": "contour"
           }
          ],
          "contourcarpet": [
           {
            "colorbar": {
             "outlinewidth": 0,
             "ticks": ""
            },
            "type": "contourcarpet"
           }
          ],
          "heatmap": [
           {
            "colorbar": {
             "outlinewidth": 0,
             "ticks": ""
            },
            "colorscale": [
             [
              0,
              "#0d0887"
             ],
             [
              0.1111111111111111,
              "#46039f"
             ],
             [
              0.2222222222222222,
              "#7201a8"
             ],
             [
              0.3333333333333333,
              "#9c179e"
             ],
             [
              0.4444444444444444,
              "#bd3786"
             ],
             [
              0.5555555555555556,
              "#d8576b"
             ],
             [
              0.6666666666666666,
              "#ed7953"
             ],
             [
              0.7777777777777778,
              "#fb9f3a"
             ],
             [
              0.8888888888888888,
              "#fdca26"
             ],
             [
              1,
              "#f0f921"
             ]
            ],
            "type": "heatmap"
           }
          ],
          "histogram": [
           {
            "marker": {
             "pattern": {
              "fillmode": "overlay",
              "size": 10,
              "solidity": 0.2
             }
            },
            "type": "histogram"
           }
          ],
          "histogram2d": [
           {
            "colorbar": {
             "outlinewidth": 0,
             "ticks": ""
            },
            "colorscale": [
             [
              0,
              "#0d0887"
             ],
             [
              0.1111111111111111,
              "#46039f"
             ],
             [
              0.2222222222222222,
              "#7201a8"
             ],
             [
              0.3333333333333333,
              "#9c179e"
             ],
             [
              0.4444444444444444,
              "#bd3786"
             ],
             [
              0.5555555555555556,
              "#d8576b"
             ],
             [
              0.6666666666666666,
              "#ed7953"
             ],
             [
              0.7777777777777778,
              "#fb9f3a"
             ],
             [
              0.8888888888888888,
              "#fdca26"
             ],
             [
              1,
              "#f0f921"
             ]
            ],
            "type": "histogram2d"
           }
          ],
          "histogram2dcontour": [
           {
            "colorbar": {
             "outlinewidth": 0,
             "ticks": ""
            },
            "colorscale": [
             [
              0,
              "#0d0887"
             ],
             [
              0.1111111111111111,
              "#46039f"
             ],
             [
              0.2222222222222222,
              "#7201a8"
             ],
             [
              0.3333333333333333,
              "#9c179e"
             ],
             [
              0.4444444444444444,
              "#bd3786"
             ],
             [
              0.5555555555555556,
              "#d8576b"
             ],
             [
              0.6666666666666666,
              "#ed7953"
             ],
             [
              0.7777777777777778,
              "#fb9f3a"
             ],
             [
              0.8888888888888888,
              "#fdca26"
             ],
             [
              1,
              "#f0f921"
             ]
            ],
            "type": "histogram2dcontour"
           }
          ],
          "mesh3d": [
           {
            "colorbar": {
             "outlinewidth": 0,
             "ticks": ""
            },
            "type": "mesh3d"
           }
          ],
          "parcoords": [
           {
            "line": {
             "colorbar": {
              "outlinewidth": 0,
              "ticks": ""
             }
            },
            "type": "parcoords"
           }
          ],
          "pie": [
           {
            "automargin": true,
            "type": "pie"
           }
          ],
          "scatter": [
           {
            "fillpattern": {
             "fillmode": "overlay",
             "size": 10,
             "solidity": 0.2
            },
            "type": "scatter"
           }
          ],
          "scatter3d": [
           {
            "line": {
             "colorbar": {
              "outlinewidth": 0,
              "ticks": ""
             }
            },
            "marker": {
             "colorbar": {
              "outlinewidth": 0,
              "ticks": ""
             }
            },
            "type": "scatter3d"
           }
          ],
          "scattercarpet": [
           {
            "marker": {
             "colorbar": {
              "outlinewidth": 0,
              "ticks": ""
             }
            },
            "type": "scattercarpet"
           }
          ],
          "scattergeo": [
           {
            "marker": {
             "colorbar": {
              "outlinewidth": 0,
              "ticks": ""
             }
            },
            "type": "scattergeo"
           }
          ],
          "scattergl": [
           {
            "marker": {
             "colorbar": {
              "outlinewidth": 0,
              "ticks": ""
             }
            },
            "type": "scattergl"
           }
          ],
          "scattermap": [
           {
            "marker": {
             "colorbar": {
              "outlinewidth": 0,
              "ticks": ""
             }
            },
            "type": "scattermap"
           }
          ],
          "scattermapbox": [
           {
            "marker": {
             "colorbar": {
              "outlinewidth": 0,
              "ticks": ""
             }
            },
            "type": "scattermapbox"
           }
          ],
          "scatterpolar": [
           {
            "marker": {
             "colorbar": {
              "outlinewidth": 0,
              "ticks": ""
             }
            },
            "type": "scatterpolar"
           }
          ],
          "scatterpolargl": [
           {
            "marker": {
             "colorbar": {
              "outlinewidth": 0,
              "ticks": ""
             }
            },
            "type": "scatterpolargl"
           }
          ],
          "scatterternary": [
           {
            "marker": {
             "colorbar": {
              "outlinewidth": 0,
              "ticks": ""
             }
            },
            "type": "scatterternary"
           }
          ],
          "surface": [
           {
            "colorbar": {
             "outlinewidth": 0,
             "ticks": ""
            },
            "colorscale": [
             [
              0,
              "#0d0887"
             ],
             [
              0.1111111111111111,
              "#46039f"
             ],
             [
              0.2222222222222222,
              "#7201a8"
             ],
             [
              0.3333333333333333,
              "#9c179e"
             ],
             [
              0.4444444444444444,
              "#bd3786"
             ],
             [
              0.5555555555555556,
              "#d8576b"
             ],
             [
              0.6666666666666666,
              "#ed7953"
             ],
             [
              0.7777777777777778,
              "#fb9f3a"
             ],
             [
              0.8888888888888888,
              "#fdca26"
             ],
             [
              1,
              "#f0f921"
             ]
            ],
            "type": "surface"
           }
          ],
          "table": [
           {
            "cells": {
             "fill": {
              "color": "#EBF0F8"
             },
             "line": {
              "color": "white"
             }
            },
            "header": {
             "fill": {
              "color": "#C8D4E3"
             },
             "line": {
              "color": "white"
             }
            },
            "type": "table"
           }
          ]
         },
         "layout": {
          "annotationdefaults": {
           "arrowcolor": "#2a3f5f",
           "arrowhead": 0,
           "arrowwidth": 1
          },
          "autotypenumbers": "strict",
          "coloraxis": {
           "colorbar": {
            "outlinewidth": 0,
            "ticks": ""
           }
          },
          "colorscale": {
           "diverging": [
            [
             0,
             "#8e0152"
            ],
            [
             0.1,
             "#c51b7d"
            ],
            [
             0.2,
             "#de77ae"
            ],
            [
             0.3,
             "#f1b6da"
            ],
            [
             0.4,
             "#fde0ef"
            ],
            [
             0.5,
             "#f7f7f7"
            ],
            [
             0.6,
             "#e6f5d0"
            ],
            [
             0.7,
             "#b8e186"
            ],
            [
             0.8,
             "#7fbc41"
            ],
            [
             0.9,
             "#4d9221"
            ],
            [
             1,
             "#276419"
            ]
           ],
           "sequential": [
            [
             0,
             "#0d0887"
            ],
            [
             0.1111111111111111,
             "#46039f"
            ],
            [
             0.2222222222222222,
             "#7201a8"
            ],
            [
             0.3333333333333333,
             "#9c179e"
            ],
            [
             0.4444444444444444,
             "#bd3786"
            ],
            [
             0.5555555555555556,
             "#d8576b"
            ],
            [
             0.6666666666666666,
             "#ed7953"
            ],
            [
             0.7777777777777778,
             "#fb9f3a"
            ],
            [
             0.8888888888888888,
             "#fdca26"
            ],
            [
             1,
             "#f0f921"
            ]
           ],
           "sequentialminus": [
            [
             0,
             "#0d0887"
            ],
            [
             0.1111111111111111,
             "#46039f"
            ],
            [
             0.2222222222222222,
             "#7201a8"
            ],
            [
             0.3333333333333333,
             "#9c179e"
            ],
            [
             0.4444444444444444,
             "#bd3786"
            ],
            [
             0.5555555555555556,
             "#d8576b"
            ],
            [
             0.6666666666666666,
             "#ed7953"
            ],
            [
             0.7777777777777778,
             "#fb9f3a"
            ],
            [
             0.8888888888888888,
             "#fdca26"
            ],
            [
             1,
             "#f0f921"
            ]
           ]
          },
          "colorway": [
           "#636efa",
           "#EF553B",
           "#00cc96",
           "#ab63fa",
           "#FFA15A",
           "#19d3f3",
           "#FF6692",
           "#B6E880",
           "#FF97FF",
           "#FECB52"
          ],
          "font": {
           "color": "#2a3f5f"
          },
          "geo": {
           "bgcolor": "white",
           "lakecolor": "white",
           "landcolor": "#E5ECF6",
           "showlakes": true,
           "showland": true,
           "subunitcolor": "white"
          },
          "hoverlabel": {
           "align": "left"
          },
          "hovermode": "closest",
          "mapbox": {
           "style": "light"
          },
          "paper_bgcolor": "white",
          "plot_bgcolor": "#E5ECF6",
          "polar": {
           "angularaxis": {
            "gridcolor": "white",
            "linecolor": "white",
            "ticks": ""
           },
           "bgcolor": "#E5ECF6",
           "radialaxis": {
            "gridcolor": "white",
            "linecolor": "white",
            "ticks": ""
           }
          },
          "scene": {
           "xaxis": {
            "backgroundcolor": "#E5ECF6",
            "gridcolor": "white",
            "gridwidth": 2,
            "linecolor": "white",
            "showbackground": true,
            "ticks": "",
            "zerolinecolor": "white"
           },
           "yaxis": {
            "backgroundcolor": "#E5ECF6",
            "gridcolor": "white",
            "gridwidth": 2,
            "linecolor": "white",
            "showbackground": true,
            "ticks": "",
            "zerolinecolor": "white"
           },
           "zaxis": {
            "backgroundcolor": "#E5ECF6",
            "gridcolor": "white",
            "gridwidth": 2,
            "linecolor": "white",
            "showbackground": true,
            "ticks": "",
            "zerolinecolor": "white"
           }
          },
          "shapedefaults": {
           "line": {
            "color": "#2a3f5f"
           }
          },
          "ternary": {
           "aaxis": {
            "gridcolor": "white",
            "linecolor": "white",
            "ticks": ""
           },
           "baxis": {
            "gridcolor": "white",
            "linecolor": "white",
            "ticks": ""
           },
           "bgcolor": "#E5ECF6",
           "caxis": {
            "gridcolor": "white",
            "linecolor": "white",
            "ticks": ""
           }
          },
          "title": {
           "x": 0.05
          },
          "xaxis": {
           "automargin": true,
           "gridcolor": "white",
           "linecolor": "white",
           "ticks": "",
           "title": {
            "standoff": 15
           },
           "zerolinecolor": "white",
           "zerolinewidth": 2
          },
          "yaxis": {
           "automargin": true,
           "gridcolor": "white",
           "linecolor": "white",
           "ticks": "",
           "title": {
            "standoff": 15
           },
           "zerolinecolor": "white",
           "zerolinewidth": 2
          }
         }
        },
        "title": {
         "text": "3D Визуализация метрик: влияние параметров графа",
         "x": 0.5
        },
        "width": 1400
       }
      }
     },
     "metadata": {},
     "output_type": "display_data"
    }
   ],
   "source": [
    "N_knn: np.ndarray\n",
    "K_knn: np.ndarray\n",
    "N_knn, K_knn = np.meshgrid(n, k, indexing=\"ij\")\n",
    "knn_f_array: np.ndarray = np.array(knn_f)\n",
    "knn_h_array: np.ndarray = np.array(knn_h)\n",
    "\n",
    "N_dist: np.ndarray\n",
    "D_dist: np.ndarray\n",
    "N_dist, D_dist = np.meshgrid(n, d, indexing=\"ij\")\n",
    "dist_f_array: np.ndarray = np.array(dist_f)\n",
    "dist_h_array: np.ndarray = np.array(dist_h)\n",
    "\n",
    "fig = make_subplots(\n",
    "    rows=1,\n",
    "    cols=2,\n",
    "    specs=[[{\"type\": \"surface\"}, {\"type\": \"surface\"}]],\n",
    "    subplot_titles=(\n",
    "        \"3D KNN Metric (n, k, metric)\",\n",
    "        \"3D Distance Metric (n, d, metric)\",\n",
    "    ),\n",
    "    horizontal_spacing=0.05,\n",
    ")\n",
    "\n",
    "fig.add_trace(\n",
    "    go.Surface(\n",
    "        x=N_knn,\n",
    "        y=K_knn,\n",
    "        z=knn_f_array,\n",
    "        name=\"KNN f\",\n",
    "        colorscale=\"Blues\",\n",
    "        opacity=0.7,\n",
    "        showscale=False,\n",
    "    ),\n",
    "    row=1,\n",
    "    col=1,\n",
    ")\n",
    "\n",
    "fig.add_trace(\n",
    "    go.Surface(\n",
    "        x=N_knn,\n",
    "        y=K_knn,\n",
    "        z=knn_h_array,\n",
    "        name=\"KNN h\",\n",
    "        colorscale=\"Reds\",\n",
    "        opacity=0.7,\n",
    "        showscale=False,\n",
    "    ),\n",
    "    row=1,\n",
    "    col=1,\n",
    ")\n",
    "\n",
    "fig.add_trace(\n",
    "    go.Surface(\n",
    "        x=N_dist,\n",
    "        y=D_dist,\n",
    "        z=dist_f_array,\n",
    "        name=\"Distance f\",\n",
    "        colorscale=\"Greens\",\n",
    "        opacity=0.7,\n",
    "        showscale=False,\n",
    "    ),\n",
    "    row=1,\n",
    "    col=2,\n",
    ")\n",
    "\n",
    "fig.add_trace(\n",
    "    go.Surface(\n",
    "        x=N_dist,\n",
    "        y=D_dist,\n",
    "        z=dist_h_array,\n",
    "        name=\"Distance h\",\n",
    "        colorscale=\"Oranges\",\n",
    "        opacity=0.7,\n",
    "        showscale=False,\n",
    "    ),\n",
    "    row=1,\n",
    "    col=2,\n",
    ")\n",
    "\n",
    "fig.update_layout(\n",
    "    scene=dict(\n",
    "        xaxis_title=\"n (размер графа)\",\n",
    "        yaxis_title=\"k (количество соседей)\",\n",
    "        zaxis_title=\"KNN Metric Value\",\n",
    "        camera=dict(eye=dict(x=1.2, y=1.2, z=1.2)),\n",
    "    ),\n",
    "    scene2=dict(\n",
    "        xaxis_title=\"n (размер графа)\",\n",
    "        yaxis_title=\"d (пороговое расстояние)\",\n",
    "        zaxis_title=\"Distance Metric Value\",\n",
    "        camera=dict(eye=dict(x=1.2, y=1.2, z=1.2)),\n",
    "    ),\n",
    "    title_text=\"3D Визуализация метрик: влияние параметров графа\",\n",
    "    title_x=0.5,\n",
    "    width=1400,\n",
    "    height=700,\n",
    "    showlegend=True,\n",
    "    legend=dict(yanchor=\"top\", y=0.99, xanchor=\"left\", x=0.01),\n",
    ")\n",
    "\n",
    "fig.show()"
   ]
  },
  {
   "cell_type": "code",
   "execution_count": 6,
   "id": "e308a1a3",
   "metadata": {},
   "outputs": [
    {
     "data": {
      "application/vnd.jupyter.widget-view+json": {
       "model_id": "206cd94ffbcb436ba414567b63ddaa7d",
       "version_major": 2,
       "version_minor": 0
      },
      "text/plain": [
       "  0%|          | 0/500 [00:00<?, ?it/s]"
      ]
     },
     "metadata": {},
     "output_type": "display_data"
    },
    {
     "data": {
      "application/vnd.jupyter.widget-view+json": {
       "model_id": "911de0e129014dc5b98c476a3e074330",
       "version_major": 2,
       "version_minor": 0
      },
      "text/plain": [
       "  0%|          | 0/500 [00:00<?, ?it/s]"
      ]
     },
     "metadata": {},
     "output_type": "display_data"
    },
    {
     "data": {
      "application/vnd.jupyter.widget-view+json": {
       "model_id": "ec96e06c14b145c082497db4bb166787",
       "version_major": 2,
       "version_minor": 0
      },
      "text/plain": [
       "  0%|          | 0/500 [00:00<?, ?it/s]"
      ]
     },
     "metadata": {},
     "output_type": "display_data"
    },
    {
     "data": {
      "application/vnd.jupyter.widget-view+json": {
       "model_id": "1b1cba08b66143cabbc9d3477b11f4b8",
       "version_major": 2,
       "version_minor": 0
      },
      "text/plain": [
       "  0%|          | 0/500 [00:00<?, ?it/s]"
      ]
     },
     "metadata": {},
     "output_type": "display_data"
    }
   ],
   "source": [
    "n: int = 500\n",
    "cnt: int = 50\n",
    "v: float = 3\n",
    "alpha: float = 1\n",
    "mc_iter: int = 500\n",
    "\n",
    "gen: Generator = Generator(v, alpha, size=n)\n",
    "knn_f: List[float] = [GraphKnn(gen.get_f()).calc_metric() for _ in tqdm(range(mc_iter))]\n",
    "knn_h: List[float] = [GraphKnn(gen.get_h()).calc_metric() for _ in tqdm(range(mc_iter))]\n",
    "    \n",
    "dist_f: List[float] = [GraphDist(gen.get_f()).calc_metric() for _ in tqdm(range(mc_iter))]\n",
    "dist_h: List[float] = [GraphDist(gen.get_h()).calc_metric() for _ in tqdm(range(mc_iter))]\n",
    "\n",
    "a: float = 0.05\n",
    "knn_thr: float = sorted(knn_f)[int((1-a)*len(knn_f))]\n",
    "dist_thr: float = sorted(dist_f)[int((1-a)*len(dist_f))]\n",
    "\n",
    "knn_pow: int = sum(np.array(knn_h) > knn_thr)\n",
    "dist_pow: int = sum(np.array(dist_h) > dist_thr)\n"
   ]
  },
  {
   "cell_type": "code",
   "execution_count": 7,
   "id": "85df7cd2",
   "metadata": {},
   "outputs": [
    {
     "data": {
      "application/vnd.plotly.v1+json": {
       "config": {
        "plotlyServerURL": "https://plot.ly"
       },
       "data": [
        {
         "histnorm": "probability density",
         "marker": {
          "color": "blue"
         },
         "name": "KNN f (H0)",
         "nbinsx": 30,
         "opacity": 0.7,
         "type": "histogram",
         "x": [
          1,
          3,
          0,
          0,
          2,
          1,
          1,
          1,
          3,
          2,
          1,
          0,
          0,
          1,
          0,
          2,
          0,
          1,
          0,
          0,
          2,
          0,
          0,
          1,
          0,
          0,
          1,
          2,
          0,
          1,
          1,
          0,
          0,
          1,
          0,
          1,
          0,
          0,
          0,
          1,
          0,
          2,
          1,
          2,
          1,
          2,
          2,
          1,
          0,
          0,
          2,
          0,
          0,
          1,
          1,
          0,
          2,
          0,
          1,
          1,
          0,
          1,
          2,
          2,
          1,
          1,
          3,
          0,
          1,
          1,
          1,
          1,
          1,
          2,
          0,
          1,
          3,
          2,
          0,
          0,
          2,
          2,
          0,
          4,
          1,
          0,
          2,
          5,
          1,
          5,
          0,
          1,
          1,
          0,
          0,
          2,
          2,
          1,
          1,
          3,
          1,
          0,
          1,
          2,
          1,
          0,
          2,
          2,
          1,
          1,
          3,
          0,
          1,
          1,
          0,
          0,
          3,
          4,
          0,
          3,
          1,
          0,
          2,
          0,
          0,
          1,
          1,
          0,
          2,
          3,
          2,
          0,
          1,
          0,
          3,
          1,
          1,
          0,
          0,
          0,
          1,
          1,
          1,
          1,
          2,
          1,
          1,
          2,
          0,
          1,
          0,
          0,
          1,
          2,
          1,
          1,
          0,
          0,
          1,
          0,
          1,
          0,
          3,
          1,
          2,
          1,
          2,
          0,
          4,
          0,
          2,
          3,
          1,
          0,
          1,
          0,
          0,
          1,
          2,
          0,
          1,
          1,
          0,
          1,
          1,
          2,
          1,
          1,
          1,
          0,
          2,
          2,
          0,
          1,
          2,
          2,
          0,
          0,
          0,
          2,
          0,
          0,
          1,
          0,
          1,
          0,
          3,
          1,
          2,
          8,
          0,
          0,
          3,
          1,
          3,
          0,
          1,
          0,
          0,
          3,
          2,
          1,
          1,
          3,
          2,
          3,
          1,
          2,
          1,
          1,
          0,
          2,
          2,
          0,
          1,
          1,
          4,
          1,
          2,
          1,
          0,
          1,
          0,
          1,
          0,
          4,
          1,
          1,
          0,
          2,
          0,
          1,
          1,
          0,
          1,
          2,
          3,
          0,
          2,
          0,
          0,
          0,
          2,
          3,
          1,
          2,
          0,
          0,
          1,
          2,
          0,
          0,
          4,
          1,
          2,
          1,
          0,
          2,
          1,
          0,
          0,
          0,
          1,
          0,
          1,
          2,
          2,
          1,
          0,
          0,
          3,
          5,
          0,
          2,
          0,
          0,
          0,
          1,
          1,
          0,
          0,
          1,
          1,
          1,
          1,
          0,
          3,
          0,
          3,
          0,
          1,
          3,
          2,
          1,
          0,
          1,
          0,
          1,
          0,
          0,
          1,
          1,
          2,
          0,
          1,
          4,
          0,
          1,
          0,
          1,
          0,
          0,
          2,
          0,
          1,
          1,
          0,
          0,
          2,
          0,
          1,
          1,
          1,
          1,
          0,
          1,
          0,
          2,
          0,
          1,
          0,
          3,
          0,
          0,
          0,
          1,
          2,
          1,
          1,
          1,
          2,
          0,
          2,
          1,
          1,
          0,
          4,
          0,
          0,
          0,
          2,
          1,
          1,
          0,
          0,
          1,
          1,
          1,
          1,
          1,
          0,
          2,
          1,
          1,
          4,
          2,
          1,
          0,
          0,
          1,
          0,
          1,
          0,
          3,
          1,
          1,
          3,
          1,
          0,
          0,
          0,
          3,
          1,
          2,
          3,
          1,
          1,
          1,
          0,
          1,
          3,
          1,
          1,
          3,
          1,
          0,
          1,
          0,
          3,
          1,
          1,
          0,
          1,
          0,
          1,
          2,
          0,
          0,
          1,
          1,
          1,
          1,
          2,
          1,
          1,
          1,
          3,
          1,
          1,
          2,
          1,
          2,
          2,
          3,
          1,
          2,
          1,
          1,
          0,
          2,
          1,
          0,
          0,
          0,
          3,
          2,
          1,
          4,
          0,
          2,
          1,
          2,
          3,
          2,
          1,
          1,
          2,
          1,
          2,
          0,
          2,
          0,
          0,
          3,
          1,
          1,
          0,
          0,
          3,
          0,
          1,
          0,
          3,
          0,
          3,
          0,
          5,
          3,
          1,
          0,
          2,
          0,
          0,
          1,
          0,
          1,
          0,
          4,
          2,
          1
         ],
         "xaxis": "x",
         "yaxis": "y"
        },
        {
         "histnorm": "probability density",
         "marker": {
          "color": "red"
         },
         "name": "KNN h (H1)",
         "nbinsx": 30,
         "opacity": 0.7,
         "type": "histogram",
         "x": [
          0,
          0,
          4,
          2,
          2,
          0,
          1,
          0,
          0,
          2,
          2,
          1,
          1,
          0,
          1,
          1,
          1,
          0,
          0,
          2,
          1,
          2,
          1,
          0,
          3,
          1,
          0,
          0,
          2,
          1,
          4,
          2,
          1,
          0,
          1,
          0,
          0,
          1,
          1,
          0,
          2,
          2,
          1,
          1,
          3,
          2,
          0,
          1,
          1,
          1,
          0,
          2,
          1,
          3,
          1,
          3,
          0,
          3,
          2,
          2,
          1,
          4,
          1,
          2,
          0,
          2,
          0,
          1,
          2,
          0,
          0,
          1,
          0,
          1,
          1,
          2,
          0,
          3,
          1,
          0,
          2,
          0,
          2,
          1,
          1,
          0,
          1,
          1,
          3,
          2,
          1,
          1,
          0,
          2,
          0,
          1,
          1,
          2,
          2,
          2,
          1,
          2,
          2,
          3,
          1,
          0,
          2,
          0,
          0,
          1,
          0,
          1,
          0,
          1,
          2,
          2,
          0,
          4,
          0,
          2,
          2,
          0,
          0,
          1,
          2,
          1,
          2,
          1,
          2,
          0,
          1,
          0,
          1,
          1,
          1,
          3,
          0,
          2,
          0,
          1,
          0,
          2,
          1,
          4,
          1,
          1,
          2,
          1,
          4,
          1,
          1,
          0,
          0,
          0,
          0,
          2,
          0,
          1,
          0,
          0,
          2,
          2,
          1,
          0,
          1,
          0,
          0,
          1,
          0,
          1,
          1,
          1,
          1,
          0,
          0,
          1,
          1,
          0,
          1,
          0,
          1,
          1,
          1,
          1,
          0,
          1,
          0,
          0,
          0,
          1,
          2,
          0,
          1,
          2,
          0,
          0,
          3,
          0,
          1,
          0,
          3,
          0,
          0,
          1,
          3,
          1,
          1,
          0,
          0,
          0,
          2,
          1,
          2,
          1,
          0,
          2,
          3,
          1,
          1,
          4,
          0,
          0,
          2,
          2,
          2,
          0,
          1,
          1,
          1,
          0,
          0,
          1,
          0,
          1,
          4,
          1,
          2,
          0,
          2,
          0,
          0,
          3,
          1,
          0,
          2,
          2,
          3,
          2,
          0,
          0,
          0,
          0,
          1,
          2,
          2,
          0,
          2,
          3,
          0,
          1,
          0,
          3,
          1,
          2,
          0,
          0,
          1,
          1,
          1,
          1,
          0,
          1,
          3,
          1,
          2,
          3,
          0,
          2,
          1,
          1,
          3,
          1,
          1,
          1,
          1,
          4,
          0,
          1,
          1,
          3,
          0,
          0,
          0,
          1,
          3,
          0,
          3,
          0,
          1,
          1,
          2,
          0,
          1,
          0,
          0,
          2,
          2,
          1,
          2,
          2,
          0,
          0,
          1,
          0,
          4,
          2,
          0,
          2,
          0,
          2,
          0,
          2,
          0,
          0,
          1,
          4,
          1,
          0,
          2,
          2,
          1,
          0,
          1,
          0,
          4,
          0,
          2,
          1,
          0,
          6,
          2,
          1,
          2,
          0,
          0,
          1,
          4,
          0,
          0,
          0,
          2,
          1,
          1,
          3,
          1,
          1,
          2,
          1,
          0,
          0,
          0,
          2,
          0,
          1,
          2,
          2,
          3,
          0,
          2,
          0,
          2,
          2,
          1,
          6,
          1,
          1,
          1,
          0,
          1,
          1,
          3,
          2,
          3,
          0,
          5,
          1,
          0,
          1,
          2,
          1,
          5,
          1,
          4,
          0,
          3,
          0,
          2,
          2,
          2,
          0,
          2,
          1,
          0,
          0,
          2,
          1,
          1,
          1,
          0,
          1,
          1,
          0,
          0,
          1,
          1,
          1,
          0,
          1,
          0,
          1,
          1,
          1,
          1,
          2,
          1,
          1,
          2,
          1,
          4,
          2,
          1,
          0,
          1,
          2,
          1,
          1,
          0,
          3,
          2,
          0,
          0,
          3,
          2,
          2,
          3,
          2,
          1,
          1,
          2,
          0,
          1,
          1,
          1,
          0,
          2,
          2,
          3,
          1,
          1,
          0,
          2,
          0,
          2,
          1,
          2,
          1,
          1,
          2,
          3,
          2,
          3,
          3,
          2,
          0,
          1,
          2,
          0,
          5,
          1,
          1,
          2,
          0,
          0,
          0,
          1,
          0,
          0,
          0,
          0,
          0,
          0,
          4,
          0,
          1,
          5,
          0,
          0,
          0,
          0,
          1
         ],
         "xaxis": "x",
         "yaxis": "y"
        },
        {
         "histnorm": "probability density",
         "marker": {
          "color": "lightblue"
         },
         "name": "Distance f (H0)",
         "nbinsx": 30,
         "opacity": 0.7,
         "showlegend": false,
         "type": "histogram",
         "x": [
          12,
          11,
          12,
          11,
          11,
          11,
          13,
          12,
          13,
          12,
          12,
          12,
          12,
          12,
          14,
          12,
          11,
          13,
          11,
          12,
          12,
          11,
          12,
          11,
          12,
          12,
          13,
          11,
          12,
          12,
          13,
          12,
          12,
          12,
          12,
          11,
          11,
          13,
          11,
          12,
          12,
          12,
          13,
          12,
          11,
          12,
          11,
          12,
          10,
          12,
          13,
          11,
          13,
          11,
          12,
          12,
          11,
          13,
          11,
          13,
          12,
          13,
          12,
          12,
          12,
          12,
          12,
          12,
          13,
          13,
          10,
          11,
          12,
          11,
          13,
          12,
          12,
          11,
          12,
          12,
          12,
          12,
          11,
          13,
          10,
          12,
          11,
          12,
          12,
          11,
          13,
          12,
          11,
          11,
          11,
          12,
          11,
          11,
          12,
          12,
          12,
          11,
          11,
          14,
          12,
          12,
          12,
          11,
          11,
          11,
          12,
          11,
          11,
          12,
          11,
          12,
          12,
          11,
          13,
          12,
          11,
          12,
          13,
          12,
          11,
          12,
          11,
          11,
          12,
          12,
          11,
          12,
          12,
          12,
          11,
          10,
          12,
          12,
          11,
          11,
          11,
          12,
          12,
          12,
          12,
          13,
          11,
          13,
          11,
          13,
          12,
          11,
          12,
          12,
          12,
          12,
          10,
          14,
          11,
          12,
          13,
          13,
          12,
          12,
          14,
          12,
          11,
          12,
          12,
          12,
          12,
          14,
          13,
          12,
          11,
          12,
          12,
          13,
          11,
          12,
          12,
          11,
          11,
          13,
          13,
          11,
          12,
          12,
          12,
          12,
          13,
          12,
          12,
          13,
          11,
          12,
          11,
          12,
          11,
          10,
          11,
          13,
          12,
          12,
          11,
          11,
          12,
          12,
          12,
          12,
          12,
          15,
          11,
          12,
          12,
          12,
          12,
          13,
          13,
          14,
          11,
          12,
          12,
          11,
          13,
          11,
          11,
          12,
          13,
          13,
          13,
          12,
          12,
          11,
          12,
          14,
          12,
          11,
          11,
          13,
          12,
          12,
          11,
          12,
          12,
          12,
          13,
          12,
          12,
          12,
          12,
          12,
          12,
          12,
          12,
          11,
          13,
          11,
          12,
          13,
          12,
          11,
          11,
          11,
          13,
          11,
          11,
          11,
          12,
          13,
          12,
          12,
          13,
          12,
          13,
          13,
          11,
          11,
          12,
          13,
          12,
          11,
          11,
          12,
          12,
          11,
          12,
          13,
          12,
          14,
          13,
          12,
          11,
          11,
          11,
          13,
          11,
          11,
          11,
          12,
          11,
          11,
          13,
          11,
          10,
          11,
          12,
          13,
          12,
          12,
          12,
          11,
          12,
          12,
          12,
          11,
          12,
          11,
          13,
          13,
          13,
          11,
          12,
          12,
          11,
          11,
          12,
          11,
          12,
          12,
          12,
          12,
          12,
          12,
          11,
          11,
          12,
          11,
          12,
          12,
          11,
          13,
          13,
          11,
          10,
          12,
          11,
          11,
          11,
          13,
          13,
          12,
          11,
          12,
          11,
          10,
          12,
          12,
          11,
          12,
          11,
          12,
          13,
          12,
          12,
          12,
          11,
          12,
          12,
          12,
          12,
          12,
          12,
          12,
          13,
          12,
          13,
          13,
          11,
          12,
          11,
          13,
          12,
          11,
          11,
          12,
          12,
          12,
          11,
          11,
          11,
          14,
          12,
          12,
          13,
          13,
          11,
          13,
          11,
          12,
          11,
          12,
          13,
          13,
          11,
          10,
          13,
          12,
          13,
          13,
          13,
          12,
          12,
          12,
          13,
          11,
          11,
          12,
          13,
          14,
          12,
          11,
          11,
          12,
          13,
          12,
          12,
          13,
          12,
          12,
          12,
          11,
          12,
          11,
          11,
          12,
          13,
          11,
          11,
          12,
          12,
          11,
          12,
          11,
          12,
          10,
          11,
          11,
          13,
          12,
          11,
          11,
          13,
          11,
          12,
          12,
          11,
          12,
          11,
          12,
          12,
          12,
          12,
          13,
          11,
          12,
          13,
          12,
          13,
          12,
          12,
          11,
          12,
          12,
          11,
          11,
          13,
          12,
          10,
          12,
          13,
          12,
          12,
          12,
          13,
          12,
          11,
          12,
          12,
          12,
          13,
          12,
          11,
          12,
          11,
          12,
          12,
          11,
          11,
          11
         ],
         "xaxis": "x2",
         "yaxis": "y2"
        },
        {
         "histnorm": "probability density",
         "marker": {
          "color": "orange"
         },
         "name": "Distance h (H1)",
         "nbinsx": 30,
         "opacity": 0.7,
         "showlegend": false,
         "type": "histogram",
         "x": [
          26,
          26,
          23,
          21,
          28,
          22,
          25,
          22,
          20,
          22,
          24,
          20,
          20,
          20,
          22,
          27,
          21,
          25,
          22,
          20,
          22,
          23,
          24,
          19,
          19,
          25,
          26,
          23,
          18,
          20,
          23,
          23,
          23,
          23,
          18,
          21,
          25,
          25,
          22,
          24,
          20,
          23,
          23,
          25,
          24,
          20,
          25,
          22,
          25,
          21,
          24,
          22,
          22,
          20,
          21,
          21,
          22,
          25,
          21,
          20,
          22,
          20,
          22,
          21,
          22,
          25,
          25,
          23,
          23,
          28,
          23,
          19,
          18,
          24,
          24,
          20,
          22,
          21,
          19,
          24,
          24,
          21,
          22,
          23,
          20,
          23,
          19,
          18,
          25,
          24,
          22,
          26,
          22,
          23,
          25,
          23,
          26,
          22,
          22,
          20,
          24,
          20,
          24,
          22,
          20,
          21,
          19,
          23,
          26,
          24,
          22,
          22,
          21,
          26,
          24,
          23,
          23,
          22,
          21,
          20,
          23,
          23,
          24,
          25,
          21,
          28,
          26,
          22,
          24,
          28,
          25,
          24,
          25,
          21,
          25,
          19,
          23,
          24,
          22,
          23,
          23,
          27,
          24,
          19,
          21,
          21,
          22,
          20,
          25,
          21,
          23,
          22,
          20,
          19,
          21,
          23,
          24,
          23,
          21,
          24,
          23,
          22,
          23,
          23,
          23,
          22,
          23,
          23,
          21,
          25,
          23,
          23,
          25,
          22,
          21,
          21,
          21,
          18,
          24,
          22,
          27,
          23,
          20,
          21,
          20,
          18,
          24,
          27,
          26,
          22,
          22,
          22,
          22,
          24,
          22,
          24,
          26,
          23,
          23,
          24,
          20,
          21,
          28,
          24,
          24,
          27,
          20,
          22,
          22,
          23,
          27,
          22,
          22,
          22,
          23,
          25,
          24,
          25,
          25,
          24,
          23,
          25,
          20,
          24,
          21,
          24,
          21,
          23,
          21,
          21,
          21,
          24,
          22,
          23,
          21,
          24,
          24,
          24,
          23,
          24,
          26,
          24,
          25,
          20,
          23,
          24,
          23,
          20,
          24,
          22,
          23,
          22,
          22,
          18,
          21,
          21,
          22,
          24,
          20,
          23,
          21,
          23,
          22,
          23,
          25,
          20,
          21,
          21,
          21,
          22,
          20,
          25,
          24,
          23,
          21,
          21,
          26,
          22,
          23,
          23,
          20,
          23,
          20,
          23,
          24,
          22,
          24,
          21,
          21,
          22,
          22,
          26,
          23,
          20,
          23,
          21,
          22,
          26,
          24,
          24,
          22,
          25,
          21,
          23,
          23,
          24,
          20,
          24,
          22,
          23,
          21,
          23,
          25,
          25,
          23,
          25,
          20,
          23,
          23,
          22,
          25,
          22,
          21,
          24,
          23,
          19,
          21,
          24,
          25,
          24,
          23,
          23,
          20,
          24,
          23,
          23,
          22,
          23,
          23,
          23,
          22,
          21,
          23,
          20,
          25,
          22,
          21,
          20,
          26,
          25,
          20,
          21,
          21,
          19,
          21,
          29,
          21,
          23,
          22,
          19,
          21,
          22,
          23,
          24,
          22,
          27,
          22,
          21,
          21,
          22,
          21,
          22,
          21,
          20,
          20,
          23,
          23,
          22,
          21,
          21,
          21,
          24,
          24,
          24,
          26,
          21,
          23,
          21,
          23,
          23,
          19,
          22,
          24,
          26,
          22,
          22,
          23,
          22,
          23,
          23,
          24,
          19,
          22,
          19,
          23,
          24,
          20,
          26,
          22,
          21,
          24,
          21,
          22,
          22,
          22,
          25,
          23,
          24,
          24,
          20,
          25,
          22,
          23,
          21,
          21,
          27,
          25,
          23,
          22,
          22,
          21,
          25,
          22,
          22,
          27,
          25,
          23,
          18,
          23,
          22,
          23,
          25,
          23,
          25,
          20,
          23,
          23,
          23,
          24,
          24,
          25,
          22,
          23,
          22,
          25,
          23,
          20,
          24,
          24,
          26,
          23,
          18,
          22,
          25,
          23,
          24,
          21,
          22,
          21,
          21,
          19,
          25,
          22,
          24,
          20,
          24,
          22,
          22,
          23,
          20,
          28,
          25,
          23,
          24,
          23,
          23,
          24,
          22,
          25,
          24,
          20,
          23,
          23,
          25,
          18,
          27,
          20,
          22,
          22,
          25
         ],
         "xaxis": "x2",
         "yaxis": "y2"
        },
        {
         "line": {
          "color": "purple",
          "width": 2
         },
         "marker": {
          "size": 4
         },
         "mode": "lines+markers",
         "name": "KNN ROC",
         "showlegend": false,
         "type": "scatter",
         "x": [
          0.656,
          0.656,
          0.656,
          0.656,
          0.656,
          0.656,
          0.656,
          0.284,
          0.284,
          0.284,
          0.284,
          0.284,
          0.284,
          0.114,
          0.114,
          0.114,
          0.114,
          0.114,
          0.114,
          0.032,
          0.032,
          0.032,
          0.032,
          0.032,
          0.032,
          0.01,
          0.01,
          0.01,
          0.01,
          0.01,
          0.01,
          0.002,
          0.002,
          0.002,
          0.002,
          0.002,
          0.002,
          0.002,
          0.002,
          0.002,
          0.002,
          0.002,
          0.002,
          0.002,
          0.002,
          0.002,
          0.002,
          0.002,
          0.002,
          0
         ],
         "xaxis": "x3",
         "y": [
          0.672,
          0.672,
          0.672,
          0.672,
          0.672,
          0.672,
          0.672,
          0.33,
          0.33,
          0.33,
          0.33,
          0.33,
          0.33,
          0.114,
          0.114,
          0.114,
          0.114,
          0.114,
          0.114,
          0.044,
          0.044,
          0.044,
          0.044,
          0.044,
          0.044,
          0.012,
          0.012,
          0.012,
          0.012,
          0.012,
          0.012,
          0.004,
          0.004,
          0.004,
          0.004,
          0.004,
          0.004,
          0,
          0,
          0,
          0,
          0,
          0,
          0,
          0,
          0,
          0,
          0,
          0,
          0
         ],
         "yaxis": "y3"
        },
        {
         "marker": {
          "color": "red",
          "size": 12,
          "symbol": "star"
         },
         "mode": "markers",
         "name": "α=0.05",
         "showlegend": false,
         "type": "scatter",
         "x": [
          0.032
         ],
         "xaxis": "x3",
         "y": [
          0.044
         ],
         "yaxis": "y3"
        },
        {
         "line": {
          "color": "darkgreen",
          "width": 2
         },
         "marker": {
          "size": 4
         },
         "mode": "lines+markers",
         "name": "Distance ROC",
         "showlegend": false,
         "type": "scatter",
         "x": [
          0.976,
          0.976,
          0.976,
          0.976,
          0.976,
          0.976,
          0.976,
          0.976,
          0.976,
          0.976,
          0.668,
          0.668,
          0.668,
          0.668,
          0.668,
          0.668,
          0.668,
          0.668,
          0.668,
          0.668,
          0.196,
          0.196,
          0.196,
          0.196,
          0.196,
          0.196,
          0.196,
          0.196,
          0.196,
          0.196,
          0.022,
          0.022,
          0.022,
          0.022,
          0.022,
          0.022,
          0.022,
          0.022,
          0.022,
          0.022,
          0.002,
          0.002,
          0.002,
          0.002,
          0.002,
          0.002,
          0.002,
          0.002,
          0.002,
          0
         ],
         "xaxis": "x4",
         "y": [
          1,
          1,
          1,
          1,
          1,
          1,
          1,
          1,
          1,
          1,
          1,
          1,
          1,
          1,
          1,
          1,
          1,
          1,
          1,
          1,
          1,
          1,
          1,
          1,
          1,
          1,
          1,
          1,
          1,
          1,
          1,
          1,
          1,
          1,
          1,
          1,
          1,
          1,
          1,
          1,
          1,
          1,
          1,
          1,
          1,
          1,
          1,
          1,
          1,
          1
         ],
         "yaxis": "y4"
        },
        {
         "marker": {
          "color": "red",
          "size": 12,
          "symbol": "star"
         },
         "mode": "markers",
         "name": "α=0.05",
         "showlegend": false,
         "type": "scatter",
         "x": [
          0.022
         ],
         "xaxis": "x4",
         "y": [
          1
         ],
         "yaxis": "y4"
        }
       ],
       "layout": {
        "annotations": [
         {
          "font": {
           "size": 16
          },
          "showarrow": false,
          "text": "KNN Metric: Распределения и трешолд",
          "x": 0.225,
          "xanchor": "center",
          "xref": "paper",
          "y": 1,
          "yanchor": "bottom",
          "yref": "paper"
         },
         {
          "font": {
           "size": 16
          },
          "showarrow": false,
          "text": "Distance Metric: Распределения и трешолд",
          "x": 0.775,
          "xanchor": "center",
          "xref": "paper",
          "y": 1,
          "yanchor": "bottom",
          "yref": "paper"
         },
         {
          "font": {
           "size": 16
          },
          "showarrow": false,
          "text": "KNN: ROC-подобная кривая",
          "x": 0.225,
          "xanchor": "center",
          "xref": "paper",
          "y": 0.44,
          "yanchor": "bottom",
          "yref": "paper"
         },
         {
          "font": {
           "size": 16
          },
          "showarrow": false,
          "text": "Distance: ROC-подобная кривая",
          "x": 0.775,
          "xanchor": "center",
          "xref": "paper",
          "y": 0.44,
          "yanchor": "bottom",
          "yref": "paper"
         },
         {
          "showarrow": false,
          "text": "Трешолд: 3.000",
          "x": 3,
          "xanchor": "left",
          "xref": "x",
          "y": 1,
          "yanchor": "top",
          "yref": "y domain"
         },
         {
          "showarrow": false,
          "text": "Трешолд: 13.000",
          "x": 13,
          "xanchor": "left",
          "xref": "x2",
          "y": 1,
          "yanchor": "top",
          "yref": "y2 domain"
         }
        ],
        "height": 800,
        "legend": {
         "x": 0.01,
         "xanchor": "left",
         "y": 0.98,
         "yanchor": "top"
        },
        "shapes": [
         {
          "line": {
           "color": "green",
           "dash": "dash",
           "width": 3
          },
          "type": "line",
          "x0": 3,
          "x1": 3,
          "xref": "x",
          "y0": 0,
          "y1": 1,
          "yref": "y domain"
         },
         {
          "line": {
           "color": "green",
           "dash": "dash",
           "width": 3
          },
          "type": "line",
          "x0": 13,
          "x1": 13,
          "xref": "x2",
          "y0": 0,
          "y1": 1,
          "yref": "y2 domain"
         }
        ],
        "showlegend": true,
        "template": {
         "data": {
          "bar": [
           {
            "error_x": {
             "color": "#2a3f5f"
            },
            "error_y": {
             "color": "#2a3f5f"
            },
            "marker": {
             "line": {
              "color": "#E5ECF6",
              "width": 0.5
             },
             "pattern": {
              "fillmode": "overlay",
              "size": 10,
              "solidity": 0.2
             }
            },
            "type": "bar"
           }
          ],
          "barpolar": [
           {
            "marker": {
             "line": {
              "color": "#E5ECF6",
              "width": 0.5
             },
             "pattern": {
              "fillmode": "overlay",
              "size": 10,
              "solidity": 0.2
             }
            },
            "type": "barpolar"
           }
          ],
          "carpet": [
           {
            "aaxis": {
             "endlinecolor": "#2a3f5f",
             "gridcolor": "white",
             "linecolor": "white",
             "minorgridcolor": "white",
             "startlinecolor": "#2a3f5f"
            },
            "baxis": {
             "endlinecolor": "#2a3f5f",
             "gridcolor": "white",
             "linecolor": "white",
             "minorgridcolor": "white",
             "startlinecolor": "#2a3f5f"
            },
            "type": "carpet"
           }
          ],
          "choropleth": [
           {
            "colorbar": {
             "outlinewidth": 0,
             "ticks": ""
            },
            "type": "choropleth"
           }
          ],
          "contour": [
           {
            "colorbar": {
             "outlinewidth": 0,
             "ticks": ""
            },
            "colorscale": [
             [
              0,
              "#0d0887"
             ],
             [
              0.1111111111111111,
              "#46039f"
             ],
             [
              0.2222222222222222,
              "#7201a8"
             ],
             [
              0.3333333333333333,
              "#9c179e"
             ],
             [
              0.4444444444444444,
              "#bd3786"
             ],
             [
              0.5555555555555556,
              "#d8576b"
             ],
             [
              0.6666666666666666,
              "#ed7953"
             ],
             [
              0.7777777777777778,
              "#fb9f3a"
             ],
             [
              0.8888888888888888,
              "#fdca26"
             ],
             [
              1,
              "#f0f921"
             ]
            ],
            "type": "contour"
           }
          ],
          "contourcarpet": [
           {
            "colorbar": {
             "outlinewidth": 0,
             "ticks": ""
            },
            "type": "contourcarpet"
           }
          ],
          "heatmap": [
           {
            "colorbar": {
             "outlinewidth": 0,
             "ticks": ""
            },
            "colorscale": [
             [
              0,
              "#0d0887"
             ],
             [
              0.1111111111111111,
              "#46039f"
             ],
             [
              0.2222222222222222,
              "#7201a8"
             ],
             [
              0.3333333333333333,
              "#9c179e"
             ],
             [
              0.4444444444444444,
              "#bd3786"
             ],
             [
              0.5555555555555556,
              "#d8576b"
             ],
             [
              0.6666666666666666,
              "#ed7953"
             ],
             [
              0.7777777777777778,
              "#fb9f3a"
             ],
             [
              0.8888888888888888,
              "#fdca26"
             ],
             [
              1,
              "#f0f921"
             ]
            ],
            "type": "heatmap"
           }
          ],
          "histogram": [
           {
            "marker": {
             "pattern": {
              "fillmode": "overlay",
              "size": 10,
              "solidity": 0.2
             }
            },
            "type": "histogram"
           }
          ],
          "histogram2d": [
           {
            "colorbar": {
             "outlinewidth": 0,
             "ticks": ""
            },
            "colorscale": [
             [
              0,
              "#0d0887"
             ],
             [
              0.1111111111111111,
              "#46039f"
             ],
             [
              0.2222222222222222,
              "#7201a8"
             ],
             [
              0.3333333333333333,
              "#9c179e"
             ],
             [
              0.4444444444444444,
              "#bd3786"
             ],
             [
              0.5555555555555556,
              "#d8576b"
             ],
             [
              0.6666666666666666,
              "#ed7953"
             ],
             [
              0.7777777777777778,
              "#fb9f3a"
             ],
             [
              0.8888888888888888,
              "#fdca26"
             ],
             [
              1,
              "#f0f921"
             ]
            ],
            "type": "histogram2d"
           }
          ],
          "histogram2dcontour": [
           {
            "colorbar": {
             "outlinewidth": 0,
             "ticks": ""
            },
            "colorscale": [
             [
              0,
              "#0d0887"
             ],
             [
              0.1111111111111111,
              "#46039f"
             ],
             [
              0.2222222222222222,
              "#7201a8"
             ],
             [
              0.3333333333333333,
              "#9c179e"
             ],
             [
              0.4444444444444444,
              "#bd3786"
             ],
             [
              0.5555555555555556,
              "#d8576b"
             ],
             [
              0.6666666666666666,
              "#ed7953"
             ],
             [
              0.7777777777777778,
              "#fb9f3a"
             ],
             [
              0.8888888888888888,
              "#fdca26"
             ],
             [
              1,
              "#f0f921"
             ]
            ],
            "type": "histogram2dcontour"
           }
          ],
          "mesh3d": [
           {
            "colorbar": {
             "outlinewidth": 0,
             "ticks": ""
            },
            "type": "mesh3d"
           }
          ],
          "parcoords": [
           {
            "line": {
             "colorbar": {
              "outlinewidth": 0,
              "ticks": ""
             }
            },
            "type": "parcoords"
           }
          ],
          "pie": [
           {
            "automargin": true,
            "type": "pie"
           }
          ],
          "scatter": [
           {
            "fillpattern": {
             "fillmode": "overlay",
             "size": 10,
             "solidity": 0.2
            },
            "type": "scatter"
           }
          ],
          "scatter3d": [
           {
            "line": {
             "colorbar": {
              "outlinewidth": 0,
              "ticks": ""
             }
            },
            "marker": {
             "colorbar": {
              "outlinewidth": 0,
              "ticks": ""
             }
            },
            "type": "scatter3d"
           }
          ],
          "scattercarpet": [
           {
            "marker": {
             "colorbar": {
              "outlinewidth": 0,
              "ticks": ""
             }
            },
            "type": "scattercarpet"
           }
          ],
          "scattergeo": [
           {
            "marker": {
             "colorbar": {
              "outlinewidth": 0,
              "ticks": ""
             }
            },
            "type": "scattergeo"
           }
          ],
          "scattergl": [
           {
            "marker": {
             "colorbar": {
              "outlinewidth": 0,
              "ticks": ""
             }
            },
            "type": "scattergl"
           }
          ],
          "scattermap": [
           {
            "marker": {
             "colorbar": {
              "outlinewidth": 0,
              "ticks": ""
             }
            },
            "type": "scattermap"
           }
          ],
          "scattermapbox": [
           {
            "marker": {
             "colorbar": {
              "outlinewidth": 0,
              "ticks": ""
             }
            },
            "type": "scattermapbox"
           }
          ],
          "scatterpolar": [
           {
            "marker": {
             "colorbar": {
              "outlinewidth": 0,
              "ticks": ""
             }
            },
            "type": "scatterpolar"
           }
          ],
          "scatterpolargl": [
           {
            "marker": {
             "colorbar": {
              "outlinewidth": 0,
              "ticks": ""
             }
            },
            "type": "scatterpolargl"
           }
          ],
          "scatterternary": [
           {
            "marker": {
             "colorbar": {
              "outlinewidth": 0,
              "ticks": ""
             }
            },
            "type": "scatterternary"
           }
          ],
          "surface": [
           {
            "colorbar": {
             "outlinewidth": 0,
             "ticks": ""
            },
            "colorscale": [
             [
              0,
              "#0d0887"
             ],
             [
              0.1111111111111111,
              "#46039f"
             ],
             [
              0.2222222222222222,
              "#7201a8"
             ],
             [
              0.3333333333333333,
              "#9c179e"
             ],
             [
              0.4444444444444444,
              "#bd3786"
             ],
             [
              0.5555555555555556,
              "#d8576b"
             ],
             [
              0.6666666666666666,
              "#ed7953"
             ],
             [
              0.7777777777777778,
              "#fb9f3a"
             ],
             [
              0.8888888888888888,
              "#fdca26"
             ],
             [
              1,
              "#f0f921"
             ]
            ],
            "type": "surface"
           }
          ],
          "table": [
           {
            "cells": {
             "fill": {
              "color": "#EBF0F8"
             },
             "line": {
              "color": "white"
             }
            },
            "header": {
             "fill": {
              "color": "#C8D4E3"
             },
             "line": {
              "color": "white"
             }
            },
            "type": "table"
           }
          ]
         },
         "layout": {
          "annotationdefaults": {
           "arrowcolor": "#2a3f5f",
           "arrowhead": 0,
           "arrowwidth": 1
          },
          "autotypenumbers": "strict",
          "coloraxis": {
           "colorbar": {
            "outlinewidth": 0,
            "ticks": ""
           }
          },
          "colorscale": {
           "diverging": [
            [
             0,
             "#8e0152"
            ],
            [
             0.1,
             "#c51b7d"
            ],
            [
             0.2,
             "#de77ae"
            ],
            [
             0.3,
             "#f1b6da"
            ],
            [
             0.4,
             "#fde0ef"
            ],
            [
             0.5,
             "#f7f7f7"
            ],
            [
             0.6,
             "#e6f5d0"
            ],
            [
             0.7,
             "#b8e186"
            ],
            [
             0.8,
             "#7fbc41"
            ],
            [
             0.9,
             "#4d9221"
            ],
            [
             1,
             "#276419"
            ]
           ],
           "sequential": [
            [
             0,
             "#0d0887"
            ],
            [
             0.1111111111111111,
             "#46039f"
            ],
            [
             0.2222222222222222,
             "#7201a8"
            ],
            [
             0.3333333333333333,
             "#9c179e"
            ],
            [
             0.4444444444444444,
             "#bd3786"
            ],
            [
             0.5555555555555556,
             "#d8576b"
            ],
            [
             0.6666666666666666,
             "#ed7953"
            ],
            [
             0.7777777777777778,
             "#fb9f3a"
            ],
            [
             0.8888888888888888,
             "#fdca26"
            ],
            [
             1,
             "#f0f921"
            ]
           ],
           "sequentialminus": [
            [
             0,
             "#0d0887"
            ],
            [
             0.1111111111111111,
             "#46039f"
            ],
            [
             0.2222222222222222,
             "#7201a8"
            ],
            [
             0.3333333333333333,
             "#9c179e"
            ],
            [
             0.4444444444444444,
             "#bd3786"
            ],
            [
             0.5555555555555556,
             "#d8576b"
            ],
            [
             0.6666666666666666,
             "#ed7953"
            ],
            [
             0.7777777777777778,
             "#fb9f3a"
            ],
            [
             0.8888888888888888,
             "#fdca26"
            ],
            [
             1,
             "#f0f921"
            ]
           ]
          },
          "colorway": [
           "#636efa",
           "#EF553B",
           "#00cc96",
           "#ab63fa",
           "#FFA15A",
           "#19d3f3",
           "#FF6692",
           "#B6E880",
           "#FF97FF",
           "#FECB52"
          ],
          "font": {
           "color": "#2a3f5f"
          },
          "geo": {
           "bgcolor": "white",
           "lakecolor": "white",
           "landcolor": "#E5ECF6",
           "showlakes": true,
           "showland": true,
           "subunitcolor": "white"
          },
          "hoverlabel": {
           "align": "left"
          },
          "hovermode": "closest",
          "mapbox": {
           "style": "light"
          },
          "paper_bgcolor": "white",
          "plot_bgcolor": "#E5ECF6",
          "polar": {
           "angularaxis": {
            "gridcolor": "white",
            "linecolor": "white",
            "ticks": ""
           },
           "bgcolor": "#E5ECF6",
           "radialaxis": {
            "gridcolor": "white",
            "linecolor": "white",
            "ticks": ""
           }
          },
          "scene": {
           "xaxis": {
            "backgroundcolor": "#E5ECF6",
            "gridcolor": "white",
            "gridwidth": 2,
            "linecolor": "white",
            "showbackground": true,
            "ticks": "",
            "zerolinecolor": "white"
           },
           "yaxis": {
            "backgroundcolor": "#E5ECF6",
            "gridcolor": "white",
            "gridwidth": 2,
            "linecolor": "white",
            "showbackground": true,
            "ticks": "",
            "zerolinecolor": "white"
           },
           "zaxis": {
            "backgroundcolor": "#E5ECF6",
            "gridcolor": "white",
            "gridwidth": 2,
            "linecolor": "white",
            "showbackground": true,
            "ticks": "",
            "zerolinecolor": "white"
           }
          },
          "shapedefaults": {
           "line": {
            "color": "#2a3f5f"
           }
          },
          "ternary": {
           "aaxis": {
            "gridcolor": "white",
            "linecolor": "white",
            "ticks": ""
           },
           "baxis": {
            "gridcolor": "white",
            "linecolor": "white",
            "ticks": ""
           },
           "bgcolor": "#E5ECF6",
           "caxis": {
            "gridcolor": "white",
            "linecolor": "white",
            "ticks": ""
           }
          },
          "title": {
           "x": 0.05
          },
          "xaxis": {
           "automargin": true,
           "gridcolor": "white",
           "linecolor": "white",
           "ticks": "",
           "title": {
            "standoff": 15
           },
           "zerolinecolor": "white",
           "zerolinewidth": 2
          },
          "yaxis": {
           "automargin": true,
           "gridcolor": "white",
           "linecolor": "white",
           "ticks": "",
           "title": {
            "standoff": 15
           },
           "zerolinecolor": "white",
           "zerolinewidth": 2
          }
         }
        },
        "title": {
         "text": "Анализ статистических тестов с трешолдом (α=0.05, n=500, iter=500)",
         "x": 0.5
        },
        "width": 1300,
        "xaxis": {
         "anchor": "y",
         "domain": [
          0,
          0.45
         ],
         "title": {
          "text": "Значение метрики"
         }
        },
        "xaxis2": {
         "anchor": "y2",
         "domain": [
          0.55,
          1
         ],
         "title": {
          "text": "Значение метрики"
         }
        },
        "xaxis3": {
         "anchor": "y3",
         "domain": [
          0,
          0.45
         ],
         "title": {
          "text": "Ложноположительная частота (FPR)"
         }
        },
        "xaxis4": {
         "anchor": "y4",
         "domain": [
          0.55,
          1
         ],
         "title": {
          "text": "Ложноположительная частота (FPR)"
         }
        },
        "yaxis": {
         "anchor": "x",
         "domain": [
          0.56,
          1
         ],
         "title": {
          "text": "Плотность вероятности"
         }
        },
        "yaxis2": {
         "anchor": "x2",
         "domain": [
          0.56,
          1
         ],
         "title": {
          "text": "Плотность вероятности"
         }
        },
        "yaxis3": {
         "anchor": "x3",
         "domain": [
          0,
          0.44
         ],
         "title": {
          "text": "Мощность (TPR)"
         }
        },
        "yaxis4": {
         "anchor": "x4",
         "domain": [
          0,
          0.44
         ],
         "title": {
          "text": "Мощность (TPR)"
         }
        }
       }
      }
     },
     "metadata": {},
     "output_type": "display_data"
    }
   ],
   "source": [
    "fig = make_subplots(\n",
    "    rows=2,\n",
    "    cols=2,\n",
    "    subplot_titles=(\n",
    "        \"KNN Metric: Распределения и трешолд\",\n",
    "        \"Distance Metric: Распределения и трешолд\",\n",
    "        \"KNN: ROC-подобная кривая\",\n",
    "        \"Distance: ROC-подобная кривая\",\n",
    "    ),\n",
    "    specs=[\n",
    "        [{\"secondary_y\": False}, {\"secondary_y\": False}],\n",
    "        [{\"secondary_y\": False}, {\"secondary_y\": False}],\n",
    "    ],\n",
    "    vertical_spacing=0.12,\n",
    "    horizontal_spacing=0.1,\n",
    ")\n",
    "\n",
    "fig.add_trace(\n",
    "    go.Histogram(\n",
    "        x=knn_f,\n",
    "        name=\"KNN f (H0)\",\n",
    "        opacity=0.7,\n",
    "        nbinsx=30,\n",
    "        marker_color=\"blue\",\n",
    "        histnorm=\"probability density\",\n",
    "    ),\n",
    "    row=1,\n",
    "    col=1,\n",
    ")\n",
    "\n",
    "fig.add_trace(\n",
    "    go.Histogram(\n",
    "        x=knn_h,\n",
    "        name=\"KNN h (H1)\",\n",
    "        opacity=0.7,\n",
    "        nbinsx=30,\n",
    "        marker_color=\"red\",\n",
    "        histnorm=\"probability density\",\n",
    "    ),\n",
    "    row=1,\n",
    "    col=1,\n",
    ")\n",
    "\n",
    "fig.add_vline(\n",
    "    x=knn_thr,\n",
    "    line=dict(color=\"green\", width=3, dash=\"dash\"),\n",
    "    annotation_text=f\"Трешолд: {knn_thr:.3f}\",\n",
    "    row=1,\n",
    "    col=1,\n",
    ")\n",
    "\n",
    "fig.add_trace(\n",
    "    go.Histogram(\n",
    "        x=dist_f,\n",
    "        name=\"Distance f (H0)\",\n",
    "        opacity=0.7,\n",
    "        nbinsx=30,\n",
    "        marker_color=\"lightblue\",\n",
    "        histnorm=\"probability density\",\n",
    "        showlegend=False,\n",
    "    ),\n",
    "    row=1,\n",
    "    col=2,\n",
    ")\n",
    "\n",
    "fig.add_trace(\n",
    "    go.Histogram(\n",
    "        x=dist_h,\n",
    "        name=\"Distance h (H1)\",\n",
    "        opacity=0.7,\n",
    "        nbinsx=30,\n",
    "        marker_color=\"orange\",\n",
    "        histnorm=\"probability density\",\n",
    "        showlegend=False,\n",
    "    ),\n",
    "    row=1,\n",
    "    col=2,\n",
    ")\n",
    "\n",
    "fig.add_vline(\n",
    "    x=dist_thr,\n",
    "    line=dict(color=\"green\", width=3, dash=\"dash\"),\n",
    "    annotation_text=f\"Трешолд: {dist_thr:.3f}\",\n",
    "    row=1,\n",
    "    col=2,\n",
    ")\n",
    "\n",
    "thresholds_knn: np.ndarray = np.linspace(min(knn_f), max(knn_f), 50)\n",
    "power_knn: List[float] = [\n",
    "    sum(np.array(knn_h) > thr) / len(knn_h) for thr in thresholds_knn\n",
    "]\n",
    "fpr_knn: List[float] = [\n",
    "    sum(np.array(knn_f) > thr) / len(knn_f) for thr in thresholds_knn\n",
    "]\n",
    "\n",
    "fig.add_trace(\n",
    "    go.Scatter(\n",
    "        x=fpr_knn,\n",
    "        y=power_knn,\n",
    "        mode=\"lines+markers\",\n",
    "        name=\"KNN ROC\",\n",
    "        line=dict(color=\"purple\", width=2),\n",
    "        marker=dict(size=4),\n",
    "        showlegend=False,\n",
    "    ),\n",
    "    row=2,\n",
    "    col=1,\n",
    ")\n",
    "\n",
    "current_fpr_knn: float = sum(np.array(knn_f) > knn_thr) / len(knn_f)\n",
    "current_power_knn: float = sum(np.array(knn_h) > knn_thr) / len(knn_h)\n",
    "fig.add_trace(\n",
    "    go.Scatter(\n",
    "        x=[current_fpr_knn],\n",
    "        y=[current_power_knn],\n",
    "        mode=\"markers\",\n",
    "        marker=dict(size=12, color=\"red\", symbol=\"star\"),\n",
    "        name=f\"α={a}\",\n",
    "        showlegend=False,\n",
    "    ),\n",
    "    row=2,\n",
    "    col=1,\n",
    ")\n",
    "\n",
    "thresholds_dist: np.ndarray = np.linspace(min(dist_f), max(dist_f), 50)\n",
    "power_dist: List[float] = [\n",
    "    sum(np.array(dist_h) > thr) / len(dist_h) for thr in thresholds_dist\n",
    "]\n",
    "fpr_dist: List[float] = [\n",
    "    sum(np.array(dist_f) > thr) / len(dist_f) for thr in thresholds_dist\n",
    "]\n",
    "\n",
    "fig.add_trace(\n",
    "    go.Scatter(\n",
    "        x=fpr_dist,\n",
    "        y=power_dist,\n",
    "        mode=\"lines+markers\",\n",
    "        name=\"Distance ROC\",\n",
    "        line=dict(color=\"darkgreen\", width=2),\n",
    "        marker=dict(size=4),\n",
    "        showlegend=False,\n",
    "    ),\n",
    "    row=2,\n",
    "    col=2,\n",
    ")\n",
    "\n",
    "current_fpr_dist: float = sum(np.array(dist_f) > dist_thr) / len(dist_f)\n",
    "current_power_dist: float = sum(np.array(dist_h) > dist_thr) / len(dist_h)\n",
    "fig.add_trace(\n",
    "    go.Scatter(\n",
    "        x=[current_fpr_dist],\n",
    "        y=[current_power_dist],\n",
    "        mode=\"markers\",\n",
    "        marker=dict(size=12, color=\"red\", symbol=\"star\"),\n",
    "        name=f\"α={a}\",\n",
    "        showlegend=False,\n",
    "    ),\n",
    "    row=2,\n",
    "    col=2,\n",
    ")\n",
    "\n",
    "fig.update_xaxes(title_text=\"Значение метрики\", row=1, col=1)\n",
    "fig.update_xaxes(title_text=\"Значение метрики\", row=1, col=2)\n",
    "fig.update_xaxes(title_text=\"Ложноположительная частота (FPR)\", row=2, col=1)\n",
    "fig.update_xaxes(title_text=\"Ложноположительная частота (FPR)\", row=2, col=2)\n",
    "\n",
    "fig.update_yaxes(title_text=\"Плотность вероятности\", row=1, col=1)\n",
    "fig.update_yaxes(title_text=\"Плотность вероятности\", row=1, col=2)\n",
    "fig.update_yaxes(title_text=\"Мощность (TPR)\", row=2, col=1)\n",
    "fig.update_yaxes(title_text=\"Мощность (TPR)\", row=2, col=2)\n",
    "\n",
    "fig.update_layout(\n",
    "    title_text=f\"Анализ статистических тестов с трешолдом (α={a}, n={n}, iter={mc_iter})\",\n",
    "    title_x=0.5,\n",
    "    width=1300,\n",
    "    height=800,\n",
    "    showlegend=True,\n",
    "    legend=dict(yanchor=\"top\", y=0.98, xanchor=\"left\", x=0.01),\n",
    ")\n",
    "\n",
    "fig.show()\n"
   ]
  },
  {
   "cell_type": "code",
   "execution_count": null,
   "id": "b69368b7",
   "metadata": {},
   "outputs": [],
   "source": []
  }
 ],
 "metadata": {
  "kernelspec": {
   "display_name": "venv",
   "language": "python",
   "name": "python3"
  },
  "language_info": {
   "codemirror_mode": {
    "name": "ipython",
    "version": 3
   },
   "file_extension": ".py",
   "mimetype": "text/x-python",
   "name": "python",
   "nbconvert_exporter": "python",
   "pygments_lexer": "ipython3",
   "version": "3.13.3"
  }
 },
 "nbformat": 4,
 "nbformat_minor": 5
}
