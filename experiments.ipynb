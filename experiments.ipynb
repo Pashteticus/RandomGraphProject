{
 "cells": [
  {
   "cell_type": "code",
   "execution_count": 6,
   "id": "fa1a9d25",
   "metadata": {},
   "outputs": [],
   "source": [
    "import numpy as np\n",
    "from src.data import *\n",
    "from src.graph.knn import *\n",
    "from src.graph.dist import *\n",
    "import plotly.express as px\n",
    "from tqdm.auto import tqdm"
   ]
  },
  {
   "cell_type": "code",
   "execution_count": null,
   "id": "e3dca97c",
   "metadata": {},
   "outputs": [
    {
     "data": {
      "application/vnd.jupyter.widget-view+json": {
       "model_id": "e012a36ed89a44bcbf67a04649ce2d76",
       "version_major": 2,
       "version_minor": 0
      },
      "text/plain": [
       "  0%|          | 0/50 [00:00<?, ?it/s]"
      ]
     },
     "metadata": {},
     "output_type": "display_data"
    }
   ],
   "source": [
    "# TOOD построить 2 графика (один для каждого типа графа) - v[i]/alpha[i] - Ox, метрика - Oy, 2 линии на каждом графике (по линии на плотность f,h)\n",
    "\n",
    "n = 500\n",
    "cnt = 50\n",
    "v = np.linspace(0.01, 2, cnt)\n",
    "alpha = np.linspace(0.01, 2, cnt)\n",
    "mc_iter = 20\n",
    "\n",
    "knn_f = []\n",
    "knn_h = []\n",
    "dist_f = []\n",
    "dist_h = []\n",
    "for i in tqdm(range(cnt)):\n",
    "    gen = Generator(v[i], alpha[i], size=n)\n",
    "    knn_f.append(np.mean([GraphKnn(gen.get_f()).calc_metric() for _ in range(mc_iter)]))\n",
    "    knn_h.append(np.mean([GraphKnn(gen.get_h()).calc_metric() for _ in range(mc_iter)]))\n",
    "    \n",
    "    dist_f.append(np.mean([GraphDist(gen.get_f()).calc_metric() for _ in range(mc_iter)]))\n",
    "    dist_h.append(np.mean([GraphDist(gen.get_h()).calc_metric() for _ in range(mc_iter)]))\n"
   ]
  },
  {
   "cell_type": "code",
   "execution_count": null,
   "id": "22bce636",
   "metadata": {},
   "outputs": [
    {
     "data": {
      "application/vnd.jupyter.widget-view+json": {
       "model_id": "85c61e3814b749bc89cf35ac0212e617",
       "version_major": 2,
       "version_minor": 0
      },
      "text/plain": [
       "  0%|          | 0/47 [00:00<?, ?it/s]"
      ]
     },
     "metadata": {},
     "output_type": "display_data"
    }
   ],
   "source": [
    "# TODO построить 2 3Д графика (n - Ox, k - Oy, метрика - Oz, аналогично для d вместо k)\n",
    "\n",
    "n = np.linspace(25, 250, 47)\n",
    "k = np.linspace(2, 11, 10)\n",
    "d = np.linspace(0.1, 10, 10)    \n",
    "mc_iter = 20\n",
    "\n",
    "knn_f = [[] for _ in range(len(n))]\n",
    "knn_h = [[] for _ in range(len(n))]\n",
    "dist_f = [[] for _ in range(len(n))]\n",
    "dist_h = [[] for _ in range(len(n))]\n",
    "for i in tqdm(range(len(n))):\n",
    "    gen = Generator(v=3, alpha=1, size=int(n[i]))\n",
    "    for j in range(len(k)):\n",
    "        knn_f[i].append(np.mean([GraphKnn(gen.get_f(), int(k[j])).calc_metric() for _ in range(mc_iter)]))\n",
    "        knn_h[i].append(np.mean([GraphKnn(gen.get_h(), int(k[j])).calc_metric() for _ in range(mc_iter)]))\n",
    "        \n",
    "        dist_f[i].append(np.mean([GraphDist(gen.get_f(), d[j]).calc_metric() for _ in range(mc_iter)]))\n",
    "        dist_h[i].append(np.mean([GraphDist(gen.get_h(), d[j]).calc_metric() for _ in range(mc_iter)]))\n"
   ]
  },
  {
   "cell_type": "code",
   "execution_count": null,
   "id": "e308a1a3",
   "metadata": {},
   "outputs": [
    {
     "ename": "KeyboardInterrupt",
     "evalue": "",
     "output_type": "error",
     "traceback": [
      "\u001b[1;31m---------------------------------------------------------------------------\u001b[0m",
      "\u001b[1;31mKeyboardInterrupt\u001b[0m                         Traceback (most recent call last)",
      "Cell \u001b[1;32mIn[4], line 14\u001b[0m\n\u001b[0;32m     11\u001b[0m knn_h \u001b[38;5;241m=\u001b[39m [GraphKnn(gen\u001b[38;5;241m.\u001b[39mget_h())\u001b[38;5;241m.\u001b[39mcalc_metric() \u001b[38;5;28;01mfor\u001b[39;00m _ \u001b[38;5;129;01min\u001b[39;00m \u001b[38;5;28mrange\u001b[39m(mc_iter)]\n\u001b[0;32m     13\u001b[0m dist_f \u001b[38;5;241m=\u001b[39m [GraphDist(gen\u001b[38;5;241m.\u001b[39mget_f())\u001b[38;5;241m.\u001b[39mcalc_metric() \u001b[38;5;28;01mfor\u001b[39;00m _ \u001b[38;5;129;01min\u001b[39;00m \u001b[38;5;28mrange\u001b[39m(mc_iter)]\n\u001b[1;32m---> 14\u001b[0m dist_h \u001b[38;5;241m=\u001b[39m \u001b[43m[\u001b[49m\u001b[43mGraphDist\u001b[49m\u001b[43m(\u001b[49m\u001b[43mgen\u001b[49m\u001b[38;5;241;43m.\u001b[39;49m\u001b[43mget_h\u001b[49m\u001b[43m(\u001b[49m\u001b[43m)\u001b[49m\u001b[43m)\u001b[49m\u001b[38;5;241;43m.\u001b[39;49m\u001b[43mcalc_metric\u001b[49m\u001b[43m(\u001b[49m\u001b[43m)\u001b[49m\u001b[43m \u001b[49m\u001b[38;5;28;43;01mfor\u001b[39;49;00m\u001b[43m \u001b[49m\u001b[43m_\u001b[49m\u001b[43m \u001b[49m\u001b[38;5;129;43;01min\u001b[39;49;00m\u001b[43m \u001b[49m\u001b[38;5;28;43mrange\u001b[39;49m\u001b[43m(\u001b[49m\u001b[43mmc_iter\u001b[49m\u001b[43m)\u001b[49m\u001b[43m]\u001b[49m\n\u001b[0;32m     16\u001b[0m a \u001b[38;5;241m=\u001b[39m \u001b[38;5;241m0.05\u001b[39m\n\u001b[0;32m     17\u001b[0m knn_thr \u001b[38;5;241m=\u001b[39m \u001b[38;5;28msorted\u001b[39m(knn_f)[\u001b[38;5;28mint\u001b[39m((\u001b[38;5;241m1\u001b[39m\u001b[38;5;241m-\u001b[39ma)\u001b[38;5;241m*\u001b[39m\u001b[38;5;28mlen\u001b[39m(knn_f))]\n",
      "Cell \u001b[1;32mIn[4], line 14\u001b[0m, in \u001b[0;36m<listcomp>\u001b[1;34m(.0)\u001b[0m\n\u001b[0;32m     11\u001b[0m knn_h \u001b[38;5;241m=\u001b[39m [GraphKnn(gen\u001b[38;5;241m.\u001b[39mget_h())\u001b[38;5;241m.\u001b[39mcalc_metric() \u001b[38;5;28;01mfor\u001b[39;00m _ \u001b[38;5;129;01min\u001b[39;00m \u001b[38;5;28mrange\u001b[39m(mc_iter)]\n\u001b[0;32m     13\u001b[0m dist_f \u001b[38;5;241m=\u001b[39m [GraphDist(gen\u001b[38;5;241m.\u001b[39mget_f())\u001b[38;5;241m.\u001b[39mcalc_metric() \u001b[38;5;28;01mfor\u001b[39;00m _ \u001b[38;5;129;01min\u001b[39;00m \u001b[38;5;28mrange\u001b[39m(mc_iter)]\n\u001b[1;32m---> 14\u001b[0m dist_h \u001b[38;5;241m=\u001b[39m [\u001b[43mGraphDist\u001b[49m\u001b[43m(\u001b[49m\u001b[43mgen\u001b[49m\u001b[38;5;241;43m.\u001b[39;49m\u001b[43mget_h\u001b[49m\u001b[43m(\u001b[49m\u001b[43m)\u001b[49m\u001b[43m)\u001b[49m\u001b[38;5;241m.\u001b[39mcalc_metric() \u001b[38;5;28;01mfor\u001b[39;00m _ \u001b[38;5;129;01min\u001b[39;00m \u001b[38;5;28mrange\u001b[39m(mc_iter)]\n\u001b[0;32m     16\u001b[0m a \u001b[38;5;241m=\u001b[39m \u001b[38;5;241m0.05\u001b[39m\n\u001b[0;32m     17\u001b[0m knn_thr \u001b[38;5;241m=\u001b[39m \u001b[38;5;28msorted\u001b[39m(knn_f)[\u001b[38;5;28mint\u001b[39m((\u001b[38;5;241m1\u001b[39m\u001b[38;5;241m-\u001b[39ma)\u001b[38;5;241m*\u001b[39m\u001b[38;5;28mlen\u001b[39m(knn_f))]\n",
      "File \u001b[1;32mc:\\study\\projects\\dm_proj\\src\\graph\\dist.py:18\u001b[0m, in \u001b[0;36mGraphDist.__init__\u001b[1;34m(self, ksi, d)\u001b[0m\n\u001b[0;32m     16\u001b[0m             \u001b[38;5;28;01mbreak\u001b[39;00m \n\u001b[0;32m     17\u001b[0m         dop[tmp[i][\u001b[38;5;241m1\u001b[39m]][tmp[j][\u001b[38;5;241m1\u001b[39m]] \u001b[38;5;241m=\u001b[39m \u001b[38;5;241m0\u001b[39m\n\u001b[1;32m---> 18\u001b[0m         dop[tmp[j][\u001b[38;5;241m1\u001b[39m]][tmp[i][\u001b[38;5;241m1\u001b[39m]] \u001b[38;5;241m=\u001b[39m \u001b[38;5;241m0\u001b[39m\n\u001b[0;32m     19\u001b[0m \u001b[38;5;28;01mfor\u001b[39;00m i \u001b[38;5;129;01min\u001b[39;00m \u001b[38;5;28mrange\u001b[39m(\u001b[38;5;28mself\u001b[39m\u001b[38;5;241m.\u001b[39mn):\n\u001b[0;32m     20\u001b[0m     \u001b[38;5;28;01mfor\u001b[39;00m j \u001b[38;5;129;01min\u001b[39;00m \u001b[38;5;28mrange\u001b[39m(i\u001b[38;5;241m+\u001b[39m\u001b[38;5;241m1\u001b[39m, \u001b[38;5;28mself\u001b[39m\u001b[38;5;241m.\u001b[39mn):\n",
      "\u001b[1;31mKeyboardInterrupt\u001b[0m: "
     ]
    }
   ],
   "source": [
    "# TODO тоже какой нибудь красивый график с трешолдом\n",
    "\n",
    "n = 500\n",
    "cnt = 50\n",
    "v = 3\n",
    "alpha = 1\n",
    "mc_iter = 500\n",
    "\n",
    "gen = Generator(v, alpha, size=n)\n",
    "knn_f = [GraphKnn(gen.get_f()).calc_metric() for _ in range(mc_iter)]\n",
    "knn_h = [GraphKnn(gen.get_h()).calc_metric() for _ in range(mc_iter)]\n",
    "    \n",
    "dist_f = [GraphDist(gen.get_f()).calc_metric() for _ in range(mc_iter)]\n",
    "dist_h = [GraphDist(gen.get_h()).calc_metric() for _ in range(mc_iter)]\n",
    "\n",
    "a = 0.05\n",
    "knn_thr = sorted(knn_f)[int((1-a)*len(knn_f))]\n",
    "dist_thr = sorted(dist_f)[int((1-a)*len(dist_f))]\n",
    "\n",
    "knn_pow = sum(knn_h > knn_thr)\n",
    "dist_pow = sum(dist_h > dist_thr)\n"
   ]
  },
  {
   "cell_type": "code",
   "execution_count": null,
   "id": "ea1263fc",
   "metadata": {},
   "outputs": [],
   "source": []
  }
 ],
 "metadata": {
  "kernelspec": {
   "display_name": "Python 3",
   "language": "python",
   "name": "python3"
  },
  "language_info": {
   "codemirror_mode": {
    "name": "ipython",
    "version": 3
   },
   "file_extension": ".py",
   "mimetype": "text/x-python",
   "name": "python",
   "nbconvert_exporter": "python",
   "pygments_lexer": "ipython3",
   "version": "3.11.9"
  }
 },
 "nbformat": 4,
 "nbformat_minor": 5
}
